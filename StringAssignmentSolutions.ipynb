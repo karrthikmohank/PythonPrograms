{
  "nbformat": 4,
  "nbformat_minor": 0,
  "metadata": {
    "colab": {
      "provenance": [],
      "collapsed_sections": [],
      "authorship_tag": "ABX9TyPOFwR6TQXJzoAM7I5vi1Bk",
      "include_colab_link": true
    },
    "kernelspec": {
      "name": "python3",
      "display_name": "Python 3"
    },
    "language_info": {
      "name": "python"
    }
  },
  "cells": [
    {
      "cell_type": "markdown",
      "metadata": {
        "id": "view-in-github",
        "colab_type": "text"
      },
      "source": [
        "<a href=\"https://colab.research.google.com/github/karrthikmohank/PythonPrograms/blob/main/StringAssignmentSolutions.ipynb\" target=\"_parent\"><img src=\"https://colab.research.google.com/assets/colab-badge.svg\" alt=\"Open In Colab\"/></a>"
      ]
    },
    {
      "cell_type": "markdown",
      "source": [
        "#Q. Declare a string and store it in a variable. \n",
        "#Check the type and print the id of the same.\n"
      ],
      "metadata": {
        "id": "18WRCZ9dYdZq"
      }
    },
    {
      "cell_type": "code",
      "source": [
        "a = \"Hello Everyone\"\n",
        "print(type(a))\n",
        "print(id(a))"
      ],
      "metadata": {
        "colab": {
          "base_uri": "https://localhost:8080/"
        },
        "id": "3azNYYG-3TGe",
        "outputId": "2c703b6e-bf1f-4296-e5be-c9d45a2cce3c"
      },
      "execution_count": null,
      "outputs": [
        {
          "output_type": "stream",
          "name": "stdout",
          "text": [
            "<class 'str'>\n",
            "140119677456048\n"
          ]
        }
      ]
    },
    {
      "cell_type": "markdown",
      "source": [
        "#Q. Which are valid/invalid strings"
      ],
      "metadata": {
        "id": "rOt-JHUJY-_2"
      }
    },
    {
      "cell_type": "markdown",
      "source": [
        "# Q1 - 'This is Python class'\n",
        "# Answer - valid string"
      ],
      "metadata": {
        "id": "ofglGYzEZG9N"
      }
    },
    {
      "cell_type": "code",
      "source": [
        "s1 = 'This is Python class'\n",
        "print(s1)"
      ],
      "metadata": {
        "colab": {
          "base_uri": "https://localhost:8080/"
        },
        "id": "k11juaUFY5NS",
        "outputId": "d4333633-203a-46f7-fef9-dd6ef530c58c"
      },
      "execution_count": null,
      "outputs": [
        {
          "output_type": "stream",
          "name": "stdout",
          "text": [
            "This is Python class\n"
          ]
        }
      ]
    },
    {
      "cell_type": "markdown",
      "source": [
        "# Q2 - \"This is Python class\"\n",
        "# Answer - valid string"
      ],
      "metadata": {
        "id": "47hWpzhQZ6-V"
      }
    },
    {
      "cell_type": "code",
      "source": [
        "s2 = \"This is Python class\"\n",
        "print(s2)"
      ],
      "metadata": {
        "colab": {
          "base_uri": "https://localhost:8080/"
        },
        "id": "QvtnYNHWZRuz",
        "outputId": "66b197f2-3878-4050-e93a-0d1d659d21de"
      },
      "execution_count": null,
      "outputs": [
        {
          "output_type": "stream",
          "name": "stdout",
          "text": [
            "This is Python class\n"
          ]
        }
      ]
    },
    {
      "cell_type": "markdown",
      "source": [
        "# Q3 - '''This is Python class'''\n",
        "# Answer - valid string"
      ],
      "metadata": {
        "id": "_JfbH5viaj4W"
      }
    },
    {
      "cell_type": "code",
      "source": [
        "s3 = '''This is Python class'''\n",
        "print(s3)"
      ],
      "metadata": {
        "colab": {
          "base_uri": "https://localhost:8080/"
        },
        "id": "2telkJDsaZhy",
        "outputId": "a684deb7-4a7b-4c7b-c0bc-0a9c78e7b1ea"
      },
      "execution_count": null,
      "outputs": [
        {
          "output_type": "stream",
          "name": "stdout",
          "text": [
            "This is Python class\n"
          ]
        }
      ]
    },
    {
      "cell_type": "markdown",
      "source": [
        "# Q4 - \"\"\"This is Python class\"\"\"\n",
        "# Answer - valid string"
      ],
      "metadata": {
        "id": "MEFjciHtbXx9"
      }
    },
    {
      "cell_type": "code",
      "source": [
        "s4 = \"\"\"This is Python class\"\"\"\n",
        "print(s4)"
      ],
      "metadata": {
        "colab": {
          "base_uri": "https://localhost:8080/"
        },
        "id": "X3qU1b1zbAtP",
        "outputId": "001670a5-d93e-4f7f-da62-f546aec2fc62"
      },
      "execution_count": null,
      "outputs": [
        {
          "output_type": "stream",
          "name": "stdout",
          "text": [
            "This is Python class\n"
          ]
        }
      ]
    },
    {
      "cell_type": "markdown",
      "source": [
        "# Q5 - 'This is Python's class'\n",
        "# Answer - Invalid string"
      ],
      "metadata": {
        "id": "fO_tRUf9cfZA"
      }
    },
    {
      "cell_type": "code",
      "source": [
        "s5 = 'This is Python's class'\n",
        "print(s5)"
      ],
      "metadata": {
        "id": "uizZHrtJbenU",
        "colab": {
          "base_uri": "https://localhost:8080/",
          "height": 130
        },
        "outputId": "84f1f5c3-a8b3-4a59-b1e9-bb43ba1d297e"
      },
      "execution_count": null,
      "outputs": [
        {
          "output_type": "error",
          "ename": "SyntaxError",
          "evalue": "ignored",
          "traceback": [
            "\u001b[0;36m  File \u001b[0;32m\"<ipython-input-69-f2d96180de66>\"\u001b[0;36m, line \u001b[0;32m1\u001b[0m\n\u001b[0;31m    s5 = 'This is Python's class'\u001b[0m\n\u001b[0m                         ^\u001b[0m\n\u001b[0;31mSyntaxError\u001b[0m\u001b[0;31m:\u001b[0m invalid syntax\n"
          ]
        }
      ]
    },
    {
      "cell_type": "markdown",
      "source": [
        "# Q6 -  \"Learnbay provides \"Java\", \"Python\" classes\"\n",
        "# Answer - Invalid string"
      ],
      "metadata": {
        "id": "Wh-m-PGmdyQj"
      }
    },
    {
      "cell_type": "code",
      "source": [
        "s6 =  \"Learnbay provides \"Java\", \"Python\" classes\"\n",
        "print(s6)"
      ],
      "metadata": {
        "id": "K9Z4eQr8dv-J",
        "colab": {
          "base_uri": "https://localhost:8080/",
          "height": 130
        },
        "outputId": "5bd5b8a0-7f5c-4327-dc80-3da714ae4685"
      },
      "execution_count": null,
      "outputs": [
        {
          "output_type": "error",
          "ename": "SyntaxError",
          "evalue": "ignored",
          "traceback": [
            "\u001b[0;36m  File \u001b[0;32m\"<ipython-input-68-8671b124b204>\"\u001b[0;36m, line \u001b[0;32m1\u001b[0m\n\u001b[0;31m    s6 =  \"Learnbay provides \"Java\", \"Python\" classes\"\u001b[0m\n\u001b[0m                                 ^\u001b[0m\n\u001b[0;31mSyntaxError\u001b[0m\u001b[0;31m:\u001b[0m invalid syntax\n"
          ]
        }
      ]
    },
    {
      "cell_type": "markdown",
      "source": [
        "# Q7 - \"Learnbay provides 'Java', 'Python' classes\"\n",
        "# Answer - Valid string"
      ],
      "metadata": {
        "id": "LbdTUcIte9jR"
      }
    },
    {
      "cell_type": "code",
      "source": [
        "s7 = \"Learnbay provides 'Java', 'Python' classes\"\n",
        "print(s7)"
      ],
      "metadata": {
        "colab": {
          "base_uri": "https://localhost:8080/"
        },
        "id": "TZF6wrsfeJie",
        "outputId": "e7755a14-f559-4ef4-b9cb-9898b8371ef0"
      },
      "execution_count": null,
      "outputs": [
        {
          "output_type": "stream",
          "name": "stdout",
          "text": [
            "Learnbay provides 'Java', 'Python' classes\n"
          ]
        }
      ]
    },
    {
      "cell_type": "markdown",
      "source": [
        "# Q8 -  \"This is Python's class\"\n",
        "# Answer - Valid string"
      ],
      "metadata": {
        "id": "GiDAbTkQfyMq"
      }
    },
    {
      "cell_type": "code",
      "source": [
        "s8 =  \"This is Python's class\"\n",
        "print(s8)"
      ],
      "metadata": {
        "colab": {
          "base_uri": "https://localhost:8080/"
        },
        "id": "WyqQKj4DfmbG",
        "outputId": "bdf984fd-a834-4d0a-a9bc-d077d2ee0782"
      },
      "execution_count": null,
      "outputs": [
        {
          "output_type": "stream",
          "name": "stdout",
          "text": [
            "This is Python's class\n"
          ]
        }
      ]
    },
    {
      "cell_type": "markdown",
      "source": [
        "# Q9 - \"\"\"Learnbay provides \"Java\", \"Python\" classes\"\"\"\n",
        "# Answer - Valid string"
      ],
      "metadata": {
        "id": "YwVBErTQgTQq"
      }
    },
    {
      "cell_type": "code",
      "source": [
        "s9 = \"\"\"Learnbay provides \"Java\", \"Python\" classes\"\"\"\n",
        "print(s9)"
      ],
      "metadata": {
        "colab": {
          "base_uri": "https://localhost:8080/"
        },
        "id": "H4QXQUz7f-1_",
        "outputId": "dbdfdd79-2118-49b8-8734-4c622a8397d2"
      },
      "execution_count": null,
      "outputs": [
        {
          "output_type": "stream",
          "name": "stdout",
          "text": [
            "Learnbay provides \"Java\", \"Python\" classes\n"
          ]
        }
      ]
    },
    {
      "cell_type": "markdown",
      "source": [
        "# Q10 - '''Learnbay provides \"Java\", \"Python\" classes'''\n",
        "# Answer - Valid string"
      ],
      "metadata": {
        "id": "6peq5kctgkGK"
      }
    },
    {
      "cell_type": "code",
      "source": [
        "s10 =  '''Learnbay provides \"Java\", \"Python\" classes'''\n",
        "print(s10)"
      ],
      "metadata": {
        "colab": {
          "base_uri": "https://localhost:8080/"
        },
        "id": "coLDORLhgZ06",
        "outputId": "926caae9-f14e-4775-da36-356042a3e764"
      },
      "execution_count": null,
      "outputs": [
        {
          "output_type": "stream",
          "name": "stdout",
          "text": [
            "Learnbay provides \"Java\", \"Python\" classes\n"
          ]
        }
      ]
    },
    {
      "cell_type": "markdown",
      "source": [
        "# Q11 - '''Learnbay provides\n",
        "# \"Java\", \"Python\" \n",
        "# classes'''\n",
        "# Answer - Valid string"
      ],
      "metadata": {
        "id": "fJOsq471g-NK"
      }
    },
    {
      "cell_type": "code",
      "source": [
        "s11 = '''Learnbay provides\n",
        "\"Java\", \"Python\" \n",
        "classes'''\n",
        "print(s11)"
      ],
      "metadata": {
        "colab": {
          "base_uri": "https://localhost:8080/"
        },
        "id": "Kn8AIA68gvHc",
        "outputId": "6726e429-3ffb-4a0b-db03-a87989b2ad69"
      },
      "execution_count": null,
      "outputs": [
        {
          "output_type": "stream",
          "name": "stdout",
          "text": [
            "Learnbay provides\n",
            "\"Java\", \"Python\" \n",
            "classes\n"
          ]
        }
      ]
    },
    {
      "cell_type": "markdown",
      "source": [
        "# Q12 - 'This is\n",
        "# Python \n",
        "# class'\n",
        "# Answer - Invalid string"
      ],
      "metadata": {
        "id": "7MXcwHdDhTpY"
      }
    },
    {
      "cell_type": "code",
      "source": [
        "s12 = 'This is\n",
        "Python \n",
        "class'\n",
        "print(s12)"
      ],
      "metadata": {
        "id": "7g9KnHmphKE2",
        "colab": {
          "base_uri": "https://localhost:8080/",
          "height": 130
        },
        "outputId": "9e84a5c9-3c43-4146-8cd1-206437bceac1"
      },
      "execution_count": null,
      "outputs": [
        {
          "output_type": "error",
          "ename": "SyntaxError",
          "evalue": "ignored",
          "traceback": [
            "\u001b[0;36m  File \u001b[0;32m\"<ipython-input-67-0bcdc7effefd>\"\u001b[0;36m, line \u001b[0;32m1\u001b[0m\n\u001b[0;31m    s12 = 'This is\u001b[0m\n\u001b[0m                  ^\u001b[0m\n\u001b[0;31mSyntaxError\u001b[0m\u001b[0;31m:\u001b[0m EOL while scanning string literal\n"
          ]
        }
      ]
    },
    {
      "cell_type": "markdown",
      "source": [
        "#Write the code to get the output mentioned below print statement\n",
        "## my_str = \"Although that way may not be obvious at first unless you're Dutch.\"\n",
        "\n",
        "## my_str1 = \"Although that way may not be obvious at first unless you're Dutch.\"\n",
        "\n",
        "## print()\n",
        "## output:- The length of my_str is 66\n",
        "\n",
        "## print()\n",
        "## *output:- id of my_str and my_str1 is same? - True\n",
        "\n",
        "## print()\n",
        "## output:- Type of my_str is: str"
      ],
      "metadata": {
        "id": "UQ7sqwD6hoV5"
      }
    },
    {
      "cell_type": "code",
      "source": [
        "my_str = \"Although that way may not be obvious at first unless you're Dutch.\"\n",
        "my_str1 = \"Although that way may not be obvious at first unless you're Dutch.\"\n",
        "print(\"The length of my_str is \"+str(len(my_str)))"
      ],
      "metadata": {
        "id": "ctXQqVWdhmAD",
        "colab": {
          "base_uri": "https://localhost:8080/"
        },
        "outputId": "a0e48799-0ed2-4ad7-efa4-53c6b37901cb"
      },
      "execution_count": null,
      "outputs": [
        {
          "output_type": "stream",
          "name": "stdout",
          "text": [
            "The length of my_str is 66\n"
          ]
        }
      ]
    },
    {
      "cell_type": "code",
      "source": [
        "print(\"id of my_str and my_str1 is same?-\"+str(my_str is my_str1))"
      ],
      "metadata": {
        "colab": {
          "base_uri": "https://localhost:8080/"
        },
        "id": "MDIkOq4fw_NP",
        "outputId": "252c79e0-50a2-4ff4-efc6-5bc9b03f121b"
      },
      "execution_count": null,
      "outputs": [
        {
          "output_type": "stream",
          "name": "stdout",
          "text": [
            "id of my_str and my_str1 is same?-False\n"
          ]
        }
      ]
    },
    {
      "cell_type": "code",
      "source": [
        "print(\"Type of my_str is:\"+str(type(my_str)))"
      ],
      "metadata": {
        "colab": {
          "base_uri": "https://localhost:8080/"
        },
        "id": "KP05DlCy0zdc",
        "outputId": "1422ce31-933c-4354-e93f-d22b4806a5fa"
      },
      "execution_count": null,
      "outputs": [
        {
          "output_type": "stream",
          "name": "stdout",
          "text": [
            "Type of my_str is:<class 'str'>\n"
          ]
        }
      ]
    },
    {
      "cell_type": "code",
      "source": [
        "print(id(my_str))\n",
        "print(id(my_str1))"
      ],
      "metadata": {
        "colab": {
          "base_uri": "https://localhost:8080/"
        },
        "id": "Z6vslTRa2tY2",
        "outputId": "48480ecb-0fcc-4f6c-9f5f-0f48616bb8aa"
      },
      "execution_count": null,
      "outputs": [
        {
          "output_type": "stream",
          "name": "stdout",
          "text": [
            "140419805773488\n",
            "140419806322992\n"
          ]
        }
      ]
    },
    {
      "cell_type": "markdown",
      "source": [
        "#Indexing\n",
        "## my_str = \"Although 8 that way may not be obvious at first unless you're Dutch\"\n",
        "#Write the code to get the output,instructions are mentioned below print statement. use indexing"
      ],
      "metadata": {
        "id": "0gkNxCOF2n9X"
      }
    },
    {
      "cell_type": "code",
      "source": [
        "my_str = \"Although 8 that way may not be obvious at first unless you're Dutch\""
      ],
      "metadata": {
        "id": "jQVnaisu3bBj"
      },
      "execution_count": null,
      "outputs": []
    },
    {
      "cell_type": "markdown",
      "source": [
        "#output:- The first character in my_str is: A\n",
        "#Note:- Use positive indexing"
      ],
      "metadata": {
        "id": "nl7UURHk3OHs"
      }
    },
    {
      "cell_type": "code",
      "source": [
        "print(\"The first character in my_str is: \"+my_str[0])"
      ],
      "metadata": {
        "colab": {
          "base_uri": "https://localhost:8080/"
        },
        "id": "zDmehb1y09o_",
        "outputId": "2244011a-80c4-405b-d981-1dc1b9a76b89"
      },
      "execution_count": null,
      "outputs": [
        {
          "output_type": "stream",
          "name": "stdout",
          "text": [
            "The first character in my_str is: A\n"
          ]
        }
      ]
    },
    {
      "cell_type": "markdown",
      "source": [
        "#*output:- The first character in my_str is: A \n",
        "#Note:- Use len() function."
      ],
      "metadata": {
        "id": "oSXscknM3v8T"
      }
    },
    {
      "cell_type": "code",
      "source": [
        "print(\"The last character in my_str is: \"+my_str[-len(my_str)])"
      ],
      "metadata": {
        "colab": {
          "base_uri": "https://localhost:8080/"
        },
        "id": "1N6y4ZPs1EfS",
        "outputId": "ff93ea3e-0049-4064-f13e-d2b0d7467b0d"
      },
      "execution_count": null,
      "outputs": [
        {
          "output_type": "stream",
          "name": "stdout",
          "text": [
            "The last character in my_str is: A\n"
          ]
        }
      ]
    },
    {
      "cell_type": "markdown",
      "source": [
        "#output:- The character at index 10 in my_str is: ' '\n",
        "#Note:- Use positive indexing"
      ],
      "metadata": {
        "id": "nyNQynn04uk6"
      }
    },
    {
      "cell_type": "code",
      "source": [
        "print(\"The character at index 10 in my_str is: \"+my_str[10])"
      ],
      "metadata": {
        "colab": {
          "base_uri": "https://localhost:8080/"
        },
        "id": "pSSi3YHJ1IDy",
        "outputId": "ddc0add9-49fc-468c-d3cd-ad2f6d5ad46b"
      },
      "execution_count": null,
      "outputs": [
        {
          "output_type": "stream",
          "name": "stdout",
          "text": [
            "The character at index 10 in my_str is:  \n"
          ]
        }
      ]
    },
    {
      "cell_type": "markdown",
      "source": [
        "#output:- The last character in my_str is: h\n",
        "#Note:- Use negative indexing."
      ],
      "metadata": {
        "id": "Rj-lj8aX5jQ_"
      }
    },
    {
      "cell_type": "code",
      "source": [
        "print(\"The last character in my_str is: \"+my_str[-1])"
      ],
      "metadata": {
        "colab": {
          "base_uri": "https://localhost:8080/"
        },
        "id": "whII7qnu1QWp",
        "outputId": "014ea8d5-ff47-483b-b439-7dd671273a21"
      },
      "execution_count": null,
      "outputs": [
        {
          "output_type": "stream",
          "name": "stdout",
          "text": [
            "The last character in my_str is: h\n"
          ]
        }
      ]
    },
    {
      "cell_type": "markdown",
      "source": [
        "#output:- The last character in my_str is: h\n",
        "#Note:- Use len() function."
      ],
      "metadata": {
        "id": "GkM8aGej60Kc"
      }
    },
    {
      "cell_type": "code",
      "source": [
        "print(\"The last character in my_str is: \"+my_str[len(my_str)-1])"
      ],
      "metadata": {
        "colab": {
          "base_uri": "https://localhost:8080/"
        },
        "id": "u_dXcmnh58Ls",
        "outputId": "db8cfa4a-c439-4cc8-d4da-74d69d675e93"
      },
      "execution_count": null,
      "outputs": [
        {
          "output_type": "stream",
          "name": "stdout",
          "text": [
            "The last character in my_str is: h\n"
          ]
        }
      ]
    },
    {
      "cell_type": "markdown",
      "source": [
        "#output:- The character in my_str is: 8\n",
        "#Note:- Use positive index"
      ],
      "metadata": {
        "id": "bEix2WtJ7Pk3"
      }
    },
    {
      "cell_type": "code",
      "source": [
        "print(\"The last character in my_str is: \"+my_str[9])"
      ],
      "metadata": {
        "colab": {
          "base_uri": "https://localhost:8080/"
        },
        "id": "tJ8ddWef7C21",
        "outputId": "144d4d96-64a5-45af-a961-b9c9091388ac"
      },
      "execution_count": null,
      "outputs": [
        {
          "output_type": "stream",
          "name": "stdout",
          "text": [
            "The last character in my_str is: 8\n"
          ]
        }
      ]
    },
    {
      "cell_type": "markdown",
      "source": [
        "#Slicing\n",
        "## my_str = \"Although that way may not be obvious at first unless you're Dutch.\"\n",
        "#Write the code to get the output,instructions are mentioned below print statement. use slicing\n"
      ],
      "metadata": {
        "id": "mmmxfxbk8VIQ"
      }
    },
    {
      "cell_type": "code",
      "source": [
        "my_str = \"Although that way may not be obvious at first unless you're Dutch.\""
      ],
      "metadata": {
        "id": "fuupgasR7ZBO"
      },
      "execution_count": null,
      "outputs": []
    },
    {
      "cell_type": "markdown",
      "source": [
        "#output:- You have sliced: Although that way may not be obvious at first unless you're Dutch.Without begin, end and step"
      ],
      "metadata": {
        "id": "7AWIgvrd87Po"
      }
    },
    {
      "cell_type": "code",
      "source": [
        "print(\"You have sliced: \"+my_str[:]+\" Without begin, end and step\")"
      ],
      "metadata": {
        "colab": {
          "base_uri": "https://localhost:8080/"
        },
        "id": "Inojp_cj8sKD",
        "outputId": "3911d8d2-c470-409e-ff92-681bfa1c9481"
      },
      "execution_count": null,
      "outputs": [
        {
          "output_type": "stream",
          "name": "stdout",
          "text": [
            "You have sliced: Although that way may not be obvious at first unless you're Dutch. Without begin, end and step\n"
          ]
        }
      ]
    },
    {
      "cell_type": "markdown",
      "source": [
        "#output:- You have sliced: Although that way may not be obvious at first unless you're Dutch.with begin as 0 end using len and without step"
      ],
      "metadata": {
        "id": "X4BM_J_59RcQ"
      }
    },
    {
      "cell_type": "code",
      "source": [
        "print(\"You have sliced: \"+my_str[0:len(my_str)]+\" With begin as 0 end using len and without step\")"
      ],
      "metadata": {
        "colab": {
          "base_uri": "https://localhost:8080/"
        },
        "id": "DVkmQgNE9NtX",
        "outputId": "4fa1b760-ba0d-4e3f-847d-f499afac230e"
      },
      "execution_count": null,
      "outputs": [
        {
          "output_type": "stream",
          "name": "stdout",
          "text": [
            "You have sliced: Although that way may not be obvious at first unless you're Dutch. With begin as 0 end using len and without step\n"
          ]
        }
      ]
    },
    {
      "cell_type": "markdown",
      "source": [
        "#output:- You have sliced: Although that way may not be obvious at first unless you're Dutch.Without begin and end but using step"
      ],
      "metadata": {
        "id": "C4ANketa9jtZ"
      }
    },
    {
      "cell_type": "code",
      "source": [
        "print(\"You have sliced: \"+my_str[::1]+\" Without begin and end but using step\")"
      ],
      "metadata": {
        "colab": {
          "base_uri": "https://localhost:8080/"
        },
        "id": "4cfudrJs9d5t",
        "outputId": "c583cc9f-34d0-46c1-fe0d-3c1b535785da"
      },
      "execution_count": null,
      "outputs": [
        {
          "output_type": "stream",
          "name": "stdout",
          "text": [
            "You have sliced: Although that way may not be obvious at first unless you're Dutch. Without begin and end but using step\n"
          ]
        }
      ]
    },
    {
      "cell_type": "markdown",
      "source": [
        "#output:- You have sliced: Although that way may not be obvious at first unless you're Dutch.With begin, end and step"
      ],
      "metadata": {
        "id": "RIrRziCO_ejv"
      }
    },
    {
      "cell_type": "code",
      "source": [
        "print(\"You have sliced: \"+my_str[0:len(my_str):1]+\" With begin, end and step\")"
      ],
      "metadata": {
        "colab": {
          "base_uri": "https://localhost:8080/"
        },
        "id": "AnDy0lhi9vY3",
        "outputId": "35997c2b-4925-4767-ea91-b9cbf1228090"
      },
      "execution_count": null,
      "outputs": [
        {
          "output_type": "stream",
          "name": "stdout",
          "text": [
            "You have sliced: Although that way may not be obvious at first unless you're Dutch. With begin, end and step\n"
          ]
        }
      ]
    },
    {
      "cell_type": "markdown",
      "source": [
        "#output:- You have sliced:   .with using begin and end using postive values and step as negative values.\n",
        "#Slicing command should print empty string."
      ],
      "metadata": {
        "id": "0ofWTbf3_z55"
      }
    },
    {
      "cell_type": "code",
      "source": [
        "print(\"You have sliced:\"+my_str[0:len(my_str):-1]+\".with using begin and end using postive values and step as negative values.\")"
      ],
      "metadata": {
        "colab": {
          "base_uri": "https://localhost:8080/"
        },
        "id": "3tuQEd3e_vF2",
        "outputId": "498e8f50-e62b-48f4-e607-ec7379fdc8c5"
      },
      "execution_count": null,
      "outputs": [
        {
          "output_type": "stream",
          "name": "stdout",
          "text": [
            "You have sliced:.with using begin and end using postive values and step as negative values.\n"
          ]
        }
      ]
    },
    {
      "cell_type": "markdown",
      "source": [
        "#output:- You have sliced: Atog htwymyntb biu tfrtuls o'eDth"
      ],
      "metadata": {
        "id": "kHr1oAQSAlRK"
      }
    },
    {
      "cell_type": "code",
      "source": [
        "print(\"You have sliced: \"+my_str[0:len(my_str):2])"
      ],
      "metadata": {
        "colab": {
          "base_uri": "https://localhost:8080/"
        },
        "id": "dks7MzlAAh3V",
        "outputId": "549948ca-9b3a-4514-80ff-bad61dd52c1e"
      },
      "execution_count": null,
      "outputs": [
        {
          "output_type": "stream",
          "name": "stdout",
          "text": [
            "You have sliced: Atog htwymyntb biu tfrtuls o'eDth\n"
          ]
        }
      ]
    },
    {
      "cell_type": "markdown",
      "source": [
        "#output:- You have sliced: Ahgttam tebo  r lsorDc"
      ],
      "metadata": {
        "id": "vhxbNUe8Cg8j"
      }
    },
    {
      "cell_type": "code",
      "source": [
        "print(\"You have sliced: \"+my_str[::3])"
      ],
      "metadata": {
        "colab": {
          "base_uri": "https://localhost:8080/"
        },
        "id": "aRGoc0-XCeK_",
        "outputId": "5c1d7f78-3808-4096-8685-21fa45563f4f"
      },
      "execution_count": null,
      "outputs": [
        {
          "output_type": "stream",
          "name": "stdout",
          "text": [
            "You have sliced: Ahgttam tebo  r lsorDc\n"
          ]
        }
      ]
    },
    {
      "cell_type": "markdown",
      "source": [
        "#output:- You have sliced: .hctuD er'uoy sselnu tsrif ta suoivbo eb ton yam yaw taht hguohtlA. Use only step"
      ],
      "metadata": {
        "id": "txfPQvBoIiw2"
      }
    },
    {
      "cell_type": "code",
      "source": [
        "print(\"You have sliced: \"+my_str[::-1]+\". Use only step\")"
      ],
      "metadata": {
        "colab": {
          "base_uri": "https://localhost:8080/"
        },
        "id": "6TvB89R7Ich3",
        "outputId": "e4fa4c33-d0a6-48ca-c0a5-6f21254736d8"
      },
      "execution_count": null,
      "outputs": [
        {
          "output_type": "stream",
          "name": "stdout",
          "text": [
            "You have sliced: .hctuD er'uoy sselnu tsrif ta suoivbo eb ton yam yaw taht hguohtlA. Use only step\n"
          ]
        }
      ]
    },
    {
      "cell_type": "markdown",
      "source": [
        "#output:- You have sliced: .hctuD er'uoy sselnu tsrif ta suoivbo eb ton yam yaw taht hguohtlA. Use begin end and step."
      ],
      "metadata": {
        "id": "aGkJ7-pITwvX"
      }
    },
    {
      "cell_type": "code",
      "source": [
        "print(\"You have sliced: \"+my_str[-1:-len(my_str)-1:-1]+\". Use begin end and step.\")"
      ],
      "metadata": {
        "colab": {
          "base_uri": "https://localhost:8080/"
        },
        "id": "PXogdUzDTfDu",
        "outputId": "8f1b69b8-eb67-499f-de49-c3154fa26f8b"
      },
      "execution_count": null,
      "outputs": [
        {
          "output_type": "stream",
          "name": "stdout",
          "text": [
            "You have sliced: .hctuD er'uoy sselnu tsrif ta suoivbo eb ton yam yaw taht hguohtlA. Use begin end and step.\n"
          ]
        }
      ]
    },
    {
      "cell_type": "markdown",
      "source": [
        "#output:- You have sliced: .cu ruysen si asovoe o a a athuhl. use only step"
      ],
      "metadata": {
        "id": "0OpChjE4UdNn"
      }
    },
    {
      "cell_type": "code",
      "source": [
        "print(\"You have sliced: \"+my_str[::-2]+\". use only step\")"
      ],
      "metadata": {
        "colab": {
          "base_uri": "https://localhost:8080/"
        },
        "id": "HOIXGECgUBIA",
        "outputId": "683837d9-67e4-430f-ccae-ab95210e3931"
      },
      "execution_count": null,
      "outputs": [
        {
          "output_type": "stream",
          "name": "stdout",
          "text": [
            "You have sliced: .cu ruysen si asovoe o a a athuhl. use only step\n"
          ]
        }
      ]
    },
    {
      "cell_type": "markdown",
      "source": [
        "#output:- You have sliced: .cu ruysen si asovoe o a a athuhl. use begin, end and step."
      ],
      "metadata": {
        "id": "d7gJ00iOUw7c"
      }
    },
    {
      "cell_type": "code",
      "source": [
        "print(\"You have sliced: \"+my_str[-1:-len(my_str):-2]+\". use begin, end and step.\")"
      ],
      "metadata": {
        "colab": {
          "base_uri": "https://localhost:8080/"
        },
        "id": "ga6Ye3aqUn0O",
        "outputId": "8e7ae984-85f7-4705-8743-8474765c0745"
      },
      "execution_count": null,
      "outputs": [
        {
          "output_type": "stream",
          "name": "stdout",
          "text": [
            "You have sliced: .cu ruysen si asovoe o a a athuhl. use begin, end and step.\n"
          ]
        }
      ]
    },
    {
      "cell_type": "markdown",
      "source": [
        "#print(my_str[10:17:-1])\n",
        "#What will be the output?"
      ],
      "metadata": {
        "id": "f5bSw_6FdalP"
      }
    },
    {
      "cell_type": "code",
      "source": [
        "print(my_str[10:17:-1])"
      ],
      "metadata": {
        "colab": {
          "base_uri": "https://localhost:8080/"
        },
        "id": "q4m6gXTYU37H",
        "outputId": "21ad4dbe-6493-41a7-c86f-1a8ac06c5088"
      },
      "execution_count": null,
      "outputs": [
        {
          "output_type": "stream",
          "name": "stdout",
          "text": [
            "\n"
          ]
        }
      ]
    },
    {
      "cell_type": "markdown",
      "source": [
        "#output:- You have sliced: yaw ta, Using begin, end and step."
      ],
      "metadata": {
        "id": "6_c42_6kdjVR"
      }
    },
    {
      "cell_type": "code",
      "source": [
        "print(\"You have sliced: \"+my_str[-50:-56:-1]+\", Using begin, end and step.\")"
      ],
      "metadata": {
        "colab": {
          "base_uri": "https://localhost:8080/"
        },
        "id": "2fYTpZmwdegs",
        "outputId": "4a0f881a-f779-4607-e3a7-71401e2c15c6"
      },
      "execution_count": null,
      "outputs": [
        {
          "output_type": "stream",
          "name": "stdout",
          "text": [
            "You have sliced: yaw ta, Using begin, end and step.\n"
          ]
        }
      ]
    },
    {
      "cell_type": "markdown",
      "source": [
        "#output:- You have sliced: ess you. Using begin, end and step."
      ],
      "metadata": {
        "id": "Y870d_h0fkj6"
      }
    },
    {
      "cell_type": "code",
      "source": [
        "print(\"You have sliced: \"+my_str[-17:-10:1]+\". Using begin, end and step.\")"
      ],
      "metadata": {
        "colab": {
          "base_uri": "https://localhost:8080/"
        },
        "id": "WF7763A2e7qW",
        "outputId": "db058cd6-5982-4d91-b52f-fd51bd241cb2"
      },
      "execution_count": null,
      "outputs": [
        {
          "output_type": "stream",
          "name": "stdout",
          "text": [
            "You have sliced: ess you. Using begin, end and step.\n"
          ]
        }
      ]
    },
    {
      "cell_type": "markdown",
      "source": [
        "#Basic operation on string\n",
        "## str1 = 'Learnbay'\n",
        "## str2 = 'Python'\n",
        "\n",
        "#Write the code to get the output,instructions are mentioned below."
      ],
      "metadata": {
        "id": "nDOTgR6vgCD7"
      }
    },
    {
      "cell_type": "markdown",
      "source": [
        "#Output is: Learnbay Python"
      ],
      "metadata": {
        "id": "dApye-jagZBv"
      }
    },
    {
      "cell_type": "code",
      "source": [
        "str1 = 'Learnbay'\n",
        "str2 = 'Python'\n",
        "print(\"Output is: \"+str1+\" \"+str2)"
      ],
      "metadata": {
        "colab": {
          "base_uri": "https://localhost:8080/"
        },
        "id": "2WGpAy-jgaaU",
        "outputId": "599cd220-576a-486d-d8ef-91ac543b297e"
      },
      "execution_count": null,
      "outputs": [
        {
          "output_type": "stream",
          "name": "stdout",
          "text": [
            "Output is: Learnbay Python\n"
          ]
        }
      ]
    },
    {
      "cell_type": "markdown",
      "source": [
        "#Error: TypeError: can only concatenate str (not \"int\") to str"
      ],
      "metadata": {
        "id": "rnNRVHoygnRx"
      }
    },
    {
      "cell_type": "code",
      "source": [
        "print(str1+str2+3)"
      ],
      "metadata": {
        "colab": {
          "base_uri": "https://localhost:8080/",
          "height": 165
        },
        "id": "R_9p5iBhf9ZD",
        "outputId": "69e35b97-f241-47f7-c6fa-a72d0e022b6f"
      },
      "execution_count": null,
      "outputs": [
        {
          "output_type": "error",
          "ename": "TypeError",
          "evalue": "ignored",
          "traceback": [
            "\u001b[0;31m---------------------------------------------------------------------------\u001b[0m",
            "\u001b[0;31mTypeError\u001b[0m                                 Traceback (most recent call last)",
            "\u001b[0;32m<ipython-input-59-96f99925a72b>\u001b[0m in \u001b[0;36m<module>\u001b[0;34m\u001b[0m\n\u001b[0;32m----> 1\u001b[0;31m \u001b[0mprint\u001b[0m\u001b[0;34m(\u001b[0m\u001b[0mstr1\u001b[0m\u001b[0;34m+\u001b[0m\u001b[0mstr2\u001b[0m\u001b[0;34m+\u001b[0m\u001b[0;36m3\u001b[0m\u001b[0;34m)\u001b[0m\u001b[0;34m\u001b[0m\u001b[0;34m\u001b[0m\u001b[0m\n\u001b[0m",
            "\u001b[0;31mTypeError\u001b[0m: can only concatenate str (not \"int\") to str"
          ]
        }
      ]
    },
    {
      "cell_type": "markdown",
      "source": [
        "#Error: TypeError: can only concatenate str (not \"float\") to str"
      ],
      "metadata": {
        "id": "qPNno1oFg6iM"
      }
    },
    {
      "cell_type": "code",
      "source": [
        "print(str1+str2+3.0)"
      ],
      "metadata": {
        "colab": {
          "base_uri": "https://localhost:8080/",
          "height": 165
        },
        "id": "FwBaaYI5gyl8",
        "outputId": "981eab5f-05b1-4073-8962-3d4482298974"
      },
      "execution_count": null,
      "outputs": [
        {
          "output_type": "error",
          "ename": "TypeError",
          "evalue": "ignored",
          "traceback": [
            "\u001b[0;31m---------------------------------------------------------------------------\u001b[0m",
            "\u001b[0;31mTypeError\u001b[0m                                 Traceback (most recent call last)",
            "\u001b[0;32m<ipython-input-60-6f5b7adac192>\u001b[0m in \u001b[0;36m<module>\u001b[0;34m\u001b[0m\n\u001b[0;32m----> 1\u001b[0;31m \u001b[0mprint\u001b[0m\u001b[0;34m(\u001b[0m\u001b[0mstr1\u001b[0m\u001b[0;34m+\u001b[0m\u001b[0mstr2\u001b[0m\u001b[0;34m+\u001b[0m\u001b[0;36m3.0\u001b[0m\u001b[0;34m)\u001b[0m\u001b[0;34m\u001b[0m\u001b[0;34m\u001b[0m\u001b[0m\n\u001b[0m",
            "\u001b[0;31mTypeError\u001b[0m: can only concatenate str (not \"float\") to str"
          ]
        }
      ]
    },
    {
      "cell_type": "markdown",
      "source": [
        "#Find below Output\n",
        "#Output is: LearnbayLearnbayLearnbay"
      ],
      "metadata": {
        "id": "-xc52TAPhB_D"
      }
    },
    {
      "cell_type": "code",
      "source": [
        "print(\"Output is: \"+str1*3)"
      ],
      "metadata": {
        "colab": {
          "base_uri": "https://localhost:8080/"
        },
        "id": "7PsUf_WOg_fX",
        "outputId": "25d624ff-6d8d-4234-fc07-056e476a3ac6"
      },
      "execution_count": null,
      "outputs": [
        {
          "output_type": "stream",
          "name": "stdout",
          "text": [
            "Output is: LearnbayLearnbayLearnbay\n"
          ]
        }
      ]
    },
    {
      "cell_type": "markdown",
      "source": [
        "\n",
        "#Error: TypeError: can't multiply sequence by non-int of type 'float'"
      ],
      "metadata": {
        "id": "YLIm4IQijPzF"
      }
    },
    {
      "cell_type": "code",
      "source": [
        "print(\"Output is: \"+str1*3.0)"
      ],
      "metadata": {
        "colab": {
          "base_uri": "https://localhost:8080/",
          "height": 165
        },
        "id": "Hay8rpCti54X",
        "outputId": "64768406-d957-4a4b-c915-6779dca20648"
      },
      "execution_count": null,
      "outputs": [
        {
          "output_type": "error",
          "ename": "TypeError",
          "evalue": "ignored",
          "traceback": [
            "\u001b[0;31m---------------------------------------------------------------------------\u001b[0m",
            "\u001b[0;31mTypeError\u001b[0m                                 Traceback (most recent call last)",
            "\u001b[0;32m<ipython-input-63-8cd7965b7a1b>\u001b[0m in \u001b[0;36m<module>\u001b[0;34m\u001b[0m\n\u001b[0;32m----> 1\u001b[0;31m \u001b[0mprint\u001b[0m\u001b[0;34m(\u001b[0m\u001b[0;34m\"Output is: \"\u001b[0m\u001b[0;34m+\u001b[0m\u001b[0mstr1\u001b[0m\u001b[0;34m*\u001b[0m\u001b[0;36m3.0\u001b[0m\u001b[0;34m)\u001b[0m\u001b[0;34m\u001b[0m\u001b[0;34m\u001b[0m\u001b[0m\n\u001b[0m",
            "\u001b[0;31mTypeError\u001b[0m: can't multiply sequence by non-int of type 'float'"
          ]
        }
      ]
    },
    {
      "cell_type": "markdown",
      "source": [
        "#Error: TypeError: can't multiply sequence by non-int of type 'str'"
      ],
      "metadata": {
        "id": "FSq0wwgDjW1-"
      }
    },
    {
      "cell_type": "code",
      "source": [
        "print(\"Output is: \"+str1*str2)"
      ],
      "metadata": {
        "colab": {
          "base_uri": "https://localhost:8080/",
          "height": 165
        },
        "id": "JXUaWn7zjUuv",
        "outputId": "2358d535-3b1b-4003-e32d-8b470bc7061c"
      },
      "execution_count": null,
      "outputs": [
        {
          "output_type": "error",
          "ename": "TypeError",
          "evalue": "ignored",
          "traceback": [
            "\u001b[0;31m---------------------------------------------------------------------------\u001b[0m",
            "\u001b[0;31mTypeError\u001b[0m                                 Traceback (most recent call last)",
            "\u001b[0;32m<ipython-input-64-b5b96fb30949>\u001b[0m in \u001b[0;36m<module>\u001b[0;34m\u001b[0m\n\u001b[0;32m----> 1\u001b[0;31m \u001b[0mprint\u001b[0m\u001b[0;34m(\u001b[0m\u001b[0;34m\"Output is: \"\u001b[0m\u001b[0;34m+\u001b[0m\u001b[0mstr1\u001b[0m\u001b[0;34m*\u001b[0m\u001b[0mstr2\u001b[0m\u001b[0;34m)\u001b[0m\u001b[0;34m\u001b[0m\u001b[0;34m\u001b[0m\u001b[0m\n\u001b[0m",
            "\u001b[0;31mTypeError\u001b[0m: can't multiply sequence by non-int of type 'str'"
          ]
        }
      ]
    },
    {
      "cell_type": "markdown",
      "source": [
        "#Find below Output\n",
        "## str1 = 'Python'\n",
        "\n",
        "## str2 = 'Python'\n",
        "\n",
        "## str3 = 'Python$'\n",
        "\n",
        "## str4 = 'Python$'"
      ],
      "metadata": {
        "id": "FfqV6iYUmKHM"
      }
    },
    {
      "cell_type": "markdown",
      "source": [
        "#print True by using identity operator between str1 and str2"
      ],
      "metadata": {
        "id": "hS96zuySmmgw"
      }
    },
    {
      "cell_type": "code",
      "source": [
        "str1 = 'Python'\n",
        "str2 = 'Python'\n",
        "str3 = 'Python$'\n",
        "str4 = 'Python$'\n",
        "print(str1 is str2)"
      ],
      "metadata": {
        "colab": {
          "base_uri": "https://localhost:8080/"
        },
        "id": "O26V9ogAjcvp",
        "outputId": "26afbd2b-011c-455a-a487-cb952e63a124"
      },
      "execution_count": null,
      "outputs": [
        {
          "output_type": "stream",
          "name": "stdout",
          "text": [
            "True\n"
          ]
        }
      ]
    },
    {
      "cell_type": "markdown",
      "source": [
        "#print False by using identity operator between str1 and str3"
      ],
      "metadata": {
        "id": "nis9pWU95UWn"
      }
    },
    {
      "cell_type": "code",
      "source": [
        "print(str1 is str3)"
      ],
      "metadata": {
        "colab": {
          "base_uri": "https://localhost:8080/"
        },
        "id": "7iAbqsQOnWbk",
        "outputId": "1439894e-3880-4b39-da54-ba3dd4a2290c"
      },
      "execution_count": null,
      "outputs": [
        {
          "output_type": "stream",
          "name": "stdout",
          "text": [
            "False\n"
          ]
        }
      ]
    },
    {
      "cell_type": "markdown",
      "source": [
        "#print False by using identity operator between str4 and str3"
      ],
      "metadata": {
        "id": "Ka_JEkny5fM-"
      }
    },
    {
      "cell_type": "code",
      "source": [
        "print(str4 is str3)"
      ],
      "metadata": {
        "colab": {
          "base_uri": "https://localhost:8080/"
        },
        "id": "f6yh2_UO5b3B",
        "outputId": "c96e43cc-3d67-4a6a-aaf8-331b0b6772cf"
      },
      "execution_count": null,
      "outputs": [
        {
          "output_type": "stream",
          "name": "stdout",
          "text": [
            "False\n"
          ]
        }
      ]
    },
    {
      "cell_type": "markdown",
      "source": [
        "#Check if P is available in str1 and print True by using membership operator"
      ],
      "metadata": {
        "id": "P9sI_I4M53yY"
      }
    },
    {
      "cell_type": "code",
      "source": [
        "print('P' in str1)"
      ],
      "metadata": {
        "colab": {
          "base_uri": "https://localhost:8080/"
        },
        "id": "RS-9v7-B5i-F",
        "outputId": "11aa0fba-f8cb-4c70-f3eb-8d7516825d35"
      },
      "execution_count": null,
      "outputs": [
        {
          "output_type": "stream",
          "name": "stdout",
          "text": [
            "True\n"
          ]
        }
      ]
    },
    {
      "cell_type": "markdown",
      "source": [
        "#Check if $ is available in str3 and print True by using membership operator"
      ],
      "metadata": {
        "id": "DMAdzB-f6AqX"
      }
    },
    {
      "cell_type": "code",
      "source": [
        "print('$' in str3)"
      ],
      "metadata": {
        "colab": {
          "base_uri": "https://localhost:8080/"
        },
        "id": "QRagnmNA58ba",
        "outputId": "45083611-2341-4ffc-9952-9104083393e4"
      },
      "execution_count": null,
      "outputs": [
        {
          "output_type": "stream",
          "name": "stdout",
          "text": [
            "True\n"
          ]
        }
      ]
    },
    {
      "cell_type": "markdown",
      "source": [
        "#Check if N is available in str3 and print False by using membership operator"
      ],
      "metadata": {
        "id": "4ymvnexs6JBz"
      }
    },
    {
      "cell_type": "code",
      "source": [
        "print('N' in str3)"
      ],
      "metadata": {
        "colab": {
          "base_uri": "https://localhost:8080/"
        },
        "id": "7y31XEDL6ELg",
        "outputId": "229488ac-1f50-49e9-e9ba-e0becaef927e"
      },
      "execution_count": null,
      "outputs": [
        {
          "output_type": "stream",
          "name": "stdout",
          "text": [
            "False\n"
          ]
        }
      ]
    },
    {
      "cell_type": "markdown",
      "source": [
        "#Complete the below code\n",
        "## str1 = 'This is Python class'\n",
        "#write the code to replace 'Python' with 'Java' and you should get below error.\n",
        "#TypeError: 'str' object does not support item assignment.\n"
      ],
      "metadata": {
        "id": "C5WtuNjF8EoZ"
      }
    },
    {
      "cell_type": "code",
      "source": [
        "str1 = 'This is Python class'"
      ],
      "metadata": {
        "id": "Ll8V0OGa8AuU"
      },
      "execution_count": null,
      "outputs": []
    },
    {
      "cell_type": "code",
      "source": [
        "str1[8:14] = \"Java\""
      ],
      "metadata": {
        "colab": {
          "base_uri": "https://localhost:8080/",
          "height": 165
        },
        "id": "7Gl4_dls8OT3",
        "outputId": "534c7b6e-a00b-4445-bc34-d02c19e5a122"
      },
      "execution_count": null,
      "outputs": [
        {
          "output_type": "error",
          "ename": "TypeError",
          "evalue": "ignored",
          "traceback": [
            "\u001b[0;31m---------------------------------------------------------------------------\u001b[0m",
            "\u001b[0;31mTypeError\u001b[0m                                 Traceback (most recent call last)",
            "\u001b[0;32m<ipython-input-87-88ffe4472a9d>\u001b[0m in \u001b[0;36m<module>\u001b[0;34m\u001b[0m\n\u001b[0;32m----> 1\u001b[0;31m \u001b[0mstr1\u001b[0m\u001b[0;34m[\u001b[0m\u001b[0;36m8\u001b[0m\u001b[0;34m:\u001b[0m\u001b[0;36m14\u001b[0m\u001b[0;34m]\u001b[0m \u001b[0;34m=\u001b[0m \u001b[0;34m\"Java\"\u001b[0m\u001b[0;34m\u001b[0m\u001b[0;34m\u001b[0m\u001b[0m\n\u001b[0m",
            "\u001b[0;31mTypeError\u001b[0m: 'str' object does not support item assignment"
          ]
        }
      ]
    },
    {
      "cell_type": "markdown",
      "source": [
        "# str1 = 'A'\n",
        "# str2 = 'A'\n",
        "#Compare str1 and str2 and print True using comparison operator"
      ],
      "metadata": {
        "id": "U2Ng81Q18rwt"
      }
    },
    {
      "cell_type": "code",
      "source": [
        "str1 = 'A'\n",
        "str2 = 'A'\n",
        "print(str1 >= str2)"
      ],
      "metadata": {
        "colab": {
          "base_uri": "https://localhost:8080/"
        },
        "id": "98OpZ0Wu8VUt",
        "outputId": "6e3aab35-062b-42f0-c451-c4f3e2b9ae40"
      },
      "execution_count": null,
      "outputs": [
        {
          "output_type": "stream",
          "name": "stdout",
          "text": [
            "True\n"
          ]
        }
      ]
    },
    {
      "cell_type": "markdown",
      "source": [
        "#Compare str1 and str2 and print True using equality operator"
      ],
      "metadata": {
        "id": "izZQhp0A9G6y"
      }
    },
    {
      "cell_type": "code",
      "source": [
        "print(str1 == str2)"
      ],
      "metadata": {
        "colab": {
          "base_uri": "https://localhost:8080/"
        },
        "id": "xZNE00WI9FQr",
        "outputId": "9fcc2183-0a9b-4cc4-fa22-588ec7be2f11"
      },
      "execution_count": null,
      "outputs": [
        {
          "output_type": "stream",
          "name": "stdout",
          "text": [
            "True\n"
          ]
        }
      ]
    },
    {
      "cell_type": "markdown",
      "source": [
        "#Compare str1 and str2 and print False using equality operator"
      ],
      "metadata": {
        "id": "LNUFl2_l9sEh"
      }
    },
    {
      "cell_type": "code",
      "source": [
        "print(str1 != str2)"
      ],
      "metadata": {
        "colab": {
          "base_uri": "https://localhost:8080/"
        },
        "id": "S-yw6Aw79ntx",
        "outputId": "c40a1b57-2ed1-4f3f-a90b-1dd6ac1ae4fc"
      },
      "execution_count": null,
      "outputs": [
        {
          "output_type": "stream",
          "name": "stdout",
          "text": [
            "False\n"
          ]
        }
      ]
    },
    {
      "cell_type": "markdown",
      "source": [
        "#Compare str1 and str2 and print False using comparison operator"
      ],
      "metadata": {
        "id": "CH3CkV_m_ObA"
      }
    },
    {
      "cell_type": "code",
      "source": [
        "print(str1 > str2)"
      ],
      "metadata": {
        "colab": {
          "base_uri": "https://localhost:8080/"
        },
        "id": "VMcEfSCN9u1n",
        "outputId": "798f3a6d-f962-49de-e71c-858005eb6c8c"
      },
      "execution_count": null,
      "outputs": [
        {
          "output_type": "stream",
          "name": "stdout",
          "text": [
            "False\n"
          ]
        }
      ]
    },
    {
      "cell_type": "markdown",
      "source": [
        "## str1 = 'A'\n",
        "## str2 = 'a'\n",
        "#Compare str1 and str2 and print True using comparison operator"
      ],
      "metadata": {
        "id": "XAAbpD_TAhEq"
      }
    },
    {
      "cell_type": "code",
      "source": [
        "str1 = 'A'\n",
        "str2 = 'a'\n",
        "print(str1 < str2)"
      ],
      "metadata": {
        "colab": {
          "base_uri": "https://localhost:8080/"
        },
        "id": "MvvstM6H_SlU",
        "outputId": "946b8c32-7be1-4fb5-f616-7acc84fd34f0"
      },
      "execution_count": null,
      "outputs": [
        {
          "output_type": "stream",
          "name": "stdout",
          "text": [
            "True\n"
          ]
        }
      ]
    },
    {
      "cell_type": "markdown",
      "source": [
        "#Compare str1 and str2 and print True using equality operator"
      ],
      "metadata": {
        "id": "1D6thPnlBLWh"
      }
    },
    {
      "cell_type": "code",
      "source": [
        "print(str != str2)"
      ],
      "metadata": {
        "colab": {
          "base_uri": "https://localhost:8080/"
        },
        "id": "cZyh9DF8BG1o",
        "outputId": "246cbe1a-e0f8-4e95-f0ee-89fef22cc93a"
      },
      "execution_count": null,
      "outputs": [
        {
          "output_type": "stream",
          "name": "stdout",
          "text": [
            "True\n"
          ]
        }
      ]
    },
    {
      "cell_type": "markdown",
      "source": [
        "#Compare str1 and str2 and print False using equality operator"
      ],
      "metadata": {
        "id": "br-2zGTgCDVo"
      }
    },
    {
      "cell_type": "code",
      "source": [
        "print(str == str2)"
      ],
      "metadata": {
        "colab": {
          "base_uri": "https://localhost:8080/"
        },
        "id": "fDZadEhHB-xW",
        "outputId": "7b2e008b-c0db-4726-c299-caed3d564f45"
      },
      "execution_count": null,
      "outputs": [
        {
          "output_type": "stream",
          "name": "stdout",
          "text": [
            "False\n"
          ]
        }
      ]
    },
    {
      "cell_type": "markdown",
      "source": [
        "#Compare str1 and str2 and print False using comparison operator"
      ],
      "metadata": {
        "id": "JK2X_SZpC96-"
      }
    },
    {
      "cell_type": "code",
      "source": [
        "print(str1 > str2)"
      ],
      "metadata": {
        "colab": {
          "base_uri": "https://localhost:8080/"
        },
        "id": "1fxi1YZwCHRg",
        "outputId": "eac165e9-5d76-4343-c56d-48f14bd74bd2"
      },
      "execution_count": null,
      "outputs": [
        {
          "output_type": "stream",
          "name": "stdout",
          "text": [
            "False\n"
          ]
        }
      ]
    },
    {
      "cell_type": "markdown",
      "source": [
        "## str1 = 'A'\n",
        "## str2 = '65'\n",
        "#Compare str1 and str2 using comparison operator and it should give below error.\n",
        "#Error: TypeError: '>=' not supported between instances of 'str' and 'int'"
      ],
      "metadata": {
        "id": "5zUHemcmDcrM"
      }
    },
    {
      "cell_type": "code",
      "source": [
        "str1 = 'A'\n",
        "str2 = '65'\n",
        "print(str1 >= int(str2))"
      ],
      "metadata": {
        "colab": {
          "base_uri": "https://localhost:8080/",
          "height": 200
        },
        "id": "Rb6b6-SGDPL5",
        "outputId": "6301b307-53cb-4fa0-e97c-34d3134c710f"
      },
      "execution_count": null,
      "outputs": [
        {
          "output_type": "error",
          "ename": "TypeError",
          "evalue": "ignored",
          "traceback": [
            "\u001b[0;31m---------------------------------------------------------------------------\u001b[0m",
            "\u001b[0;31mTypeError\u001b[0m                                 Traceback (most recent call last)",
            "\u001b[0;32m<ipython-input-99-4b1bbfa62fd9>\u001b[0m in \u001b[0;36m<module>\u001b[0;34m\u001b[0m\n\u001b[1;32m      1\u001b[0m \u001b[0mstr1\u001b[0m \u001b[0;34m=\u001b[0m \u001b[0;34m'A'\u001b[0m\u001b[0;34m\u001b[0m\u001b[0;34m\u001b[0m\u001b[0m\n\u001b[1;32m      2\u001b[0m \u001b[0mstr2\u001b[0m \u001b[0;34m=\u001b[0m \u001b[0;34m'65'\u001b[0m\u001b[0;34m\u001b[0m\u001b[0;34m\u001b[0m\u001b[0m\n\u001b[0;32m----> 3\u001b[0;31m \u001b[0mprint\u001b[0m\u001b[0;34m(\u001b[0m\u001b[0mstr1\u001b[0m \u001b[0;34m>=\u001b[0m \u001b[0mint\u001b[0m\u001b[0;34m(\u001b[0m\u001b[0mstr2\u001b[0m\u001b[0;34m)\u001b[0m\u001b[0;34m)\u001b[0m\u001b[0;34m\u001b[0m\u001b[0;34m\u001b[0m\u001b[0m\n\u001b[0m",
            "\u001b[0;31mTypeError\u001b[0m: '>=' not supported between instances of 'str' and 'int'"
          ]
        }
      ]
    },
    {
      "cell_type": "markdown",
      "source": [
        "#Compare str1 and str2 and print True using equality operator"
      ],
      "metadata": {
        "id": "hZrsqzDsEh83"
      }
    },
    {
      "cell_type": "code",
      "source": [
        "print(str1 != str2)"
      ],
      "metadata": {
        "colab": {
          "base_uri": "https://localhost:8080/"
        },
        "id": "l35TOiKwDtar",
        "outputId": "67f82742-e179-4e49-bd81-f424eeb81f8d"
      },
      "execution_count": null,
      "outputs": [
        {
          "output_type": "stream",
          "name": "stdout",
          "text": [
            "True\n"
          ]
        }
      ]
    },
    {
      "cell_type": "markdown",
      "source": [
        "#Compare str1 and str2 and print False using equality operator"
      ],
      "metadata": {
        "id": "VwZfl34kEvex"
      }
    },
    {
      "cell_type": "code",
      "source": [
        "print(str1 == str2)"
      ],
      "metadata": {
        "colab": {
          "base_uri": "https://localhost:8080/"
        },
        "id": "9VrtUBj3Eols",
        "outputId": "d76701d0-2473-4458-ac8b-2b8fe691e943"
      },
      "execution_count": null,
      "outputs": [
        {
          "output_type": "stream",
          "name": "stdout",
          "text": [
            "False\n"
          ]
        }
      ]
    },
    {
      "cell_type": "markdown",
      "source": [
        "## str1 = 'Python'\n",
        "## str2 = 'Python'\n",
        "#Compare str1 and str2 and print True using comparison operator"
      ],
      "metadata": {
        "id": "73xJ_TI5FBcc"
      }
    },
    {
      "cell_type": "code",
      "source": [
        "str1 = 'Python'\n",
        "str2 = 'Python'\n",
        "print(str1 >= str2)"
      ],
      "metadata": {
        "colab": {
          "base_uri": "https://localhost:8080/"
        },
        "id": "EeLgDkQNEzf5",
        "outputId": "7412c047-ee74-4579-932b-ff97a6a7d88a"
      },
      "execution_count": null,
      "outputs": [
        {
          "output_type": "stream",
          "name": "stdout",
          "text": [
            "True\n"
          ]
        }
      ]
    },
    {
      "cell_type": "markdown",
      "source": [
        "#Compare str1 and str2 and print True using equality operator"
      ],
      "metadata": {
        "id": "S5tCv-3lFTAE"
      }
    },
    {
      "cell_type": "code",
      "source": [
        "print(str1 == str2)"
      ],
      "metadata": {
        "colab": {
          "base_uri": "https://localhost:8080/"
        },
        "id": "oAtB2eINFNiT",
        "outputId": "84c584d0-1029-4a70-d4c9-4a28c9c26157"
      },
      "execution_count": null,
      "outputs": [
        {
          "output_type": "stream",
          "name": "stdout",
          "text": [
            "True\n"
          ]
        }
      ]
    },
    {
      "cell_type": "markdown",
      "source": [
        "#Compare str1 and str2 and print False using equality operator"
      ],
      "metadata": {
        "id": "Of84rliVF7_z"
      }
    },
    {
      "cell_type": "code",
      "source": [
        "print(str1 != str2)"
      ],
      "metadata": {
        "colab": {
          "base_uri": "https://localhost:8080/"
        },
        "id": "tSHAGDEOF4cB",
        "outputId": "9589140e-3bc3-4625-9a72-cfb174d1277a"
      },
      "execution_count": null,
      "outputs": [
        {
          "output_type": "stream",
          "name": "stdout",
          "text": [
            "False\n"
          ]
        }
      ]
    },
    {
      "cell_type": "markdown",
      "source": [
        "#Compare str1 and str2 and print False using comparison operator"
      ],
      "metadata": {
        "id": "NjCjrInAGAqx"
      }
    },
    {
      "cell_type": "code",
      "source": [
        "print(str1 > str2)"
      ],
      "metadata": {
        "colab": {
          "base_uri": "https://localhost:8080/"
        },
        "id": "XW50_0q_F_V1",
        "outputId": "5a85b9fd-ec57-4ac2-be15-62023a2b4e0b"
      },
      "execution_count": null,
      "outputs": [
        {
          "output_type": "stream",
          "name": "stdout",
          "text": [
            "False\n"
          ]
        }
      ]
    },
    {
      "cell_type": "markdown",
      "source": [
        "## str1 = 'Python'\n",
        "## str2 = 'python'\n",
        "#Compare str1 and str2 and print True using comparison operator"
      ],
      "metadata": {
        "id": "MAvI1oRzGMOe"
      }
    },
    {
      "cell_type": "code",
      "source": [
        "str1 = 'Python'\n",
        "str2 = 'python'\n",
        "print(str1 < str2)"
      ],
      "metadata": {
        "colab": {
          "base_uri": "https://localhost:8080/"
        },
        "id": "5kYgV9esGH5d",
        "outputId": "ebafbe60-4f87-4484-fa2c-bd30efc2d7e1"
      },
      "execution_count": null,
      "outputs": [
        {
          "output_type": "stream",
          "name": "stdout",
          "text": [
            "True\n"
          ]
        }
      ]
    },
    {
      "cell_type": "markdown",
      "source": [
        "#Compare str1 and str2 and print True using equality operator\n"
      ],
      "metadata": {
        "id": "hP_sf15cGd8o"
      }
    },
    {
      "cell_type": "code",
      "source": [
        "print(str1 != str2)"
      ],
      "metadata": {
        "colab": {
          "base_uri": "https://localhost:8080/"
        },
        "id": "ny8oxUDSGYV1",
        "outputId": "de5a7bf8-6ea3-46e0-c033-ee2b1b2c8932"
      },
      "execution_count": null,
      "outputs": [
        {
          "output_type": "stream",
          "name": "stdout",
          "text": [
            "True\n"
          ]
        }
      ]
    },
    {
      "cell_type": "markdown",
      "source": [
        "#Compare str1 and str2 and print False using equality operator"
      ],
      "metadata": {
        "id": "VC61iUitHt93"
      }
    },
    {
      "cell_type": "code",
      "source": [
        "print(str1 == str2)"
      ],
      "metadata": {
        "colab": {
          "base_uri": "https://localhost:8080/"
        },
        "id": "MJs5UaJdHq8o",
        "outputId": "e0e056ed-31b9-4fbd-83be-724938bc1d1c"
      },
      "execution_count": null,
      "outputs": [
        {
          "output_type": "stream",
          "name": "stdout",
          "text": [
            "False\n"
          ]
        }
      ]
    },
    {
      "cell_type": "markdown",
      "source": [
        "#Compare str1 and str2 and print False using comparison operator"
      ],
      "metadata": {
        "id": "n9pd8MCdH1C5"
      }
    },
    {
      "cell_type": "code",
      "source": [
        "print(str1 > str2)"
      ],
      "metadata": {
        "colab": {
          "base_uri": "https://localhost:8080/"
        },
        "id": "Ga1YF8cMHxwK",
        "outputId": "8cac34f2-34ee-45a5-dd1c-f33d2dce5f47"
      },
      "execution_count": null,
      "outputs": [
        {
          "output_type": "stream",
          "name": "stdout",
          "text": [
            "False\n"
          ]
        }
      ]
    },
    {
      "cell_type": "markdown",
      "source": [
        "## a = 'Python'\n",
        "## b = ''\n",
        "\n",
        "#Apply logical opereators (and, or & not) on above string values and observe the output."
      ],
      "metadata": {
        "id": "ccKhnakLH_hw"
      }
    },
    {
      "cell_type": "code",
      "source": [
        "a = 'Python'\n",
        "b = ''\n",
        "print(a and b)"
      ],
      "metadata": {
        "colab": {
          "base_uri": "https://localhost:8080/"
        },
        "id": "252eIexDH5-W",
        "outputId": "a60ee3b7-e19d-4a10-da46-393cf6a78506"
      },
      "execution_count": null,
      "outputs": [
        {
          "output_type": "stream",
          "name": "stdout",
          "text": [
            "\n"
          ]
        }
      ]
    },
    {
      "cell_type": "code",
      "source": [
        "print(a or b)"
      ],
      "metadata": {
        "colab": {
          "base_uri": "https://localhost:8080/"
        },
        "id": "Pfpy0MSyIg5X",
        "outputId": "5f16b6f0-d6b3-4a5d-9e57-8ebc28a0cadc"
      },
      "execution_count": null,
      "outputs": [
        {
          "output_type": "stream",
          "name": "stdout",
          "text": [
            "Python\n"
          ]
        }
      ]
    },
    {
      "cell_type": "code",
      "source": [
        "print(not a)"
      ],
      "metadata": {
        "colab": {
          "base_uri": "https://localhost:8080/"
        },
        "id": "vOEDTTocIt0V",
        "outputId": "6869e75e-9089-49f7-ddee-04bb05044556"
      },
      "execution_count": null,
      "outputs": [
        {
          "output_type": "stream",
          "name": "stdout",
          "text": [
            "False\n"
          ]
        }
      ]
    },
    {
      "cell_type": "code",
      "source": [
        "print(not b)"
      ],
      "metadata": {
        "colab": {
          "base_uri": "https://localhost:8080/"
        },
        "id": "q5uPwmNFIwjV",
        "outputId": "2e029cf6-3011-44a2-bc12-880b8cb9b04a"
      },
      "execution_count": null,
      "outputs": [
        {
          "output_type": "stream",
          "name": "stdout",
          "text": [
            "True\n"
          ]
        }
      ]
    },
    {
      "cell_type": "markdown",
      "source": [
        "## a = ''\n",
        "## b = ''\n",
        "\n",
        "#Apply logical opereators (and, or & not) on above string values and observe the output."
      ],
      "metadata": {
        "id": "DQ93RpJaJEOC"
      }
    },
    {
      "cell_type": "code",
      "source": [
        "a = ''\n",
        "b = ''\n",
        "print(a and b)"
      ],
      "metadata": {
        "colab": {
          "base_uri": "https://localhost:8080/"
        },
        "id": "G_WGS4S0I3Ui",
        "outputId": "72ed69be-cc43-4375-d7af-1b6c89a68e32"
      },
      "execution_count": null,
      "outputs": [
        {
          "output_type": "stream",
          "name": "stdout",
          "text": [
            "\n"
          ]
        }
      ]
    },
    {
      "cell_type": "code",
      "source": [
        "print(a or b)"
      ],
      "metadata": {
        "colab": {
          "base_uri": "https://localhost:8080/"
        },
        "id": "gpdg9wmjJYR7",
        "outputId": "c55efe9f-fe2f-4185-e286-13a95787cb15"
      },
      "execution_count": null,
      "outputs": [
        {
          "output_type": "stream",
          "name": "stdout",
          "text": [
            "\n"
          ]
        }
      ]
    },
    {
      "cell_type": "code",
      "source": [
        "print(not a)"
      ],
      "metadata": {
        "colab": {
          "base_uri": "https://localhost:8080/"
        },
        "id": "lRnvefCSJZ-j",
        "outputId": "b326fd89-16d1-481e-a5cc-111d7c70090b"
      },
      "execution_count": null,
      "outputs": [
        {
          "output_type": "stream",
          "name": "stdout",
          "text": [
            "True\n"
          ]
        }
      ]
    },
    {
      "cell_type": "code",
      "source": [
        "print(not b)"
      ],
      "metadata": {
        "colab": {
          "base_uri": "https://localhost:8080/"
        },
        "id": "1rTLooXLJdXt",
        "outputId": "7e2b1a33-c54d-40b0-cfa2-7a5d4fe590b5"
      },
      "execution_count": null,
      "outputs": [
        {
          "output_type": "stream",
          "name": "stdout",
          "text": [
            "True\n"
          ]
        }
      ]
    },
    {
      "cell_type": "markdown",
      "source": [
        "## a = 'Python'\n",
        "## b = 'learnbay'\n",
        "\n",
        "#Apply logical operators (and, or & not) on above string values and observe the output."
      ],
      "metadata": {
        "id": "q2Y7MUjQJje5"
      }
    },
    {
      "cell_type": "code",
      "source": [
        "a = 'Python'\n",
        "b = 'learnbay'\n",
        "print(a and b)"
      ],
      "metadata": {
        "colab": {
          "base_uri": "https://localhost:8080/"
        },
        "id": "VjmU8NswJggg",
        "outputId": "78e21c44-ff8c-44db-e6bf-69e7b4f703bf"
      },
      "execution_count": null,
      "outputs": [
        {
          "output_type": "stream",
          "name": "stdout",
          "text": [
            "learnbay\n"
          ]
        }
      ]
    },
    {
      "cell_type": "code",
      "source": [
        "print(a or b)"
      ],
      "metadata": {
        "colab": {
          "base_uri": "https://localhost:8080/"
        },
        "id": "7v4FqHZdKDFR",
        "outputId": "d70a97dd-327c-4527-955b-46019d3b0db5"
      },
      "execution_count": null,
      "outputs": [
        {
          "output_type": "stream",
          "name": "stdout",
          "text": [
            "Python\n"
          ]
        }
      ]
    },
    {
      "cell_type": "code",
      "source": [
        "print(not a)"
      ],
      "metadata": {
        "colab": {
          "base_uri": "https://localhost:8080/"
        },
        "id": "uQOKAsBAKH5i",
        "outputId": "d89be755-883c-46fa-8a63-a89bfe9ada90"
      },
      "execution_count": null,
      "outputs": [
        {
          "output_type": "stream",
          "name": "stdout",
          "text": [
            "False\n"
          ]
        }
      ]
    },
    {
      "cell_type": "code",
      "source": [
        "print(not b)"
      ],
      "metadata": {
        "colab": {
          "base_uri": "https://localhost:8080/"
        },
        "id": "pRXKrAtmKKlX",
        "outputId": "0dcd43d1-713f-49c0-e723-015c6ee1cd13"
      },
      "execution_count": null,
      "outputs": [
        {
          "output_type": "stream",
          "name": "stdout",
          "text": [
            "False\n"
          ]
        }
      ]
    },
    {
      "cell_type": "markdown",
      "source": [
        "# my_str = \"Although 8 that way may not be obvious at first unless you're Dutch\"\n",
        "\n",
        "#Write the code to get the total count of 't' in above string. Use find() and index() method."
      ],
      "metadata": {
        "id": "wORyBkMbKXR1"
      }
    },
    {
      "cell_type": "markdown",
      "source": [
        "# Use index function"
      ],
      "metadata": {
        "id": "t0oO8o4uQrAT"
      }
    },
    {
      "cell_type": "code",
      "source": [
        "my_str = \"Although 8 that way may not be obvious at first unless you're Dutch\"\n",
        "try:\n",
        "  total_count = 0\n",
        "  tIndex = 0\n",
        "  for i in range(len(my_str)):      \n",
        "      if (tIndex == i) :\n",
        "        total_count += 1\n",
        "        tIndex = my_str.index('t',tIndex,len(my_str)) + 1\n",
        "        \n",
        "  print(f\"The total count of 't' in my_str is: {total_count}\")\n",
        "except:\n",
        "  total_count -= 1\n",
        "  print(f\"The total count of 't' in my_str is: {total_count}\")\n",
        "  "
      ],
      "metadata": {
        "colab": {
          "base_uri": "https://localhost:8080/"
        },
        "id": "YYbVgE-VKMOD",
        "outputId": "2bfc6774-e285-4907-9962-8cc2e89bf1cb"
      },
      "execution_count": null,
      "outputs": [
        {
          "output_type": "stream",
          "name": "stdout",
          "text": [
            "The total count of 't' in my_str is: 7\n"
          ]
        }
      ]
    },
    {
      "cell_type": "markdown",
      "source": [
        "# Use find function"
      ],
      "metadata": {
        "id": "Y512wCRcQyMB"
      }
    },
    {
      "cell_type": "code",
      "source": [
        "my_str = \"Although 8 that way may not be obvious at first unless you're Dutch\"\n",
        "try:\n",
        "  total_count = 0\n",
        "  tIndex = 0\n",
        "  for i in range(len(my_str)): \n",
        "      if my_str.find('t',tIndex,len(my_str)) == -1:\n",
        "        continue     \n",
        "      if ( (tIndex == i) ):\n",
        "        total_count += 1\n",
        "        tIndex = my_str.find('t',tIndex,len(my_str)) + 1\n",
        "        #print(i,total_count,tIndex)  \n",
        "  print(f\"The total count of 't' in my_str is: {total_count}\")\n",
        "except:\n",
        "  print(f\"The total count of 't' in my_str is: {total_count}\")"
      ],
      "metadata": {
        "colab": {
          "base_uri": "https://localhost:8080/"
        },
        "id": "w7dYtGeDKa0j",
        "outputId": "af3fa8f2-a727-4077-dde9-2e04966e0cff"
      },
      "execution_count": null,
      "outputs": [
        {
          "output_type": "stream",
          "name": "stdout",
          "text": [
            "The total count of 't' in my_str is: 7\n"
          ]
        }
      ]
    },
    {
      "cell_type": "markdown",
      "source": [
        "#Write the code to get the index of '8' in my_str. Use find() and index() method."
      ],
      "metadata": {
        "id": "2KF9gAoKUsjy"
      }
    },
    {
      "cell_type": "code",
      "source": [
        "print(my_str.find('8',0,len(my_str)))"
      ],
      "metadata": {
        "colab": {
          "base_uri": "https://localhost:8080/"
        },
        "id": "4TObu3LILZ8c",
        "outputId": "fb7587a3-a7d5-4b0e-b0f9-a3c99ad76f74"
      },
      "execution_count": null,
      "outputs": [
        {
          "output_type": "stream",
          "name": "stdout",
          "text": [
            "9\n"
          ]
        }
      ]
    },
    {
      "cell_type": "code",
      "source": [
        "print(my_str.index('8',0,len(my_str)))"
      ],
      "metadata": {
        "colab": {
          "base_uri": "https://localhost:8080/"
        },
        "id": "9BrwHvHTVOk0",
        "outputId": "35dc2586-aa59-4e73-8595-112ae41d6a95"
      },
      "execution_count": null,
      "outputs": [
        {
          "output_type": "stream",
          "name": "stdout",
          "text": [
            "9\n"
          ]
        }
      ]
    },
    {
      "cell_type": "markdown",
      "source": [
        "#What will be the output of below code?"
      ],
      "metadata": {
        "id": "8KNj3P0HVWM3"
      }
    },
    {
      "cell_type": "code",
      "source": [
        "print(my_str.find('the'))"
      ],
      "metadata": {
        "colab": {
          "base_uri": "https://localhost:8080/"
        },
        "id": "47pb1736VUgf",
        "outputId": "78a8ffeb-fbbb-4795-d9f9-1d2d0f4d1f69"
      },
      "execution_count": null,
      "outputs": [
        {
          "output_type": "stream",
          "name": "stdout",
          "text": [
            "-1\n"
          ]
        }
      ]
    },
    {
      "cell_type": "code",
      "source": [
        "print(my_str.index('the'))"
      ],
      "metadata": {
        "colab": {
          "base_uri": "https://localhost:8080/",
          "height": 165
        },
        "id": "l2Uinz1NVh4W",
        "outputId": "ab52e7a9-1b68-4b9b-ad99-72d49efaae9e"
      },
      "execution_count": null,
      "outputs": [
        {
          "output_type": "error",
          "ename": "ValueError",
          "evalue": "ignored",
          "traceback": [
            "\u001b[0;31m---------------------------------------------------------------------------\u001b[0m",
            "\u001b[0;31mValueError\u001b[0m                                Traceback (most recent call last)",
            "\u001b[0;32m<ipython-input-170-0b5bd207cfd4>\u001b[0m in \u001b[0;36m<module>\u001b[0;34m\u001b[0m\n\u001b[0;32m----> 1\u001b[0;31m \u001b[0mprint\u001b[0m\u001b[0;34m(\u001b[0m\u001b[0mmy_str\u001b[0m\u001b[0;34m.\u001b[0m\u001b[0mindex\u001b[0m\u001b[0;34m(\u001b[0m\u001b[0;34m'the'\u001b[0m\u001b[0;34m)\u001b[0m\u001b[0;34m)\u001b[0m\u001b[0;34m\u001b[0m\u001b[0;34m\u001b[0m\u001b[0m\n\u001b[0m",
            "\u001b[0;31mValueError\u001b[0m: substring not found"
          ]
        }
      ]
    },
    {
      "cell_type": "code",
      "source": [
        "print(my_str.find('t', 9, 15))\n"
      ],
      "metadata": {
        "colab": {
          "base_uri": "https://localhost:8080/"
        },
        "id": "w2xG7lopVpi-",
        "outputId": "53b42b16-29f6-424e-a1b7-381b4e3cf385"
      },
      "execution_count": null,
      "outputs": [
        {
          "output_type": "stream",
          "name": "stdout",
          "text": [
            "11\n"
          ]
        }
      ]
    },
    {
      "cell_type": "code",
      "source": [
        "print(my_str.rfind('u'))\n",
        "\n",
        "\n"
      ],
      "metadata": {
        "colab": {
          "base_uri": "https://localhost:8080/"
        },
        "id": "8fYeSwv8VsHC",
        "outputId": "5efcf097-50de-4560-dead-6807cc0b5798"
      },
      "execution_count": null,
      "outputs": [
        {
          "output_type": "stream",
          "name": "stdout",
          "text": [
            "63\n"
          ]
        }
      ]
    },
    {
      "cell_type": "code",
      "source": [
        "print(my_str.rindex('u'))"
      ],
      "metadata": {
        "colab": {
          "base_uri": "https://localhost:8080/"
        },
        "id": "_pts_dnPV2TY",
        "outputId": "ddcba014-74a4-4778-fd7e-959195bc7b15"
      },
      "execution_count": null,
      "outputs": [
        {
          "output_type": "stream",
          "name": "stdout",
          "text": [
            "63\n"
          ]
        }
      ]
    },
    {
      "cell_type": "markdown",
      "source": [
        "#W A P which applies strip() method if any string, which will be taken from user, starts and ends with space, or applies rstrip() method if that string only ends with space or applies lstrip() method if that string only starts with a space.\n",
        "\n",
        "#For example:-\n",
        "#input:- '    Python   '\n",
        "#output:- 'Python'\n",
        "\n",
        "#input:- '    Python'\n",
        "#output:- 'Python'\n",
        "\n",
        "#input:- 'Python   '\n",
        "#output:- 'Python'"
      ],
      "metadata": {
        "id": "SfdnTTjyWfjr"
      }
    },
    {
      "cell_type": "code",
      "source": [
        "while(True):\n",
        "  try:\n",
        "    my_str = input(\"Enter a string:-\")\n",
        "    if ( (my_str.startswith(\" \")) and (my_str.endswith(\" \")) ):\n",
        "      print(\"Starts and ends with space - apply strip method\")\n",
        "      print(f\"Output:-{my_str.strip()}\")\n",
        "    elif ( (my_str.startswith(\" \")) ):\n",
        "      print(\"Starts with space - apply lstrip method\")\n",
        "      print(f\"Output:-{my_str.lstrip()}\")\n",
        "    elif ( (my_str.endswith(\" \")) ):\n",
        "      print(\"Starts with space - apply rstrip method\")\n",
        "      print(f\"Output:-{my_str.rstrip()}\")\n",
        "    else:\n",
        "      print(\"No trailing and leading spaces!!\")\n",
        "      print(f\"Output:-{my_str}\")\n",
        "    toContinue = input(\"Do you want to continue (Y/N)?? \")\n",
        "    toContinue = toContinue.upper()\n",
        "    if (toContinue == \"Y\"):\n",
        "      continue\n",
        "    else:\n",
        "      print(\"Exiting Program - Thank you !!\")\n",
        "      break\n",
        "  except:\n",
        "    print(\"An exception occurred!!!\")    \n",
        "    toContinue = input(\"Do you want to continue (Y/N)?? \")\n",
        "    toContinue = toContinue.upper()\n",
        "    if (toContinue == \"Y\"):\n",
        "      continue\n",
        "    else:\n",
        "      print(\"Exiting Program - Thank you !!\")\n",
        "      break"
      ],
      "metadata": {
        "colab": {
          "base_uri": "https://localhost:8080/"
        },
        "id": "YidTmOTMWERI",
        "outputId": "25bd7466-e48b-42e0-b566-3f2dc73e251d"
      },
      "execution_count": null,
      "outputs": [
        {
          "output_type": "stream",
          "name": "stdout",
          "text": [
            "Enter a string:-Python              \n",
            "Starts with space - apply rstrip method\n",
            "Output:-Python\n",
            "Do you want to continue (Y/N)?? n\n",
            "Exiting Program - Thank you !!\n"
          ]
        }
      ]
    },
    {
      "cell_type": "markdown",
      "source": [
        "## my_str = \"Although 8 that way may not be obvious at first unless you're Dutch\"\n",
        "#Write the code to convert all alphabets in my_str into upper case."
      ],
      "metadata": {
        "id": "kOgvV-oN-YbL"
      }
    },
    {
      "cell_type": "code",
      "source": [
        "my_str = \"Although 8 that way may not be obvious at first unless you're Dutch\"\n",
        "print(my_str.upper())"
      ],
      "metadata": {
        "colab": {
          "base_uri": "https://localhost:8080/"
        },
        "id": "w1uNUS0FZl2Y",
        "outputId": "d5917d92-3612-4601-a48b-320247592f6e"
      },
      "execution_count": null,
      "outputs": [
        {
          "output_type": "stream",
          "name": "stdout",
          "text": [
            "ALTHOUGH 8 THAT WAY MAY NOT BE OBVIOUS AT FIRST UNLESS YOU'RE DUTCH\n"
          ]
        }
      ]
    },
    {
      "cell_type": "markdown",
      "source": [
        "#Write the code to convert all alphabets in my_str into lower case."
      ],
      "metadata": {
        "id": "1moCbdXB-nAs"
      }
    },
    {
      "cell_type": "code",
      "source": [
        "print(my_str.lower())"
      ],
      "metadata": {
        "colab": {
          "base_uri": "https://localhost:8080/"
        },
        "id": "1BnRyOaq-iMM",
        "outputId": "afb67b77-5c6c-407f-ce35-37e5eb70e5c7"
      },
      "execution_count": null,
      "outputs": [
        {
          "output_type": "stream",
          "name": "stdout",
          "text": [
            "although 8 that way may not be obvious at first unless you're dutch\n"
          ]
        }
      ]
    },
    {
      "cell_type": "markdown",
      "source": [
        "#Write the code to swap the cases of all alphabets in my_str.(lower to upper and upper to lower)"
      ],
      "metadata": {
        "id": "KqLgCJaY-0Xj"
      }
    },
    {
      "cell_type": "code",
      "source": [
        "print(my_str.swapcase())"
      ],
      "metadata": {
        "colab": {
          "base_uri": "https://localhost:8080/"
        },
        "id": "nTJPqZEh-r80",
        "outputId": "9206c2ea-84af-432e-b9eb-6c6386306c7f"
      },
      "execution_count": null,
      "outputs": [
        {
          "output_type": "stream",
          "name": "stdout",
          "text": [
            "aLTHOUGH 8 THAT WAY MAY NOT BE OBVIOUS AT FIRST UNLESS YOU'RE dUTCH\n"
          ]
        }
      ]
    },
    {
      "cell_type": "markdown",
      "source": [
        "#Write the code which takes one string from user and if it starts with small case letter then convert it to corresponding capital letter otherwise if starts with capital letters then convert first character of every word in that string into capital."
      ],
      "metadata": {
        "id": "rffm5ByR_GOw"
      }
    },
    {
      "cell_type": "code",
      "source": [
        "while(True):\n",
        "  try:\n",
        "    my_str = input(\"Enter a string:-\")\n",
        "    if (my_str[0].islower()):\n",
        "      # print(my_str[0].upper()+my_str[1:])\n",
        "      print(my_str.capitalize())\n",
        "    elif (my_str[0].isupper()):\n",
        "      print(my_str.title())\n",
        "    \n",
        "    toContinue = input(\"Do you want to continue (Y/N)?? \")\n",
        "    toContinue = toContinue.upper()\n",
        "    if (toContinue == \"Y\"):\n",
        "      continue\n",
        "    else:\n",
        "      print(\"Exiting Program - Thank you !!\")\n",
        "      break\n",
        "  except:\n",
        "    print(\"An exception occurred!!!\")    \n",
        "    toContinue = input(\"Do you want to continue (Y/N)?? \")\n",
        "    toContinue = toContinue.upper()\n",
        "    if (toContinue == \"Y\"):\n",
        "      continue\n",
        "    else:\n",
        "      print(\"Exiting Program - Thank you !!\")\n",
        "      break"
      ],
      "metadata": {
        "colab": {
          "base_uri": "https://localhost:8080/"
        },
        "id": "AlDktcgD-6qO",
        "outputId": "183f3cf7-9c28-4e1d-af46-69febfdd352b"
      },
      "execution_count": null,
      "outputs": [
        {
          "output_type": "stream",
          "name": "stdout",
          "text": [
            "Enter a string:-aLTHOUGH 8 THAT WAY MAY NOT BE OBVIOUS AT FIRST UNLESS YOU'RE dUTCH\n",
            "Although 8 that way may not be obvious at first unless you're dutch\n",
            "Do you want to continue (Y/N)?? y\n",
            "Enter a string:-ALTHOUGH 8 THAT WAY MAY NOT BE OBVIOUS AT FIRST UNLESS YOU'RE dUTCH\n",
            "Although 8 That Way May Not Be Obvious At First Unless You'Re Dutch\n",
            "Do you want to continue (Y/N)?? n\n",
            "Exiting Program - Thank you !!\n"
          ]
        }
      ]
    },
    {
      "cell_type": "markdown",
      "source": [
        "#Take a string from user and check if it is:-\n",
        "#     1. alphanumeric\n",
        "#     2. alphabets\n",
        "#     3. digit\n",
        "#     4. all letters are in lower case\n",
        "#     5. all letters are in upper case\n",
        "#     6. in title case\n",
        "#     7. a space character\n",
        "#     8. numeric\n",
        "#     9. all number elements in string are decimal"
      ],
      "metadata": {
        "id": "KvKicjEdFfWu"
      }
    },
    {
      "cell_type": "code",
      "source": [
        "while(True):\n",
        "  try:\n",
        "    my_str = input(\"Enter a string:-\")\n",
        "    \n",
        "    if (my_str.isalnum()):\n",
        "      print(\"all characters in the string are alphanumeric\")\n",
        "    else:\n",
        "      print(\"all characters in the string are not alphanumeric\")\n",
        "\n",
        "    if (my_str.isalpha()):\n",
        "      print(\"all characters in the string are in the alphabet\")\n",
        "    else:\n",
        "      print(\"all characters in the string are not in the alphabet\")\n",
        "    \n",
        "    if (my_str.isdigit()):\n",
        "      print(\"all characters in the string are digits\")\n",
        "    else:\n",
        "      print(\"all characters in the string are not digits\")\n",
        "\n",
        "    if (my_str.islower()):\n",
        "      print(\"all letters in the string are in lower case\")\n",
        "    else:\n",
        "      print(\"all letters in the string are not in lower case\")\n",
        "    \n",
        "    if (my_str.isupper()):\n",
        "      print(\"all letters in the string are in upper case\")\n",
        "    else:\n",
        "      print(\"all letters in the string are not in upper case\")\n",
        "    \n",
        "    if (my_str.istitle()):\n",
        "      print(\"the string follows the rules of a title\")\n",
        "    else:\n",
        "      print(\"the string does not follow the rules of a title\")\n",
        "\n",
        "    if (my_str == \" \"):\n",
        "      print(\"this string is a space character\")\n",
        "    else:\n",
        "      print(\"this string is not a space character\")\n",
        "    \n",
        "    if (my_str.isnumeric()):\n",
        "      print(\"all characters in the string are numeric\")\n",
        "    else:\n",
        "      print(\"all characters in the string are not numeric\")\n",
        "\n",
        "    if (my_str.isdecimal()):\n",
        "      print(\"all characters in the string are decimals\")\n",
        "    else:\n",
        "      print(\"all characters in the string are not decimals\")\n",
        "\n",
        "    toContinue = input(\"Do you want to continue (Y/N)?? \")\n",
        "    toContinue = toContinue.upper()\n",
        "    if (toContinue == \"Y\"):\n",
        "      continue\n",
        "    else:\n",
        "      print(\"Exiting Program - Thank you !!\")\n",
        "      break\n",
        "  except:\n",
        "    print(\"An exception occurred!!!\")    \n",
        "    toContinue = input(\"Do you want to continue (Y/N)?? \")\n",
        "    toContinue = toContinue.upper()\n",
        "    if (toContinue == \"Y\"):\n",
        "      continue\n",
        "    else:\n",
        "      print(\"Exiting Program - Thank you !!\")\n",
        "      break"
      ],
      "metadata": {
        "colab": {
          "base_uri": "https://localhost:8080/"
        },
        "id": "72zs5TaMApEV",
        "outputId": "266ac96f-57df-4c21-b2bb-b99835c43235"
      },
      "execution_count": null,
      "outputs": [
        {
          "output_type": "stream",
          "name": "stdout",
          "text": [
            "Enter a string:-AAABBBCC123\n",
            "all characters in the string are alphanumeric\n",
            "all characters in the string are not in the alphabet\n",
            "all characters in the string are not digits\n",
            "all letters in the string are not in lower case\n",
            "all letters in the string are in upper case\n",
            "the string does not follow the rules of a title\n",
            "this string is not a space character\n",
            "all characters in the string are not numeric\n",
            "all characters in the string are not decimals\n",
            "Do you want to continue (Y/N)?? n\n",
            "Exiting Program - Thank you !!\n"
          ]
        }
      ]
    },
    {
      "cell_type": "markdown",
      "source": [
        "#W A P which takes a string as an input and prints True if the string is valid identifier else returns False.\n",
        "#Sample Input:- 'abc', 'abc1', 'ab1c', '1abc', 'abc$', '_abc', 'if'"
      ],
      "metadata": {
        "id": "hH4O04q_NV6B"
      }
    },
    {
      "cell_type": "code",
      "source": [
        "print(\"Program to check if the string is valid identifier or not\")\n",
        "while(True):\n",
        "  try:\n",
        "    my_str = input(\"Enter a string:-\")\n",
        "    \n",
        "    if (my_str.isidentifier()):\n",
        "      print(\"This string is a valid identifier\")\n",
        "    else:\n",
        "      print(\"This string is not a valid identifier\")   \n",
        "\n",
        "    toContinue = input(\"Do you want to continue (Y/N)?? \")\n",
        "    toContinue = toContinue.upper()\n",
        "    if (toContinue == \"Y\"):\n",
        "      continue\n",
        "    else:\n",
        "      print(\"Exiting Program - Thank you !!\")\n",
        "      break\n",
        "  except:\n",
        "    print(\"An exception occurred!!!\")    \n",
        "    toContinue = input(\"Do you want to continue (Y/N)?? \")\n",
        "    toContinue = toContinue.upper()\n",
        "    if (toContinue == \"Y\"):\n",
        "      continue\n",
        "    else:\n",
        "      print(\"Exiting Program - Thank you !!\")\n",
        "      break"
      ],
      "metadata": {
        "colab": {
          "base_uri": "https://localhost:8080/"
        },
        "id": "gwqTNhyJLq8F",
        "outputId": "c8bcb7b5-64da-44c0-9423-bb82dd64bf50"
      },
      "execution_count": null,
      "outputs": [
        {
          "output_type": "stream",
          "name": "stdout",
          "text": [
            "Program to check if the string is valid identifier or not\n",
            "Enter a string:-abc\n",
            "This string is a valid identifier\n",
            "Do you want to continue (Y/N)?? y\n",
            "Enter a string:-abc1\n",
            "This string is a valid identifier\n",
            "Do you want to continue (Y/N)?? y\n",
            "Enter a string:-ab1c\n",
            "This string is a valid identifier\n",
            "Do you want to continue (Y/N)?? y\n",
            "Enter a string:-1abc\n",
            "This string is not a valid identifier\n",
            "Do you want to continue (Y/N)?? y\n",
            "Enter a string:-abc$\n",
            "This string is not a valid identifier\n",
            "Do you want to continue (Y/N)?? y\n",
            "Enter a string:-_abc\n",
            "This string is a valid identifier\n",
            "Do you want to continue (Y/N)?? y\n",
            "Enter a string:-if\n",
            "This string is a valid identifier\n",
            "Do you want to continue (Y/N)?? n\n",
            "Exiting Program - Thank you !!\n"
          ]
        }
      ]
    },
    {
      "cell_type": "markdown",
      "source": [
        "#What will be output of below code?"
      ],
      "metadata": {
        "id": "gHqjiXu3OOVA"
      }
    },
    {
      "cell_type": "code",
      "source": [
        "s = chr(65) + chr(97)\n",
        "print(s.isprintable())"
      ],
      "metadata": {
        "colab": {
          "base_uri": "https://localhost:8080/"
        },
        "id": "ydtnPvfdN4aW",
        "outputId": "2eecb91f-1c07-46b4-8fcd-3711899e3dbf"
      },
      "execution_count": null,
      "outputs": [
        {
          "output_type": "stream",
          "name": "stdout",
          "text": [
            "True\n"
          ]
        }
      ]
    },
    {
      "cell_type": "code",
      "source": [
        "s = chr(27) + chr(97)\n",
        "print(s.isprintable())"
      ],
      "metadata": {
        "colab": {
          "base_uri": "https://localhost:8080/"
        },
        "id": "cwNY3TgHOUcn",
        "outputId": "14861534-f7db-4362-99a2-2a0d218f83a1"
      },
      "execution_count": null,
      "outputs": [
        {
          "output_type": "stream",
          "name": "stdout",
          "text": [
            "False\n"
          ]
        }
      ]
    },
    {
      "cell_type": "code",
      "source": [
        "s = '\\n'\n",
        "print(s.isprintable())"
      ],
      "metadata": {
        "colab": {
          "base_uri": "https://localhost:8080/"
        },
        "id": "0SrUwO4MOYKf",
        "outputId": "33fd281e-b511-431c-8201-e0ab831f3a86"
      },
      "execution_count": null,
      "outputs": [
        {
          "output_type": "stream",
          "name": "stdout",
          "text": [
            "False\n"
          ]
        }
      ]
    },
    {
      "cell_type": "code",
      "source": [
        "s = ''\n",
        "print(s.isprintable())"
      ],
      "metadata": {
        "colab": {
          "base_uri": "https://localhost:8080/"
        },
        "id": "i4pAtqc3ObhW",
        "outputId": "c9333b10-d4bb-490e-cbb5-ccf69dac741e"
      },
      "execution_count": null,
      "outputs": [
        {
          "output_type": "stream",
          "name": "stdout",
          "text": [
            "True\n"
          ]
        }
      ]
    },
    {
      "cell_type": "markdown",
      "source": [
        "#What will be output of below code?"
      ],
      "metadata": {
        "id": "7l2Zt7TNOsmh"
      }
    },
    {
      "cell_type": "code",
      "source": [
        "my_string = '  '\n",
        "print(my_string.isascii())"
      ],
      "metadata": {
        "colab": {
          "base_uri": "https://localhost:8080/"
        },
        "id": "n_sAq4uSOlIh",
        "outputId": "ff054f36-091c-4fbb-bb8c-cdc61f56cf3a"
      },
      "execution_count": null,
      "outputs": [
        {
          "output_type": "stream",
          "name": "stdout",
          "text": [
            "True\n"
          ]
        }
      ]
    },
    {
      "cell_type": "code",
      "source": [
        "my_string = 'Studytonight'\n",
        "print(my_string.isascii())"
      ],
      "metadata": {
        "colab": {
          "base_uri": "https://localhost:8080/"
        },
        "id": "HwHwQGBhO69F",
        "outputId": "2bf7d500-54ac-427b-d83c-b466bfbd1cf6"
      },
      "execution_count": null,
      "outputs": [
        {
          "output_type": "stream",
          "name": "stdout",
          "text": [
            "True\n"
          ]
        }
      ]
    },
    {
      "cell_type": "code",
      "source": [
        "my_string = 'Study tonight'\n",
        "print(my_string.isascii())"
      ],
      "metadata": {
        "colab": {
          "base_uri": "https://localhost:8080/"
        },
        "id": "6IYUx6J5O97V",
        "outputId": "39914b1d-34ef-4537-c802-d20388baad58"
      },
      "execution_count": null,
      "outputs": [
        {
          "output_type": "stream",
          "name": "stdout",
          "text": [
            "True\n"
          ]
        }
      ]
    },
    {
      "cell_type": "code",
      "source": [
        "my_string = 'Studytonight@123'\n",
        "print(my_string.isascii())\n"
      ],
      "metadata": {
        "colab": {
          "base_uri": "https://localhost:8080/"
        },
        "id": "Ei52Jn7ePCQU",
        "outputId": "ace7a633-a4e7-47d3-d70b-4c70dcba9b4f"
      },
      "execution_count": null,
      "outputs": [
        {
          "output_type": "stream",
          "name": "stdout",
          "text": [
            "True\n"
          ]
        }
      ]
    },
    {
      "cell_type": "code",
      "source": [
        "my_string = '°'\n",
        "print(my_string.isascii())"
      ],
      "metadata": {
        "colab": {
          "base_uri": "https://localhost:8080/"
        },
        "id": "JNSFkOfhPIGi",
        "outputId": "d449e2a1-7d64-4160-e147-307770af6416"
      },
      "execution_count": null,
      "outputs": [
        {
          "output_type": "stream",
          "name": "stdout",
          "text": [
            "False\n"
          ]
        }
      ]
    },
    {
      "cell_type": "code",
      "source": [
        "my_string = 'ö'\n",
        "print(my_string.isascii())"
      ],
      "metadata": {
        "colab": {
          "base_uri": "https://localhost:8080/"
        },
        "id": "9IQvaa7FPLFH",
        "outputId": "24e072d6-919d-424e-bf9c-c9197e92c57e"
      },
      "execution_count": null,
      "outputs": [
        {
          "output_type": "stream",
          "name": "stdout",
          "text": [
            "False\n"
          ]
        }
      ]
    },
    {
      "cell_type": "markdown",
      "source": [
        "#* What will be the output of below code?"
      ],
      "metadata": {
        "id": "BYrp-RdbPosr"
      }
    },
    {
      "cell_type": "code",
      "source": [
        "firstString = \"der Fluß\"\n",
        "secondString = \"der Fluss\"\n",
        "\n",
        "if firstString.casefold() == secondString.casefold():\n",
        "    print('The strings are equal.')\n",
        "else:\n",
        "    print('The strings are not equal.')"
      ],
      "metadata": {
        "colab": {
          "base_uri": "https://localhost:8080/"
        },
        "id": "X4gpAQhhPey2",
        "outputId": "79cada14-4440-4511-8232-714028a9225d"
      },
      "execution_count": null,
      "outputs": [
        {
          "output_type": "stream",
          "name": "stdout",
          "text": [
            "The strings are equal.\n"
          ]
        }
      ]
    },
    {
      "cell_type": "markdown",
      "source": [
        "#Write the code to get below output\n",
        "#O/P 1:- python** (using ljust method)\n",
        "#Write the code to get below output\n",
        "#O/P 1:- **python (using rjust method)\n",
        "\n",
        "\n",
        "#*Write the code to get below output\n",
        "#O/P 1:- \\*\\*python** (using **center** method)"
      ],
      "metadata": {
        "id": "OPH1OXDQQIPH"
      }
    },
    {
      "cell_type": "code",
      "source": [
        "print(\"Program to perform left, right and center alignment of a string using a specified character as the fill character\")\n",
        "while(True):\n",
        "  try:\n",
        "    my_str = input(\"Enter a string:-\")\n",
        "    character = input(\"Enter specified character for fill character:- \")\n",
        "    length = int(input(\"Enter the length of the returned string:- \"))\n",
        "    align = input(\"Press L - for left align, R - for right align, C - for center:- \")\n",
        "\n",
        "    if (align.upper() == \"L\"):\n",
        "      print(\"O/P 1:- \"+my_str.ljust(length,character))\n",
        "    elif (align.upper() == \"R\"):\n",
        "      print(\"O/P 1:- \"+my_str.rjust(length,character))\n",
        "    elif (align.upper() == \"C\"):\n",
        "      print(\"O/P 1:- \"+my_str.center(length,character))\n",
        "    else:\n",
        "      print(\"Invalid option entered for alignment!!!\")   \n",
        "\n",
        "    toContinue = input(\"Do you want to continue (Y/N)?? \")\n",
        "    toContinue = toContinue.upper()\n",
        "    if (toContinue == \"Y\"):\n",
        "      continue\n",
        "    else:\n",
        "      print(\"Exiting Program - Thank you !!\")\n",
        "      break\n",
        "  except:\n",
        "    print(\"An exception occurred!!!\")    \n",
        "    toContinue = input(\"Do you want to continue (Y/N)?? \")\n",
        "    toContinue = toContinue.upper()\n",
        "    if (toContinue == \"Y\"):\n",
        "      continue\n",
        "    else:\n",
        "      print(\"Exiting Program - Thank you !!\")\n",
        "      break"
      ],
      "metadata": {
        "colab": {
          "base_uri": "https://localhost:8080/"
        },
        "id": "PKpzGMlbP3A3",
        "outputId": "ec0e7cae-b905-4514-819a-0bfe5e3a16d0"
      },
      "execution_count": null,
      "outputs": [
        {
          "output_type": "stream",
          "name": "stdout",
          "text": [
            "Program to perform left, right and center alignment of a string using a specified character as the fill character\n",
            "Enter a string:-Python\n",
            "Enter specified character for fill character:- *\n",
            "Enter the length of the returned string:- 8\n",
            "Press L - for left align, R - for right align, C - for center:- L\n",
            "O/P 1:- Python**\n",
            "Do you want to continue (Y/N)?? y\n",
            "Enter a string:-Python\n",
            "Enter specified character for fill character:- *\n",
            "Enter the length of the returned string:- 8\n",
            "Press L - for left align, R - for right align, C - for center:- R\n",
            "O/P 1:- **Python\n",
            "Do you want to continue (Y/N)?? y\n",
            "Enter a string:-Python\n",
            "Enter specified character for fill character:- *\n",
            "Enter the length of the returned string:- 10\n",
            "Press L - for left align, R - for right align, C - for center:- C\n",
            "O/P 1:- **Python**\n",
            "Do you want to continue (Y/N)?? n\n",
            "Exiting Program - Thank you !!\n"
          ]
        }
      ]
    },
    {
      "cell_type": "markdown",
      "source": [
        "#Write a Python program to find the length of the my_str:-\n",
        "\n",
        "#Input:- 'Write a Python program to find the length of the my_str'\n",
        "#Output:- 55"
      ],
      "metadata": {
        "id": "5uac-un6WMkx"
      }
    },
    {
      "cell_type": "markdown",
      "source": [
        "# Using len function"
      ],
      "metadata": {
        "id": "h6kwB6FoP2Va"
      }
    },
    {
      "cell_type": "code",
      "source": [
        "print(\"Program to find the length of the string\")\n",
        "while(True):\n",
        "  try:\n",
        "    ####################################################################\n",
        "    my_str = input(\"Enter a string: \")\n",
        "    print(f\"Length of string: {len(my_str)}\")\n",
        "    ####################################################################\n",
        "    toContinue = input(\"Do you want to continue (Y/N)?? \")\n",
        "    toContinue = toContinue.upper()\n",
        "    if (toContinue == \"Y\"):\n",
        "      continue\n",
        "    else:\n",
        "      print(\"Exiting Program - Thank you !!\")\n",
        "      break\n",
        "    ####################################################################\n",
        "  except:\n",
        "    print(\"Enter a valid string!!!\")\n",
        "    toContinue = input(\"Do you want to continue (Y/N)?? \")\n",
        "    toContinue = toContinue.upper()\n",
        "    if (toContinue == \"Y\"):\n",
        "      continue\n",
        "    else:\n",
        "      print(\"Exiting Program - Thank you !!\")\n",
        "      break"
      ],
      "metadata": {
        "colab": {
          "base_uri": "https://localhost:8080/"
        },
        "id": "pzWmw6DKTQ8u",
        "outputId": "557c0e3f-7f98-492a-fa99-74f2bd38c67b"
      },
      "execution_count": null,
      "outputs": [
        {
          "output_type": "stream",
          "name": "stdout",
          "text": [
            "Program to find the length of the string\n",
            "Enter a string: Write a Python program to find the length of the my_str\n",
            "Length of string: 55\n",
            "Do you want to continue (Y/N)?? n\n",
            "Exiting Program - Thank you !!\n"
          ]
        }
      ]
    },
    {
      "cell_type": "markdown",
      "source": [
        "# Without len function"
      ],
      "metadata": {
        "id": "pUySHTnwQEa4"
      }
    },
    {
      "cell_type": "code",
      "source": [
        "print(\"Program to find the length of the string using loops\")\n",
        "while(True):\n",
        "  try:\n",
        "    ####################################################################\n",
        "    my_str = input(\"Enter a string: \")\n",
        "    length = 0\n",
        "    for char in my_str:\n",
        "      length += 1\n",
        "    print(f\"Length of string: {length}\")\n",
        "    ####################################################################\n",
        "    toContinue = input(\"Do you want to continue (Y/N)?? \")\n",
        "    toContinue = toContinue.upper()\n",
        "    if (toContinue == \"Y\"):\n",
        "      continue\n",
        "    else:\n",
        "      print(\"Exiting Program - Thank you !!\")\n",
        "      break\n",
        "    ####################################################################\n",
        "  except:\n",
        "    print(\"Enter a valid string!!!\")\n",
        "    toContinue = input(\"Do you want to continue (Y/N)?? \")\n",
        "    toContinue = toContinue.upper()\n",
        "    if (toContinue == \"Y\"):\n",
        "      continue\n",
        "    else:\n",
        "      print(\"Exiting Program - Thank you !!\")\n",
        "      break"
      ],
      "metadata": {
        "colab": {
          "base_uri": "https://localhost:8080/"
        },
        "id": "r9NDeIizQH4f",
        "outputId": "f966b427-7c10-423b-d121-d7050c37c7a4"
      },
      "execution_count": null,
      "outputs": [
        {
          "output_type": "stream",
          "name": "stdout",
          "text": [
            "Program to find the length of the string using loops\n",
            "Enter a string: Write a Python program to find the length of the my_str\n",
            "Length of string: 55\n",
            "Do you want to continue (Y/N)?? n\n",
            "Exiting Program - Thank you !!\n"
          ]
        }
      ]
    },
    {
      "cell_type": "markdown",
      "source": [
        "#Write a Python program to find the total number of times letter 'p' is appeared in the below string:-\n",
        "    \n",
        "#Input:- 'peter piper picked a peck of pickled peppers.'\n",
        "#Output:- 9"
      ],
      "metadata": {
        "id": "Aip-fNi9Nhnf"
      }
    },
    {
      "cell_type": "markdown",
      "source": [
        "# Using count method"
      ],
      "metadata": {
        "id": "c0B8lgMQMTTB"
      }
    },
    {
      "cell_type": "code",
      "source": [
        "print(\"Find the total number of times letter 'p' is appeared in the below string\")\n",
        "while(True):\n",
        "  try:\n",
        "    ####################################################################\n",
        "    my_str = input(\"Enter a string: \")\n",
        "    subString = input(\"Enter a sub-string to check: \")\n",
        "    count = my_str.count(subString)\n",
        "    print(f\"No of times letter {subString} appeared in the string: {count}\")\n",
        "    ####################################################################\n",
        "    toContinue = input(\"Do you want to continue (Y/N)?? \")\n",
        "    toContinue = toContinue.upper()\n",
        "    if (toContinue == \"Y\"):\n",
        "      continue\n",
        "    else:\n",
        "      print(\"Exiting Program - Thank you !!\")\n",
        "      break\n",
        "    ####################################################################\n",
        "  except:\n",
        "    print(\"Enter a valid string!!!\")\n",
        "    toContinue = input(\"Do you want to continue (Y/N)?? \")\n",
        "    toContinue = toContinue.upper()\n",
        "    if (toContinue == \"Y\"):\n",
        "      continue\n",
        "    else:\n",
        "      print(\"Exiting Program - Thank you !!\")\n",
        "      break"
      ],
      "metadata": {
        "id": "hjlekGLVW7DG",
        "colab": {
          "base_uri": "https://localhost:8080/"
        },
        "outputId": "f36a305e-02b9-4bd1-e2a4-792ec7622775"
      },
      "execution_count": null,
      "outputs": [
        {
          "output_type": "stream",
          "name": "stdout",
          "text": [
            "Find the total number of times letter 'p' is appeared in the below string\n",
            "Enter a string: peter piper picked a peck of pickled peppers.\n",
            "Enter a sub-string to check: p\n",
            "No of times letter p appeared in the string: 9\n",
            "Do you want to continue (Y/N)?? n\n",
            "Exiting Program - Thank you !!\n"
          ]
        }
      ]
    },
    {
      "cell_type": "markdown",
      "source": [
        "# Without count method"
      ],
      "metadata": {
        "id": "IlY0pB1nMfRI"
      }
    },
    {
      "cell_type": "code",
      "source": [
        "print(\"Find the total number of times letter 'p' is appeared in the below string using loop\")\n",
        "while(True):\n",
        "  try:\n",
        "    ####################################################################\n",
        "    my_str = input(\"Enter a string: \")\n",
        "    p_count = 0\n",
        "    for char in my_str:\n",
        "      if char == 'p':\n",
        "        p_count += 1\n",
        "    print(f\"No of times letter 'p' appeared in the string: {p_count}\")\n",
        "    ####################################################################\n",
        "    toContinue = input(\"Do you want to continue (Y/N)?? \")\n",
        "    toContinue = toContinue.upper()\n",
        "    if (toContinue == \"Y\"):\n",
        "      continue\n",
        "    else:\n",
        "      print(\"Exiting Program - Thank you !!\")\n",
        "      break\n",
        "    ####################################################################\n",
        "  except:\n",
        "    print(\"Enter a valid string!!!\")\n",
        "    toContinue = input(\"Do you want to continue (Y/N)?? \")\n",
        "    toContinue = toContinue.upper()\n",
        "    if (toContinue == \"Y\"):\n",
        "      continue\n",
        "    else:\n",
        "      print(\"Exiting Program - Thank you !!\")\n",
        "      break"
      ],
      "metadata": {
        "colab": {
          "base_uri": "https://localhost:8080/"
        },
        "id": "KbAAsiDWMjE-",
        "outputId": "56e6e18e-9cc8-4b6e-d796-32c65a1a5663"
      },
      "execution_count": null,
      "outputs": [
        {
          "output_type": "stream",
          "name": "stdout",
          "text": [
            "Find the total number of times letter 'p' is appeared in the below string using loop\n",
            "Enter a string: peter piper picked a peck of pickled peppers.\n",
            "No of times letter 'p' appeared in the string: 9\n",
            "Do you want to continue (Y/N)?? n\n",
            "Exiting Program - Thank you !!\n"
          ]
        }
      ]
    },
    {
      "cell_type": "markdown",
      "source": [
        "#Write a Python Program, to print all the indexes of all occurences of letter 'p' appeared in the string:-\n",
        "    \n",
        "#Input:- 'peter piper picked a peck of pickled peppers.'\n",
        "#Output:- \n",
        "# 0\n",
        "# 6\n",
        "# 8\n",
        "# 12\n",
        "# 21\n",
        "# 29\n",
        "# 37\n",
        "# 39\n",
        "# 40"
      ],
      "metadata": {
        "id": "6DuETnnuO1C1"
      }
    },
    {
      "cell_type": "markdown",
      "source": [
        "# Using index method"
      ],
      "metadata": {
        "id": "VfAFfQc_Mwzf"
      }
    },
    {
      "cell_type": "code",
      "source": [
        "print(\"Print all the indexes of all occurences of a substring/character in the string\")\n",
        "while(True):\n",
        "  my_str = input(\"Enter a string: \")\n",
        "  subString = input(\"Enter a sub-string to check: \")\n",
        "  try:\n",
        "    pIndex = 0\n",
        "    for i in range(len(my_str)):\n",
        "      if (pIndex == i):\n",
        "        print(my_str.index(subString,pIndex,len(my_str)))  \n",
        "        pIndex = my_str.index(subString,pIndex,len(my_str)) + 1\n",
        "        if pIndex >= len(my_str):\n",
        "          break\n",
        "    toContinue = input(\"Do you want to continue (Y/N)?? \")\n",
        "    toContinue = toContinue.upper()\n",
        "    if (toContinue == \"Y\"):\n",
        "      continue\n",
        "    else:\n",
        "      print(\"Exiting Program - Thank you !!\")\n",
        "      break\n",
        "  except:\n",
        "    toContinue = input(\"Do you want to continue (Y/N)?? \")\n",
        "    toContinue = toContinue.upper()\n",
        "    if (toContinue == \"Y\"):\n",
        "      continue\n",
        "    else:\n",
        "      print(\"Exiting Program - Thank you !!\")\n",
        "      break\n",
        "  "
      ],
      "metadata": {
        "colab": {
          "base_uri": "https://localhost:8080/"
        },
        "id": "Gwigf8t-Oibf",
        "outputId": "7499613a-5bd7-4e4b-ce12-9e1d2af8b5c9"
      },
      "execution_count": null,
      "outputs": [
        {
          "output_type": "stream",
          "name": "stdout",
          "text": [
            "Print all the indexes of all occurences of a substring/character in the string\n",
            "Enter a string: peter piper picked a peck of pickled peppers.\n",
            "Enter a sub-string to check: p\n",
            "0\n",
            "6\n",
            "8\n",
            "12\n",
            "21\n",
            "29\n",
            "37\n",
            "39\n",
            "40\n",
            "Do you want to continue (Y/N)?? n\n",
            "Exiting Program - Thank you !!\n"
          ]
        }
      ]
    },
    {
      "cell_type": "markdown",
      "source": [
        "# Without using index method"
      ],
      "metadata": {
        "id": "PGlCTQWRM0kF"
      }
    },
    {
      "cell_type": "code",
      "source": [
        "print(\"Print all the indexes of all occurences of a substring/character in the string\")\n",
        "while(True):\n",
        "  try:\n",
        "    ####################################################################\n",
        "    my_str = input(\"Enter a string: \")\n",
        "    sub_str = input(\"Enter a substring: \")\n",
        "    lenOfSubStr = len(sub_str)\n",
        "    print(f\"Index of all occurrences of {sub_str}\")\n",
        "    for index in range(len(my_str)):\n",
        "      # print(my_str[index:index+lenOfSubStr])\n",
        "      if my_str[index:index+lenOfSubStr] == sub_str:      \n",
        "        print(index)\n",
        "    ####################################################################\n",
        "    toContinue = input(\"Do you want to continue (Y/N)?? \")\n",
        "    toContinue = toContinue.upper()\n",
        "    if (toContinue == \"Y\"):\n",
        "      continue\n",
        "    else:\n",
        "      print(\"Exiting Program - Thank you !!\")\n",
        "      break\n",
        "    ####################################################################\n",
        "  except:\n",
        "    print(\"Enter a valid string!!!\")\n",
        "    toContinue = input(\"Do you want to continue (Y/N)?? \")\n",
        "    toContinue = toContinue.upper()\n",
        "    if (toContinue == \"Y\"):\n",
        "      continue\n",
        "    else:\n",
        "      print(\"Exiting Program - Thank you !!\")\n",
        "      break"
      ],
      "metadata": {
        "colab": {
          "base_uri": "https://localhost:8080/"
        },
        "id": "MvRlKlFKM30p",
        "outputId": "e2c08a31-46f4-4189-891f-7744cf8ca8db"
      },
      "execution_count": null,
      "outputs": [
        {
          "output_type": "stream",
          "name": "stdout",
          "text": [
            "Print all the indexes of all occurences of a substring/character in the string\n",
            "Enter a string: peter piper picked a peck of pickled peppers.\n",
            "Enter a substring: p\n",
            "Index of all occurrences of p\n",
            "0\n",
            "6\n",
            "8\n",
            "12\n",
            "21\n",
            "29\n",
            "37\n",
            "39\n",
            "40\n",
            "Do you want to continue (Y/N)?? n\n",
            "Exiting Program - Thank you !!\n"
          ]
        }
      ]
    },
    {
      "cell_type": "markdown",
      "source": [
        "#Write a python program to find below output:-\n",
        "\n",
        "#Input:- 'peter piper picked a peck of pickled peppers.'\n",
        "#Output:- ['peter', 'piper', 'picked', 'a', 'peck', 'of', 'pickled', 'peppers.']"
      ],
      "metadata": {
        "id": "wS0Zq5jXn4rW"
      }
    },
    {
      "cell_type": "markdown",
      "source": [
        "# Using append method"
      ],
      "metadata": {
        "id": "kphFp22nLkNT"
      }
    },
    {
      "cell_type": "code",
      "source": [
        "print(\"Program to output a sentence as list of words in that string -Using append method\")\n",
        "while(True):\n",
        "  try:\n",
        "    ####################################################################\n",
        "    my_str = input(\"Enter a string: \")\n",
        "    output = []\n",
        "    first_index = 0\n",
        "    last_index = 0\n",
        "    for char in my_str:\n",
        "      last_index += 1\n",
        "      if char == ' ' :\n",
        "        output.append(my_str[first_index:last_index-1]) \n",
        "        first_index = last_index \n",
        "    output.append(my_str[first_index:last_index]) \n",
        "    print(output)\n",
        "    ####################################################################\n",
        "    toContinue = input(\"Do you want to continue (Y/N)?? \")\n",
        "    toContinue = toContinue.upper()\n",
        "    if (toContinue == \"Y\"):\n",
        "      continue\n",
        "    else:\n",
        "      print(\"Exiting Program - Thank you !!\")\n",
        "      break\n",
        "    ####################################################################\n",
        "  except:\n",
        "    print(\"Enter a valid string!!!\")\n",
        "    toContinue = input(\"Do you want to continue (Y/N)?? \")\n",
        "    toContinue = toContinue.upper()\n",
        "    if (toContinue == \"Y\"):\n",
        "      continue\n",
        "    else:\n",
        "      print(\"Exiting Program - Thank you !!\")\n",
        "      break"
      ],
      "metadata": {
        "colab": {
          "base_uri": "https://localhost:8080/"
        },
        "id": "NgNW5NKHZE0P",
        "outputId": "95173e39-9f90-4ff6-8062-dbc552d9d9e6"
      },
      "execution_count": null,
      "outputs": [
        {
          "output_type": "stream",
          "name": "stdout",
          "text": [
            "Program to output a sentence as list of words in that string -Using append method\n",
            "Enter a string: peter piper picked a peck of pickled peppers.\n",
            "['peter', 'piper', 'picked', 'a', 'peck', 'of', 'pickled', 'peppers.']\n",
            "Do you want to continue (Y/N)?? n\n",
            "Exiting Program - Thank you !!\n"
          ]
        }
      ]
    },
    {
      "cell_type": "markdown",
      "source": [
        "# Without using append method"
      ],
      "metadata": {
        "id": "NEzQSBVTLox-"
      }
    },
    {
      "cell_type": "code",
      "source": [
        "print(\"Program to output a sentence as list of words in that string using loop-Without using append method\")\n",
        "while(True):\n",
        "  try:\n",
        "    ####################################################################\n",
        "    my_str = input(\"Enter a string: \")\n",
        "    output = []\n",
        "    first_index = 0\n",
        "    last_index = 0\n",
        "    for char in my_str:\n",
        "      last_index += 1\n",
        "      if char == ' ' :\n",
        "        output = output + [my_str[first_index:last_index-1]] \n",
        "        first_index = last_index      \n",
        "    output = output + [my_str[first_index:last_index]]  \n",
        "    print(output)\n",
        "    ####################################################################\n",
        "    toContinue = input(\"Do you want to continue (Y/N)?? \")\n",
        "    toContinue = toContinue.upper()\n",
        "    if (toContinue == \"Y\"):\n",
        "      continue\n",
        "    else:\n",
        "      print(\"Exiting Program - Thank you !!\")\n",
        "      break\n",
        "    ####################################################################\n",
        "  except:\n",
        "    print(\"Enter a valid string!!!\")\n",
        "    toContinue = input(\"Do you want to continue (Y/N)?? \")\n",
        "    toContinue = toContinue.upper()\n",
        "    if (toContinue == \"Y\"):\n",
        "      continue\n",
        "    else:\n",
        "      print(\"Exiting Program - Thank you !!\")\n",
        "      break"
      ],
      "metadata": {
        "colab": {
          "base_uri": "https://localhost:8080/"
        },
        "id": "A1rwppqSLr6t",
        "outputId": "a06eda53-947e-40bb-a828-18e9f7138390"
      },
      "execution_count": null,
      "outputs": [
        {
          "output_type": "stream",
          "name": "stdout",
          "text": [
            "Program to output a sentence as list of words in that string using loop-Without using append method\n",
            "Enter a string: peter piper picked a peck of pickled peppers.\n",
            "['peter', 'piper', 'picked', 'a', 'peck', 'of', 'pickled', 'peppers.']\n",
            "Do you want to continue (Y/N)?? n\n",
            "Exiting Program - Thank you !!\n"
          ]
        }
      ]
    },
    {
      "cell_type": "markdown",
      "source": [
        "#Write a python program to find below output:-\n",
        "\n",
        "#Input:- 'peter piper picked a peck of pickled peppers.'\n",
        "#Output:- '.sreppep delkcip fo kcep a dekcip repip retep'"
      ],
      "metadata": {
        "id": "zlKhB8TGoiIh"
      }
    },
    {
      "cell_type": "code",
      "source": [
        "print(\"Program to output a sentence in reverse order\")\n",
        "while(True):\n",
        "  try:\n",
        "    ####################################################################\n",
        "    my_str = input(\"Enter a string: \")\n",
        "    reverse_string = \"\"\n",
        "\n",
        "    for char in my_str[::-1]:\n",
        "      reverse_string += char  \n",
        "       \n",
        "    print(reverse_string)\n",
        "    ####################################################################\n",
        "    toContinue = input(\"Do you want to continue (Y/N)?? \")\n",
        "    toContinue = toContinue.upper()\n",
        "    if (toContinue == \"Y\"):\n",
        "      continue\n",
        "    else:\n",
        "      print(\"Exiting Program - Thank you !!\")\n",
        "      break\n",
        "    ####################################################################\n",
        "  except:\n",
        "    print(\"Enter a valid string!!!\")\n",
        "    toContinue = input(\"Do you want to continue (Y/N)?? \")\n",
        "    toContinue = toContinue.upper()\n",
        "    if (toContinue == \"Y\"):\n",
        "      continue\n",
        "    else:\n",
        "      print(\"Exiting Program - Thank you !!\")\n",
        "      break"
      ],
      "metadata": {
        "colab": {
          "base_uri": "https://localhost:8080/"
        },
        "id": "bYqOgIFmoG8_",
        "outputId": "61982ba0-59bc-473e-d72a-18bc3f6d94d8"
      },
      "execution_count": null,
      "outputs": [
        {
          "output_type": "stream",
          "name": "stdout",
          "text": [
            "Program to output a sentence in reverse order\n",
            "Enter a string: peter piper picked a peck of pickled peppers.\n",
            ".sreppep delkcip fo kcep a dekcip repip retep\n",
            "Do you want to continue (Y/N)?? n\n",
            "Exiting Program - Thank you !!\n"
          ]
        }
      ]
    },
    {
      "cell_type": "markdown",
      "source": [
        "#Write a python program to find below output:-\n",
        "\n",
        "#Input:- 'peter piper picked a peck of pickled peppers.'\n",
        "#Output:- 'retep repip dekcip a kcep fo delkcip .sreppep'"
      ],
      "metadata": {
        "id": "uTMO6inMxrvS"
      }
    },
    {
      "cell_type": "markdown",
      "source": [
        "# Using Append method"
      ],
      "metadata": {
        "id": "wKK1F5x3JtK9"
      }
    },
    {
      "cell_type": "code",
      "source": [
        "print(\"Program to output a sentence with words in reverse order-Using append method\")\n",
        "while(True):\n",
        "  try:\n",
        "    ####################################################################\n",
        "    my_str = input(\"Enter a string: \")\n",
        "    output = []\n",
        "    first_index = 0\n",
        "    last_index = 0\n",
        "    for char in my_str:\n",
        "      last_index += 1\n",
        "      if char == ' ' :\n",
        "        output.append(my_str[first_index:last_index-1])\n",
        "        first_index = last_index      \n",
        "    output.append(my_str[first_index:last_index])\n",
        "    reverse_string = \"\"\n",
        "    for words in output:\n",
        "      reverse_string += words[::-1]  \n",
        "      reverse_string += \" \"  \n",
        "    print(reverse_string)\n",
        "    ####################################################################\n",
        "    toContinue = input(\"Do you want to continue (Y/N)?? \")\n",
        "    toContinue = toContinue.upper()\n",
        "    if (toContinue == \"Y\"):\n",
        "      continue\n",
        "    else:\n",
        "      print(\"Exiting Program - Thank you !!\")\n",
        "      break\n",
        "    ####################################################################\n",
        "  except:\n",
        "    print(\"Enter a valid string!!!\")\n",
        "    toContinue = input(\"Do you want to continue (Y/N)?? \")\n",
        "    toContinue = toContinue.upper()\n",
        "    if (toContinue == \"Y\"):\n",
        "      continue\n",
        "    else:\n",
        "      print(\"Exiting Program - Thank you !!\")\n",
        "      break"
      ],
      "metadata": {
        "colab": {
          "base_uri": "https://localhost:8080/"
        },
        "id": "irkYYZD3qk7g",
        "outputId": "3497b32e-64db-4993-95fb-e8f8cb49a666"
      },
      "execution_count": null,
      "outputs": [
        {
          "output_type": "stream",
          "name": "stdout",
          "text": [
            "Program to output a sentence with words in reverse order excluding full-stop-Using append method\n",
            "Enter a string: peter piper picked a peck of pickled peppers.\n",
            "retep repip dekcip a kcep fo delkcip .sreppep \n",
            "Do you want to continue (Y/N)?? n\n",
            "Exiting Program - Thank you !!\n"
          ]
        }
      ]
    },
    {
      "cell_type": "markdown",
      "source": [
        "# Without using append method"
      ],
      "metadata": {
        "id": "7EjBoNnzJ5PA"
      }
    },
    {
      "cell_type": "code",
      "source": [
        "print(\"Program to output a sentence with words in reverse order-Without using append method\")\n",
        "while(True):\n",
        "  try:\n",
        "    ####################################################################\n",
        "    my_str = input(\"Enter a string: \")\n",
        "    output = []\n",
        "    first_index = 0\n",
        "    last_index = 0\n",
        "    for char in my_str:\n",
        "      last_index += 1\n",
        "      if char == ' '  :\n",
        "        output = output + [my_str[first_index:last_index-1]] \n",
        "        first_index = last_index      \n",
        "    output.append(my_str[first_index:last_index])\n",
        "\n",
        "    reverse_string = \"\"\n",
        "    for words in output:\n",
        "      reverse_string += words[::-1]  \n",
        "      reverse_string += \" \"  \n",
        "    print(reverse_string)\n",
        "    ####################################################################\n",
        "    toContinue = input(\"Do you want to continue (Y/N)?? \")\n",
        "    toContinue = toContinue.upper()\n",
        "    if (toContinue == \"Y\"):\n",
        "      continue\n",
        "    else:\n",
        "      print(\"Exiting Program - Thank you !!\")\n",
        "      break\n",
        "    ####################################################################\n",
        "  except:\n",
        "    print(\"Enter a valid string!!!\")\n",
        "    toContinue = input(\"Do you want to continue (Y/N)?? \")\n",
        "    toContinue = toContinue.upper()\n",
        "    if (toContinue == \"Y\"):\n",
        "      continue\n",
        "    else:\n",
        "      print(\"Exiting Program - Thank you !!\")\n",
        "      break"
      ],
      "metadata": {
        "colab": {
          "base_uri": "https://localhost:8080/"
        },
        "id": "gL7_MND0J_Dv",
        "outputId": "d20efdd4-39de-4a01-a2c3-7e73ec0fc483"
      },
      "execution_count": null,
      "outputs": [
        {
          "output_type": "stream",
          "name": "stdout",
          "text": [
            "Program to output a sentence with words in reverse order-Without using append method\n",
            "Enter a string: peter piper picked a peck of pickled peppers.\n",
            "retep repip dekcip a kcep fo delkcip .sreppep \n",
            "Do you want to continue (Y/N)?? n\n",
            "Exiting Program - Thank you !!\n"
          ]
        }
      ]
    },
    {
      "cell_type": "markdown",
      "source": [
        "#Write a python program to find below output:-\n",
        "\n",
        "#Input:- 'peter piper picked a peck of pickled peppers.'\n",
        "#Output:- 'Peter Piper Picked A Peck Of Pickled Peppers.'"
      ],
      "metadata": {
        "id": "Vq1ekaLwzxna"
      }
    },
    {
      "cell_type": "code",
      "source": [
        "print(\"Program to output a sentence with first leter of each word 'captialized'-Using title method\")\n",
        "while(True):\n",
        "  try:\n",
        "    ####################################################################\n",
        "    my_str = input(\"Enter a string: \")\n",
        "    print(my_str.title())\n",
        "    ####################################################################\n",
        "    toContinue = input(\"Do you want to continue (Y/N)?? \")\n",
        "    toContinue = toContinue.upper()\n",
        "    if (toContinue == \"Y\"):\n",
        "      continue\n",
        "    else:\n",
        "      print(\"Exiting Program - Thank you !!\")\n",
        "      break\n",
        "    ####################################################################\n",
        "  except:\n",
        "    print(\"Enter a valid string!!!\")\n",
        "    toContinue = input(\"Do you want to continue (Y/N)?? \")\n",
        "    toContinue = toContinue.upper()\n",
        "    if (toContinue == \"Y\"):\n",
        "      continue\n",
        "    else:\n",
        "      print(\"Exiting Program - Thank you !!\")\n",
        "      break"
      ],
      "metadata": {
        "colab": {
          "base_uri": "https://localhost:8080/"
        },
        "id": "A8rC9ongtrRQ",
        "outputId": "ddc33cb3-781c-4824-809e-b7e39c3d2a5f"
      },
      "execution_count": null,
      "outputs": [
        {
          "output_type": "stream",
          "name": "stdout",
          "text": [
            "Program to output a sentence with first leter of each word 'captialized'-Using title method\n",
            "Enter a string: peter piper picked a peck of pickled peppers.\n",
            "Peter Piper Picked A Peck Of Pickled Peppers.\n",
            "Do you want to continue (Y/N)?? n\n",
            "Exiting Program - Thank you !!\n"
          ]
        }
      ]
    },
    {
      "cell_type": "markdown",
      "source": [
        "# Without using title method"
      ],
      "metadata": {
        "id": "RJet7uYUHyyl"
      }
    },
    {
      "cell_type": "code",
      "source": [
        "print(\"Program to output a sentence with first leter of each word 'captialized' using loop-Without using title method\")\n",
        "while(True):\n",
        "  try:\n",
        "    ####################################################################\n",
        "    my_str = input(\"Enter a string: \")\n",
        "    output = []\n",
        "    first_index = 0\n",
        "    last_index = 0\n",
        "    for char in my_str:\n",
        "      last_index += 1\n",
        "      if char == ' ' or char == '.' :\n",
        "        output = output + [my_str[first_index:last_index-1]] \n",
        "        first_index = last_index      \n",
        "    \n",
        "    output_string = \"\"\n",
        "    \n",
        "    for words in output:\n",
        "      capitalLetter = chr(ord(words[0]) - 32)\n",
        "      output_string += capitalLetter\n",
        "      output_string += words[1::]\n",
        "      output_string += \" \"  \n",
        "      \n",
        "    print(output_string)\n",
        "    ####################################################################\n",
        "    toContinue = input(\"Do you want to continue (Y/N)?? \")\n",
        "    toContinue = toContinue.upper()\n",
        "    if (toContinue == \"Y\"):\n",
        "      continue\n",
        "    else:\n",
        "      print(\"Exiting Program - Thank you !!\")\n",
        "      break\n",
        "    ####################################################################\n",
        "  except:\n",
        "    print(\"Enter a valid string!!!\")\n",
        "    toContinue = input(\"Do you want to continue (Y/N)?? \")\n",
        "    toContinue = toContinue.upper()\n",
        "    if (toContinue == \"Y\"):\n",
        "      continue\n",
        "    else:\n",
        "      print(\"Exiting Program - Thank you !!\")\n",
        "      break"
      ],
      "metadata": {
        "colab": {
          "base_uri": "https://localhost:8080/"
        },
        "id": "mv30-qTaGVCu",
        "outputId": "41df1d0e-de4c-4d97-f6e4-139c12a49b94"
      },
      "execution_count": null,
      "outputs": [
        {
          "output_type": "stream",
          "name": "stdout",
          "text": [
            "Program to output a sentence with first leter of each word 'captialized' using loop-Using captialize method\n",
            "Enter a string: peter piper picked a peck of pickled peppers.\n",
            "Peter Piper Picked A Peck Of Pickled Peppers \n",
            "Do you want to continue (Y/N)?? n\n",
            "Exiting Program - Thank you !!\n"
          ]
        }
      ]
    },
    {
      "cell_type": "markdown",
      "source": [
        "#Write a python program to find below output:-\n",
        "\n",
        "#Input:- 'Peter Piper Picked A Peck Of Pickled Peppers.'\n",
        "#Output:- 'Peter piper picked a peck of pickled peppers.'"
      ],
      "metadata": {
        "id": "X6PGlD8I0pup"
      }
    },
    {
      "cell_type": "markdown",
      "source": [
        "# Without using capitalize method"
      ],
      "metadata": {
        "id": "DJUcDt7eH41-"
      }
    },
    {
      "cell_type": "code",
      "source": [
        "print(\"Program to output a sentence with first letter of first word 'captialized'- Without using captalize method\")\n",
        "while(True):\n",
        "  try:\n",
        "    ####################################################################\n",
        "    my_str = input(\"Enter a string: \")\n",
        "    output = []\n",
        "    first_index = 0\n",
        "    last_index = 0\n",
        "    for char in my_str:\n",
        "      last_index += 1\n",
        "      if char == ' ' or char == '.' :\n",
        "        output = output + [my_str[first_index:last_index-1]] \n",
        "        first_index = last_index      \n",
        "    \n",
        "    outputString = \"\"\n",
        "    totalWords = 0\n",
        "    for words in output:\n",
        "      totalWords += 1      \n",
        "      if ( (ord(words[0]) >= 97) and (totalWords == 1) ):        \n",
        "        capitalLetter = chr(ord(words[0]) - 32)\n",
        "        outputString += capitalLetter\n",
        "        outputString += words[1::]\n",
        "        outputString += \" \"  \n",
        "      elif ( (ord(words[0]) < 97) and (totalWords != 1) ):\n",
        "        smallLetter = chr(ord(words[0]) + 32)\n",
        "        outputString += smallLetter\n",
        "        outputString += words[1::]\n",
        "        outputString += \" \" \n",
        "      else:\n",
        "        outputString += words\n",
        "        outputString += \" \"\n",
        "\n",
        "    print(outputString)\n",
        "    ####################################################################\n",
        "    toContinue = input(\"Do you want to continue (Y/N)?? \")\n",
        "    toContinue = toContinue.upper()\n",
        "    if (toContinue == \"Y\"):\n",
        "      continue\n",
        "    else:\n",
        "      print(\"Exiting Program - Thank you !!\")\n",
        "      break\n",
        "    ####################################################################\n",
        "  except:\n",
        "    print(\"Enter a valid string!!!\")\n",
        "    toContinue = input(\"Do you want to continue (Y/N)?? \")\n",
        "    toContinue = toContinue.upper()\n",
        "    if (toContinue == \"Y\"):\n",
        "      continue\n",
        "    else:\n",
        "      print(\"Exiting Program - Thank you !!\")\n",
        "      break"
      ],
      "metadata": {
        "colab": {
          "base_uri": "https://localhost:8080/"
        },
        "id": "kF38Kws34R9k",
        "outputId": "36ce164c-c82b-40a9-bcd4-7ffdb803f7c4"
      },
      "execution_count": null,
      "outputs": [
        {
          "output_type": "stream",
          "name": "stdout",
          "text": [
            "Program to output a sentence with first letter of first word 'captialized'- Without using captalize method\n",
            "Enter a string: Peter Piper Picked A Peck Of Pickled Peppers.\n",
            "Peter piper picked a peck of pickled peppers \n",
            "Do you want to continue (Y/N)?? n\n",
            "Exiting Program - Thank you !!\n"
          ]
        }
      ]
    },
    {
      "cell_type": "markdown",
      "source": [
        "# Using capitalize method"
      ],
      "metadata": {
        "id": "EoJBuUSaICV9"
      }
    },
    {
      "cell_type": "code",
      "source": [
        "print(\"Program to output a sentence with first letter of first word 'captialized'and other words as lower case - Using capitalized method\")\n",
        "while(True):\n",
        "  try:\n",
        "    ####################################################################\n",
        "    my_str = input(\"Enter a string: \")\n",
        "    print(my_str.capitalize())\n",
        "    ####################################################################\n",
        "    toContinue = input(\"Do you want to continue (Y/N)?? \")\n",
        "    toContinue = toContinue.upper()\n",
        "    if (toContinue == \"Y\"):\n",
        "      continue\n",
        "    else:\n",
        "      print(\"Exiting Program - Thank you !!\")\n",
        "      break\n",
        "    ####################################################################\n",
        "  except:\n",
        "    print(\"Enter a valid string!!!\")\n",
        "    toContinue = input(\"Do you want to continue (Y/N)?? \")\n",
        "    toContinue = toContinue.upper()\n",
        "    if (toContinue == \"Y\"):\n",
        "      continue\n",
        "    else:\n",
        "      print(\"Exiting Program - Thank you !!\")\n",
        "      break"
      ],
      "metadata": {
        "colab": {
          "base_uri": "https://localhost:8080/"
        },
        "id": "T421HQef0Hz_",
        "outputId": "beb353d1-a65e-4c31-fad8-f34453d46366"
      },
      "execution_count": null,
      "outputs": [
        {
          "output_type": "stream",
          "name": "stdout",
          "text": [
            "Program to output a sentence with first letter of first word 'captialized'and other words as lower case - Using capitalized method\n",
            "Enter a string: Peter Piper Picked A Peck Of Pickled Peppers.\n",
            "Peter piper picked a peck of pickled peppers.\n",
            "Do you want to continue (Y/N)?? n\n",
            "Exiting Program - Thank you !!\n"
          ]
        }
      ]
    },
    {
      "cell_type": "markdown",
      "source": [
        "#Write a python program to implement index method. If sub_str is found in my_str then it will print the index of first occurrence of first character of matching string in my_str:-\n",
        "\n",
        "#Input:- my_str = 'Peter Piper Picked A Peck Of Pickled Peppers.', sub_str = 'Pickl'\n",
        "#Output:- 29"
      ],
      "metadata": {
        "id": "52aBejoA4BX6"
      }
    },
    {
      "cell_type": "markdown",
      "source": [
        "# Without using index method"
      ],
      "metadata": {
        "id": "CcmWhbIASX3y"
      }
    },
    {
      "cell_type": "code",
      "source": [
        "print(\"Program to print first occurrence of first character of matching string-Without using index method\")\n",
        "while(True):\n",
        "  try:\n",
        "    ####################################################################\n",
        "    my_str = input(\"Enter a string: \")\n",
        "    sub_str = input(\"Enter a substring: \")\n",
        "    lenOfSubStr = len(sub_str)\n",
        "    \n",
        "    for index in range(len(my_str)):\n",
        "      # print(my_str[index:index+lenOfSubStr])\n",
        "      if my_str[index:index+lenOfSubStr] == sub_str:\n",
        "        print(f\"Index of the first occurrence of sub-string is {index}\")\n",
        "        break\n",
        "    ####################################################################\n",
        "    toContinue = input(\"Do you want to continue (Y/N)?? \")\n",
        "    toContinue = toContinue.upper()\n",
        "    if (toContinue == \"Y\"):\n",
        "      continue\n",
        "    else:\n",
        "      print(\"Exiting Program - Thank you !!\")\n",
        "      break\n",
        "    ####################################################################\n",
        "  except:\n",
        "    print(\"Enter a valid string!!!\")\n",
        "    toContinue = input(\"Do you want to continue (Y/N)?? \")\n",
        "    toContinue = toContinue.upper()\n",
        "    if (toContinue == \"Y\"):\n",
        "      continue\n",
        "    else:\n",
        "      print(\"Exiting Program - Thank you !!\")\n",
        "      break"
      ],
      "metadata": {
        "colab": {
          "base_uri": "https://localhost:8080/"
        },
        "id": "6Y3wpdLf3kI_",
        "outputId": "2caad8c4-dace-4383-9821-82258f0a65a7"
      },
      "execution_count": null,
      "outputs": [
        {
          "output_type": "stream",
          "name": "stdout",
          "text": [
            "Program to implement index method\n",
            "Enter a string: Peter Piper Picked A Peck Of Pickled Peppers.\n",
            "Enter a substring: Pickl\n",
            "Index of the first occurrence of sub-string is 29\n",
            "Do you want to continue (Y/N)?? n\n",
            "Exiting Program - Thank you !!\n"
          ]
        }
      ]
    },
    {
      "cell_type": "markdown",
      "source": [
        "# Using index method"
      ],
      "metadata": {
        "id": "dNmMThJTS8AK"
      }
    },
    {
      "cell_type": "code",
      "source": [
        "print(\"Program to print first occurrence of first character of matching string using index method\")\n",
        "while(True):\n",
        "  try:\n",
        "    ####################################################################\n",
        "    my_str = input(\"Enter a string: \")\n",
        "    sub_str = input(\"Enter a substring: \")\n",
        "    \n",
        "    print(f\"Index of the first occurrence of sub-string is {my_str.index(sub_str)}\")\n",
        "    \n",
        "    ####################################################################\n",
        "    toContinue = input(\"Do you want to continue (Y/N)?? \")\n",
        "    toContinue = toContinue.upper()\n",
        "    if (toContinue == \"Y\"):\n",
        "      continue\n",
        "    else:\n",
        "      print(\"Exiting Program - Thank you !!\")\n",
        "      break\n",
        "    ####################################################################\n",
        "  except:\n",
        "    print(\"Enter a valid string!!!\")\n",
        "    toContinue = input(\"Do you want to continue (Y/N)?? \")\n",
        "    toContinue = toContinue.upper()\n",
        "    if (toContinue == \"Y\"):\n",
        "      continue\n",
        "    else:\n",
        "      print(\"Exiting Program - Thank you !!\")\n",
        "      break"
      ],
      "metadata": {
        "colab": {
          "base_uri": "https://localhost:8080/"
        },
        "id": "Q2A-gXIHSPH4",
        "outputId": "52ff72e2-5514-44e9-d030-4a60975b3811"
      },
      "execution_count": null,
      "outputs": [
        {
          "output_type": "stream",
          "name": "stdout",
          "text": [
            "Program to print first occurrence of first character of matching string using index method\n",
            "Enter a string: Peter Piper Picked A Peck Of Pickled Peppers.\n",
            "Enter a substring: Pickl\n",
            "Index of the first occurrence of sub-string is 29\n",
            "Do you want to continue (Y/N)?? n\n",
            "Exiting Program - Thank you !!\n"
          ]
        }
      ]
    },
    {
      "cell_type": "markdown",
      "source": [
        "#Write a python program to implement replace method. If sub_str is found in my_str then it will replace the first occurrence of sub_str with new_str else it will will print sub_str not found:-\n",
        "\n",
        "#Input:- my_str = 'Peter Piper Picked A Peck Of Pickled Peppers.', sub_str = 'Peck', new_str = 'Pack'\n",
        "#Output:- 'Peter Piper Picked A Pack Of Pickled Peppers.'"
      ],
      "metadata": {
        "id": "AS34EaHTTuLH"
      }
    },
    {
      "cell_type": "markdown",
      "source": [
        "# Without using replace method"
      ],
      "metadata": {
        "id": "hhp5_A1zW5TF"
      }
    },
    {
      "cell_type": "code",
      "source": [
        "print(\"Program to implement replace method using loop\")\n",
        "while(True):\n",
        "  try:\n",
        "    ####################################################################\n",
        "    my_str = input(\"Enter a string: \")\n",
        "    sub_str = input(\"Enter a substring: \")\n",
        "    new_str = input(\"Enter a new substring: \")\n",
        "    outputString = \"\"\n",
        "    lenOfSubStr = len(sub_str)\n",
        "    subStrFound = False\n",
        "    for index in range(len(my_str)):\n",
        "      # print(my_str[index:index+lenOfSubStr])\n",
        "      if my_str[index:index+lenOfSubStr] == sub_str:        \n",
        "        subStrFound = True\n",
        "        outputString = my_str[0:index]        \n",
        "        outputString += new_str        \n",
        "        outputString += my_str[index+len(new_str):]        \n",
        "        break\n",
        "    if subStrFound == False:\n",
        "      print(\"Substring not found !!!\")\n",
        "    else:\n",
        "      print(\"Output:- \"+outputString)\n",
        "    ####################################################################\n",
        "    toContinue = input(\"Do you want to continue (Y/N)?? \")\n",
        "    toContinue = toContinue.upper()\n",
        "    if (toContinue == \"Y\"):\n",
        "      continue\n",
        "    else:\n",
        "      print(\"Exiting Program - Thank you !!\")\n",
        "      break\n",
        "    ####################################################################\n",
        "  except:\n",
        "    print(\"Enter a valid string!!!\")\n",
        "    toContinue = input(\"Do you want to continue (Y/N)?? \")\n",
        "    toContinue = toContinue.upper()\n",
        "    if (toContinue == \"Y\"):\n",
        "      continue\n",
        "    else:\n",
        "      print(\"Exiting Program - Thank you !!\")\n",
        "      break"
      ],
      "metadata": {
        "colab": {
          "base_uri": "https://localhost:8080/"
        },
        "id": "wx2VBZkCTmYg",
        "outputId": "c6680d5b-e8c0-4311-a1c0-686e4a4c8bfd"
      },
      "execution_count": null,
      "outputs": [
        {
          "output_type": "stream",
          "name": "stdout",
          "text": [
            "Program to implement replace method using loop\n",
            "Enter a string: Peter Piper Picked A Peck Of Pickled Peppers.\n",
            "Enter a substring: Peck\n",
            "Enter a new substring: Pack\n",
            "Output:- Peter Piper Picked A Pack Of Pickled Peppers.\n",
            "Do you want to continue (Y/N)?? n\n",
            "Exiting Program - Thank you !!\n"
          ]
        }
      ]
    },
    {
      "cell_type": "markdown",
      "source": [
        "# Using replace method"
      ],
      "metadata": {
        "id": "1wraWI5EU3Sz"
      }
    },
    {
      "cell_type": "code",
      "source": [
        "print(\"Program to implement replace method using loop\")\n",
        "while(True):\n",
        "  try:\n",
        "    ####################################################################\n",
        "    my_str = input(\"Enter a string: \")\n",
        "    sub_str = input(\"Enter a substring: \")\n",
        "    new_str = input(\"Enter a new substring: \")\n",
        "    \n",
        "    output_str = my_str.replace(sub_str,new_str)\n",
        "\n",
        "    if (output_str == my_str):\n",
        "      print(\"Substring not found !!!\")\n",
        "    else:\n",
        "      print(\"Output:- \"+output_str)\n",
        "\n",
        "    \n",
        "    ####################################################################\n",
        "    toContinue = input(\"Do you want to continue (Y/N)?? \")\n",
        "    toContinue = toContinue.upper()\n",
        "    if (toContinue == \"Y\"):\n",
        "      continue\n",
        "    else:\n",
        "      print(\"Exiting Program - Thank you !!\")\n",
        "      break\n",
        "    ####################################################################\n",
        "  except:\n",
        "    print(\"Exception occurred!!!\")\n",
        "    toContinue = input(\"Do you want to continue (Y/N)?? \")\n",
        "    toContinue = toContinue.upper()\n",
        "    if (toContinue == \"Y\"):\n",
        "      continue\n",
        "    else:\n",
        "      print(\"Exiting Program - Thank you !!\")\n",
        "      break"
      ],
      "metadata": {
        "colab": {
          "base_uri": "https://localhost:8080/"
        },
        "id": "KU3v_hu9Urf-",
        "outputId": "3236c84a-907b-4230-dfd1-19d89972ee3e"
      },
      "execution_count": null,
      "outputs": [
        {
          "output_type": "stream",
          "name": "stdout",
          "text": [
            "Program to implement replace method using loop\n",
            "Enter a string: Peter Piper Picked A Peck Of Pickled Peppers.\n",
            "Enter a substring: Peck\n",
            "Enter a new substring: Pack\n",
            "Output:- Peter Piper Picked A Pack Of Pickled Peppers.\n",
            "Do you want to continue (Y/N)?? y\n",
            "Enter a string: Peter Piper Picked A Peck Of Pickled Peppers.\n",
            "Enter a substring: dog\n",
            "Enter a new substring: cat\n",
            "Substring not found !!!\n",
            "Do you want to continue (Y/N)?? n\n",
            "Exiting Program - Thank you !!\n"
          ]
        }
      ]
    },
    {
      "cell_type": "markdown",
      "source": [
        "#Write a python program to find below output (implements rjust and ljust):-\n",
        "\n",
        "#Input:- 'Peter Piper Picked A Peck Of Pickled Peppers.', sub_str = 'Peck', \n",
        "#Output:- '*********************Peck********************'"
      ],
      "metadata": {
        "id": "gdVXd39IXBqb"
      }
    },
    {
      "cell_type": "code",
      "source": [
        "print(\"Program to implement rjust and ljust methods using loop\")\n",
        "while(True):\n",
        "  try:\n",
        "    ####################################################################\n",
        "    my_str = input(\"Enter a string: \")\n",
        "    sub_str = input(\"Enter a substring: \")    \n",
        "    outputStr = \"\"\n",
        "    lenOfStr = len(my_str)\n",
        "    lenOfSubStr = len(sub_str)\n",
        "    subStrFound = False\n",
        "    for index in range(len(my_str)):\n",
        "      # print(my_str[index:index+lenOfSubStr])\n",
        "      if my_str[index:index+lenOfSubStr] == sub_str:        \n",
        "        subStrFound = True      \n",
        "        for cnt in range(index):          \n",
        "          outputStr += \"*\"                         \n",
        "        outputStr += sub_str\n",
        "        afterIndex = index + lenOfSubStr        \n",
        "        break\n",
        "    for cnt in range(afterIndex,lenOfStr,1):\n",
        "      outputStr += \"*\"      \n",
        "    if subStrFound == False:\n",
        "      print(\"Substring not found !!!\")\n",
        "    else:\n",
        "      print(\"I/P:- \"+my_str)\n",
        "      print(\"O/P:- \"+outputStr)\n",
        "    ####################################################################\n",
        "    toContinue = input(\"Do you want to continue (Y/N)?? \")\n",
        "    toContinue = toContinue.upper()\n",
        "    if (toContinue == \"Y\"):\n",
        "      continue\n",
        "    else:\n",
        "      print(\"Exiting Program - Thank you !!\")\n",
        "      break\n",
        "    ####################################################################\n",
        "  except:\n",
        "    print(\"Enter a valid string!!!\")\n",
        "    toContinue = input(\"Do you want to continue (Y/N)?? \")\n",
        "    toContinue = toContinue.upper()\n",
        "    if (toContinue == \"Y\"):\n",
        "      continue\n",
        "    else:\n",
        "      print(\"Exiting Program - Thank you !!\")\n",
        "      break"
      ],
      "metadata": {
        "colab": {
          "base_uri": "https://localhost:8080/"
        },
        "id": "86PF8Bm9VjPE",
        "outputId": "2ac22511-9139-4abf-cf99-3b5c421570cb"
      },
      "execution_count": null,
      "outputs": [
        {
          "output_type": "stream",
          "name": "stdout",
          "text": [
            "Program to implement rjust and ljust methods using loop\n",
            "Enter a string: Peter Piper Picked A Peck Of Pickled Peppers.\n",
            "Enter a substring: Peck\n",
            "I/P:- Peter Piper Picked A Peck Of Pickled Peppers.\n",
            "O/P:- *********************Peck********************\n",
            "Do you want to continue (Y/N)?? n\n",
            "Exiting Program - Thank you !!\n"
          ]
        }
      ]
    },
    {
      "cell_type": "code",
      "source": [],
      "metadata": {
        "id": "5kqhxyhXXPI2"
      },
      "execution_count": null,
      "outputs": []
    }
  ]
}