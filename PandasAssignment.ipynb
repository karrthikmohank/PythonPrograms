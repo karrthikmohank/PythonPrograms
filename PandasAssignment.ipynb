{
  "nbformat": 4,
  "nbformat_minor": 0,
  "metadata": {
    "colab": {
      "provenance": [],
      "authorship_tag": "ABX9TyPjN4sbPYuOgQ6ouGCWrwNe",
      "include_colab_link": true
    },
    "kernelspec": {
      "name": "python3",
      "display_name": "Python 3"
    },
    "language_info": {
      "name": "python"
    }
  },
  "cells": [
    {
      "cell_type": "markdown",
      "metadata": {
        "id": "view-in-github",
        "colab_type": "text"
      },
      "source": [
        "<a href=\"https://colab.research.google.com/github/karrthikmohank/PythonPrograms/blob/main/PandasAssignment.ipynb\" target=\"_parent\"><img src=\"https://colab.research.google.com/assets/colab-badge.svg\" alt=\"Open In Colab\"/></a>"
      ]
    },
    {
      "cell_type": "markdown",
      "source": [
        "# Write a Python program to create and display a one-dimensional array-like object containing an array of data using Pandas module."
      ],
      "metadata": {
        "id": "Hd0hv9NnqRIA"
      }
    },
    {
      "cell_type": "code",
      "execution_count": null,
      "metadata": {
        "colab": {
          "base_uri": "https://localhost:8080/"
        },
        "id": "qFYUuz7kpXBa",
        "outputId": "ceb5f2ef-445e-45fa-de0d-5e269fd77f67"
      },
      "outputs": [
        {
          "output_type": "stream",
          "name": "stdout",
          "text": [
            "0    1\n",
            "1    2\n",
            "2    3\n",
            "3    4\n",
            "4    5\n",
            "dtype: int64\n"
          ]
        }
      ],
      "source": [
        "import pandas as pd\n",
        "ds = pd.Series([1,2,3,4,5])\n",
        "print(ds)"
      ]
    },
    {
      "cell_type": "markdown",
      "source": [
        "# Write a Python program to convert a Pandas module Series to Python list and its type."
      ],
      "metadata": {
        "id": "MNUSf6MfQaIz"
      }
    },
    {
      "cell_type": "code",
      "source": [
        "import pandas as pd\n",
        "ds = pd.Series([1,2,3,4,5])\n",
        "print(\"Input: Pandas series\")\n",
        "print(ds)\n",
        "print(\"Type: \",type(ds))\n",
        "lst1 = ds.tolist()\n",
        "print(\"Output: List\")\n",
        "print(lst1)\n",
        "print(\"Type: \",type(lst1))\n"
      ],
      "metadata": {
        "id": "C9eaCVF08GUg",
        "colab": {
          "base_uri": "https://localhost:8080/"
        },
        "outputId": "06d9b7b5-1c93-43b2-9479-03f22f2fcab1"
      },
      "execution_count": 52,
      "outputs": [
        {
          "output_type": "stream",
          "name": "stdout",
          "text": [
            "Input: Pandas series\n",
            "0    1\n",
            "1    2\n",
            "2    3\n",
            "3    4\n",
            "4    5\n",
            "dtype: int64\n",
            "Type:  <class 'pandas.core.series.Series'>\n",
            "Output: List\n",
            "[1, 2, 3, 4, 5]\n",
            "Type:  <class 'list'>\n"
          ]
        }
      ]
    },
    {
      "cell_type": "markdown",
      "source": [
        "# Write a Python program to add, subtract, multiple and divide two Pandas Series."
      ],
      "metadata": {
        "id": "RLXuoECb318f"
      }
    },
    {
      "cell_type": "code",
      "source": [
        "import pandas as pd\n",
        "ds1 = pd.Series([1,2,3,4,5])\n",
        "ds2 = pd.Series([5,6,7,8,9])\n",
        "addResult = ds1 + ds2\n",
        "print(\"Addition of two Pandas Series \")\n",
        "print(addResult)\n",
        "subResult = ds1 - ds2\n",
        "print(\"Subtraction of two Pandas Series \")\n",
        "print(subResult)\n",
        "multiplyResult = ds1 * ds2\n",
        "print(\"Multiplication of two Pandas Series \")\n",
        "print(multiplyResult)\n",
        "divisionResult = ds1/ds2\n",
        "print(\"Division of two Pandas Series \")\n",
        "print(divisionResult)\n"
      ],
      "metadata": {
        "colab": {
          "base_uri": "https://localhost:8080/"
        },
        "id": "VmIQhwHc3ND8",
        "outputId": "a7497254-5af8-4ef2-c202-39b7cb915601"
      },
      "execution_count": 53,
      "outputs": [
        {
          "output_type": "stream",
          "name": "stdout",
          "text": [
            "Addition of two Pandas Series \n",
            "0     6\n",
            "1     8\n",
            "2    10\n",
            "3    12\n",
            "4    14\n",
            "dtype: int64\n",
            "Subtraction of two Pandas Series \n",
            "0   -4\n",
            "1   -4\n",
            "2   -4\n",
            "3   -4\n",
            "4   -4\n",
            "dtype: int64\n",
            "Multiplication of two Pandas Series \n",
            "0     5\n",
            "1    12\n",
            "2    21\n",
            "3    32\n",
            "4    45\n",
            "dtype: int64\n",
            "Division of two Pandas Series \n",
            "0    0.200000\n",
            "1    0.333333\n",
            "2    0.428571\n",
            "3    0.500000\n",
            "4    0.555556\n",
            "dtype: float64\n"
          ]
        }
      ]
    },
    {
      "cell_type": "markdown",
      "source": [
        "# Write a Python program to compare the elements of the two Pandas Series."
      ],
      "metadata": {
        "id": "n82bUWvz57BD"
      }
    },
    {
      "cell_type": "code",
      "source": [
        "import pandas as pd\n",
        "ds1 = pd.Series([1,2,3,4,5])\n",
        "ds2 = pd.Series([5,6,7,8,9])\n",
        "print(\"Input Series - 1:\")\n",
        "print(ds1)\n",
        "print(\"Input Series - 2:\")\n",
        "print(ds2)\n",
        "print(\"Compare the elements of the two Pandas Series: \")\n",
        "print(\"Equality condition\")\n",
        "print(ds1 == ds2)\n",
        "print(\"Greater than condition\")\n",
        "print(ds1 > ds2)\n",
        "print(\"Greater than or equal to condition\")\n",
        "print(ds1 >= ds2)\n",
        "print(\"Less than condition\")\n",
        "print(ds1 < ds2)\n",
        "print(\"Lesser than or equal to condition\")\n",
        "print(ds1 <= ds2)"
      ],
      "metadata": {
        "colab": {
          "base_uri": "https://localhost:8080/"
        },
        "id": "KVCZZa8B4688",
        "outputId": "5da9ebfe-5919-4fa0-aa3d-17bd8eb57582"
      },
      "execution_count": 13,
      "outputs": [
        {
          "output_type": "stream",
          "name": "stdout",
          "text": [
            "Input Series - 1:\n",
            "0    1\n",
            "1    2\n",
            "2    3\n",
            "3    4\n",
            "4    5\n",
            "dtype: int64\n",
            "Input Series - 2:\n",
            "0    5\n",
            "1    6\n",
            "2    7\n",
            "3    8\n",
            "4    9\n",
            "dtype: int64\n",
            "Compare the elements of the two Pandas Series: \n",
            "Equality condition\n",
            "0    False\n",
            "1    False\n",
            "2    False\n",
            "3    False\n",
            "4    False\n",
            "dtype: bool\n",
            "Greater than condition\n",
            "0    False\n",
            "1    False\n",
            "2    False\n",
            "3    False\n",
            "4    False\n",
            "dtype: bool\n",
            "Greater than or equal to condition\n",
            "0    False\n",
            "1    False\n",
            "2    False\n",
            "3    False\n",
            "4    False\n",
            "dtype: bool\n",
            "Less than condition\n",
            "0    True\n",
            "1    True\n",
            "2    True\n",
            "3    True\n",
            "4    True\n",
            "dtype: bool\n",
            "Lesser than or equal to condition\n",
            "0    True\n",
            "1    True\n",
            "2    True\n",
            "3    True\n",
            "4    True\n",
            "dtype: bool\n"
          ]
        }
      ]
    },
    {
      "cell_type": "markdown",
      "source": [
        "# Write a Python program to display the following data column wise."
      ],
      "metadata": {
        "id": "9GKXfhAM7Oa8"
      }
    },
    {
      "cell_type": "code",
      "source": [
        "import pandas as pd\n",
        "data = {\"Id\" : [101,102,103],\"Name\" : [\"James\",\"Clark\",\"Jill\"],\"Marks\":[90,55,67]}\n",
        "df = pd.DataFrame(data)\n",
        "print(df)"
      ],
      "metadata": {
        "colab": {
          "base_uri": "https://localhost:8080/"
        },
        "id": "IiESezwA6d5j",
        "outputId": "c5d3fec7-6c89-43bb-9bf5-bb49e887441d"
      },
      "execution_count": 15,
      "outputs": [
        {
          "output_type": "stream",
          "name": "stdout",
          "text": [
            "    Id   Name  Marks\n",
            "0  101  James     90\n",
            "1  102  Clark     55\n",
            "2  103   Jill     67\n"
          ]
        }
      ]
    },
    {
      "cell_type": "markdown",
      "source": [
        "# Write a Python program to create and display a Data Frame from a specified dictionary data which has the index labels."
      ],
      "metadata": {
        "id": "3tQzQCSGS3lj"
      }
    },
    {
      "cell_type": "code",
      "source": [
        "import pandas as pd\n",
        "data = {\"Id\" : [101,102,103],\"Name\" : [\"James\",\"Clark\",\"Jill\"],\"Marks\":[90,55,67],\"Attempts\":[1,3,2],\"Qualify\":[\"Y\",\"N\",\"Y\"]}\n",
        "labels = ['a','b','c']\n",
        "df = pd.DataFrame(data,labels)\n",
        "print(df)"
      ],
      "metadata": {
        "colab": {
          "base_uri": "https://localhost:8080/"
        },
        "id": "fKvsffA8PA9B",
        "outputId": "c1f38563-2c24-40d0-878a-115adc4d5a1a"
      },
      "execution_count": 17,
      "outputs": [
        {
          "output_type": "stream",
          "name": "stdout",
          "text": [
            "    Id   Name  Marks  Attempts Qualify\n",
            "a  101  James     90         1       Y\n",
            "b  102  Clark     55         3       N\n",
            "c  103   Jill     67         2       Y\n"
          ]
        }
      ]
    },
    {
      "cell_type": "markdown",
      "source": [
        "# Write a Python program to select the specified columns and rows from a given Data Frame."
      ],
      "metadata": {
        "id": "UXKHak23UnsQ"
      }
    },
    {
      "cell_type": "code",
      "source": [
        "import pandas as pd\n",
        "data = {\"Id\" : [101,102,103],\"Name\" : [\"James\",\"Clark\",\"Jill\"],\"Marks\":[90,55,67],\"Attempts\":[1,3,2],\"Qualify\":[\"Y\",\"N\",\"Y\"]}\n",
        "labels = ['a','b','c']\n",
        "df = pd.DataFrame(data,labels)\n",
        "print(\"Displaying first two rows of the data frame-Using iloc method\")\n",
        "print(df.iloc[:2])\n",
        "print(\"\\n\")\n",
        "print(\"Displaying first row of the data frame-Using loc method\")\n",
        "print(df.loc[:'a'])\n",
        "print(\"\\n\")\n",
        "print(\"Displaying Name and Marks columns of the data frame-Using loc method\")\n",
        "print(df[['Name','Marks']])\n",
        "print(\"\\n\")\n",
        "print(\"Displaying specified columns and rows of the data frame\")\n",
        "print(df[['Name','Marks']].iloc[[1]])"
      ],
      "metadata": {
        "colab": {
          "base_uri": "https://localhost:8080/"
        },
        "id": "fjJKT85RTnFb",
        "outputId": "198a2ec6-f02b-4c9a-f884-947488a85303"
      },
      "execution_count": 30,
      "outputs": [
        {
          "output_type": "stream",
          "name": "stdout",
          "text": [
            "Displaying first two rows of the data frame-Using iloc method\n",
            "    Id   Name  Marks  Attempts Qualify\n",
            "a  101  James     90         1       Y\n",
            "b  102  Clark     55         3       N\n",
            "\n",
            "\n",
            "Displaying first row of the data frame-Using loc method\n",
            "    Id   Name  Marks  Attempts Qualify\n",
            "a  101  James     90         1       Y\n",
            "\n",
            "\n",
            "Displaying Name and Marks columns of the data frame-Using loc method\n",
            "    Name  Marks\n",
            "a  James     90\n",
            "b  Clark     55\n",
            "c   Jill     67\n",
            "\n",
            "\n",
            "Displaying specified columns and rows of the date frame\n",
            "    Name  Marks\n",
            "b  Clark     55\n"
          ]
        }
      ]
    },
    {
      "cell_type": "markdown",
      "source": [
        "# Write a Python program to select the rows the score is between 15 and 20 (inclusive)."
      ],
      "metadata": {
        "id": "2K8Qm0Y_dFKv"
      }
    },
    {
      "cell_type": "code",
      "source": [
        "import pandas as pd\n",
        "data = {\"Id\" : [101,102,103],\"Name\" : [\"James\",\"Clark\",\"Jill\"],\"Score\":[15, 9, 20],\"Attempts\":[1,3,2],\"Qualify\":[\"Y\",\"N\",\"Y\"]}\n",
        "labels = ['a','b','c']\n",
        "df = pd.DataFrame(data,labels)\n",
        "print(df[(df['Score'] >= 15) & (df['Score'] <= 20) ])"
      ],
      "metadata": {
        "colab": {
          "base_uri": "https://localhost:8080/"
        },
        "id": "qVJfu1BQVvT2",
        "outputId": "81748095-5ae9-439f-c3ff-bb738aa4c5f1"
      },
      "execution_count": 38,
      "outputs": [
        {
          "output_type": "stream",
          "name": "stdout",
          "text": [
            "    Id   Name  Score  Attempts Qualify\n",
            "a  101  James     15         1       Y\n",
            "c  103   Jill     20         2       Y\n"
          ]
        }
      ]
    },
    {
      "cell_type": "markdown",
      "source": [
        "# Write a Python program to select the rows where number of attempts in the examination is less than 2 and score greater than 15."
      ],
      "metadata": {
        "id": "WxU1ci_fe3Fn"
      }
    },
    {
      "cell_type": "code",
      "source": [
        "import pandas as pd\n",
        "data = {\"Id\" : [101,102,103],\"Name\" : [\"James\",\"Clark\",\"Jill\"],\"Score\":[16, 9, 20],\"Attempts\":[1,3,2],\"Qualify\":[\"Y\",\"N\",\"Y\"]}\n",
        "labels = ['a','b','c']\n",
        "df = pd.DataFrame(data,labels)\n",
        "print(df[(df['Attempts'] < 2) & (df['Score'] > 15) ])"
      ],
      "metadata": {
        "colab": {
          "base_uri": "https://localhost:8080/"
        },
        "id": "3RivD8Tgd8uY",
        "outputId": "38e9f534-ea03-49d0-b8e4-84e26f21311a"
      },
      "execution_count": 39,
      "outputs": [
        {
          "output_type": "stream",
          "name": "stdout",
          "text": [
            "    Id   Name  Score  Attempts Qualify\n",
            "a  101  James     16         1       Y\n"
          ]
        }
      ]
    },
    {
      "cell_type": "markdown",
      "source": [
        "# Write a Python program to append a new row 'k' to Data Frame with given values for each column. Now delete the new row and return the original data frame."
      ],
      "metadata": {
        "id": "xXxeLY8ifn4w"
      }
    },
    {
      "cell_type": "code",
      "source": [
        "import pandas as pd\n",
        "data = {\"Id\" : [101,102,103],\"Name\" : [\"James\",\"Clark\",\"Jill\"],\"Score\":[16, 9, 20],\"Attempts\":[1,3,2],\"Qualify\":[\"Y\",\"N\",\"Y\"]}\n",
        "labels = ['a','b','c']\n",
        "df = pd.DataFrame(data,labels)\n",
        "df.loc['k'] = {'Id':104,'Name' : \"Jack\", 'Score': 15.5, 'Attempts': 1, 'Qualify': \"Y\"}\n",
        "print(\"Dataframe with new row added: \")\n",
        "print(df)\n",
        "print(\"\\n\")\n",
        "print(\"Original dataframe:\")\n",
        "df.drop('k', inplace=True)\n",
        "print(df)"
      ],
      "metadata": {
        "colab": {
          "base_uri": "https://localhost:8080/"
        },
        "id": "ji3yG8LnfUK6",
        "outputId": "b5844b0b-26c8-4fc9-d1da-b3be632d015b"
      },
      "execution_count": 44,
      "outputs": [
        {
          "output_type": "stream",
          "name": "stdout",
          "text": [
            "Dataframe with new row added: \n",
            "    Id   Name  Score  Attempts Qualify\n",
            "a  101  James   16.0         1       Y\n",
            "b  102  Clark    9.0         3       N\n",
            "c  103   Jill   20.0         2       Y\n",
            "k  104   Jack   15.5         1       Y\n",
            "\n",
            "\n",
            "Original dataframe:\n",
            "    Id   Name  Score  Attempts Qualify\n",
            "a  101  James   16.0         1       Y\n",
            "b  102  Clark    9.0         3       N\n",
            "c  103   Jill   20.0         2       Y\n"
          ]
        }
      ]
    },
    {
      "cell_type": "markdown",
      "source": [
        "# Write a Python program to sort the data frame first by 'name' in descending order, then by 'score' in ascending order."
      ],
      "metadata": {
        "id": "aA8Q-6b0oHM9"
      }
    },
    {
      "cell_type": "code",
      "source": [
        "import pandas as pd\n",
        "data = {\"Id\" : [101,102,103],\"Name\" : [\"James\",\"Clark\",\"Jill\"],\"Score\":[16, 9, 20],\"Attempts\":[1,3,2],\"Qualify\":[\"Y\",\"N\",\"Y\"]}\n",
        "labels = ['a','b','c']\n",
        "df = pd.DataFrame(data,labels)\n",
        "df.sort_values('Name', ascending=False, inplace=True)\n",
        "print(\"Sorting dataframe by 'name' in descending order\")\n",
        "print(df)\n",
        "print(\"\\n\")\n",
        "print(\"Sorting dataframe by 'Score' in ascending order\")\n",
        "df.sort_values('Score', inplace=True)\n",
        "print(df)"
      ],
      "metadata": {
        "colab": {
          "base_uri": "https://localhost:8080/"
        },
        "id": "Z48Koh7InL_P",
        "outputId": "8cad3096-52e2-48e0-83a1-98bfe4984fdf"
      },
      "execution_count": 45,
      "outputs": [
        {
          "output_type": "stream",
          "name": "stdout",
          "text": [
            "Sorting dataframe by 'name' in descending order\n",
            "    Id   Name  Score  Attempts Qualify\n",
            "c  103   Jill     20         2       Y\n",
            "a  101  James     16         1       Y\n",
            "b  102  Clark      9         3       N\n",
            "\n",
            "\n",
            "Sorting dataframe by 'Score' in ascending order\n",
            "    Id   Name  Score  Attempts Qualify\n",
            "b  102  Clark      9         3       N\n",
            "a  101  James     16         1       Y\n",
            "c  103   Jill     20         2       Y\n"
          ]
        }
      ]
    },
    {
      "cell_type": "markdown",
      "source": [
        "# Write a Python program to insert a new column in existing DataFrame."
      ],
      "metadata": {
        "id": "Iuu-hv6Uo1oE"
      }
    },
    {
      "cell_type": "code",
      "source": [
        "import pandas as pd\n",
        "data = {\"Id\" : [101,102,103],\"Name\" : [\"James\",\"Clark\",\"Jill\"],\"Score\":[16, 9, 20],\"Attempts\":[1,3,2],\"Qualify\":[\"Y\",\"N\",\"Y\"]}\n",
        "labels = ['a','b','c']\n",
        "df = pd.DataFrame(data,labels)\n",
        "print(\"Original dataframe:\")\n",
        "print(df)\n",
        "print(\"\\n\")\n",
        "df['Age'] = None\n",
        "print(df)"
      ],
      "metadata": {
        "colab": {
          "base_uri": "https://localhost:8080/"
        },
        "id": "ZDt_XqwwosuT",
        "outputId": "ec675793-751f-4be9-95e0-89554f2c9b29"
      },
      "execution_count": 50,
      "outputs": [
        {
          "output_type": "stream",
          "name": "stdout",
          "text": [
            "Original dataframe:\n",
            "    Id   Name  Score  Attempts Qualify\n",
            "a  101  James     16         1       Y\n",
            "b  102  Clark      9         3       N\n",
            "c  103   Jill     20         2       Y\n",
            "\n",
            "\n",
            "    Id   Name  Score  Attempts Qualify   Age\n",
            "a  101  James     16         1       Y  None\n",
            "b  102  Clark      9         3       N  None\n",
            "c  103   Jill     20         2       Y  None\n"
          ]
        }
      ]
    },
    {
      "cell_type": "markdown",
      "source": [
        "# Write a Python program to change the name 'James' to 'Suresh' in name column of the data frame."
      ],
      "metadata": {
        "id": "jQAQgZIGo9R7"
      }
    },
    {
      "cell_type": "code",
      "source": [
        "import pandas as pd\n",
        "data = {\"Id\" : [101,102,103],\"Name\" : [\"James\",\"Clark\",\"Jill\"],\"Score\":[16, 9, 20],\"Attempts\":[1,3,2],\"Qualify\":[\"Y\",\"N\",\"Y\"]}\n",
        "labels = ['a','b','c']\n",
        "df = pd.DataFrame(data,labels)\n",
        "print(\"Original dataframe:\")\n",
        "print(df)\n",
        "print(\"\\n\")\n",
        "df.replace({'Name': {'James': 'Suresh'}}, inplace=True)\n",
        "print(df)"
      ],
      "metadata": {
        "colab": {
          "base_uri": "https://localhost:8080/"
        },
        "id": "n6_3LqsFpAin",
        "outputId": "85a500e3-f885-41b3-966b-bd86fded0de2"
      },
      "execution_count": 51,
      "outputs": [
        {
          "output_type": "stream",
          "name": "stdout",
          "text": [
            "Original dataframe:\n",
            "    Id   Name  Score  Attempts Qualify\n",
            "a  101  James     16         1       Y\n",
            "b  102  Clark      9         3       N\n",
            "c  103   Jill     20         2       Y\n",
            "\n",
            "\n",
            "    Id    Name  Score  Attempts Qualify\n",
            "a  101  Suresh     16         1       Y\n",
            "b  102   Clark      9         3       N\n",
            "c  103    Jill     20         2       Y\n"
          ]
        }
      ]
    },
    {
      "cell_type": "code",
      "source": [],
      "metadata": {
        "id": "YxFLxgddpSRQ"
      },
      "execution_count": null,
      "outputs": []
    }
  ]
}