{
  "nbformat": 4,
  "nbformat_minor": 0,
  "metadata": {
    "colab": {
      "provenance": [],
      "collapsed_sections": [],
      "authorship_tag": "ABX9TyP4AxdzQsXH29CjfpRKmS1+",
      "include_colab_link": true
    },
    "kernelspec": {
      "name": "python3",
      "display_name": "Python 3"
    },
    "language_info": {
      "name": "python"
    }
  },
  "cells": [
    {
      "cell_type": "markdown",
      "metadata": {
        "id": "view-in-github",
        "colab_type": "text"
      },
      "source": [
        "<a href=\"https://colab.research.google.com/github/karrthikmohank/PythonPrograms/blob/main/FileHandlingAssignmentSolutions.ipynb\" target=\"_parent\"><img src=\"https://colab.research.google.com/assets/colab-badge.svg\" alt=\"Open In Colab\"/></a>"
      ]
    },
    {
      "cell_type": "markdown",
      "source": [
        "# Write a function in python to read the content from \n",
        "# a text file \"poem.txt\" line by line and display the same on screen."
      ],
      "metadata": {
        "id": "y4MiETSa-i7B"
      }
    },
    {
      "cell_type": "code",
      "execution_count": 2,
      "metadata": {
        "colab": {
          "base_uri": "https://localhost:8080/"
        },
        "id": "Lc-1RC5I9Jia",
        "outputId": "dc068647-c1eb-4c19-f825-e68af94533af"
      },
      "outputs": [
        {
          "output_type": "stream",
          "name": "stdout",
          "text": [
            "\"I listened, motionless and still;\n",
            "\n",
            "And, as I mounted up the hill,\n",
            "\n",
            "The music in my heartI bore,\n",
            "\n",
            "Long after it washeard no more.\"\n"
          ]
        }
      ],
      "source": [
        "def file_read(fileName):  \n",
        "  with open(fileName) as fh:\n",
        "    while True:\n",
        "      contents = fh.readline()\n",
        "      if contents:        \n",
        "        print(contents)\n",
        "      else:\n",
        "        break\n",
        "\n",
        "file_read(\"poems.txt\")"
      ]
    },
    {
      "cell_type": "markdown",
      "source": [
        "# Write a function in python to count the number of lines \n",
        "# from a text file \"story.txt\" which is not starting with an alphabet \"T\". \n",
        "\n",
        "# Example: If the file \"story.txt\" contains the following lines: A boy is playing there.\n",
        "# There is a playground.\n",
        "# An aeroplane is in the sky.\n",
        "# The sky is pink.\n",
        "# Alphabets and numbers are allowed in the password.\n",
        "# The function should display the output as 3"
      ],
      "metadata": {
        "id": "Z_l3QaHeF0R9"
      }
    },
    {
      "cell_type": "code",
      "source": [
        "def count_lines(fileName):\n",
        "  with open(fileName) as fh:\n",
        "    count = 0\n",
        "    while(True):      \n",
        "      contents = fh.readline()\n",
        "      if contents:\n",
        "        if contents[0] != \"T\":\n",
        "          count += 1\n",
        "      else:\n",
        "        break\n",
        "    return count\n",
        "\n",
        "count = count_lines(\"story.txt\")\n",
        "print(f\"The number of lines from a text file 'story.txt' which is not starting with an alphabet 'T' are {count}\")\n",
        "\n"
      ],
      "metadata": {
        "colab": {
          "base_uri": "https://localhost:8080/"
        },
        "id": "kn43bp1lICqG",
        "outputId": "b55f6f78-79f9-40b9-9ecd-b66a95d4db03"
      },
      "execution_count": 3,
      "outputs": [
        {
          "output_type": "stream",
          "name": "stdout",
          "text": [
            "The number of lines from a text file 'story.txt' which is not starting with an alphabet 'T' are 3\n"
          ]
        }
      ]
    },
    {
      "cell_type": "markdown",
      "source": [
        "# Write a function in Python to count and display the total number of words in a text file."
      ],
      "metadata": {
        "id": "kAqGc-PCFNOn"
      }
    },
    {
      "cell_type": "code",
      "source": [
        "def count_words(fileName):\n",
        "  with open(fileName) as fh:\n",
        "    wordCount = 0\n",
        "    while True:      \n",
        "      contents = fh.readlines()        \n",
        "      if contents:\n",
        "        lst = str(contents).split()\n",
        "        for words in lst:\n",
        "          wordCount += 1\n",
        "      else:\n",
        "        break\n",
        "  return wordCount\n",
        "\n",
        "\n",
        "count = count_words(\"story.txt\")\n",
        "print(f\"Number of words in the file: {count}\")"
      ],
      "metadata": {
        "colab": {
          "base_uri": "https://localhost:8080/"
        },
        "id": "LC9FFGJVFMR4",
        "outputId": "3184397b-9509-4221-81ac-ac750455d4ca"
      },
      "execution_count": 4,
      "outputs": [
        {
          "output_type": "stream",
          "name": "stdout",
          "text": [
            "Number of words in the file: 27\n"
          ]
        }
      ]
    },
    {
      "cell_type": "markdown",
      "source": [
        "# Write a function in Python to read lines from a text file \"notes.txt\". \n",
        "# Your function should find and display the occurrence of the word \"the\".\n",
        "\n",
        "# For example: If the content of the file is:\n",
        "# \"India is the fastest-growing economy. India is looking for more investments around the globe. The whole world is looking at India as a great market. Most of the Indians can foresee the heights that India is capable of reaching.\"\n",
        "\n",
        "# The output should be 5."
      ],
      "metadata": {
        "id": "HlcPj93cLAxP"
      }
    },
    {
      "cell_type": "code",
      "source": [
        "def count_substring_occurrence(fileName,searchString):\n",
        "  with open(fileName) as fh:\n",
        "    theCount = 0\n",
        "    while True:      \n",
        "      contents = fh.readlines()        \n",
        "      if contents:\n",
        "        lst = str(contents).split()\n",
        "        for wordCount in range(len(lst)):\n",
        "          if wordCount == 0:\n",
        "            if lst[0][2:].lower() == searchString.lower():              \n",
        "              theCount += 1\n",
        "          elif wordCount == (len(lst)-1):\n",
        "              if lst[len(lst)-1][:-3].lower() == searchString.lower():                \n",
        "                theCount += 1\n",
        "          elif lst[wordCount].lower() == searchString.lower():            \n",
        "            theCount += 1\n",
        "      else:\n",
        "        break\n",
        "  return theCount\n",
        "\n",
        "searchString = \"the\"\n",
        "count = count_substring_occurrence(\"notes.txt\",searchString)\n",
        "print(f\"Number of times word '{searchString}' occurred: {count}\")"
      ],
      "metadata": {
        "colab": {
          "base_uri": "https://localhost:8080/"
        },
        "id": "uhppwHq4M73K",
        "outputId": "065f8aee-d7c6-4abb-e15d-1f66893e2325"
      },
      "execution_count": 5,
      "outputs": [
        {
          "output_type": "stream",
          "name": "stdout",
          "text": [
            "Number of times word 'the' occurred: 5\n"
          ]
        }
      ]
    },
    {
      "cell_type": "markdown",
      "source": [
        "# Write a function display_words() in python to read lines from a text file \"story.txt\", \n",
        "# and display those words, which are less than 4 characters."
      ],
      "metadata": {
        "id": "_2VeKPrNRKnS"
      }
    },
    {
      "cell_type": "code",
      "source": [
        "def display_words(fileName):\n",
        "  with open(fileName) as fh:    \n",
        "    while True:      \n",
        "      contents = fh.readlines()        \n",
        "      if contents:\n",
        "        lst = str(contents).split()\n",
        "        for wordCount in range(len(lst)):\n",
        "          if wordCount == 0:\n",
        "            if len(lst[0][2:]) < 4:              \n",
        "              print(lst[0][2:])\n",
        "          elif wordCount == (len(lst)-1):\n",
        "            if len(lst[len(lst)-1][:-3]) < 4:              \n",
        "              print(lst[len(lst)-1][:-3])              \n",
        "          elif len(lst[wordCount]) < 4:            \n",
        "            if lst[wordCount].isalnum():\n",
        "              print(lst[wordCount])           \n",
        "            else:\n",
        "              print(lst[wordCount][1:])\n",
        "      else:\n",
        "        break\n",
        "\n",
        "display_words(\"story.txt\")"
      ],
      "metadata": {
        "id": "QNgmtX3Ea8Mm",
        "colab": {
          "base_uri": "https://localhost:8080/"
        },
        "outputId": "5d0b9381-c10a-443c-a888-3ea3d1ac0f24"
      },
      "execution_count": 6,
      "outputs": [
        {
          "output_type": "stream",
          "name": "stdout",
          "text": [
            "A\n",
            "boy\n",
            "is\n",
            "is\n",
            "a\n",
            "An\n",
            "is\n",
            "in\n",
            "the\n",
            "sky\n",
            "is\n",
            "and\n",
            "are\n",
            "in\n",
            "the\n"
          ]
        }
      ]
    },
    {
      "cell_type": "markdown",
      "source": [
        "# Write a function in Python to count the words \"this\" and \"these\" present in a text file \"article.txt\". \n",
        "# [Note that the words \"this\" and \"these\" are complete words] "
      ],
      "metadata": {
        "id": "eCDeyqWJN5RQ"
      }
    },
    {
      "cell_type": "code",
      "source": [
        "def count_particular_words(fileName):\n",
        "  with open(fileName) as fh:  \n",
        "    thisCount = 0\n",
        "    theseCount = 0  \n",
        "    while True:      \n",
        "      contents = fh.readlines()             \n",
        "      if contents:\n",
        "        print(\"The content of file: \")\n",
        "        print(contents) \n",
        "        lst = str(contents).split()        \n",
        "        for wordCount in range(len(lst)):          \n",
        "          if wordCount == 0:\n",
        "            if lst[0][2:].lower() == \"this\":                        \n",
        "              thisCount += 1\n",
        "            elif lst[0][2:].lower() == \"these\":              \n",
        "              theseCount += 1\n",
        "          elif wordCount == (len(lst)-1):\n",
        "            if lst[len(lst)-1][:-3].lower() == \"this\":              \n",
        "              thisCount += 1\n",
        "            elif lst[len(lst)-1][:-3].lower() == \"these\":              \n",
        "              theseCount += 1\n",
        "          else:             \n",
        "            if lst[wordCount].lower() == \"this\":                            \n",
        "              thisCount += 1\n",
        "            elif lst[wordCount].lower() == \"these\":                     \n",
        "              theseCount += 1\n",
        "      else:\n",
        "        break\n",
        "  return thisCount, theseCount\n",
        "\n",
        "thisCount, theseCount = count_particular_words(\"article.txt\")\n",
        "print(f\"No of times word 'this' has occurred: {thisCount}\")\n",
        "print(f\"No of times word 'these' has occurred: {theseCount}\")"
      ],
      "metadata": {
        "colab": {
          "base_uri": "https://localhost:8080/"
        },
        "id": "S8CiU_KcORVd",
        "outputId": "06ec60fc-8b2a-4381-a5c9-d85e4cd68825"
      },
      "execution_count": 7,
      "outputs": [
        {
          "output_type": "stream",
          "name": "stdout",
          "text": [
            "The content of file: \n",
            "['this fifth-generation (5G) mobile communication technology is expected to handle different scenarios such as enhanced mobile broadband (eMBB), mission-critical control and massive Internet of Things (IoT) and, various applications like gigabit wireless, tactile internet, machine communications, super reliable connections and great service in-crowd.\\n', '\\n', 'Therefore, this 5G networks should be adaptable to tackle these high degree variations. It is generally argued that knowledge of this distribution of channel state information (CSI) is required by data link control (DLC) and medium access control (MAC) layers to meet this requirements of future 5G wireless communication systems. this work in this thesis is focused towards methodologies and techniques which can enable this DLC and MAC layers to become more efficient in moving closer towards achieving this ever-increasing demand of higher data rates and quality of service (QoS).\\n', '\\n', 'Considering these limited amount of available spectrum, a key solution to achieve high data rates is to use spectrally efficient schemes. However, spatial and temporal fluctuations in these wireless channel, which cause multi-path fading, act as a significant bottleneck in attaining high spectral efficiency. These channel impairments manifest in terms of higher bit error rate (BER) and lower throughput in comparison to wireline systems for these same transmit power. Link adaptation (LA) schemes perform adaptive modulation and coding (AMC) and power control where, more power with higher data rate is sent over the channel when these channel conditions are good, and as channel condition deteriorates, less power and rate are sent over these channel, so that a higher spectral efficiency is achieved.']\n",
            "No of times word 'this' has occurred: 8\n",
            "No of times word 'these' has occurred: 7\n"
          ]
        }
      ]
    },
    {
      "cell_type": "markdown",
      "source": [
        "# Write a function in Python to count words in a text file those are ending with alphabet \"e\""
      ],
      "metadata": {
        "id": "rDM5lCoYaH8r"
      }
    },
    {
      "cell_type": "code",
      "source": [
        "def count_words_ending_with_e(fileName):\n",
        "  with open(fileName) as fh:  \n",
        "    count = 0    \n",
        "    while True:      \n",
        "      contents = fh.readlines()             \n",
        "      if contents:\n",
        "        print(\"The content of file: \")\n",
        "        print(contents) \n",
        "        lst = str(contents).split()        \n",
        "        for wordCount in range(len(lst)):          \n",
        "          if wordCount == 0:\n",
        "            if lst[0][2:].lower().endswith(\"e\"):  \n",
        "              print(lst[0][2:])                      \n",
        "              count += 1            \n",
        "          elif wordCount == (len(lst)-1):\n",
        "            if lst[len(lst)-1][:-3].lower().endswith(\"e\"):              \n",
        "              print(lst[len(lst)-1][:-3])                      \n",
        "              count += 1\n",
        "          else:             \n",
        "            if lst[wordCount].lower().endswith(\"e\"):                              \n",
        "              print(lst[wordCount])                      \n",
        "              count += 1          \n",
        "      else:\n",
        "        break\n",
        "  return count\n",
        "\n",
        "count = count_words_ending_with_e(\"article.txt\")\n",
        "print(f\"No of words ending with 'e' has occurred: {count}\")\n"
      ],
      "metadata": {
        "colab": {
          "base_uri": "https://localhost:8080/"
        },
        "id": "Le-_5vi3aNs2",
        "outputId": "44c06b09-7c81-4154-d925-afe67d2ef570"
      },
      "execution_count": 8,
      "outputs": [
        {
          "output_type": "stream",
          "name": "stdout",
          "text": [
            "The content of file: \n",
            "['this fifth-generation (5G) mobile communication technology is expected to handle different scenarios such as enhanced mobile broadband (eMBB), mission-critical control and massive Internet of Things (IoT) and, various applications like gigabit wireless, tactile internet, machine communications, super reliable connections and great service in-crowd.\\n', '\\n', 'Therefore, this 5G networks should be adaptable to tackle these high degree variations. It is generally argued that knowledge of this distribution of channel state information (CSI) is required by data link control (DLC) and medium access control (MAC) layers to meet this requirements of future 5G wireless communication systems. this work in this thesis is focused towards methodologies and techniques which can enable this DLC and MAC layers to become more efficient in moving closer towards achieving this ever-increasing demand of higher data rates and quality of service (QoS).\\n', '\\n', 'Considering these limited amount of available spectrum, a key solution to achieve high data rates is to use spectrally efficient schemes. However, spatial and temporal fluctuations in these wireless channel, which cause multi-path fading, act as a significant bottleneck in attaining high spectral efficiency. These channel impairments manifest in terms of higher bit error rate (BER) and lower throughput in comparison to wireline systems for these same transmit power. Link adaptation (LA) schemes perform adaptive modulation and coding (AMC) and power control where, more power with higher data rate is sent over the channel when these channel conditions are good, and as channel condition deteriorates, less power and rate are sent over these channel, so that a higher spectral efficiency is achieved.']\n",
            "mobile\n",
            "handle\n",
            "mobile\n",
            "massive\n",
            "like\n",
            "tactile\n",
            "machine\n",
            "reliable\n",
            "service\n",
            "be\n",
            "adaptable\n",
            "tackle\n",
            "these\n",
            "degree\n",
            "knowledge\n",
            "state\n",
            "future\n",
            "enable\n",
            "become\n",
            "more\n",
            "service\n",
            "these\n",
            "available\n",
            "achieve\n",
            "use\n",
            "these\n",
            "cause\n",
            "These\n",
            "rate\n",
            "wireline\n",
            "these\n",
            "same\n",
            "adaptive\n",
            "more\n",
            "rate\n",
            "the\n",
            "these\n",
            "are\n",
            "rate\n",
            "are\n",
            "these\n",
            "No of words ending with 'e' has occurred: 41\n"
          ]
        }
      ]
    },
    {
      "cell_type": "markdown",
      "source": [
        "# Write a function in Python to count uppercase character in a text file."
      ],
      "metadata": {
        "id": "XyZdb1ECf6U5"
      }
    },
    {
      "cell_type": "code",
      "source": [
        "def count_uppercase_characters(fileName):\n",
        "  with open(fileName) as fh:  \n",
        "    count = 0    \n",
        "    while True:      \n",
        "      contents = fh.read()             \n",
        "      if contents:\n",
        "        # print(\"The content of file: \")\n",
        "        # print(contents) \n",
        "        for letter in contents:          \n",
        "          if letter.isupper():\n",
        "            # print(letter)\n",
        "            count += 1  \n",
        "      else:\n",
        "        break    \n",
        "  return count\n",
        "\n",
        "count = count_uppercase_characters(\"article.txt\")\n",
        "print(f\"No of uppercase characters: {count}\")\n"
      ],
      "metadata": {
        "colab": {
          "base_uri": "https://localhost:8080/"
        },
        "id": "x7FtByE1f5BC",
        "outputId": "7fa95c94-454d-431b-8d5f-0f38367fb463"
      },
      "execution_count": 9,
      "outputs": [
        {
          "output_type": "stream",
          "name": "stdout",
          "text": [
            "No of uppercase characters: 41\n"
          ]
        }
      ]
    },
    {
      "cell_type": "markdown",
      "source": [
        "# A text file named \"matter.txt\" contains some text, which needs to be displayed such that every next character is separated by a symbol \"#\". \n",
        "# Write a function definition for hash_display() in Python that would display the entire content of the file matter.txt in the desired format.\n",
        "\n",
        "# Example :\n",
        "# If the file matter.txt has the following content stored in it :\n",
        "# THE WORLD IS ROUND\n",
        "\n",
        "# The function hash_display() should display the following content :\n",
        "# \"T#H#E# #W#O#R#L#D# #I#S# #R#O#U#N#D#\""
      ],
      "metadata": {
        "id": "CXO_9uGxiaDC"
      }
    },
    {
      "cell_type": "code",
      "source": [
        "def hash_display(fileName):\n",
        "  with open(fileName) as fh:  \n",
        "    outString = \"\" \n",
        "    while True:      \n",
        "      contents = fh.read()             \n",
        "      if contents:\n",
        "        print(\"The content of file: \")\n",
        "        print(contents) \n",
        "        for letter in contents:  \n",
        "            outString += letter\n",
        "            outString += \"#\"\n",
        "      else:\n",
        "        break    \n",
        "  return outString\n",
        "\n",
        "outString = hash_display(\"matter.txt\")\n",
        "print(\"Updated content\")\n",
        "print(outString)\n"
      ],
      "metadata": {
        "colab": {
          "base_uri": "https://localhost:8080/"
        },
        "id": "DO410TzvihtW",
        "outputId": "b989312e-2c08-437a-9cfd-e62883ce15aa"
      },
      "execution_count": 11,
      "outputs": [
        {
          "output_type": "stream",
          "name": "stdout",
          "text": [
            "The content of file: \n",
            "THE WORLD IS ROUND\n",
            "Updated content\n",
            "T#H#E# #W#O#R#L#D# #I#S# #R#O#U#N#D#\n"
          ]
        }
      ]
    },
    {
      "cell_type": "markdown",
      "source": [
        "# Aditi has used a text editing software to type some text. After saving the article as WORDS.TXT, she realised that she has wrongly typed alphabet J in place of alphabet I everywhere in the article.\n",
        "# Write a function definition for JTOI() in Python that would display the corrected version of entire content of the file WORDS.TXT with all the alphabets \"J\" to be displayed as an alphabet \"I\" on screen.\n",
        "\n",
        "# Note: Assuming that WORD.TXT does not contain any J alphabet otherwise.\n",
        "\n",
        "# Example:\n",
        "# If Aditi has stored the following content in the file WORDS.TXT:\n",
        "# WELL, THJS JS A WORD BY JTSELF. YOU COULD STRETCH THJS TO BE A SENTENCE\n",
        "# The function JTOI() should display the following content:\n",
        "# WELL, THIS IS A WORD BY ITSELF. YOU COULD STRETCH THIS TO BE A SENTENCE"
      ],
      "metadata": {
        "id": "YWfhRQiYyYEI"
      }
    },
    {
      "cell_type": "code",
      "source": [
        "def JTOI(fileName):\n",
        "  with open(fileName) as fh:  \n",
        "    outString = \"\" \n",
        "    while True:      \n",
        "      contents = fh.read()             \n",
        "      if contents:\n",
        "        print(\"The content of file: \")\n",
        "        print(contents) \n",
        "        for letter in contents:  \n",
        "          if letter == \"J\" :\n",
        "            outString += \"I\"\n",
        "          elif letter == \"j\" :\n",
        "            outString += \"i\"\n",
        "          else:\n",
        "            outString += letter\n",
        "      else:\n",
        "        break    \n",
        "  return outString\n",
        "\n",
        "outString = JTOI(\"words.txt\")\n",
        "print(\"Updated content\")\n",
        "print(outString)\n"
      ],
      "metadata": {
        "colab": {
          "base_uri": "https://localhost:8080/"
        },
        "id": "bJVF5hbd_cbq",
        "outputId": "e99fdf87-41b0-48de-836f-b33454bb4106"
      },
      "execution_count": 12,
      "outputs": [
        {
          "output_type": "stream",
          "name": "stdout",
          "text": [
            "The content of file: \n",
            "WELL, THJS JS A WORD BY JTSELF. YOU COULD STRETCH THJS TO BE A SENTENCE\n",
            "Updated content\n",
            "WELL, THIS IS A WORD BY ITSELF. YOU COULD STRETCH THIS TO BE A SENTENCE\n"
          ]
        }
      ]
    },
    {
      "cell_type": "markdown",
      "source": [
        "# Write a function AMCount() in Python, which should read each character of a text file STORY.TXT, should count and display the occurance of alphabets A and M (including small cases a and m too).\n",
        "# For Example:\n",
        "# If the file content is as follows:\n",
        "# Updated information\n",
        "# As simplified by official websites.\n",
        "# **The AMCount() function should display the output as:\n",
        "# **A or a:4\n",
        "# M or m :2"
      ],
      "metadata": {
        "id": "AQNayx9AFKRH"
      }
    },
    {
      "cell_type": "code",
      "source": [
        "def AMCount(fileName):\n",
        "  with open(fileName) as fh:\n",
        "    aCount = 0\n",
        "    mCount = 0\n",
        "    while True:      \n",
        "      contents = fh.read()             \n",
        "      if contents:\n",
        "        print(\"The content of file: \\n\")\n",
        "        print('\"')\n",
        "        print(contents) \n",
        "        print('\"')\n",
        "        for letter in contents:  \n",
        "          if letter.lower() == \"a\" :\n",
        "            aCount += 1\n",
        "          elif letter.lower() == \"m\" :\n",
        "            mCount += 1\n",
        "          \n",
        "      else:\n",
        "        break\n",
        "\n",
        "  return aCount, mCount\n",
        "\n",
        "aCount, mCount = AMCount(\"story.txt\")\n",
        "print(f\"\\nCount of 'A' or 'a': {aCount}\")\n",
        "print(f\"Count of 'M' or 'm': {mCount}\")\n"
      ],
      "metadata": {
        "colab": {
          "base_uri": "https://localhost:8080/"
        },
        "id": "QtzBNxDFFRQF",
        "outputId": "8411da0e-16eb-467a-a188-4f0f4c0cf853"
      },
      "execution_count": 13,
      "outputs": [
        {
          "output_type": "stream",
          "name": "stdout",
          "text": [
            "The content of file: \n",
            "\n",
            "\"\n",
            "A boy is playing there.\n",
            "There is a playground.\n",
            "An aeroplane is in the sky.\n",
            "The sky is pink.\n",
            "Alphabets and numbers are allowed in the password.\n",
            "\"\n",
            "\n",
            "Count of 'A' or 'a': 13\n",
            "Count of 'M' or 'm': 1\n"
          ]
        }
      ]
    },
    {
      "cell_type": "markdown",
      "source": [
        "# A binary file \"Book.dat\" has structure [BookNo, Book_Name, Author, Price].\n",
        "# i. Write a user defined function createFile() to input data for a record and add to Book.dat.\n",
        "# ii. Write a function countRec(Author) in Python which accepts the Author name as parameter and count and return number of books by the given Author are stored in the binary file \"Book.dat\""
      ],
      "metadata": {
        "id": "cbkCN2MDKQDC"
      }
    },
    {
      "cell_type": "code",
      "source": [
        "def createFile(fileName,record):\n",
        "  try:\n",
        "    with open(fileName,\"at\") as fh:\n",
        "      for item in record:\n",
        "        fh.write(str(item))\n",
        "        fh.write(\"\\n\")\n",
        "  except Exception as err:\n",
        "    print(err)  \n",
        "\n",
        "def readFile(fileName):\n",
        "  print(f\"Reading {fileName}\")\n",
        "  try:\n",
        "    with open(fileName) as fh:\n",
        "      while(True):\n",
        "        contents = fh.read()\n",
        "        if contents:\n",
        "          print(contents)\n",
        "        else:\n",
        "          break\n",
        "  except Exception:\n",
        "    print(\"File do not exist!!\")\n",
        "    \n",
        "def countRec(author):\n",
        "  try:\n",
        "    with open(\"Book.dat\") as fh:      \n",
        "      \n",
        "      authorRecords = 0\n",
        "      while(True):        \n",
        "        contents = fh.readlines()        \n",
        "        if contents:\n",
        "          # print(\"Contents of file: \")\n",
        "          # print(contents)\n",
        "          for rec in contents:\n",
        "            authorName = str(rec).split(\"\\n\")             \n",
        "            if author == authorName[0]:\n",
        "              authorRecords += 1\n",
        "        else:\n",
        "          break\n",
        "        \n",
        "    return authorRecords\n",
        "  except Exception as err:\n",
        "    print(err)\n",
        "\n",
        "def main():\n",
        "  fileName = \"Book.dat\"\n",
        "  author = \"James\"\n",
        "  numRecords = eval(input(\"How many records to add? \"))\n",
        "  for count in range(numRecords):\n",
        "    record = eval(input(\"Enter a record in [BookNo, Book_Name, Author, Price] list format: \"))\n",
        "    createFile(fileName,record)\n",
        "  # readFile(fileName)\n",
        "  authorRecords = countRec(author)\n",
        "  print(f\"Number of books from '{author}': {authorRecords}\")\n",
        "\n",
        "main()"
      ],
      "metadata": {
        "colab": {
          "base_uri": "https://localhost:8080/"
        },
        "id": "fSZmT1ziL_n2",
        "outputId": "057711e7-2e71-43a1-866c-9d13b5a08a44"
      },
      "execution_count": 22,
      "outputs": [
        {
          "output_type": "stream",
          "name": "stdout",
          "text": [
            "How many records to add? 1\n",
            "Enter a record in [BookNo, Book_Name, Author, Price] list format: [20,\"Book_20\",\"Mike\",50]\n",
            "Number of books from 'James': 10\n"
          ]
        }
      ]
    },
    {
      "cell_type": "code",
      "source": [],
      "metadata": {
        "id": "F21VtammPia4"
      },
      "execution_count": null,
      "outputs": []
    },
    {
      "cell_type": "markdown",
      "source": [
        "# A binary file \"STUDENT.DAT\" has structure (admission_number, Name, Percentage). \n",
        "# Write a function count_rec() in Python that would read contents of the file \"STUDENT.DAT\" and display the details of those students whose percentage is above 75. \n",
        "# Also display number of students scoring above 75%"
      ],
      "metadata": {
        "id": "lh5mA_YQoSvp"
      }
    },
    {
      "cell_type": "code",
      "source": [],
      "metadata": {
        "id": "nD3AjM73Q3iw"
      },
      "execution_count": null,
      "outputs": []
    },
    {
      "cell_type": "code",
      "source": [
        "def createFile(fileName,record):\n",
        "  try:\n",
        "    with open(fileName,\"at\") as fh:\n",
        "      for item in record:\n",
        "        fh.write(str(item))\n",
        "        fh.write(\"\\n\")\n",
        "  except Exception as err:\n",
        "    print(err)   \n",
        "    \n",
        "\n",
        "def readFile(fileName):\n",
        "  print(f\"Reading {fileName}\")\n",
        "  try:\n",
        "    with open(fileName) as fh:\n",
        "      while(True):\n",
        "        contents = fh.readlines()\n",
        "        if contents:\n",
        "          print(contents)\n",
        "        else:\n",
        "          break\n",
        "  except Exception:\n",
        "    print(\"File do not exist!!\")\n",
        "    \n",
        "def count_rec():\n",
        "  try:\n",
        "    with open(\"Student.dat\") as fh:      \n",
        "      \n",
        "      authorRecords = 0\n",
        "      listOfRecordElements = []\n",
        "      while(True):        \n",
        "        contents = fh.readlines()        \n",
        "        if contents:\n",
        "          # print(\"Contents of file: \")\n",
        "          # print(contents)\n",
        "          print(\"Displaying the details of those students whose percentage is above 75:\")\n",
        "          print(\"AdmissionNumber\"+\" \"+\"Name\"+\"    \"+\"Percentage\")\n",
        "          for rec in contents:\n",
        "            authorName = str(rec).split(\"\\n\")     \n",
        "            listOfRecordElements.append(authorName[0])\n",
        "          \n",
        "          for elementsIndex in range(len(listOfRecordElements)):\n",
        "            if ((elementsIndex+1) % 3) == 0:\n",
        "              if float(listOfRecordElements[elementsIndex]) > 75:\n",
        "                authorRecords += 1\n",
        "                print(str(listOfRecordElements[elementsIndex-2])+\"              \",end = \" \")\n",
        "                print(str(listOfRecordElements[elementsIndex-1])+\"    \",end = \" \")\n",
        "                print(str(listOfRecordElements[elementsIndex]))\n",
        "                \n",
        "        else:\n",
        "          break        \n",
        "    return authorRecords\n",
        "  except Exception as err:\n",
        "    print(err)\n",
        "\n",
        "def main():\n",
        "  fileName = \"Student.dat\"  \n",
        "  numRecords = eval(input(\"How many records to add? \"))\n",
        "  for count in range(numRecords):\n",
        "    record = eval(input(\"Enter a record in (admission_number, Name, Percentage) tuple format: \"))\n",
        "    createFile(fileName,record)\n",
        "  # readFile(fileName)\n",
        "  authorRecords = count_rec()\n",
        "  print(f\"Number of students scoring above 75%: {authorRecords}\")\n",
        "\n",
        "main()"
      ],
      "metadata": {
        "id": "nX7SSc6fANqp",
        "colab": {
          "base_uri": "https://localhost:8080/"
        },
        "outputId": "6392e489-3c10-4387-84be-36ca8306e28e"
      },
      "execution_count": 23,
      "outputs": [
        {
          "output_type": "stream",
          "name": "stdout",
          "text": [
            "How many records to add? 1\n",
            "Enter a record in (admission_number, Name, Percentage) tuple format: (4,\"Jolly\",88)\n",
            "Displaying the details of those students whose percentage is above 75:\n",
            "AdmissionNumber Name    Percentage\n",
            "1               James     90\n",
            "2               Jacob     80\n",
            "4               Jolly     88\n",
            "Number of students scoring above 75%: 3\n"
          ]
        }
      ]
    },
    {
      "cell_type": "markdown",
      "source": [
        "# Given a binary file employee.dat, created using dictionary object having keys: (empcode, name, and salary)\n",
        "\n",
        "# Write a python function that add one more record at the end of file.\n",
        "# Write a python function that display all employee records whose salary is more than 30000\n"
      ],
      "metadata": {
        "id": "VC9MIqVr2OJI"
      }
    },
    {
      "cell_type": "code",
      "source": [
        "def createFile(fileName,record):\n",
        "  try:\n",
        "    with open(fileName,\"at\") as fh:\n",
        "      for value in record.values():\n",
        "        fh.write(str(value))\n",
        "        fh.write(\"\\n\")\n",
        "  except Exception as err:\n",
        "    print(err)   \n",
        "    \n",
        "\n",
        "def readFile(fileName):\n",
        "  print(f\"Reading {fileName}\")\n",
        "  try:\n",
        "    with open(fileName) as fh:\n",
        "      while(True):\n",
        "        contents = fh.readlines()\n",
        "        if contents:\n",
        "          print(contents)\n",
        "        else:\n",
        "          break\n",
        "  except Exception:\n",
        "    print(\"File do not exist!!\")\n",
        "    \n",
        "def count_rec():\n",
        "  try:\n",
        "    with open(\"employee.dat\") as fh:     \n",
        "         \n",
        "      listOfRecordElements = []\n",
        "      while(True):        \n",
        "        contents = fh.readlines()        \n",
        "        if contents:\n",
        "          # print(\"Contents of file: \")\n",
        "          # print(contents)\n",
        "          print(\"Displaying employee records whose salary is more than 30000:\")\n",
        "          print(\"EmployeeCode\"+\" \"+\"Name\"+\"    \"+\"Salary\")\n",
        "          for rec in contents:\n",
        "            authorName = str(rec).split(\"\\n\")     \n",
        "            listOfRecordElements.append(authorName[0])\n",
        "          \n",
        "          for elementsIndex in range(len(listOfRecordElements)):\n",
        "            if ((elementsIndex+1) % 3) == 0:\n",
        "              if float(listOfRecordElements[elementsIndex]) > 30000:                \n",
        "                print(str(listOfRecordElements[elementsIndex-2])+\"           \",end = \" \")\n",
        "                print(str(listOfRecordElements[elementsIndex-1])+\"   \",end = \" \")\n",
        "                print(str(listOfRecordElements[elementsIndex]))\n",
        "        else:\n",
        "          break      \n",
        "    \n",
        "  except Exception as err:\n",
        "    print(err)\n",
        "\n",
        "def main():\n",
        "  fileName = \"employee.dat\"  \n",
        "  numRecords = eval(input(\"How many records to add? \"))\n",
        "  for count in range(numRecords):\n",
        "    record = eval(input(\"Enter a record in dictionary format with (empcode, name, and salary) as keys: \"))\n",
        "    createFile(fileName,record)\n",
        "  # readFile(fileName)\n",
        "  count_rec()  \n",
        "\n",
        "main()"
      ],
      "metadata": {
        "colab": {
          "base_uri": "https://localhost:8080/"
        },
        "id": "SgyFoz9A2MHp",
        "outputId": "9daeede2-5aaf-42a8-ecff-db05c957fae8"
      },
      "execution_count": 24,
      "outputs": [
        {
          "output_type": "stream",
          "name": "stdout",
          "text": [
            "How many records to add? 1\n",
            "Enter a record in dictionary format with (empcode, name, and salary) as keys: {\"empcode\":5,\"name\":\"Todd\",\"salary\":55000}\n",
            "Displaying employee records whose salary is more than 30000:\n",
            "EmployeeCode Name    Salary\n",
            "1            Jose    36000\n",
            "2            Tina    37000\n",
            "3            Siri    40000\n",
            "5            Todd    55000\n"
          ]
        }
      ]
    },
    {
      "cell_type": "markdown",
      "source": [
        "# Write a function to search and display details of student whose rollno is '1005' from the binary file student.dat having structure [rollno, name, class and fees]."
      ],
      "metadata": {
        "id": "xSaD3D4OhQ8C"
      }
    },
    {
      "cell_type": "code",
      "source": [
        "def create_file(fileName,record):\n",
        "  try:\n",
        "    with open(fileName,\"at\") as fh:\n",
        "      for value in record:\n",
        "        fh.write(str(value))\n",
        "        fh.write(\"\\n\")\n",
        "  except Exception as err:\n",
        "    print(err)   \n",
        "    \n",
        "\n",
        "def read_file(fileName):\n",
        "  print(f\"Reading {fileName}\")\n",
        "  try:\n",
        "    with open(fileName) as fh:\n",
        "      while(True):\n",
        "        contents = fh.readlines()\n",
        "        if contents:\n",
        "          print(contents)\n",
        "        else:\n",
        "          break\n",
        "  except Exception:\n",
        "    print(\"File do not exist!!\")\n",
        "    \n",
        "def search_rec(rollno):\n",
        "  try:\n",
        "    with open(\"Student1.dat\") as fh:\n",
        "      listOfRecordElements = []\n",
        "      while(True):        \n",
        "        contents = fh.readlines()        \n",
        "        if contents:\n",
        "          # print(\"Contents of file: \")\n",
        "          # print(contents)\n",
        "          print(f\"Displaying details of student whose rollno is '{rollno}' :\")\n",
        "          print(\"RollNo\"+\"     \"+\"Name\"+\"     \"+\"Class\"+\"       \"+\"Fees\")\n",
        "          for rec in contents:\n",
        "            authorName = str(rec).split(\"\\n\")     \n",
        "            listOfRecordElements.append(authorName[0])\n",
        "          \n",
        "          for elementsIndex in range(len(listOfRecordElements)):\n",
        "            if ((elementsIndex) % 4) == 0:\n",
        "              if int(listOfRecordElements[elementsIndex]) == rollno:                \n",
        "                print(str(listOfRecordElements[elementsIndex])+\"      \",end = \" \")\n",
        "                print(str(listOfRecordElements[elementsIndex+1])+\"    \",end = \" \")\n",
        "                print(str(listOfRecordElements[elementsIndex+2])+\"    \",end = \" \")\n",
        "                print(str(listOfRecordElements[elementsIndex+3]))\n",
        "        else:\n",
        "          break       \n",
        "    \n",
        "  except Exception as err:\n",
        "    print(err)\n",
        "\n",
        "def main():\n",
        "  fileName = \"Student1.dat\"  \n",
        "  rollno = 1005\n",
        "  numRecords = eval(input(\"How many records to add? \"))\n",
        "  for count in range(numRecords):\n",
        "    record = eval(input(\"Enter a record [rollno, name, class and fees] as list format: \"))\n",
        "    create_file(fileName,record)\n",
        "  # read_file(fileName)\n",
        "  search_rec(rollno)  \n",
        "\n",
        "main()"
      ],
      "metadata": {
        "id": "F9DxrdkxEj4a",
        "colab": {
          "base_uri": "https://localhost:8080/"
        },
        "outputId": "425ea78f-8f36-4f01-b4b5-d90007781029"
      },
      "execution_count": 25,
      "outputs": [
        {
          "output_type": "stream",
          "name": "stdout",
          "text": [
            "How many records to add? 1\n",
            "Enter a record [rollno, name, class and fees] as list format: [1009,\"Todd\",\"Class-II\",2300]\n",
            "Displaying details of student whose rollno is '1005' :\n",
            "RollNo     Name     Class       Fees\n",
            "1005       Jose     Class-I     1000\n"
          ]
        }
      ]
    },
    {
      "cell_type": "markdown",
      "source": [
        "# A binary file school.dat has structure(rollno, name, class, fees)\n",
        "\n",
        "# Write a definition for function total_fees( ) that reads each object of file and calculate the total fees of students and display the same."
      ],
      "metadata": {
        "id": "vS2wJLvRhYyL"
      }
    },
    {
      "cell_type": "code",
      "source": [
        "def create_file(fileName,record):\n",
        "  try:\n",
        "    with open(fileName,\"at\") as fh:\n",
        "      for value in record:\n",
        "        fh.write(str(value))\n",
        "        fh.write(\"\\n\")\n",
        "  except Exception as err:\n",
        "    print(err)    \n",
        "    \n",
        "\n",
        "def read_file(fileName):\n",
        "  print(f\"Reading {fileName}\")\n",
        "  try:\n",
        "    with open(fileName) as fh:\n",
        "      while(True):\n",
        "        contents = fh.readlines()\n",
        "        if contents:\n",
        "          print(contents)\n",
        "        else:\n",
        "          break\n",
        "  except Exception:\n",
        "    print(\"File do not exist!!\")\n",
        "    \n",
        "def total_fees():\n",
        "  try:\n",
        "    with open(\"Student1.dat\") as fh:      \n",
        "      totalFees = 0      \n",
        "      listOfRecordElements = []\n",
        "      while(True):        \n",
        "        contents = fh.readlines()        \n",
        "        if contents:\n",
        "          # print(\"Contents of file: \")\n",
        "          # print(contents)          \n",
        "          for rec in contents:\n",
        "            authorName = str(rec).split(\"\\n\")     \n",
        "            listOfRecordElements.append(authorName[0])\n",
        "          \n",
        "          for elementsIndex in range(len(listOfRecordElements)):\n",
        "            if ((elementsIndex+1) % 4) == 0:\n",
        "              totalFees += float(listOfRecordElements[elementsIndex])              \n",
        "        else:\n",
        "          break       \n",
        "    return totalFees\n",
        "  except Exception as err:\n",
        "    print(err)\n",
        "\n",
        "def main():\n",
        "  fileName = \"Student1.dat\"  \n",
        "  rollno = 1005\n",
        "  numRecords = eval(input(\"How many records to add? \"))\n",
        "  for count in range(numRecords):\n",
        "    record = eval(input(\"Enter a record [rollno, name, class and fees] as list format: \"))\n",
        "    create_file(fileName,record)\n",
        "  # read_file(fileName)\n",
        "  totalFees = total_fees()  \n",
        "  print(f\"Total fees collected: {totalFees}\")\n",
        "main()"
      ],
      "metadata": {
        "colab": {
          "base_uri": "https://localhost:8080/"
        },
        "id": "WOIvLvm0hYaf",
        "outputId": "c5bba17f-0a03-42f5-a459-0d459bfe220c"
      },
      "execution_count": 26,
      "outputs": [
        {
          "output_type": "stream",
          "name": "stdout",
          "text": [
            "How many records to add? 1\n",
            "Enter a record [rollno, name, class and fees] as list format: [1010,\"Joel\",\"Class-II\",2300]\n",
            "Total fees collected: 10900.0\n"
          ]
        }
      ]
    },
    {
      "cell_type": "markdown",
      "source": [
        "# A binary file players.dat, containing records of following list format: [code, name, country and total runs]\n",
        "\n",
        "# 1. Write a python function that display all records where player name starts from 'A'\n",
        "# 2. Write a python function that accept country as an argument and count and display the number of players of that country.\n",
        "# 3. Write a python function that add one record at the end of file."
      ],
      "metadata": {
        "id": "j3VLamCYkEyu"
      }
    },
    {
      "cell_type": "code",
      "source": [
        "def create_file(fileName,record):\n",
        "  try:\n",
        "    with open(fileName,\"at\") as fh:\n",
        "      for value in record:\n",
        "        fh.write(str(value))\n",
        "        fh.write(\"\\n\")\n",
        "  except Exception as err:\n",
        "    print(err)    \n",
        "    \n",
        "\n",
        "def read_file(fileName):\n",
        "  print(f\"Reading {fileName}\")\n",
        "  try:\n",
        "    with open(fileName) as fh:\n",
        "      while(True):\n",
        "        contents = fh.readlines()\n",
        "        if contents:\n",
        "          print(contents)\n",
        "        else:\n",
        "          break\n",
        "  except Exception:\n",
        "    print(\"File do not exist!!\")\n",
        "    \n",
        "def count_records_by_country_code(country):\n",
        "  try:\n",
        "    with open(\"players.dat\") as fh:\n",
        "      listOfRecordElements = []\n",
        "      totalRecords = 0\n",
        "      while(True):        \n",
        "        contents = fh.readlines()        \n",
        "        if contents:                \n",
        "          for rec in contents:\n",
        "            authorName = str(rec).split(\"\\n\")     \n",
        "            listOfRecordElements.append(authorName[0])\n",
        "          recordIndex = 0\n",
        "          for elementsIndex in range(len(listOfRecordElements)):\n",
        "            if ((elementsIndex) % 4) == 2:\n",
        "              if listOfRecordElements[elementsIndex] == country:                \n",
        "                totalRecords += 1\n",
        "        else:\n",
        "          break       \n",
        "    return totalRecords\n",
        "  except Exception as err:\n",
        "    print(err)\n",
        "\n",
        "def display_records(letter):\n",
        "  try:\n",
        "    with open(\"players.dat\") as fh:\n",
        "      listOfRecordElements = []\n",
        "      while(True):        \n",
        "        contents = fh.readlines()        \n",
        "        if contents:          \n",
        "          print(f\"Displaying records where player name starts with '{letter}' :\")\n",
        "          print(\"Code\"+\"     \"+\"Name\"+\"    \"+\"Country\"+\"   \"+\"Total Runs\")\n",
        "          for rec in contents:\n",
        "            authorName = str(rec).split(\"\\n\")     \n",
        "            listOfRecordElements.append(authorName[0])\n",
        "          recordIndex = 0\n",
        "          for elementsIndex in range(len(listOfRecordElements)):\n",
        "            if ((elementsIndex+1) % 2) == 0:\n",
        "              if listOfRecordElements[elementsIndex][0] == letter:                \n",
        "                print(str(listOfRecordElements[elementsIndex-1])+\"     \",end = \" \")\n",
        "                print(str(listOfRecordElements[elementsIndex])+\"   \",end = \" \")\n",
        "                print(str(listOfRecordElements[elementsIndex+1])+\"    \",end = \" \")\n",
        "                print(str(listOfRecordElements[elementsIndex+2]))\n",
        "        else:\n",
        "          break       \n",
        "    \n",
        "  except Exception as err:\n",
        "    print(err)\n",
        "\n",
        "def main():\n",
        "  fileName = \"players.dat\"  \n",
        "  country = \"INDIA\"\n",
        "  letter = 'A'\n",
        "  numRecords = eval(input(\"How many records to add? \"))\n",
        "  for count in range(numRecords):\n",
        "    record = eval(input(\"Enter a record [code, name, country and total runs] as list format: \"))\n",
        "    create_file(fileName,record)\n",
        "  # read_file(fileName)\n",
        "  totalRecords = count_records_by_country_code(country)  \n",
        "  print(f\"Total number of players with country '{country}': {totalRecords}\")  \n",
        "  display_records(letter)\n",
        "main()"
      ],
      "metadata": {
        "colab": {
          "base_uri": "https://localhost:8080/"
        },
        "id": "JQo9svyodrzs",
        "outputId": "659e2a56-e309-4cae-bb2d-cc369c802bdf"
      },
      "execution_count": 27,
      "outputs": [
        {
          "output_type": "stream",
          "name": "stdout",
          "text": [
            "How many records to add? 1\n",
            "Enter a record [code, name, country and total runs] as list format: [1005,\"MATT\",\"QATAR\",3000]\n",
            "Total number of players with country 'INDIA': 4\n",
            "Displaying records where player name starts with 'A' :\n",
            "Code     Name    Country   Total Runs\n",
            "1002      Aziz    INDIA     2000\n",
            "1003      ANDY    INDIA     2500\n"
          ]
        }
      ]
    },
    {
      "cell_type": "markdown",
      "source": [
        "# Given a binary file game.dat, containing records of following list format: [game_name, participants]\n",
        "\n",
        "# Write a function in Python that would read contents from the file game.dat and creates a file named basket.dat copying only those records from game.dat where the game name is \"Basket Ball\""
      ],
      "metadata": {
        "id": "ziO_H3g5lqXC"
      }
    },
    {
      "cell_type": "code",
      "source": [
        "def create_file(fileName,record):\n",
        "  try:\n",
        "    with open(fileName,\"at\") as fh:\n",
        "      for value in record:\n",
        "        fh.write(str(value))\n",
        "        fh.write(\"\\n\")\n",
        "  except Exception as err:\n",
        "    print(err)    \n",
        "    \n",
        "def read_file(fileName):\n",
        "  print(f\"Reading {fileName}\")\n",
        "  try:\n",
        "    with open(fileName) as fh:\n",
        "      while(True):\n",
        "        contents = fh.read()\n",
        "        if contents:\n",
        "          print(contents)\n",
        "        else:\n",
        "          break\n",
        "  except Exception:\n",
        "    print(\"File do not exist!!\")\n",
        "    \n",
        "def copy_contents(fileName,newFileName,gameName):\n",
        "  try:\n",
        "    with open(fileName) as fh:\n",
        "      listOfRecordElements = [] \n",
        "      filteredList = []     \n",
        "      while(True):        \n",
        "        contents = fh.readlines()        \n",
        "        if contents:                \n",
        "          for rec in contents:\n",
        "            authorName = str(rec).split(\"\\n\")     \n",
        "            listOfRecordElements.append(authorName[0])\n",
        "          recordIndex = 0\n",
        "          for elementsIndex in range(len(listOfRecordElements)):\n",
        "            if ((elementsIndex) % 2) == 0:\n",
        "              if listOfRecordElements[elementsIndex] == gameName:                \n",
        "                filteredList.append(listOfRecordElements[elementsIndex])\n",
        "                filteredList.append(listOfRecordElements[elementsIndex+1])\n",
        "        else:\n",
        "          break       \n",
        "    with open(newFileName,\"at\") as fhnew:      \n",
        "      for value in filteredList:\n",
        "        fhnew.write(value) \n",
        "        fhnew.write(\"\\n\")       \n",
        "  except Exception as err:\n",
        "    print(err)\n",
        "\n",
        "def main():\n",
        "  fileName = \"game.dat\"\n",
        "  newFileName = \"basket.dat\"  \n",
        "  gameName = \"Basket Ball\"\n",
        "  numRecords = eval(input(\"How many records to add? \"))\n",
        "  for count in range(numRecords):\n",
        "    record = eval(input(\"Enter a record [game_name, participants] as list format: \"))\n",
        "    create_file(fileName,record)  \n",
        "  read_file(fileName)\n",
        "  copy_contents(fileName,newFileName,gameName)\n",
        "  read_file(newFileName)\n",
        "main()"
      ],
      "metadata": {
        "colab": {
          "base_uri": "https://localhost:8080/"
        },
        "id": "uVpsdaJMdtGV",
        "outputId": "8dd8b52c-5d0a-4eb6-e029-598f3883f32b"
      },
      "execution_count": 28,
      "outputs": [
        {
          "output_type": "stream",
          "name": "stdout",
          "text": [
            "How many records to add? 1\n",
            "Enter a record [game_name, participants] as list format: [\"Squash\",80]\n",
            "Reading game.dat\n",
            "Basket Ball\n",
            "200\n",
            "Cricket\n",
            "500\n",
            "Kabadi\n",
            "50\n",
            "Baseball\n",
            "30\n",
            "Badminton\n",
            "100\n",
            "Squash\n",
            "80\n",
            "\n",
            "Reading basket.dat\n",
            "Basket Ball\n",
            "200\n",
            "\n"
          ]
        }
      ]
    },
    {
      "cell_type": "code",
      "source": [],
      "metadata": {
        "id": "16H7e8CwkSLP"
      },
      "execution_count": null,
      "outputs": []
    }
  ]
}