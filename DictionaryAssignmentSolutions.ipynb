{
  "nbformat": 4,
  "nbformat_minor": 0,
  "metadata": {
    "colab": {
      "provenance": [],
      "collapsed_sections": [],
      "authorship_tag": "ABX9TyOxAL1XhFYymXt3ro6fK/2v",
      "include_colab_link": true
    },
    "kernelspec": {
      "name": "python3",
      "display_name": "Python 3"
    },
    "language_info": {
      "name": "python"
    }
  },
  "cells": [
    {
      "cell_type": "markdown",
      "metadata": {
        "id": "view-in-github",
        "colab_type": "text"
      },
      "source": [
        "<a href=\"https://colab.research.google.com/github/karrthikmohank/PythonPrograms/blob/main/DictionaryAssignmentSolutions.ipynb\" target=\"_parent\"><img src=\"https://colab.research.google.com/assets/colab-badge.svg\" alt=\"Open In Colab\"/></a>"
      ]
    },
    {
      "cell_type": "markdown",
      "source": [
        "# Initialize a dictionary \"emp_info\" with below details\n",
        "# In - emp_info['Tom']\n",
        "# Out - {'email':'tom_latham019@gmail.com', 'Phone': +1987654321, 'City': 'California'}\n",
        "\n",
        "# In - emp_info['Kathy']\n",
        "# Out - {'email':'kathy_abram897@gmail.com', 'Phone': +1887654321, 'City': 'New York'}\n",
        "\n"
      ],
      "metadata": {
        "id": "rCT78BouO26E"
      }
    },
    {
      "cell_type": "code",
      "execution_count": 2,
      "metadata": {
        "colab": {
          "base_uri": "https://localhost:8080/"
        },
        "id": "nzjzgRQAN-Y8",
        "outputId": "4fa2668d-7c8b-462e-f4f9-e131b41d2302"
      },
      "outputs": [
        {
          "output_type": "stream",
          "name": "stdout",
          "text": [
            "{'email': 'tom_latham019@gmail.com', 'Phone': 1987654321, 'City': 'California'}\n",
            "{'email': 'kathy_abram897@gmail.com', 'Phone': 1887654321, 'City': 'New York'}\n"
          ]
        }
      ],
      "source": [
        "print(\"Initialize a dictionary \"emp_info\" with below details\")\n",
        "emp_info = {'Tom':{'email':'tom_latham019@gmail.com', 'Phone': +1987654321, 'City': 'California'},'Kathy':{'email':'kathy_abram897@gmail.com', 'Phone': +1887654321, 'City': 'New York'}}\n",
        "print(emp_info['Tom'])\n",
        "print(emp_info['Kathy'])"
      ]
    },
    {
      "cell_type": "markdown",
      "source": [
        "# Create a dictionary out of below inputs\n",
        "# lst1 = ['emp1', 'emp2', 'emp3']\n",
        "# emp_key = ['e_name', 'e_id', 'e_sal']\n",
        "# emp1_val = ['John', 'SG101', '\\$10,000']\n",
        "# emp2_val = ['Smith', 'SG102', '\\$9,000']\n",
        "# emp3_val = ['Peter', 'SG103', '\\$9,500']\n",
        "\n",
        "# Expected Output:- {'emp1':{'e_name':'John', 'e_id':'SG101', 'e_sal':\\$10,000}, \n",
        "#                    'emp2':{'e_name':'Smith', 'e_id':'SG102', 'e_sal':\\$9,000}, \n",
        "#                    'emp3':{'e_name':'Peter', 'e_id':'SG103', 'e_sal':\\$9,500}}\n",
        "\n"
      ],
      "metadata": {
        "id": "vAbGhU8IPend"
      }
    },
    {
      "cell_type": "code",
      "source": [
        "print(\"Create a dictionary out of below inputs\")\n",
        "lst1 = ['emp1', 'emp2', 'emp3']\n",
        "emp_key = ['e_name', 'e_id', 'e_sal']\n",
        "emp1_val = ['John', 'SG101', '$10,000']\n",
        "emp2_val = ['Smith', 'SG102', '$9,000']\n",
        "emp3_val = ['Peter', 'SG103', '$9,500']\n",
        "\n",
        "employee_details = {lst1[0]:{emp_key[0]:emp1_val[0],emp_key[1]:emp1_val[1],emp_key[2]:emp1_val[2]},\\\n",
        "                    lst1[1]:{emp_key[0]:emp2_val[0],emp_key[1]:emp2_val[1],emp_key[2]:emp2_val[2]},\\\n",
        "                    lst1[2]:{emp_key[0]:emp3_val[0],emp_key[1]:emp3_val[1],emp_key[2]:emp3_val[2]}}\n",
        "print(employee_details)"
      ],
      "metadata": {
        "colab": {
          "base_uri": "https://localhost:8080/"
        },
        "id": "KNVv9H4fPP_X",
        "outputId": "4ed415d4-6720-4351-b00d-50e7ce056241"
      },
      "execution_count": 4,
      "outputs": [
        {
          "output_type": "stream",
          "name": "stdout",
          "text": [
            "{'emp1': {'e_name': 'John', 'e_id': 'SG101', 'e_sal': '$10,000'}, 'emp2': {'e_name': 'Smith', 'e_id': 'SG102', 'e_sal': '$9,000'}, 'emp3': {'e_name': 'Peter', 'e_id': 'SG103', 'e_sal': '$9,500'}}\n"
          ]
        }
      ]
    },
    {
      "cell_type": "markdown",
      "source": [
        "# Access the value of key 'history'\n",
        "\n",
        "sampleDict = { \n",
        "   \"class\":{ \n",
        "      \"student\":{ \n",
        "         \"name\":\"Mike\",\n",
        "         \"marks\":{ \n",
        "            \"physics\":70,\n",
        "            \"history\":80\n",
        "         }\n",
        "      }\n",
        "   }\n",
        "}\n",
        "\n",
        "\n"
      ],
      "metadata": {
        "id": "AjuJlq93clc8"
      }
    },
    {
      "cell_type": "code",
      "source": [
        "print(\"Access the value of key 'history\")\n",
        "sampleDict = { \n",
        "   \"class\":{ \n",
        "      \"student\":{ \n",
        "         \"name\":\"Mike\",\n",
        "         \"marks\":{ \n",
        "            \"physics\":70,\n",
        "            \"history\":80\n",
        "         }\n",
        "      }\n",
        "   }\n",
        "}\n",
        "\n",
        "print(sampleDict['class']['student']['marks']['history'])"
      ],
      "metadata": {
        "colab": {
          "base_uri": "https://localhost:8080/"
        },
        "id": "v5lGiO-ZcNOX",
        "outputId": "426a4bce-2024-46b9-b592-2c03825246f1"
      },
      "execution_count": 5,
      "outputs": [
        {
          "output_type": "stream",
          "name": "stdout",
          "text": [
            "80\n"
          ]
        }
      ]
    },
    {
      "cell_type": "markdown",
      "source": [
        "# Initialize dictionary with default values. Inputs are:-\n",
        "# employees = ['Kelly', 'Emma', 'John']\n",
        "# defaults = {\"designation\": 'Application Developer', \"salary\": 8000}\n",
        "\n",
        "#Expected output:- {'Kelly': {'designation': 'Application Developer', 'salary': 8000}, \n",
        "#                   'Emma': {'designation': 'Application Developer', 'salary': 8000}, \n",
        "#                   'John': {'designation': 'Application Developer', 'salary': 8000}}\n",
        "\n",
        "\n"
      ],
      "metadata": {
        "id": "RB1DUGWwda8o"
      }
    },
    {
      "cell_type": "code",
      "source": [
        "print(\"Initialize dictionary with default values.\")\n",
        "employees = ['Kelly', 'Emma', 'John']\n",
        "defaults = {\"designation\": 'Application Developer', \"salary\": 8000}\n",
        "employee_details = {}\n",
        "employee_details.setdefault('Kelly',defaults)\n",
        "employee_details.setdefault('Emma',defaults)\n",
        "employee_details.setdefault('John',defaults)\n",
        "print(employee_details)"
      ],
      "metadata": {
        "colab": {
          "base_uri": "https://localhost:8080/"
        },
        "id": "CzecwxL4dN1g",
        "outputId": "fc465bf9-7f54-4d98-cb0d-7ffdf6ed4046"
      },
      "execution_count": 7,
      "outputs": [
        {
          "output_type": "stream",
          "name": "stdout",
          "text": [
            "{'Kelly': {'designation': 'Application Developer', 'salary': 8000}, 'Emma': {'designation': 'Application Developer', 'salary': 8000}, 'John': {'designation': 'Application Developer', 'salary': 8000}}\n"
          ]
        }
      ]
    },
    {
      "cell_type": "markdown",
      "source": [
        "# In gene expression, mRNA is transcribed from a DNA template. \n",
        "# The 4 nucleotide bases of A, T, C, G corresponds to the U, A, G, C bases of the mRNA. \n",
        "# Write a function that returns the mRNA transcript given the sequence of a DNA strand.\n",
        "\n",
        "# Use a dictionary to provide the mapping of DNA to RNA bases."
      ],
      "metadata": {
        "id": "enIabNzpsIfK"
      }
    },
    {
      "cell_type": "code",
      "source": [
        "print(\"Function that returns the mRNA transcript given the sequence of a DNA strand.\")\n",
        "def mRNATranscription(dnaStrand):\n",
        "  dna2rna = {'A':'U','T':'A','C':'G','G':'C'}\n",
        "  rna = \"\"\n",
        "  for bases in dnaStrand:\n",
        "    rna += dna2rna[bases]\n",
        "  return rna\n",
        "\n",
        "print(mRNATranscription(\"GCATCGGCACCCTTTCAGCA\"))"
      ],
      "metadata": {
        "colab": {
          "base_uri": "https://localhost:8080/"
        },
        "id": "dgrCVgywrxbd",
        "outputId": "893c5584-5561-4928-c811-c806e344024c"
      },
      "execution_count": 11,
      "outputs": [
        {
          "output_type": "stream",
          "name": "stdout",
          "text": [
            "CGUAGCCGUGGGAAAGUCGU\n"
          ]
        }
      ]
    },
    {
      "cell_type": "markdown",
      "source": [
        "# Write a function which takes a word as input and returns a dictionary with letters as key and no of time letters are repeated as value.\n",
        "# In - count_letter('google.com')\n",
        "# Out - {'g': 2, 'o': 3, 'l': 1, 'e': 1, '.': 1, 'c': 1, 'm': 1}"
      ],
      "metadata": {
        "id": "kqUJw-L5yAvL"
      }
    },
    {
      "cell_type": "code",
      "source": [
        "print(\"Function which takes a word as input and returns a dictionary with letters as key and no of time letters are repeated as value.\")\n",
        "def count_letter(word):\n",
        "  dict_map = {}\n",
        "  for letters in word:\n",
        "    if letters not in dict_map:\n",
        "      dict_map.setdefault(letters,1)\n",
        "    else:\n",
        "      value = dict_map.get(letters)\n",
        "      value += 1\n",
        "      dict_map[letters] = value\n",
        "  return dict_map\n",
        "\n",
        "print(\"In - count_letter('google.com')\")\n",
        "print(\"Out - \"+str(count_letter('google.com')))"
      ],
      "metadata": {
        "colab": {
          "base_uri": "https://localhost:8080/"
        },
        "id": "7jXCrehKxT_d",
        "outputId": "178fba10-74d2-45ed-8605-182524d379d0"
      },
      "execution_count": 13,
      "outputs": [
        {
          "output_type": "stream",
          "name": "stdout",
          "text": [
            "In - count_letter('google.com')\n",
            "Out - {'g': 2, 'o': 3, 'l': 1, 'e': 1, '.': 1, 'c': 1, 'm': 1}\n"
          ]
        }
      ]
    },
    {
      "cell_type": "markdown",
      "source": [
        "# A DNA strand consisting of the 4 nucleotide bases is usually represented with a string of letters: A,T, C, G. \n",
        "# Write a function that computes the base composition of a given DNA sequence.\n",
        "\n",
        "# In - baseComposition(\"CTATCGGCACCCTTTCAGCA\")\n",
        "# Out - {'A': 4, 'C': 8, 'T': 5,  'G': 3 }\n",
        "    \n",
        "# In - baseComposition(\"AGT\")\n",
        "# Out - {'A': 1, 'C': 0, 'T': 1,  'G': 1 }"
      ],
      "metadata": {
        "id": "JiQixPeB0sb8"
      }
    },
    {
      "cell_type": "code",
      "source": [
        "print(\"Function that computes the base composition of a given DNA sequence.\")\n",
        "def baseComposition(dnaSequence):\n",
        "  dnaStrand = {'A':0,'T':0,'C':0,'G':0}  \n",
        "  for bases in dnaSequence:    \n",
        "    values = dnaStrand.get(bases)\n",
        "    values += 1\n",
        "    dnaStrand[bases] = values\n",
        "  return dnaStrand\n",
        "\n",
        "print('In - baseComposition(\"CTATCGGCACCCTTTCAGCA\")')\n",
        "print(\"Out - \"+str(baseComposition(\"CTATCGGCACCCTTTCAGCA\")))\n",
        "print('In - baseComposition(\"AGT\")')\n",
        "print(\"Out - \"+str(baseComposition(\"AGT\")))\n"
      ],
      "metadata": {
        "colab": {
          "base_uri": "https://localhost:8080/"
        },
        "id": "T2uMR-vg0bC1",
        "outputId": "91a259a4-56d4-4ff9-ca47-e940fb15328f"
      },
      "execution_count": 20,
      "outputs": [
        {
          "output_type": "stream",
          "name": "stdout",
          "text": [
            "Function that computes the base composition of a given DNA sequence.\n",
            "In - baseComposition(\"CTATCGGCACCCTTTCAGCA\")\n",
            "Out - {'A': 4, 'T': 5, 'C': 8, 'G': 3}\n",
            "In - baseComposition(\"AGT\")\n",
            "Out - {'A': 1, 'T': 1, 'C': 0, 'G': 1}\n"
          ]
        }
      ]
    },
    {
      "cell_type": "markdown",
      "source": [
        "# [MCQ] Suppose \"d\" is an empty dictionary, which statement does not assign \"d\" with {\"Name\":\"Tom\"}? \n",
        "# 1. d = {\"Name\": \"Tom\" }\n",
        "# 2. d[\"Name\"] = \"Tom\"\n",
        "# 3. d.update({\"Name\": \"Tom\" })\n",
        "# 4. d.setdefault(\"Name\", \"Tom\")\n",
        "# 5. None of the above."
      ],
      "metadata": {
        "id": "Hwgh2OaD-3oa"
      }
    },
    {
      "cell_type": "markdown",
      "source": [
        "# Ans- Option (5) - None of the above."
      ],
      "metadata": {
        "id": "Ueb0JvMX_mMO"
      }
    },
    {
      "cell_type": "code",
      "source": [
        "d = {}\n",
        "d = {\"Name\": \"Tom\" }\n",
        "print(d)"
      ],
      "metadata": {
        "colab": {
          "base_uri": "https://localhost:8080/"
        },
        "id": "jqmgc2u99XMK",
        "outputId": "28722265-c428-4b31-96bc-6c5dcd6e3881"
      },
      "execution_count": 21,
      "outputs": [
        {
          "output_type": "stream",
          "name": "stdout",
          "text": [
            "{'Name': 'Tom'}\n"
          ]
        }
      ]
    },
    {
      "cell_type": "code",
      "source": [
        "d = {}\n",
        "d[\"Name\"] = \"Tom\"\n",
        "print(d)"
      ],
      "metadata": {
        "colab": {
          "base_uri": "https://localhost:8080/"
        },
        "id": "toS4-sFI_DSK",
        "outputId": "a667e710-ffa8-4f53-c182-5514caeaeba2"
      },
      "execution_count": 22,
      "outputs": [
        {
          "output_type": "stream",
          "name": "stdout",
          "text": [
            "{'Name': 'Tom'}\n"
          ]
        }
      ]
    },
    {
      "cell_type": "code",
      "source": [
        "d = {}\n",
        "d.update({\"Name\": \"Tom\" })\n",
        "print(d)"
      ],
      "metadata": {
        "colab": {
          "base_uri": "https://localhost:8080/"
        },
        "id": "P0auDL9d_KPS",
        "outputId": "6ef1331d-0811-4f0f-8ca4-0db97c160d80"
      },
      "execution_count": 23,
      "outputs": [
        {
          "output_type": "stream",
          "name": "stdout",
          "text": [
            "{'Name': 'Tom'}\n"
          ]
        }
      ]
    },
    {
      "cell_type": "code",
      "source": [
        "d = {}\n",
        "d.setdefault(\"Name\", \"Tom\")\n",
        "print(d)"
      ],
      "metadata": {
        "colab": {
          "base_uri": "https://localhost:8080/"
        },
        "id": "Yo2WyDf__X4w",
        "outputId": "a6008a3d-fca2-4a57-824a-03a36af6e6e7"
      },
      "execution_count": 24,
      "outputs": [
        {
          "output_type": "stream",
          "name": "stdout",
          "text": [
            "{'Name': 'Tom'}\n"
          ]
        }
      ]
    },
    {
      "cell_type": "markdown",
      "source": [
        "# [MCQ]* d = {\"a\":1, \"b\":2}. Which of the statements returns [1,2]? \n",
        "# 1. d.keys()\n",
        "# 2. d.values()\n",
        "# 3. d.items()\n",
        "# 4. d.popitem()\n",
        "# 5. None of the above."
      ],
      "metadata": {
        "id": "sRxAdnAH_tHI"
      }
    },
    {
      "cell_type": "markdown",
      "source": [
        "# Ans- Option (5) - None of the above\n",
        "# Option (2) - d.values() - returns dict_values([1,2]) not list [1,2]\n"
      ],
      "metadata": {
        "id": "8ysXrijAADkC"
      }
    },
    {
      "cell_type": "code",
      "source": [
        "d = {\"a\":1, \"b\":2}\n",
        "print(d.keys())\n"
      ],
      "metadata": {
        "colab": {
          "base_uri": "https://localhost:8080/"
        },
        "id": "iSxj_AjN_kN2",
        "outputId": "8d20005f-b151-41f5-d07b-6f93fafc9840"
      },
      "execution_count": 31,
      "outputs": [
        {
          "output_type": "stream",
          "name": "stdout",
          "text": [
            "dict_keys(['a', 'b'])\n",
            "dict_keys(['a', 'b'])\n"
          ]
        }
      ]
    },
    {
      "cell_type": "code",
      "source": [
        "d = {\"a\":1, \"b\":2}\n",
        "print(d.values())\n"
      ],
      "metadata": {
        "colab": {
          "base_uri": "https://localhost:8080/"
        },
        "id": "cGDXZhnB_-v5",
        "outputId": "506cb3c0-1e38-4bd6-fae5-e7401043dcb2"
      },
      "execution_count": 33,
      "outputs": [
        {
          "output_type": "stream",
          "name": "stdout",
          "text": [
            "dict_values([1, 2])\n"
          ]
        }
      ]
    },
    {
      "cell_type": "code",
      "source": [
        "d = {\"a\":1, \"b\":2}\n",
        "print(d.items())"
      ],
      "metadata": {
        "colab": {
          "base_uri": "https://localhost:8080/"
        },
        "id": "3Ho3GgPZAYLo",
        "outputId": "49733d54-4ca8-45d5-c108-87b2514f35d0"
      },
      "execution_count": 28,
      "outputs": [
        {
          "output_type": "stream",
          "name": "stdout",
          "text": [
            "dict_items([('a', 1), ('b', 2)])\n"
          ]
        }
      ]
    },
    {
      "cell_type": "code",
      "source": [
        "d = {\"a\":1, \"b\":2}\n",
        "print(d.popitem())"
      ],
      "metadata": {
        "colab": {
          "base_uri": "https://localhost:8080/"
        },
        "id": "kbdhvaFSAdyA",
        "outputId": "dc6f24ba-d842-4e87-f9ec-3f4867ebaec4"
      },
      "execution_count": 29,
      "outputs": [
        {
          "output_type": "stream",
          "name": "stdout",
          "text": [
            "('b', 2)\n"
          ]
        }
      ]
    },
    {
      "cell_type": "markdown",
      "source": [
        "# [MCQ] Which of the following declarations is not valid for 'dict' type?\n",
        "# 1. d = {\"Name\": \"Tom\" }\n",
        "# 2. d = { (1,3,4): 4.5 }\n",
        "# 3. d = { [\"First\", \"Last\"]: (1,3) }\n",
        "# 4. d = { 1: 0.4 }\n",
        "# 5. None of the above"
      ],
      "metadata": {
        "id": "KthDR6unB80u"
      }
    },
    {
      "cell_type": "markdown",
      "source": [
        "# Option - (3) - d = { [\"First\", \"Last\"]: (1,3) }\n",
        "# TypeError: unhashable type: 'list'"
      ],
      "metadata": {
        "id": "6mHPvhaLCWPT"
      }
    },
    {
      "cell_type": "code",
      "source": [
        "d = {\"Name\": \"Tom\" }\n",
        "print(type(d))"
      ],
      "metadata": {
        "colab": {
          "base_uri": "https://localhost:8080/"
        },
        "id": "29GRBeX2As2r",
        "outputId": "231fe797-c9eb-4ca0-a20f-f73c4746cd1a"
      },
      "execution_count": 34,
      "outputs": [
        {
          "output_type": "stream",
          "name": "stdout",
          "text": [
            "<class 'dict'>\n"
          ]
        }
      ]
    },
    {
      "cell_type": "code",
      "source": [
        "d = { (1,3,4): 4.5 }\n",
        "print(type(d))"
      ],
      "metadata": {
        "colab": {
          "base_uri": "https://localhost:8080/"
        },
        "id": "97orwyWOCgh2",
        "outputId": "33df2d91-87ce-4401-f638-0ac07c0767d4"
      },
      "execution_count": 35,
      "outputs": [
        {
          "output_type": "stream",
          "name": "stdout",
          "text": [
            "<class 'dict'>\n"
          ]
        }
      ]
    },
    {
      "cell_type": "code",
      "source": [
        "d = { [\"First\", \"Last\"]: (1,3) }\n",
        "print(type(d))"
      ],
      "metadata": {
        "colab": {
          "base_uri": "https://localhost:8080/",
          "height": 183
        },
        "id": "s9-8ZnjmCkIs",
        "outputId": "03cf5919-8b2a-4d90-96ed-499170618708"
      },
      "execution_count": 36,
      "outputs": [
        {
          "output_type": "error",
          "ename": "TypeError",
          "evalue": "ignored",
          "traceback": [
            "\u001b[0;31m---------------------------------------------------------------------------\u001b[0m",
            "\u001b[0;31mTypeError\u001b[0m                                 Traceback (most recent call last)",
            "\u001b[0;32m<ipython-input-36-acb6903825e0>\u001b[0m in \u001b[0;36m<module>\u001b[0;34m\u001b[0m\n\u001b[0;32m----> 1\u001b[0;31m \u001b[0md\u001b[0m \u001b[0;34m=\u001b[0m \u001b[0;34m{\u001b[0m \u001b[0;34m[\u001b[0m\u001b[0;34m\"First\"\u001b[0m\u001b[0;34m,\u001b[0m \u001b[0;34m\"Last\"\u001b[0m\u001b[0;34m]\u001b[0m\u001b[0;34m:\u001b[0m \u001b[0;34m(\u001b[0m\u001b[0;36m1\u001b[0m\u001b[0;34m,\u001b[0m\u001b[0;36m3\u001b[0m\u001b[0;34m)\u001b[0m \u001b[0;34m}\u001b[0m\u001b[0;34m\u001b[0m\u001b[0;34m\u001b[0m\u001b[0m\n\u001b[0m\u001b[1;32m      2\u001b[0m \u001b[0mprint\u001b[0m\u001b[0;34m(\u001b[0m\u001b[0mtype\u001b[0m\u001b[0;34m(\u001b[0m\u001b[0md\u001b[0m\u001b[0;34m)\u001b[0m\u001b[0;34m)\u001b[0m\u001b[0;34m\u001b[0m\u001b[0;34m\u001b[0m\u001b[0m\n",
            "\u001b[0;31mTypeError\u001b[0m: unhashable type: 'list'"
          ]
        }
      ]
    },
    {
      "cell_type": "code",
      "source": [
        "d = { 1: 0.4 }\n",
        "print(type(d))"
      ],
      "metadata": {
        "colab": {
          "base_uri": "https://localhost:8080/"
        },
        "id": "t-J--gbUCofN",
        "outputId": "e73dbb98-14a1-42c9-93c7-be5c25504909"
      },
      "execution_count": 37,
      "outputs": [
        {
          "output_type": "stream",
          "name": "stdout",
          "text": [
            "<class 'dict'>\n"
          ]
        }
      ]
    },
    {
      "cell_type": "markdown",
      "source": [
        "# Write a function reverseLookup(dictionary, value) that takes in a dictionary \n",
        "# and a value as arguments and returns a sorted list of all keys that contains the value. \n",
        "# The function will return an empty list if no match is found.\n",
        "\n",
        "# In - reverseLookup({'a':1, 'b':2, 'c':2}, 1)\n",
        "# Out - ['a']\n",
        "# In - reverseLookup({'a':1, 'b':2, 'c':2}, 2)\n",
        "# Out - ['b', 'c']\n",
        "# In - reverseLookup({'a':1, 'b':2, 'c':2}, 3)\n",
        "# Out - []"
      ],
      "metadata": {
        "id": "fos0tHn-DKB5"
      }
    },
    {
      "cell_type": "code",
      "source": [
        "print(\"Function reverseLookup(dictionary, value) that takes in a dictionary and a value as arguments and returns a sorted list of all keys that contains the value.\")\n",
        "\n",
        "def reverseLookup(input_dict,inputValue):  \n",
        "  outputList = []  \n",
        "  for dictKeys,dictValues in input_dict.items():        \n",
        "    if dictValues == inputValue:      \n",
        "      outputList.append(dictKeys)\n",
        "      outputList.sort()      \n",
        "  return outputList\n",
        "\n",
        "print(\"In - reverseLookup({'a':1, 'b':2, 'c':2}, 1)\")\n",
        "print(\"Out - \"+str(reverseLookup({'a':1, 'b':2, 'c':2}, 1)))\n",
        "print(\"In - reverseLookup({'a':1, 'b':2, 'c':2}, 2)\")\n",
        "print(\"Out - \"+str(reverseLookup({'a':1, 'b':2, 'c':2}, 2)))\n",
        "print(\"In - reverseLookup({'a':1, 'b':2, 'c':2}, 3)\")\n",
        "print(\"Out - \"+str(reverseLookup({'a':1, 'b':2, 'c':2}, 3)))"
      ],
      "metadata": {
        "colab": {
          "base_uri": "https://localhost:8080/"
        },
        "id": "H2imPV4cCx1p",
        "outputId": "9a1a1c5f-1fe3-41d5-b80a-50c6eb0e1df9"
      },
      "execution_count": 55,
      "outputs": [
        {
          "output_type": "stream",
          "name": "stdout",
          "text": [
            "Function reverseLookup(dictionary, value) that takes in a dictionary and a value as arguments and returns a sorted list of all keys that contains the value.\n",
            "In - reverseLookup({'a':1, 'b':2, 'c':2}, 1)\n",
            "Out - ['a']\n",
            "In - reverseLookup({'a':1, 'b':2, 'c':2}, 2)\n",
            "Out - ['b', 'c']\n",
            "In - reverseLookup({'a':1, 'b':2, 'c':2}, 3)\n",
            "Out - []\n"
          ]
        }
      ]
    },
    {
      "cell_type": "markdown",
      "source": [
        "# Write a function invertDictionary(d) that takes in a dictionary as argument and return a dictionary that inverts the keys and the values of the original dictionary.\n",
        "# In - invertDictionary({'a':1, 'b':2, 'c':3, 'd':2})\n",
        "# Out - {1: ['a'], 2: ['b', 'd'], 3: ['c']}\n",
        "# In - invertDictionary({'a':3, 'b':3, 'c':3})\n",
        "# Out - {3: ['a', 'c', 'b']}\n",
        "# In - invertDictionary({'a':2, 'b':1, 'c':2, 'd':1})\n",
        "# Out - {1: ['b', 'd'], 2: ['a', 'c']}"
      ],
      "metadata": {
        "id": "F8czMHFpaHjv"
      }
    },
    {
      "cell_type": "code",
      "source": [
        "print(\"function invertDictionary(d) that takes in a dictionary as argument and return a dictionary that inverts the keys and the values of the original dictionary.\")\n",
        "\n",
        "def invertDictionary(input_dict):  \n",
        "  outputDict = {}  \n",
        "  for dictKeys,dictValues in input_dict.items():        \n",
        "    if dictValues not in outputDict:      \n",
        "      outputDict.setdefault(dictValues,[dictKeys])\n",
        "    else:       \n",
        "      valueList = outputDict[dictValues]\n",
        "      valueList.append(dictKeys)      \n",
        "      outputDict[dictValues] = valueList\n",
        "  return outputDict\n",
        "\n",
        "print(\"In - invertDictionary({'a':1, 'b':2, 'c':3, 'd':2})\")\n",
        "print(\"Out - \"+str(invertDictionary({'a':1, 'b':2, 'c':3, 'd':2})))\n",
        "print(\"In - invertDictionary({'a':3, 'b':3, 'c':3})\")\n",
        "print(\"Out - \"+str(invertDictionary({'a':3, 'b':3, 'c':3})))\n",
        "print(\"In - invertDictionary({'a':2, 'b':1, 'c':2, 'd':1})\")\n",
        "print(\"Out - \"+str(invertDictionary({'a':2, 'b':1, 'c':2, 'd':1})))"
      ],
      "metadata": {
        "colab": {
          "base_uri": "https://localhost:8080/"
        },
        "id": "NITmnVM6WPkQ",
        "outputId": "fcd69ed6-c751-4d58-d65e-03fc7331e5ae"
      },
      "execution_count": 62,
      "outputs": [
        {
          "output_type": "stream",
          "name": "stdout",
          "text": [
            "function invertDictionary(d) that takes in a dictionary as argument and return a dictionary that inverts the keys and the values of the original dictionary.\n",
            "In - invertDictionary({'a':1, 'b':2, 'c':3, 'd':2})\n",
            "Out - {1: ['a'], 2: ['b', 'd'], 3: ['c']}\n",
            "In - invertDictionary({'a':3, 'b':3, 'c':3})\n",
            "Out - {3: ['a', 'b', 'c']}\n",
            "In - invertDictionary({'a':2, 'b':1, 'c':2, 'd':1})\n",
            "Out - {2: ['a', 'c'], 1: ['b', 'd']}\n"
          ]
        }
      ]
    },
    {
      "cell_type": "markdown",
      "source": [
        "# Write a function that converts a sparse vector into a dictionary as described above.\n",
        "# In - convertVector([1, 0, 0, 2, 0, 0, 0, 3, 0, 0, 0, 0, 4])\n",
        "# Out - {0: 1, 3: 2, 7: 3, 12: 4}\n",
        "# In - convertVector([1, 0, 1 , 0, 2, 0, 1, 0, 0, 1, 0])\n",
        "# Out - {0: 1, 2: 1, 4: 2, 6: 1, 9: 1}\n",
        "# In - convertVector([0, 0, 0, 0, 0])\n",
        "# Out - {}"
      ],
      "metadata": {
        "id": "4oQ0Cu9Gglg9"
      }
    },
    {
      "cell_type": "code",
      "source": [
        "print(\"Function that converts a sparse vector into a dictionary\")\n",
        "\n",
        "def convertVector(inputList):\n",
        "  outputDict = {}\n",
        "  for cnt in range(len(inputList)):\n",
        "    if inputList[cnt] != 0:\n",
        "      outputDict[cnt] = inputList[cnt] \n",
        "  return outputDict\n",
        "print(\"In - convertVector([1, 0, 0, 2, 0, 0, 0, 3, 0, 0, 0, 0, 4])\")\n",
        "print(\"Out - \"+str(convertVector([1, 0, 0, 2, 0, 0, 0, 3, 0, 0, 0, 0, 4])))\n",
        "print(\"In - convertVector([1, 0, 1 , 0, 2, 0, 1, 0, 0, 1, 0])\")\n",
        "print(\"Out - \"+str(convertVector([1, 0, 1 , 0, 2, 0, 1, 0, 0, 1, 0])))\n",
        "print(\"In - convertVector([0, 0, 0, 0, 0])\")\n",
        "print(\"Out - \"+str(convertVector([0, 0, 0, 0, 0])))"
      ],
      "metadata": {
        "colab": {
          "base_uri": "https://localhost:8080/"
        },
        "id": "hvKlmN6iZAdg",
        "outputId": "56bcb5d2-d3e5-4030-9746-8502573808ed"
      },
      "execution_count": 63,
      "outputs": [
        {
          "output_type": "stream",
          "name": "stdout",
          "text": [
            "Function that converts a sparse vector into a dictionary\n",
            "In - convertVector([1, 0, 0, 2, 0, 0, 0, 3, 0, 0, 0, 0, 4])\n",
            "Out - {0: 1, 3: 2, 7: 3, 12: 4}\n",
            "In - convertVector([1, 0, 1 , 0, 2, 0, 1, 0, 0, 1, 0])\n",
            "Out - {0: 1, 2: 1, 4: 2, 6: 1, 9: 1}\n",
            "In - convertVector([0, 0, 0, 0, 0])\n",
            "Out - {}\n"
          ]
        }
      ]
    },
    {
      "cell_type": "markdown",
      "source": [
        "# Write a function that converts a dictionary back to its sparse vector representation.\n",
        "# In - convertDictionary({0: 1, 3: 2, 7: 3, 12: 4})\n",
        "# Out - [1, 0, 0, 2, 0, 0, 0, 3, 0, 0, 0, 0, 4]\n",
        "# In - convertDictionary({0: 1, 2: 1, 4: 2, 6: 1, 9: 1})\n",
        "# Out - [1, 0, 1, 0, 2, 0, 1, 0, 0, 1]\n",
        "# In - convertDictionary({})\n",
        "# Out - []"
      ],
      "metadata": {
        "id": "SfW9Edn2i3Iv"
      }
    },
    {
      "cell_type": "code",
      "source": [
        "print(\"Function that converts a dictionary back to its sparse vector representation\")\n",
        "\n",
        "def convertDictionary(inputDict):  \n",
        "  if inputDict != {}:\n",
        "    outputList = [0]*(max(inputDict.keys())+1)\n",
        "  else:\n",
        "    outputList = []\n",
        "  \n",
        "  for keys,values in inputDict.items():\n",
        "    outputList[keys] = values\n",
        "  return outputList\n",
        "print(\"In - convertDictionary({0: 1, 3: 2, 7: 3, 12: 4})\")\n",
        "print(\"Out - \"+str(convertDictionary({0: 1, 3: 2, 7: 3, 12: 4})))\n",
        "print(\"In - convertDictionary({0: 1, 2: 1, 4: 2, 6: 1, 9: 1})\")\n",
        "print(\"Out - \"+str(convertDictionary({0: 1, 2: 1, 4: 2, 6: 1, 9: 1})))\n",
        "print(\"In - convertDictionary({})\")\n",
        "print(\"Out - \"+str(convertDictionary({})))"
      ],
      "metadata": {
        "colab": {
          "base_uri": "https://localhost:8080/"
        },
        "id": "zfVWVrvCivc7",
        "outputId": "0e5e6675-25fd-4333-cc71-dc33f154b700"
      },
      "execution_count": 77,
      "outputs": [
        {
          "output_type": "stream",
          "name": "stdout",
          "text": [
            "Function that converts a dictionary back to its sparse vector representation\n",
            "In - convertDictionary({0: 1, 3: 2, 7: 3, 12: 4})\n",
            "Out - [1, 0, 0, 2, 0, 0, 0, 3, 0, 0, 0, 0, 4]\n",
            "In - convertDictionary({0: 1, 2: 1, 4: 2, 6: 1, 9: 1})\n",
            "Out - [1, 0, 1, 0, 2, 0, 1, 0, 0, 1]\n",
            "In - convertDictionary({})\n",
            "Out - []\n"
          ]
        }
      ]
    },
    {
      "cell_type": "markdown",
      "source": [
        "# Given a Python dictionary, Change Brad’s salary to 8500\n",
        "# sampleDict = {\n",
        "#      'emp1': {'name': 'Jhon', 'salary': 7500},\n",
        "#      'emp2': {'name': 'Emma', 'salary': 8000},\n",
        "#      'emp3': {'name': 'Brad', 'salary': 6500}\n",
        "# }\n",
        "\n",
        "# Expected Output\n",
        "# sampleDict = {\n",
        "#      'emp1': {'name': 'Jhon', 'salary': 7500},\n",
        "#      'emp2': {'name': 'Emma', 'salary': 8000},\n",
        "#      'emp3': {'name': 'Brad', 'salary': 8500}\n",
        "# }"
      ],
      "metadata": {
        "id": "0kqMIkKxoLOX"
      }
    },
    {
      "cell_type": "code",
      "source": [
        "sampleDict = {\n",
        "     'emp1': {'name': 'Jhon', 'salary': 7500},\n",
        "     'emp2': {'name': 'Emma', 'salary': 8000},\n",
        "     'emp3': {'name': 'Brad', 'salary': 6500}\n",
        "}\n",
        "sampleDict['emp3']['salary'] = 8500\n",
        "print(sampleDict)\n"
      ],
      "metadata": {
        "colab": {
          "base_uri": "https://localhost:8080/"
        },
        "id": "siiYkcMlk12l",
        "outputId": "c0baa2de-8c49-45b2-ac17-6992f2e76872"
      },
      "execution_count": 78,
      "outputs": [
        {
          "output_type": "stream",
          "name": "stdout",
          "text": [
            "{'emp1': {'name': 'Jhon', 'salary': 7500}, 'emp2': {'name': 'Emma', 'salary': 8000}, 'emp3': {'name': 'Brad', 'salary': 8500}}\n"
          ]
        }
      ]
    },
    {
      "cell_type": "markdown",
      "source": [
        "# Get the key corresponding to the minimum value from the following dictionary\n",
        "# sampleDict = {\n",
        "#   'Physics': 82,\n",
        "#   'Math': 65,\n",
        "#   'history': 75\n",
        "# }\n",
        "\n",
        "# Expected Output\n",
        "# Math"
      ],
      "metadata": {
        "id": "ssv-AxSPoj2t"
      }
    },
    {
      "cell_type": "code",
      "source": [
        "sampleDict = {\n",
        "'Physics': 82,\n",
        "'Math': 65,\n",
        "'history': 75\n",
        "}\n",
        "\n",
        "minValue = min(sampleDict.values())\n",
        "for keys,value in sampleDict.items():\n",
        "  if value == minValue:\n",
        "    print(keys)\n",
        "    break"
      ],
      "metadata": {
        "colab": {
          "base_uri": "https://localhost:8080/"
        },
        "id": "gL3acwGElPC6",
        "outputId": "98bfa9e5-2a11-408d-8470-80b38d9fc552"
      },
      "execution_count": 81,
      "outputs": [
        {
          "output_type": "stream",
          "name": "stdout",
          "text": [
            "Math\n"
          ]
        }
      ]
    },
    {
      "cell_type": "markdown",
      "source": [
        "# Rename key city to location in the following dictionary\n",
        "# sampleDict = {\n",
        "#   \"name\": \"Kelly\",\n",
        "#   \"age\":25,\n",
        "#   \"salary\": 8000,\n",
        "#   \"city\": \"New york\"\n",
        "# }\n",
        "\n",
        "# Expected Output\n",
        "# {\n",
        "#   \"name\": \"Kelly\",\n",
        "#   \"age\":25,\n",
        "#   \"salary\": 8000,\n",
        "#   \"location\": \"New york\"\n",
        "# }"
      ],
      "metadata": {
        "id": "T_M31c2WrzzK"
      }
    },
    {
      "cell_type": "markdown",
      "source": [
        "# Using pop function"
      ],
      "metadata": {
        "id": "SFBv_kdttVDT"
      }
    },
    {
      "cell_type": "code",
      "source": [
        "sampleDict = {\n",
        "\"name\": \"Kelly\",\n",
        "\"age\":25,\n",
        "\"salary\": 8000,\n",
        "\"city\": \"New york\"\n",
        "}\n",
        "sampleDict['location'] = \"New york\"\n",
        "sampleDict.pop(\"city\")\n",
        "print(\"Expected Output\")\n",
        "print(sampleDict)"
      ],
      "metadata": {
        "colab": {
          "base_uri": "https://localhost:8080/"
        },
        "id": "IdaWn4qJpyc8",
        "outputId": "61730436-48fe-4dd7-979c-735cc6bb886e"
      },
      "execution_count": 87,
      "outputs": [
        {
          "output_type": "stream",
          "name": "stdout",
          "text": [
            "Expected Output\n",
            "{'name': 'Kelly', 'age': 25, 'salary': 8000, 'location': 'New york'}\n"
          ]
        }
      ]
    },
    {
      "cell_type": "markdown",
      "source": [
        "# Without using dictionary methods - pop()"
      ],
      "metadata": {
        "id": "-y69kQNHtY-y"
      }
    },
    {
      "cell_type": "code",
      "source": [
        "sampleDict = {\n",
        "\"name\": \"Kelly\",\n",
        "\"age\":25,\n",
        "\"salary\": 8000,\n",
        "\"city\": \"New york\"\n",
        "}\n",
        "sampleDict['location'] = \"New york\"\n",
        "outputDict = {}\n",
        "for key, value in sampleDict.items():\n",
        "  if key != 'city':\n",
        "    outputDict[key] = value\n",
        "print(\"Expected Output\")\n",
        "print(outputDict)"
      ],
      "metadata": {
        "colab": {
          "base_uri": "https://localhost:8080/"
        },
        "id": "LDkisZWGr4N8",
        "outputId": "8bf0a58c-3753-40bc-b27a-977d0933aa10"
      },
      "execution_count": 88,
      "outputs": [
        {
          "output_type": "stream",
          "name": "stdout",
          "text": [
            "Expected Output\n",
            "{'name': 'Kelly', 'age': 25, 'salary': 8000, 'location': 'New york'}\n"
          ]
        }
      ]
    },
    {
      "cell_type": "markdown",
      "source": [
        "# Check if a value 200 exists in a dictionary\n",
        "# sampleDict = {'a': 100, 'b': 200, 'c': 300}\n",
        "\n",
        "# Expected Output: True"
      ],
      "metadata": {
        "id": "N5WESJzruPD3"
      }
    },
    {
      "cell_type": "code",
      "source": [
        "sampleDict = {'a': 100, 'b': 200, 'c': 300}\n",
        "valueFound = False\n",
        "for key,value in sampleDict.items():\n",
        "  if value == 200:\n",
        "    valueFound = True\n",
        "    print(\"Expected Output: \"+str(True))\n",
        "    break\n",
        "if valueFound == False:\n",
        "  print(\"Value not found!!!\")"
      ],
      "metadata": {
        "colab": {
          "base_uri": "https://localhost:8080/"
        },
        "id": "DnAch30uuA4d",
        "outputId": "f58440a5-d0da-4c23-b15c-00c65e00a350"
      },
      "execution_count": 96,
      "outputs": [
        {
          "output_type": "stream",
          "name": "stdout",
          "text": [
            "Expected Output: True\n"
          ]
        }
      ]
    },
    {
      "cell_type": "markdown",
      "source": [
        "# Delete set of keys from Python Dictionary\n",
        "# sampleDict = {\n",
        "#   \"name\": \"Kelly\",\n",
        "#   \"age\":25,\n",
        "#   \"salary\": 8000,\n",
        "#   \"city\": \"New york\"\n",
        "  \n",
        "# }\n",
        "# keysToRemove = [\"name\", \"salary\"]\n",
        "\n",
        "# Expected Output:\n",
        "# {'city': 'New york', 'age': 25}"
      ],
      "metadata": {
        "id": "E0ZvfL_YvfZb"
      }
    },
    {
      "cell_type": "code",
      "source": [
        "sampleDict = {\n",
        "\"name\": \"Kelly\",\n",
        "\"age\":25,\n",
        "\"salary\": 8000,\n",
        "\"city\": \"New york\"\n",
        "}\n",
        "keysToRemove = [\"name\", \"salary\"]\n",
        "outputDict = {}\n",
        "for key, value in sampleDict.items():\n",
        "  if key not in keysToRemove:\n",
        "    outputDict[key] = value\n",
        "print(\"Expected Output\")\n",
        "print(outputDict)"
      ],
      "metadata": {
        "colab": {
          "base_uri": "https://localhost:8080/"
        },
        "id": "k_6AHRHyufId",
        "outputId": "3fc354ad-f057-47be-a8f0-f1e861c57ef7"
      },
      "execution_count": 97,
      "outputs": [
        {
          "output_type": "stream",
          "name": "stdout",
          "text": [
            "Expected Output\n",
            "{'age': 25, 'city': 'New york'}\n"
          ]
        }
      ]
    },
    {
      "cell_type": "code",
      "source": [],
      "metadata": {
        "id": "4s91urtjv4eZ"
      },
      "execution_count": null,
      "outputs": []
    }
  ]
}