{
  "nbformat": 4,
  "nbformat_minor": 0,
  "metadata": {
    "colab": {
      "provenance": [],
      "collapsed_sections": [],
      "authorship_tag": "ABX9TyMH6wnuue/VEWj07BXz0B2y",
      "include_colab_link": true
    },
    "kernelspec": {
      "name": "python3",
      "display_name": "Python 3"
    },
    "language_info": {
      "name": "python"
    }
  },
  "cells": [
    {
      "cell_type": "markdown",
      "metadata": {
        "id": "view-in-github",
        "colab_type": "text"
      },
      "source": [
        "<a href=\"https://colab.research.google.com/github/karrthikmohank/PythonPrograms/blob/main/FunctionAssignmentSolutions.ipynb\" target=\"_parent\"><img src=\"https://colab.research.google.com/assets/colab-badge.svg\" alt=\"Open In Colab\"/></a>"
      ]
    },
    {
      "cell_type": "markdown",
      "source": [
        "# Define a function calls addNumber(x, y) that takes in two number and returns the sum of the two numbers.\n"
      ],
      "metadata": {
        "id": "5ZEdPc9VEfXd"
      }
    },
    {
      "cell_type": "code",
      "source": [
        "def addNumber(x,y):\n",
        "  return x + y\n",
        "\n",
        "a = 10\n",
        "b = 30\n",
        "print(f\"The sum of two numbers {a} and {b} is {addNumber(a,b)}\")"
      ],
      "metadata": {
        "colab": {
          "base_uri": "https://localhost:8080/"
        },
        "id": "vxQE4julx7Ge",
        "outputId": "74defffb-de5f-41a8-9290-c72005fe3e5e"
      },
      "execution_count": null,
      "outputs": [
        {
          "output_type": "stream",
          "name": "stdout",
          "text": [
            "The sum of two numbers 10 and 30 is 40\n"
          ]
        }
      ]
    },
    {
      "cell_type": "markdown",
      "source": [
        "# Define a function calls subtractNumber(x, y) that takes in two numbers and returns the difference of the two numbers.\n",
        "\n"
      ],
      "metadata": {
        "id": "b3OuuoszFWBg"
      }
    },
    {
      "cell_type": "code",
      "source": [
        "def subtractNumber(x,y):\n",
        "  return x - y\n",
        "\n",
        "a = 40\n",
        "b = 30\n",
        "print(f\"The difference of two numbers {a} and {b} is {subtractNumber(a,b)}\")"
      ],
      "metadata": {
        "colab": {
          "base_uri": "https://localhost:8080/"
        },
        "id": "xwkwxkNpE-Cr",
        "outputId": "dbbf1e66-0d94-4fdf-d074-2eb5d1068dcb"
      },
      "execution_count": null,
      "outputs": [
        {
          "output_type": "stream",
          "name": "stdout",
          "text": [
            "The difference of two numbers 40 and 30 is 10\n"
          ]
        }
      ]
    },
    {
      "cell_type": "markdown",
      "source": [
        "# Write a function getBiggerNumber(x, y) that takes in two numbers as arguments and returns the bigger number.\n",
        "\n",
        "\n"
      ],
      "metadata": {
        "id": "5bnmUcpxIEa9"
      }
    },
    {
      "cell_type": "code",
      "source": [
        "def getBiggerNumber(x, y):\n",
        "  if x > y:\n",
        "    return x\n",
        "  else:\n",
        "    return y\n",
        "\n",
        "a = 40\n",
        "b = 30\n",
        "print(f\"The bigger number between two numbers {a} and {b} is {getBiggerNumber(a,b)}\")\n",
        "b = 60\n",
        "print(f\"The bigger number between two numbers {a} and {b} is {getBiggerNumber(a,b)}\")"
      ],
      "metadata": {
        "colab": {
          "base_uri": "https://localhost:8080/"
        },
        "id": "r5UJBh2jFhZm",
        "outputId": "ce1804b8-dd8e-4f74-dbbb-fb13f7e5153e"
      },
      "execution_count": null,
      "outputs": [
        {
          "output_type": "stream",
          "name": "stdout",
          "text": [
            "The bigger number between two numbers 40 and 30 is 40\n",
            "The bigger number between two numbers 40 and 60 is 60\n"
          ]
        }
      ]
    },
    {
      "cell_type": "markdown",
      "source": [
        "# Python provides many built-in modules with many useful functions. \n",
        "# One such module is the math module. The math module provides many useful functions such as sqrt(x), pow(x, y), ceil(x), floor(x) etc. \n",
        "# You will need to do a \"import math\" before you are allowed to use the functions within the math module.\n",
        "\n",
        "\n",
        "# Calculate the square root of 16 and stores it in the variable a\n",
        "\n",
        "\n",
        "# Calculate 3 to the power of 5 and stores it in the variable b\n",
        "\n",
        "\n",
        "# Calculate area of circle with radius = 3.0 by making use of the math.pi constant and store it in the variable c\n",
        "\n"
      ],
      "metadata": {
        "id": "wt2oVX7iIseX"
      }
    },
    {
      "cell_type": "code",
      "source": [
        "import math\n",
        "\n",
        "a = math.sqrt(16)\n",
        "print(f\"The square root of 16 is {a}\")\n",
        "b = math.pow(3,5)\n",
        "print(f\"The 3 to power of 5 is {b}\")\n",
        "area = math.pi*(3.0)**2\n",
        "print(f\"The area of circle with radius 3.0 is {area}\")"
      ],
      "metadata": {
        "colab": {
          "base_uri": "https://localhost:8080/"
        },
        "id": "Qb4zO_mAIgrj",
        "outputId": "282e1ace-2672-43be-ad76-7370dda6677c"
      },
      "execution_count": null,
      "outputs": [
        {
          "output_type": "stream",
          "name": "stdout",
          "text": [
            "The square root of 16 is 4.0\n",
            "The 3 to power of 5 is 243.0\n",
            "The area of circle with radius 3.0 is 28.274333882308138\n"
          ]
        }
      ]
    },
    {
      "cell_type": "markdown",
      "source": [
        "# Write a function to convert temperature from Celsius to Fahrenheit scale.\n",
        "# oC to oF Conversion: Multipy by 9, then divide by 5, then add 32.\n",
        "\n",
        "# Note: Return a string of 2 decimal places.\n",
        "# In - Cel2Fah(28.0)\n",
        "# Out - '82.40'\n",
        "# In - Cel2Fah(0.00)\n",
        "# Out - '32.00'"
      ],
      "metadata": {
        "id": "9byH3bXm_7Jx"
      }
    },
    {
      "cell_type": "code",
      "source": [
        "def Cel2Fah(tempInCelsius):\n",
        "  tempInFah = ((tempInCelsius*9)/5)+32\n",
        "  return \"{0:.2f}\".format(tempInFah)\n",
        "\n",
        "print(\"In - Cel2Fah(28.0)\")\n",
        "print(\"Out - \",end=' ')\n",
        "print(Cel2Fah(28.0))\n",
        "\n",
        "print(\"In - Cel2Fah(0.00)\")\n",
        "print(\"Out - \",end=' ')\n",
        "print(Cel2Fah(0.00))"
      ],
      "metadata": {
        "id": "UFayhTKXJP-g",
        "colab": {
          "base_uri": "https://localhost:8080/"
        },
        "outputId": "737715a7-5dda-469c-97a5-043a03b2ff3d"
      },
      "execution_count": null,
      "outputs": [
        {
          "output_type": "stream",
          "name": "stdout",
          "text": [
            "In - Cel2Fah(28.0)\n",
            "Out -  82.40\n",
            "In - Cel2Fah(0.00)\n",
            "Out -  32.00\n"
          ]
        }
      ]
    },
    {
      "cell_type": "markdown",
      "source": [
        "# Write a function to compute the BMI of a person.\n",
        "#     BMI = weight(kg)  /  ( height(m)*height(m) )\n",
        "\n",
        "# Note: Return a string of 1 decimal place.\n",
        "# In - BMI(63, 1.7)\n",
        "# Out - '21.8'\n",
        "# In - BMI(110, 2)\n",
        "# Out - '27.5'\n",
        "\n"
      ],
      "metadata": {
        "id": "2DW0k5cECD0R"
      }
    },
    {
      "cell_type": "code",
      "source": [
        "def BMI(wt,ht):\n",
        "  bmi = wt / (ht**2)\n",
        "  return \"{0:.1f}\".format(bmi)\n",
        "\n",
        "print(\"In - BMI(63, 1.7)\")\n",
        "print(\"Out - \"+BMI(63, 1.7))\n",
        "print(\"In - BMI(110, 2)\")\n",
        "print(\"Out - \"+BMI(110, 2))"
      ],
      "metadata": {
        "colab": {
          "base_uri": "https://localhost:8080/"
        },
        "id": "p2dIxtEEA8Es",
        "outputId": "d346910a-731f-48e8-eb07-6072e59dd75c"
      },
      "execution_count": null,
      "outputs": [
        {
          "output_type": "stream",
          "name": "stdout",
          "text": [
            "In - BMI(63, 1.7)\n",
            "Out - 21.8\n",
            "In - BMI(110, 2)\n",
            "Out - 27.5\n"
          ]
        }
      ]
    },
    {
      "cell_type": "markdown",
      "source": [
        "# Write a function percent(value, total) that takes in two numbers as arguments, and returns the percentage value as an integer.\n",
        "# In - percent(46, 90)\n",
        "# Out - 51\n",
        "# In - percent(51, 51)\n",
        "# Out - 100\n",
        "# In - percent(63, 12)\n",
        "# Out - 525\n",
        "\n"
      ],
      "metadata": {
        "id": "qLdAnEY4Ek4p"
      }
    },
    {
      "cell_type": "code",
      "source": [
        "def percent(value, total):\n",
        "  return (value/total)*100\n",
        "\n",
        "print(\"In - percent(46, 90)\")\n",
        "print(\"Out - \"+str(int(percent(46, 90))))\n",
        "\n",
        "print(\"In - percent(51, 51)\")\n",
        "print(\"Out - \"+str(int(percent(51, 51))))\n",
        "\n",
        "print(\"In - percent(63, 12)\")\n",
        "print(\"Out - \"+str(int(percent(63, 12))))"
      ],
      "metadata": {
        "colab": {
          "base_uri": "https://localhost:8080/"
        },
        "id": "sTz9t3slCnV9",
        "outputId": "ef799a9c-bac3-4fbb-a507-767c1bc00b31"
      },
      "execution_count": null,
      "outputs": [
        {
          "output_type": "stream",
          "name": "stdout",
          "text": [
            "In - percent(46, 90)\n",
            "Out - 51\n",
            "In - percent(51, 51)\n",
            "Out - 100\n",
            "In - percent(63, 12)\n",
            "Out - 525\n"
          ]
        }
      ]
    },
    {
      "cell_type": "markdown",
      "source": [
        "# Write a function to compute the hypotenuse given sides a and b of the triangle.\n",
        "# Hint: You can use math.sqrt(x) to compute the square root of x.\n",
        "# In - hypotenuse(3, 4)\n",
        "# Out - 5\n",
        "# In - hypotenuse(5, 12)\n",
        "# Out - 13\n",
        "\n"
      ],
      "metadata": {
        "id": "aJ9cLjWPFPAn"
      }
    },
    {
      "cell_type": "code",
      "source": [
        "import math\n",
        "def hypotenuse(a, b):\n",
        "  return math.sqrt(a**2+b**2)\n",
        "\n",
        "print(\"In - hypotenuse(3, 4)\")\n",
        "print(\"Out - \"+str(int(hypotenuse(3, 4))))\n",
        "print(\"In - hypotenuse(5, 12)\")\n",
        "print(\"Out - \"+str(int(hypotenuse(5, 12))))\n"
      ],
      "metadata": {
        "colab": {
          "base_uri": "https://localhost:8080/"
        },
        "id": "5Bm1FZ40E9at",
        "outputId": "3b3420ff-1644-478f-b992-40b3416fda19"
      },
      "execution_count": null,
      "outputs": [
        {
          "output_type": "stream",
          "name": "stdout",
          "text": [
            "In - hypotenuse(3, 4)\n",
            "Out - 5\n",
            "In - hypotenuse(5, 12)\n",
            "Out - 13\n"
          ]
        }
      ]
    },
    {
      "cell_type": "markdown",
      "source": [
        "# Write a function getSumOfLastDigits() that takes in a list of positive numbers and returns the sum of all the last digits in the list.\n",
        "# getSumOfLastDigits([2, 3, 4])\n",
        "# 9\n",
        "# getSumOfLastDigits([1, 23, 456])\n",
        "# 10"
      ],
      "metadata": {
        "id": "RLkeWhx7LzTX"
      }
    },
    {
      "cell_type": "code",
      "source": [
        "def getSumOfLastDigits(inputList):\n",
        "  total = 0\n",
        "  for elements in inputList:\n",
        "    total += (elements%10)\n",
        "  return total\n",
        "\n",
        "print(\"In - getSumOfLastDigits([2, 3, 4])\")\n",
        "print(f\"Out - {getSumOfLastDigits([2, 3, 4])}\")\n",
        "print(\"In - getSumOfLastDigits([1, 23, 456])\")\n",
        "print(f\"Out - {getSumOfLastDigits([1, 23, 456])}\")"
      ],
      "metadata": {
        "colab": {
          "base_uri": "https://localhost:8080/"
        },
        "id": "Aqq6d11XOGI2",
        "outputId": "96c2e0b3-d946-4ccc-9360-313dc4a31d6d"
      },
      "execution_count": null,
      "outputs": [
        {
          "output_type": "stream",
          "name": "stdout",
          "text": [
            "In - getSumOfLastDigits([2, 3, 4])\n",
            "Out - 9\n",
            "In - getSumOfLastDigits([1, 23, 456])\n",
            "Out - 10\n"
          ]
        }
      ]
    },
    {
      "cell_type": "markdown",
      "source": [
        "# Write a function that uses a default value.\n",
        "# In - introduce('Lim', 20)\n",
        "# Out - 'My name is Lim. I am 20 years old.'\n",
        "# In - introduce('Ahmad')\n",
        "# Out - 'My name is Ahmad. My age is secret.'\n",
        "\n"
      ],
      "metadata": {
        "id": "uJ8mjsh1V-2-"
      }
    },
    {
      "cell_type": "code",
      "source": [
        "def introduce(name,age=-1):\n",
        "  if age != -1:\n",
        "    print(f\"My name is {name}. I am {age} years old.\")\n",
        "  else:\n",
        "    print(f\"My name is {name}. My age is secret.\")\n",
        "\n",
        "print(\"In - introduce('Lim', 20)\")\n",
        "print(\"Out - \",end='')\n",
        "introduce('Lim', 20)\n",
        "print(\"In - introduce('Ahmad')\")\n",
        "print(\"Out - \",end='')\n",
        "introduce('Ahmad')"
      ],
      "metadata": {
        "colab": {
          "base_uri": "https://localhost:8080/"
        },
        "id": "HIdJx_amLQkc",
        "outputId": "87f4c9bb-b97b-4836-bbc9-984fc0e979c4"
      },
      "execution_count": 1,
      "outputs": [
        {
          "output_type": "stream",
          "name": "stdout",
          "text": [
            "In - introduce('Lim', 20)\n",
            "Out - My name is Lim. I am 20 years old.\n",
            "In - introduce('Ahmad')\n",
            "Out - My name is Ahmad. My age is secret.\n"
          ]
        }
      ]
    },
    {
      "cell_type": "markdown",
      "source": [
        "# Write a function isEquilateral(x, y, z) that accepts the 3 sides of a triangle as arguments. \n",
        "# The program should return True if it is an equilateral triangle.\n",
        "\n",
        "# In - isEquilateral(2, 4, 3)\n",
        "# Out - False\n",
        "# In - isEquilateral(3, 3, 3)\n",
        "# Out - True\n",
        "# In - isEquilateral(-3, -3, -3)\n",
        "# *Out - False"
      ],
      "metadata": {
        "id": "lEkkkiycXW99"
      }
    },
    {
      "cell_type": "code",
      "source": [
        "from math import acos, degrees\n",
        "def isEquilateral(A, B, C):\n",
        "  if A == B == C:\n",
        "    angle1 = round(degrees(acos((A * A + B * B - C * C)/(2.0 * A * B))))\n",
        "    angle2 = round(degrees(acos((B * B + C * C - A * A)/(2.0 * B * C))))\n",
        "    angle3 = round(degrees(acos((C * C + A * A - B * B)/(2.0 * C * A))))\n",
        "    if angle1 == angle2 == angle3:\n",
        "      return True\n",
        "    else:\n",
        "      return False\n",
        "  else:\n",
        "    return False\n",
        "\n",
        "print(\"In - isEquilateral(2, 4, 3)\")\n",
        "print(\"Out - \"+str(isEquilateral(2, 4, 3)))\n",
        "print(\"In - isEquilateral(3, 3, 3)\")\n",
        "print(\"Out - \"+str(isEquilateral(3, 3, 3)))\n",
        "print(\"In - isEquilateral(-3, -3, -3)\")\n",
        "print(\"Out - \"+str(isEquilateral(-3, -3, -3)))\n"
      ],
      "metadata": {
        "colab": {
          "base_uri": "https://localhost:8080/"
        },
        "id": "Zrg5Dc9ZNlBs",
        "outputId": "fe15d537-3a5d-46b1-e8c0-75ec9ef39365"
      },
      "execution_count": 2,
      "outputs": [
        {
          "output_type": "stream",
          "name": "stdout",
          "text": [
            "In - isEquilateral(2, 4, 3)\n",
            "Out - False\n",
            "In - isEquilateral(3, 3, 3)\n",
            "Out - True\n",
            "In - isEquilateral(-3, -3, -3)\n",
            "Out - True\n"
          ]
        }
      ]
    },
    {
      "cell_type": "markdown",
      "source": [
        "# For a quadratic equation in the form of ax2+bx+c, the discriminant, D is b2-4ac. Write a function to compute the discriminant, D.\n",
        "# In - quadratic(1, 2, 3)\n",
        "# Out - 'The discriminant is -8.'\n",
        "# In - quadratic(1, 3, 2)\n",
        "# Out - 'The discriminant is 1.'\n",
        "# In - quadratic(1, 4, 4)\n",
        "# Out - 'The discriminant is 0.'\n",
        "\n",
        "\n"
      ],
      "metadata": {
        "id": "ikpFwfCnAXvJ"
      }
    },
    {
      "cell_type": "code",
      "source": [
        "def quadratic(a,b,c):\n",
        "  d = b**2 - 4*a*c\n",
        "  return d\n",
        "\n",
        "print(\"In - quadratic(1, 2, 3)\")\n",
        "print(\"Out - \"+str(quadratic(1,2,3)))\n",
        "print(\"In - quadratic(1, 3, 2)\")\n",
        "print(\"Out - \"+str(quadratic(1,3,2)))\n",
        "print(\"In - quadratic(1, 4, 4)\")\n",
        "print(\"Out - \"+str(quadratic(1,4,4)))"
      ],
      "metadata": {
        "colab": {
          "base_uri": "https://localhost:8080/"
        },
        "id": "ST2AU2mRvuzS",
        "outputId": "e854b36c-7a27-47f1-b2b6-dd9cfb95306d"
      },
      "execution_count": 3,
      "outputs": [
        {
          "output_type": "stream",
          "name": "stdout",
          "text": [
            "In - quadratic(1, 2, 3)\n",
            "Out - -8\n",
            "In - quadratic(1, 3, 2)\n",
            "Out - 1\n",
            "In - quadratic(1, 4, 4)\n",
            "Out - 0\n"
          ]
        }
      ]
    },
    {
      "cell_type": "markdown",
      "source": [
        "# Define a function calls addFirstAndLast(x) that takes in a list of numbers and returns the sum of the first and last numbers.\n",
        "# In - addFirstAndLast([])\n",
        "# Out - 0\n",
        "# In - addFirstAndLast([2, 7, 3])\n",
        "# Out - 5\n",
        "# In - addFirstAndLast([10])\n",
        "# Out - 10\n",
        "\n"
      ],
      "metadata": {
        "id": "N1tN26f1GCh9"
      }
    },
    {
      "cell_type": "code",
      "source": [
        "def addFirstAndLast(lst):\n",
        "  total = 0\n",
        "  if len(lst) > 1:\n",
        "    total = total + lst[0] + lst[-1]\n",
        "  elif len(lst) == 1:\n",
        "    total = total + lst[0]\n",
        "  return total\n",
        "\n",
        "print(\"In - addFirstAndLast([])\")\n",
        "print(\"Out - \"+str(addFirstAndLast([])))\n",
        "print(\"In - addFirstAndLast([2,7,3])\")\n",
        "print(\"Out - \"+str(addFirstAndLast([2,7,3])))\n",
        "print(\"In - addFirstAndLast([10])\")\n",
        "print(\"Out - \"+str(addFirstAndLast([10])))\n"
      ],
      "metadata": {
        "colab": {
          "base_uri": "https://localhost:8080/"
        },
        "id": "YRS--KCaxOo1",
        "outputId": "ca71fb93-73b2-4c93-abc5-fe66d71b2aef"
      },
      "execution_count": null,
      "outputs": [
        {
          "output_type": "stream",
          "name": "stdout",
          "text": [
            "In - addFirstAndLast([])\n",
            "Out - 0\n",
            "In - addFirstAndLast([2,7,3])\n",
            "Out - 5\n",
            "In - addFirstAndLast([10])\n",
            "Out - 10\n"
          ]
        }
      ]
    },
    {
      "cell_type": "markdown",
      "source": [
        "# Complete the 'lambda' expression so that it returns True if the argument is an even number, and False otherwise.\n",
        "\n",
        "### (lambda num : ---------------------------------------)(6)"
      ],
      "metadata": {
        "id": "esEXsmT9KJLb"
      }
    },
    {
      "cell_type": "code",
      "source": [
        "(lambda num : print(True) if num % 2 == 0 else print(False))(6)\n"
      ],
      "metadata": {
        "colab": {
          "base_uri": "https://localhost:8080/"
        },
        "id": "biobv0RkHRON",
        "outputId": "070692e9-b410-4d5e-ed78-5e314f994e38"
      },
      "execution_count": null,
      "outputs": [
        {
          "output_type": "stream",
          "name": "stdout",
          "text": [
            "True\n"
          ]
        }
      ]
    },
    {
      "cell_type": "markdown",
      "source": [
        "# Get the documentation of below function\n",
        "\n",
        "###def getScore():\n",
        "  ###    ''''A function that computes and returns the final score.'''\n",
        "  ###     pass"
      ],
      "metadata": {
        "id": "vFNmsB46MLmi"
      }
    },
    {
      "cell_type": "code",
      "source": [
        "# Get the documentation of below function\n",
        "\n",
        "def getScore():\n",
        "  ''''A function that computes and returns the final score.'''\n",
        "  pass\n",
        "\n",
        "help(getScore)"
      ],
      "metadata": {
        "colab": {
          "base_uri": "https://localhost:8080/"
        },
        "id": "8Hdqeo4EKZLo",
        "outputId": "c5399d79-0b80-412e-b449-f1719b4d0187"
      },
      "execution_count": null,
      "outputs": [
        {
          "output_type": "stream",
          "name": "stdout",
          "text": [
            "Help on function getScore in module __main__:\n",
            "\n",
            "getScore()\n",
            "    'A function that computes and returns the final score.\n",
            "\n"
          ]
        }
      ]
    },
    {
      "cell_type": "markdown",
      "source": [
        "# In Python, it is possible to pass a function as a argument to another function. \n",
        "# Write a function useFunction(func, num) that takes in a function and a number as arguments. \n",
        "# The useFunction should produce the output shown in the examples given below.\n",
        "\n",
        "# def addOne(x):\n",
        "#   return x + 1\n",
        "# useFunction(addOne, 4)\n",
        "# 25\n",
        "# useFunction(addOne, 9)\n",
        "# 100\n",
        "# useFunction(addOne, 0)\n",
        "# 1\n"
      ],
      "metadata": {
        "id": "NX2b0YXKM6ur"
      }
    },
    {
      "cell_type": "code",
      "source": [
        "def addOne(x):\n",
        "  return x + 1\n",
        "\n",
        "def useFunction(func,numArg):\n",
        "  total = 0\n",
        "  cnt = 0\n",
        "  while (cnt <= numArg):\n",
        "    total += func(numArg)\n",
        "    cnt += 1\n",
        "  return total\n",
        "\n",
        "print(\"In - useFunction(addOne, 4)\")\n",
        "print(\"Out - \"+str(useFunction(addOne, 4)))\n",
        "print(\"In - useFunction(addOne, 9)\")\n",
        "print(\"Out - \"+str(useFunction(addOne, 9)))\n",
        "print(\"In - useFunction(addOne, 0)\")\n",
        "print(\"Out - \"+str(useFunction(addOne, 0)))"
      ],
      "metadata": {
        "colab": {
          "base_uri": "https://localhost:8080/"
        },
        "id": "YPz21f-8MoRQ",
        "outputId": "d0c1509f-5cd6-41c9-ed1f-21214b28b135"
      },
      "execution_count": null,
      "outputs": [
        {
          "output_type": "stream",
          "name": "stdout",
          "text": [
            "In - useFunction(addOne, 4)\n",
            "Out - 25\n",
            "In - useFunction(addOne, 9)\n",
            "Out - 100\n",
            "In - useFunction(addOne, 0)\n",
            "Out - 1\n"
          ]
        }
      ]
    },
    {
      "cell_type": "markdown",
      "source": [
        "# Write a function find_max that accepts three numbers as arguments and returns the largest number among three. \n",
        "# Write another function main, in main() function accept three numbers from user and call find_max."
      ],
      "metadata": {
        "id": "UT5gITrNRguW"
      }
    },
    {
      "cell_type": "code",
      "source": [
        "def find_max(a,b,c):\n",
        "  return max(a,b,c)\n",
        "\n",
        "def main():\n",
        "  a = eval(input(\"Enter first number: \"))\n",
        "  b = eval(input(\"Enter second number: \"))\n",
        "  c = eval(input(\"Enter third number: \"))\n",
        "  largest = find_max(a,b,c)\n",
        "  print(f\"The largest among three numbers {a}. {b} and {c} is {largest}\")\n",
        "\n",
        "main()"
      ],
      "metadata": {
        "colab": {
          "base_uri": "https://localhost:8080/"
        },
        "id": "_dIOenLtO627",
        "outputId": "88907693-5c2c-46b5-9c22-ce1397ab7df5"
      },
      "execution_count": null,
      "outputs": [
        {
          "output_type": "stream",
          "name": "stdout",
          "text": [
            "Enter first number: 34\n",
            "Enter second number: 12\n",
            "Enter third number: 79\n",
            "The largest among three numbers 34. 12 and 79 is 79\n"
          ]
        }
      ]
    },
    {
      "cell_type": "markdown",
      "source": [
        "# Write a function, is_vowel that returns the value true if a given character is a vowel, and otherwise returns false. \n",
        "# Write another function main, in main() function accept a string from user and count number of vowels in that string.\n"
      ],
      "metadata": {
        "id": "lLiKIJqgTFz1"
      }
    },
    {
      "cell_type": "code",
      "source": [
        "def is_vowel(letter):\n",
        "  if (letter.lower() == 'a') or (letter.lower() == 'e') or (letter.lower() == 'i') or\\\n",
        "     (letter.lower() == 'o') or (letter.lower() == 'u'):\n",
        "    return True\n",
        "  else:\n",
        "    return False\n",
        "\n",
        "def main():\n",
        "  numVowel = 0\n",
        "  string = input(\"Enter a string: \")\n",
        "  for char in string:\n",
        "    if is_vowel(char):\n",
        "      numVowel += 1\n",
        "  print(f\"Number of vowels in the string: {numVowel}\")\n",
        "\n",
        "main()"
      ],
      "metadata": {
        "colab": {
          "base_uri": "https://localhost:8080/"
        },
        "id": "GmmGXkYuSvJo",
        "outputId": "c771bc6e-acad-4948-8e5b-fd5af909ec06"
      },
      "execution_count": null,
      "outputs": [
        {
          "output_type": "stream",
          "name": "stdout",
          "text": [
            "Enter a string: Python is fun\n",
            "Number of vowels in the string: 3\n"
          ]
        }
      ]
    },
    {
      "cell_type": "markdown",
      "source": [
        "# Write a function named is_prime, which takes an integer as an argument and returns true if the argument is a prime number, or false otherwise. \n",
        "# Also, write the main function that displays prime numbers between 1 to 500."
      ],
      "metadata": {
        "id": "nZz2FzTQZ6is"
      }
    },
    {
      "cell_type": "code",
      "source": [
        "def is_prime(num):\n",
        "  factors = 0\n",
        "  isPrime = False\n",
        "  for i in range(1,num+1):\n",
        "    if num % i == 0:\n",
        "      factors += 1\n",
        "    if factors > 2:\n",
        "      isPrime = False\n",
        "      break;\n",
        "  if factors == 2:\n",
        "    isPrime = True    \n",
        "  return isPrime\n",
        "\n",
        "def main():\n",
        "  print(\"Prime numbers between 1 to 500\")\n",
        "  numPrime = 0\n",
        "  for num in range(1,501,1):\n",
        "    checkPrime = is_prime(num)\n",
        "    if checkPrime:\n",
        "      numPrime += 1\n",
        "      print(f\"{num}\",end=\" \")\n",
        "      if numPrime % 10 == 0:\n",
        "        print(\"\\n\")\n",
        "main() "
      ],
      "metadata": {
        "colab": {
          "base_uri": "https://localhost:8080/"
        },
        "id": "EqghPElcU4bb",
        "outputId": "d4242007-da8e-4897-d4d3-50d957b20231"
      },
      "execution_count": null,
      "outputs": [
        {
          "output_type": "stream",
          "name": "stdout",
          "text": [
            "Prime numbers between 1 to 500\n",
            "2 3 5 7 11 13 17 19 23 29 \n",
            "\n",
            "31 37 41 43 47 53 59 61 67 71 \n",
            "\n",
            "73 79 83 89 97 101 103 107 109 113 \n",
            "\n",
            "127 131 137 139 149 151 157 163 167 173 \n",
            "\n",
            "179 181 191 193 197 199 211 223 227 229 \n",
            "\n",
            "233 239 241 251 257 263 269 271 277 281 \n",
            "\n",
            "283 293 307 311 313 317 331 337 347 349 \n",
            "\n",
            "353 359 367 373 379 383 389 397 401 409 \n",
            "\n",
            "419 421 431 433 439 443 449 457 461 463 \n",
            "\n",
            "467 479 487 491 499 "
          ]
        }
      ]
    },
    {
      "cell_type": "markdown",
      "source": [
        "# Write a function in python to find the sum of the cube of elements in a list. \n",
        "# The list is received as an argument to the function, in turn, the function must return the sum. \n",
        "# Write the main function which invokes the above function."
      ],
      "metadata": {
        "id": "tpTxffcZd7rL"
      }
    },
    {
      "cell_type": "code",
      "source": [
        "def sumCubeElements(lst):\n",
        "  outputLst = []\n",
        "  for elements in lst:\n",
        "    outputLst.append(elements**3)\n",
        "  return sum(outputLst)\n",
        "\n",
        "def main():\n",
        "  lst = eval(input(\"Enter a list: \"))\n",
        "  print(\"Sum of the elements in the list: \"+str(sumCubeElements(lst)))\n",
        "\n",
        "main()"
      ],
      "metadata": {
        "colab": {
          "base_uri": "https://localhost:8080/"
        },
        "id": "WA5DTOA_cfV_",
        "outputId": "febb0139-3639-401f-ff62-9b37a2e9dc98"
      },
      "execution_count": 4,
      "outputs": [
        {
          "output_type": "stream",
          "name": "stdout",
          "text": [
            "Enter a list: [1,2,3,4,5]\n",
            "Sum of the elements in the list: 225\n"
          ]
        }
      ]
    },
    {
      "cell_type": "markdown",
      "source": [
        "# Write the definition of a function zero_ending(scores) to add all those values in the list of scores, which are ending with zero and display the sum.\n",
        "# For example: If the scores contain [200, 456, 300, 100, 234, 678] The sum should be displayed as 600"
      ],
      "metadata": {
        "id": "CdDRB50EhFdc"
      }
    },
    {
      "cell_type": "code",
      "source": [
        "def zero_ending(scores):\n",
        "  total = 0\n",
        "  for elements in scores:\n",
        "    if elements%10 == 0:\n",
        "      total += elements\n",
        "  return total\n",
        "\n",
        "def main():\n",
        "  lst = eval(input(\"Enter a list: \"))\n",
        "  print(f\"Sum of the elements of a list ending with zero: {zero_ending(lst)}\")\n",
        "\n",
        "main()"
      ],
      "metadata": {
        "colab": {
          "base_uri": "https://localhost:8080/"
        },
        "id": "Nzvy_1BQgZBz",
        "outputId": "22daee0d-a77e-4cb9-9830-cc6850e2672c"
      },
      "execution_count": null,
      "outputs": [
        {
          "output_type": "stream",
          "name": "stdout",
          "text": [
            "Enter a list: [200,456,300,100,234,678]\n",
            "Sum of the elements of a list ending with zero: 600\n"
          ]
        }
      ]
    },
    {
      "cell_type": "markdown",
      "source": [
        "# Write a definition of a method count_now(places) to find and display those place names, in which there are more than 5 characters.\n",
        "\n",
        "# For example :\n",
        "# If the list places contains\n",
        "# [\"DELHI\",\"LONDON\",\"PARIS\",\"NEW YORK\",\"DUBAI\"]\n",
        "# The following should get displayed :\n",
        "# LONDON\n",
        "# NEW YORK"
      ],
      "metadata": {
        "id": "VbpvjAkCixyl"
      }
    },
    {
      "cell_type": "code",
      "source": [
        "def count_now(places):\n",
        "  if len(places) > 5:\n",
        "    print(places)\n",
        "\n",
        "def main():\n",
        "  lst = eval(input(\"Enter a list of places:\"))\n",
        "  for elements in lst:\n",
        "    if isinstance(elements,str):\n",
        "      count_now(elements)\n",
        "\n",
        "\n",
        "main()"
      ],
      "metadata": {
        "colab": {
          "base_uri": "https://localhost:8080/"
        },
        "id": "KuoNiVa0ijJV",
        "outputId": "820e684e-017d-4e5b-c6c9-8eae2b260143"
      },
      "execution_count": 5,
      "outputs": [
        {
          "output_type": "stream",
          "name": "stdout",
          "text": [
            "Enter a list of places:[\"DELHI\",\"LONDON\",\"PARIS\",\"NEW YORK\",\"DUBAI\"]\n",
            "LONDON\n",
            "NEW YORK\n"
          ]
        }
      ]
    },
    {
      "cell_type": "markdown",
      "source": [
        "# Write a method in python to display the elements of list thrice if it is a number and display the element terminated with ‘\\#’ if it is not a number.\n",
        "\n",
        "# For example, if the content of list is as follows :\n",
        "# ThisList=[‘41’,‘DROND’,‘GIRIRAJ’, ‘13’,‘ZARA’]\n",
        "# The output should be\n",
        "# 414141\n",
        "# DROND$\\#$\n",
        "# GIRIRAJ$\\#$\n",
        "# 131313\n",
        "# ZARA$\\#$"
      ],
      "metadata": {
        "id": "x9I-DoIhixFs"
      }
    },
    {
      "cell_type": "code",
      "source": [
        "def displayElements(lst):\n",
        "  for elements in lst:\n",
        "    if elements.isdigit():\n",
        "      print(elements*3)\n",
        "    else:\n",
        "      print(elements+\"#\")\n",
        "\n",
        "def main():\n",
        "  lst = eval(input(\"Enter a list: \"))\n",
        "  displayElements(lst)\n",
        "main()"
      ],
      "metadata": {
        "colab": {
          "base_uri": "https://localhost:8080/"
        },
        "id": "0hbdObITooF0",
        "outputId": "5d0bc1e3-80d7-48e1-835a-a035c3884e07"
      },
      "execution_count": null,
      "outputs": [
        {
          "output_type": "stream",
          "name": "stdout",
          "text": [
            "Enter a list: ['41','DROND','GIRIRAJ','13','ZARA']\n",
            "414141\n",
            "DROND#\n",
            "GIRIRAJ#\n",
            "131313\n",
            "ZARA#\n"
          ]
        }
      ]
    },
    {
      "cell_type": "markdown",
      "source": [
        "# For a given list of values in descending order, write a method in python to search for a value with the help of Binary Search method. \n",
        "# The method should return position of the value and should return -1 if the value not present in the list."
      ],
      "metadata": {
        "id": "jkylh5x4s_GK"
      }
    },
    {
      "cell_type": "code",
      "source": [
        "def binary_search(lst,element):\n",
        "  lowestIndex = 0\n",
        "  highestIndex = len(lst) - 1\n",
        "  midIndex = 0\n",
        "  while lowestIndex <= highestIndex:\n",
        "    midIndex = (lowestIndex + highestIndex) // 2\n",
        "    if lst[midIndex] == element:\n",
        "      return midIndex\n",
        "    elif lst[midIndex] > element:# element present only at the left Sub array\n",
        "      highestIndex = midIndex - 1\n",
        "    elif lst[midIndex] < element:# element present only at the right Sub array\n",
        "      lowestIndex = midIndex + 1\n",
        "  return -1 #element not present!!\n",
        "  \n",
        "def main():\n",
        "  lst = eval(input(\"Enter a list of numbers: \"))\n",
        "  inputList = lst[:]\n",
        "  print(\"Input List - \"+str(lst))\n",
        "\n",
        "  element = eval(input(\"Enter a element to find: \"))\n",
        "  lst.sort()\n",
        "  # print(\"Sorted List - \"+str(lst))\n",
        "\n",
        "  position = binary_search(lst,element)\n",
        "  if position == -1:\n",
        "    print(\"Element is not present in the list!!\")\n",
        "  else:\n",
        "    index = inputList.index(element)\n",
        "    print(f\"Element is present at index-{index} in the input list!!\")\n",
        "\n",
        "main()"
      ],
      "metadata": {
        "colab": {
          "base_uri": "https://localhost:8080/"
        },
        "id": "OVa1X-9ar8_o",
        "outputId": "672d53ca-2dca-4cfb-bbec-f030715dec3f"
      },
      "execution_count": null,
      "outputs": [
        {
          "output_type": "stream",
          "name": "stdout",
          "text": [
            "Enter a list of numbers: [10,5,12,3,1,9,7,2]\n",
            "Input List - [10, 5, 12, 3, 1, 9, 7, 2]\n",
            "Enter a element to find: 3\n",
            "Element is present at index-3 in the input list!!\n"
          ]
        }
      ]
    },
    {
      "cell_type": "markdown",
      "source": [
        "# Write a function half_and_half that takes in a list and change the list \n",
        "# such that the elements of the second half are now in the first half.\n",
        "\n",
        "# For example, if the size of list is even and content of list is as follows :\n",
        "# my_liist = [10,20,30,40,50,60]\n",
        "# The output should be\n",
        "# [40,50,60,10,20,30]\n",
        "# if the size of list is odd and content of list is as follows :\n",
        "# my_liist = [10,20,30,40,50,60,70]\n",
        "# The output should be\n",
        "# [50,60,70,40,10,20,30]"
      ],
      "metadata": {
        "id": "hGYdbLKeWZYR"
      }
    },
    {
      "cell_type": "code",
      "source": [
        "def half_and_half(inputList):\n",
        "  outputList = []\n",
        "  length = len(inputList)\n",
        "  if (length%2 == 0): # number of elements is even\n",
        "    midIndex = (length)//2\n",
        "    for element in inputList[midIndex:]:\n",
        "      outputList.append(element)\n",
        "    for element in inputList[0:midIndex]:\n",
        "      outputList.append(element)\n",
        "  else:# number of elements is odd\n",
        "    midIndex = (length-1)//2\n",
        "    for element in inputList[midIndex+1:]:\n",
        "      outputList.append(element)\n",
        "    outputList.append(inputList[midIndex])\n",
        "    for element in inputList[0:midIndex]:\n",
        "      outputList.append(element)\n",
        "  print(\"O/P: \"+str(outputList))\n",
        "\n",
        "\n",
        "def main():\n",
        "  lst = eval(input(\"Enter a list of numbers: \"))  \n",
        "  print(\"Input List- \"+str(lst))\n",
        "\n",
        "  position = half_and_half(lst)\n",
        "\n",
        "while(True):\n",
        "  main()\n",
        "  toContinue = input(\"Do you want to continue? - Press 'Y' to continue, 'N' to exit - \")\n",
        "  if toContinue.upper() == 'N':\n",
        "    print(\"Exiting the program-Thank you !!!\")\n",
        "    break"
      ],
      "metadata": {
        "colab": {
          "base_uri": "https://localhost:8080/"
        },
        "id": "zLH67s_VUnfD",
        "outputId": "34eb9746-ccb6-4ead-917f-b0f0f19b455a"
      },
      "execution_count": null,
      "outputs": [
        {
          "output_type": "stream",
          "name": "stdout",
          "text": [
            "Enter a list of numbers: [10,20,30,40,50,60,70]\n",
            "Input List- [10, 20, 30, 40, 50, 60, 70]\n",
            "O/P: [50, 60, 70, 40, 10, 20, 30]\n",
            "Do you want to continue? - Press 'Y' to continue, 'N' to exit - Y\n",
            "Enter a list of numbers: [10,20,30,40,50,60]\n",
            "Input List- [10, 20, 30, 40, 50, 60]\n",
            "O/P: [40, 50, 60, 10, 20, 30]\n",
            "Do you want to continue? - Press 'Y' to continue, 'N' to exit - N\n",
            "Exiting the program-Thank you !!!\n"
          ]
        }
      ]
    },
    {
      "cell_type": "markdown",
      "source": [
        "# Write a function that accepts a dictionary as an argument. If the dictionary contains replicate values, return an empty dictionary, otherwise, return a new dictionary whose values are now the keys and whose keys are the values."
      ],
      "metadata": {
        "id": "ZQEXajDmc29X"
      }
    },
    {
      "cell_type": "code",
      "source": [
        "def dictionary_key_value_swap(inputDict):\n",
        "  outputDict = {}\n",
        "  valueList = list(inputDict.values())\n",
        "  for val in valueList:\n",
        "    if valueList.count(val) > 1 :\n",
        "      return outputDict\n",
        "  \n",
        "  for key,val in inputDict.items():    \n",
        "      outputDict.setdefault(val,key)  \n",
        "\n",
        "  return outputDict\n",
        "\n",
        "def main():\n",
        "  inputDict = eval(input(\"Enter a dictionary: \"))\n",
        "  outputDict = dictionary_key_value_swap(inputDict)\n",
        "  print(\"I/P: \"+str(inputDict))\n",
        "  print(\"O/P: \"+str(outputDict))\n",
        "\n",
        "while(True):\n",
        "  main()\n",
        "  toContinue = input(\"Do you want to continue? - Press 'Y' to continue, 'N' to exit - \")\n",
        "  if toContinue.upper() == 'N':\n",
        "    print(\"Exiting the program-Thank you !!!\")\n",
        "    break"
      ],
      "metadata": {
        "colab": {
          "base_uri": "https://localhost:8080/"
        },
        "id": "dialLsD3ahDq",
        "outputId": "139e4479-47c8-464c-fb8a-cc071fd1f1ba"
      },
      "execution_count": null,
      "outputs": [
        {
          "output_type": "stream",
          "name": "stdout",
          "text": [
            "Enter a dictionary: {'a':10,'b':20,'c':20}\n",
            "I/P: {'a': 10, 'b': 20, 'c': 20}\n",
            "O/P: {}\n",
            "Do you want to continue? - Press 'Y' to continue, 'N' to exit - y\n",
            "Enter a dictionary: {'a':10,'b':20,'c':30}\n",
            "I/P: {'a': 10, 'b': 20, 'c': 30}\n",
            "O/P: {10: 'a', 20: 'b', 30: 'c'}\n",
            "Do you want to continue? - Press 'Y' to continue, 'N' to exit - n\n",
            "Exiting the program-Thank you !!!\n"
          ]
        }
      ]
    }
  ]
}