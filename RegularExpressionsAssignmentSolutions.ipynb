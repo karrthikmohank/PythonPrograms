{
  "nbformat": 4,
  "nbformat_minor": 0,
  "metadata": {
    "colab": {
      "provenance": [],
      "collapsed_sections": [],
      "authorship_tag": "ABX9TyOClhdxoJv6pv4uC+nUCAVP",
      "include_colab_link": true
    },
    "kernelspec": {
      "name": "python3",
      "display_name": "Python 3"
    },
    "language_info": {
      "name": "python"
    }
  },
  "cells": [
    {
      "cell_type": "markdown",
      "metadata": {
        "id": "view-in-github",
        "colab_type": "text"
      },
      "source": [
        "<a href=\"https://colab.research.google.com/github/karrthikmohank/PythonPrograms/blob/main/RegularExpressionsAssignmentSolutions.ipynb\" target=\"_parent\"><img src=\"https://colab.research.google.com/assets/colab-badge.svg\" alt=\"Open In Colab\"/></a>"
      ]
    },
    {
      "cell_type": "markdown",
      "source": [
        "#Write the regular expression and use proper method which gives output as:- 'cat' in str.\n",
        "## import re\n",
        "## string = 'cat mat bat rat'\n"
      ],
      "metadata": {
        "id": "ogicpjut4TfA"
      }
    },
    {
      "cell_type": "code",
      "execution_count": null,
      "metadata": {
        "colab": {
          "base_uri": "https://localhost:8080/"
        },
        "id": "Nc21FWTA4NX4",
        "outputId": "7eba6671-ad31-4272-e06e-05d22b312d2f"
      },
      "outputs": [
        {
          "output_type": "stream",
          "name": "stdout",
          "text": [
            "cat\n"
          ]
        }
      ],
      "source": [
        "import re\n",
        "string = 'cat mat bat rat'\n",
        "pattern = r\"cat\"\n",
        "\n",
        "matchString = re.match(pattern,string)\n",
        "print(matchString.group())"
      ]
    },
    {
      "cell_type": "markdown",
      "source": [
        "#Write the regular expression and use proper method which gives output as:- 'rat' in str.\n",
        "## import re\n",
        "## str = 'cat mat bat rat'"
      ],
      "metadata": {
        "id": "X2Cdhn8p5ijk"
      }
    },
    {
      "cell_type": "code",
      "source": [
        "import re\n",
        "string = 'cat mat bat rat'\n",
        "pattern = r\"rat\\b\"\n",
        "\n",
        "matchList = re.finditer(pattern,string)\n",
        "\n",
        "for elements in matchList:\n",
        "  print(elements.group())"
      ],
      "metadata": {
        "colab": {
          "base_uri": "https://localhost:8080/"
        },
        "id": "HeDbv-Mp43xc",
        "outputId": "38c175ec-12e1-4667-bae8-352aab97f2cd"
      },
      "execution_count": null,
      "outputs": [
        {
          "output_type": "stream",
          "name": "stdout",
          "text": [
            "rat\n"
          ]
        }
      ]
    },
    {
      "cell_type": "markdown",
      "source": [
        "#Write the regular expression and use proper method which gives output as:- ['mat', 'man'] in str.\n",
        "## import re\n",
        "## str = 'cat mat bat rat man'\n"
      ],
      "metadata": {
        "id": "y-0vUpLH_Tsu"
      }
    },
    {
      "cell_type": "code",
      "source": [
        "import re\n",
        "string = 'cat mat bat rat man'\n",
        "pattern = r\"ma[a-z]\"\n",
        "outputList = []\n",
        "matchList = re.finditer(pattern,string)\n",
        "\n",
        "for elements in matchList:\n",
        "  outputList.append(elements.group())\n",
        "\n",
        "print(outputList)"
      ],
      "metadata": {
        "colab": {
          "base_uri": "https://localhost:8080/"
        },
        "id": "TPSr6jrJ5oSt",
        "outputId": "d9e7263a-06d4-4fec-fda9-e826c84436af"
      },
      "execution_count": null,
      "outputs": [
        {
          "output_type": "stream",
          "name": "stdout",
          "text": [
            "['mat', 'man']\n"
          ]
        }
      ]
    },
    {
      "cell_type": "markdown",
      "source": [
        "#Write the regular expression and use proper method which gives output as:- \n",
        "#['Python', 's', 'Programming', 'is', 'very', 'easy', 'to', 'learn'] in str.\n",
        "## import re\n",
        "## str = \"Python's Programming: is very easy to learn\"\n"
      ],
      "metadata": {
        "id": "QyNPmvz9Awps"
      }
    },
    {
      "cell_type": "code",
      "source": [
        "import re\n",
        "string = \"Python's Programming: is very easy to learn\"\n",
        "pattern = r\"[A-Za-z]\\w*\"\n",
        "outputList = []\n",
        "matchList = re.finditer(pattern,string)\n",
        "\n",
        "for elements in matchList:\n",
        "  outputList.append(elements.group())\n",
        "\n",
        "print(outputList)"
      ],
      "metadata": {
        "colab": {
          "base_uri": "https://localhost:8080/"
        },
        "id": "WJMZuq4A_m5S",
        "outputId": "bdc95276-08f8-42bf-8eac-674dfcf2da9f"
      },
      "execution_count": null,
      "outputs": [
        {
          "output_type": "stream",
          "name": "stdout",
          "text": [
            "['Python', 's', 'Programming', 'is', 'very', 'easy', 'to', 'learn']\n"
          ]
        }
      ]
    },
    {
      "cell_type": "markdown",
      "source": [
        "#Write the regular expression and use proper method which gives output as:- Python Programming: is very easy to learn in str.\n",
        "## import re\n",
        "## str = \"Python's Programming: is very easy to learn\"\n"
      ],
      "metadata": {
        "id": "3rkp1gJ2EoXr"
      }
    },
    {
      "cell_type": "code",
      "source": [
        "import re\n",
        "string = \"Python's Programming: is very easy to learn\"\n",
        "pattern = r\"[^'s]\\w*\"\n",
        "outputString = \"\"\n",
        "matchList = re.finditer(pattern,string)\n",
        "\n",
        "for elements in matchList:  \n",
        "    outputString += elements.group()\n",
        "\n",
        "print(outputString)"
      ],
      "metadata": {
        "colab": {
          "base_uri": "https://localhost:8080/"
        },
        "id": "gcldAEgrBYbU",
        "outputId": "03aa00af-920d-4481-b86f-2ab66ab68f2f"
      },
      "execution_count": null,
      "outputs": [
        {
          "output_type": "stream",
          "name": "stdout",
          "text": [
            "Python Programming: is very easy to learn\n"
          ]
        }
      ]
    },
    {
      "cell_type": "markdown",
      "source": [
        "#Write the regular expression and use proper method which Retrieves all words starting with p.\n",
        "#Output:- ['peter', 'per', 'picked', 'peck', 'pickled', 'peppers']\n",
        "##import re\n",
        "##str = \"peter giper picked a peck of pickled peppers\"\n"
      ],
      "metadata": {
        "id": "5X7zi5OwPe1R"
      }
    },
    {
      "cell_type": "code",
      "source": [
        "import re\n",
        "string = \"peter giper picked a peck of pickled peppers\"\n",
        "pattern = r\"[Pp]\\w*\"\n",
        "outputList = []\n",
        "matchList = re.finditer(pattern,string)\n",
        "\n",
        "for elements in matchList:  \n",
        "    outputList.append(elements.group())\n",
        "\n",
        "print(outputList)"
      ],
      "metadata": {
        "colab": {
          "base_uri": "https://localhost:8080/"
        },
        "id": "8xGmzXJMILEz",
        "outputId": "5adee34f-39db-49ed-e621-d7913a68edc4"
      },
      "execution_count": null,
      "outputs": [
        {
          "output_type": "stream",
          "name": "stdout",
          "text": [
            "['peter', 'per', 'picked', 'peck', 'pickled', 'peppers']\n"
          ]
        }
      ]
    },
    {
      "cell_type": "markdown",
      "source": [
        "#Write the regular expression and use proper method which Retrieves all words starting with p except 'per' which is not a separate word.\n",
        "#Output:- ['peter', 'picked', 'peck', 'pickled', 'peppers']\n",
        "##import re\n",
        "##str = \"peter giper picked a peck of pickled peppers\"\n"
      ],
      "metadata": {
        "id": "qLBOdHned6OB"
      }
    },
    {
      "cell_type": "code",
      "source": [
        "import re\n",
        "string = \"peter giper picked a peck of pickled peppers\"\n",
        "pattern = r\"\\b[Pp]\\w*\"\n",
        "outputList = []\n",
        "matchList = re.finditer(pattern,string)\n",
        "\n",
        "for elements in matchList:  \n",
        "    outputList.append(elements.group())\n",
        "\n",
        "print(outputList)"
      ],
      "metadata": {
        "colab": {
          "base_uri": "https://localhost:8080/"
        },
        "id": "0rCCEk_4a-aD",
        "outputId": "1a673833-fc7d-4a09-8953-8b30ebe0de93"
      },
      "execution_count": null,
      "outputs": [
        {
          "output_type": "stream",
          "name": "stdout",
          "text": [
            "['peter', 'picked', 'peck', 'pickled', 'peppers']\n"
          ]
        }
      ]
    },
    {
      "cell_type": "markdown",
      "source": [
        "#Write the regular expression and use proper method which Retrieves all words starting with a digit.\n",
        "#Output:- ['8th', '11th']\n",
        "##import re\n",
        "##str = 'The election in delhi will be held on 8th and result for the same will be declared on 11th'\n"
      ],
      "metadata": {
        "id": "JLbJ_9hUe7-j"
      }
    },
    {
      "cell_type": "code",
      "source": [
        "import re\n",
        "string = 'The election in delhi will be held on 8th and result for the same will be declared on 11th'\n",
        "pattern = r\"\\d\\w*\"\n",
        "outputList = []\n",
        "matchList = re.finditer(pattern,string)\n",
        "\n",
        "for elements in matchList:  \n",
        "    outputList.append(elements.group())\n",
        "\n",
        "print(outputList)"
      ],
      "metadata": {
        "colab": {
          "base_uri": "https://localhost:8080/"
        },
        "id": "VsOqZIFPeriP",
        "outputId": "9beb84e1-7a68-4623-fb55-87bd07292044"
      },
      "execution_count": null,
      "outputs": [
        {
          "output_type": "stream",
          "name": "stdout",
          "text": [
            "['8th', '11th']\n"
          ]
        }
      ]
    },
    {
      "cell_type": "markdown",
      "source": [
        "#Write the regular expression and use proper method which Retrieves all words having 5 characters.\n",
        "#Output:- ['peter', 'giper']\n",
        "## import re\n",
        "## str = \"peter giper picked a peck of pickled peppers\"\n"
      ],
      "metadata": {
        "id": "RQBLwuc_ggBh"
      }
    },
    {
      "cell_type": "code",
      "source": [
        "import re\n",
        "string = \"peter giper picked a peck of pickled peppers\"\n",
        "pattern = r\"\\b[a-zA-Z]{5}\\b\"\n",
        "outputList = []\n",
        "matchList = re.finditer(pattern,string)\n",
        "\n",
        "for elements in matchList:  \n",
        "    outputList.append(elements.group())\n",
        "\n",
        "print(outputList)"
      ],
      "metadata": {
        "colab": {
          "base_uri": "https://localhost:8080/"
        },
        "id": "xdEYlb6VfNyX",
        "outputId": "4d7d0cf7-b2e8-4cd0-a99c-aaf09a71f3c6"
      },
      "execution_count": null,
      "outputs": [
        {
          "output_type": "stream",
          "name": "stdout",
          "text": [
            "['peter', 'giper']\n"
          ]
        }
      ]
    },
    {
      "cell_type": "markdown",
      "source": [
        "#Write the regular expression and use proper method which Retrieves all words having at least 4 characters.\n",
        "#Output:- ['Retrieving',  'words', 'having', 'least', 'characters']\n",
        "##import re\n",
        "##str = \"Retrieving all words having at least 4 characters\"\n"
      ],
      "metadata": {
        "id": "5FU95EN8hzcC"
      }
    },
    {
      "cell_type": "code",
      "source": [
        "import re\n",
        "string = \"Retrieving all words having at least 4 characters\"\n",
        "pattern = r\"\\b\\w{4,}\\b\"\n",
        "outputList = []\n",
        "matchList = re.finditer(pattern,string)\n",
        "\n",
        "for elements in matchList:  \n",
        "    outputList.append(elements.group())\n",
        "\n",
        "print(outputList)"
      ],
      "metadata": {
        "colab": {
          "base_uri": "https://localhost:8080/"
        },
        "id": "J9tjWopFgz-c",
        "outputId": "75cf9690-2bfd-4404-c1a7-a9498e7f4d9b"
      },
      "execution_count": null,
      "outputs": [
        {
          "output_type": "stream",
          "name": "stdout",
          "text": [
            "['Retrieving', 'words', 'having', 'least', 'characters']\n"
          ]
        }
      ]
    },
    {
      "cell_type": "markdown",
      "source": [
        "#Write the regular expression and use proper method which Retrieves all words having at characters between 3 to 5 words.\n",
        "#Output:- ['all', 'words', 'least']\n",
        "## import re\n",
        "## str = \"Retrieving all words having at least 4 characters\"\n"
      ],
      "metadata": {
        "id": "zuYf-aY2l81K"
      }
    },
    {
      "cell_type": "code",
      "source": [
        "import re\n",
        "string = \"Retrieving all words having at least 4 characters\"\n",
        "pattern = r\"\\b\\w{3,5}\\b\"\n",
        "outputList = []\n",
        "matchList = re.finditer(pattern,string)\n",
        "\n",
        "for elements in matchList:  \n",
        "    outputList.append(elements.group())\n",
        "\n",
        "print(outputList)"
      ],
      "metadata": {
        "colab": {
          "base_uri": "https://localhost:8080/"
        },
        "id": "fXAyECsHiSw7",
        "outputId": "27b7ee5d-c640-4f1f-c47f-9a250c0150aa"
      },
      "execution_count": null,
      "outputs": [
        {
          "output_type": "stream",
          "name": "stdout",
          "text": [
            "['all', 'words', 'least']\n"
          ]
        }
      ]
    },
    {
      "cell_type": "markdown",
      "source": [
        "#Write the regular expression and use proper method which Retrieves only digits from the string.\n",
        "#Output:- ['8', '11']\n",
        "## import re\n",
        "## str = 'The election in delhi will be held on 8 and result for the same will be declared on 11'\n"
      ],
      "metadata": {
        "id": "aE3FayWDr7HH"
      }
    },
    {
      "cell_type": "code",
      "source": [
        "import re\n",
        "string = 'The election in delhi will be held on 8 and result for the same will be declared on 11'\n",
        "pattern = r\"\\d{1,2}\"\n",
        "outputList = []\n",
        "matchList = re.finditer(pattern,string)\n",
        "\n",
        "for elements in matchList:  \n",
        "    outputList.append(elements.group())\n",
        "\n",
        "print(outputList)"
      ],
      "metadata": {
        "colab": {
          "base_uri": "https://localhost:8080/"
        },
        "id": "0JFrvMNkmDme",
        "outputId": "b53fd307-5105-4fda-d00e-4bf653b0a3e1"
      },
      "execution_count": null,
      "outputs": [
        {
          "output_type": "stream",
          "name": "stdout",
          "text": [
            "['8', '11']\n"
          ]
        }
      ]
    },
    {
      "cell_type": "markdown",
      "source": [
        "#Write the regular expression and use proper method which Retrieves last word if starts with c from the given string.\n",
        "#Output:- ['characters']\n",
        "## import re\n",
        "## str = \"Retrieving all words having at least 4 characters\"\n",
        "\n"
      ],
      "metadata": {
        "id": "Zwt_KMHeseCF"
      }
    },
    {
      "cell_type": "code",
      "source": [
        "import re\n",
        "string = \"Retrieving all words having at least 4 characters\"\n",
        "pattern = r\"[c]\\w*\\Z\"\n",
        "outputList = []\n",
        "matchList = re.finditer(pattern,string)\n",
        "\n",
        "for elements in matchList:  \n",
        "    outputList.append(elements.group())\n",
        "\n",
        "print(outputList)"
      ],
      "metadata": {
        "colab": {
          "base_uri": "https://localhost:8080/"
        },
        "id": "dZ3g-LTCsX4C",
        "outputId": "81d439b5-7ef2-4be0-f7af-1db12cda588e"
      },
      "execution_count": null,
      "outputs": [
        {
          "output_type": "stream",
          "name": "stdout",
          "text": [
            "['characters']\n"
          ]
        }
      ]
    },
    {
      "cell_type": "markdown",
      "source": [
        "#Write the regular expression and use proper method which Retrieves a phone number from the given string.\n",
        "#Output:- 1234567890\n",
        "##import re\n",
        "##str = \"Learnbay : 1234567890\"\n"
      ],
      "metadata": {
        "id": "JD3vdbtRthpt"
      }
    },
    {
      "cell_type": "code",
      "source": [
        "import re\n",
        "string = \"Learnbay : 1234567890\"\n",
        "pattern = r\"[^ A-Za-z :]\\d*\"\n",
        "\n",
        "matchList = re.finditer(pattern,string)\n",
        "\n",
        "for elements in matchList:  \n",
        "    print(\"Output:- \"+elements.group())\n",
        "\n"
      ],
      "metadata": {
        "colab": {
          "base_uri": "https://localhost:8080/"
        },
        "id": "ABJotfcnsxPt",
        "outputId": "3079e901-9397-4788-e3ab-53f6546ddd00"
      },
      "execution_count": null,
      "outputs": [
        {
          "output_type": "stream",
          "name": "stdout",
          "text": [
            "Output:- 1234567890\n"
          ]
        }
      ]
    },
    {
      "cell_type": "markdown",
      "source": [
        "##Write the regular expression and use proper method which extracts name from the string but not number.\n",
        "#Output:- Learnbay : \n",
        "## import re\n",
        "## str = \"Learnbay : 1234567890\"\n"
      ],
      "metadata": {
        "id": "fLJdb3y3vG99"
      }
    },
    {
      "cell_type": "code",
      "source": [
        "import re\n",
        "string = \"Learnbay : 1234567890\"\n",
        "pattern = r\"[^ 0-9][A-Za-z]*\"\n",
        "outputString = \"\"\n",
        "matchList = re.finditer(pattern,string)\n",
        "\n",
        "for elements in matchList:  \n",
        "  outputString += elements.group()\n",
        "  outputString += \" \"\n",
        "\n",
        "print(\"Output:- \"+outputString)\n",
        "\n"
      ],
      "metadata": {
        "colab": {
          "base_uri": "https://localhost:8080/"
        },
        "id": "T5j2wh-LtsMY",
        "outputId": "56882f11-f9f9-4ea6-cc4f-aab2e226b57a"
      },
      "execution_count": null,
      "outputs": [
        {
          "output_type": "stream",
          "name": "stdout",
          "text": [
            "Output:- Learnbay : \n"
          ]
        }
      ]
    },
    {
      "cell_type": "markdown",
      "source": [
        "##Write the regular expression and use proper method which Retrieves name starting with 'an' or 'ak'.\n",
        "#Output:- ['anil', 'akhil', 'anant', 'ankur']\n",
        "## import re\n",
        "##str = 'anil akhil anant abhi arun arati arundhati abhijit ankur'\n",
        "\n"
      ],
      "metadata": {
        "id": "pIzO6vygwVVI"
      }
    },
    {
      "cell_type": "code",
      "source": [
        "import re\n",
        "string =  'anil akhil anant abhi arun arati arundhati abhijit ankur'\n",
        "pattern = r\"\\b(an|ak)\\w+\\b\"\n",
        "outputList = []\n",
        "matchList = re.finditer(pattern,string)\n",
        "\n",
        "for elements in matchList:  \n",
        "  outputList.append(elements.group())\n",
        "\n",
        "print(\"Output:- \"+str(outputList))\n",
        "\n"
      ],
      "metadata": {
        "colab": {
          "base_uri": "https://localhost:8080/"
        },
        "id": "zTrNnlVOvXSH",
        "outputId": "d94b4380-ad98-41b4-de57-233c8da6bd06"
      },
      "execution_count": null,
      "outputs": [
        {
          "output_type": "stream",
          "name": "stdout",
          "text": [
            "Output:- ['anil', 'akhil', 'anant', 'ankur']\n"
          ]
        }
      ]
    },
    {
      "cell_type": "code",
      "source": [],
      "metadata": {
        "id": "8ZM_BQOPw2Lb"
      },
      "execution_count": null,
      "outputs": []
    }
  ]
}