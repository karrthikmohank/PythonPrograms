{
  "nbformat": 4,
  "nbformat_minor": 0,
  "metadata": {
    "colab": {
      "provenance": [],
      "collapsed_sections": [],
      "authorship_tag": "ABX9TyOaOPFpcDZHnpjkN+/714r1",
      "include_colab_link": true
    },
    "kernelspec": {
      "name": "python3",
      "display_name": "Python 3"
    },
    "language_info": {
      "name": "python"
    }
  },
  "cells": [
    {
      "cell_type": "markdown",
      "metadata": {
        "id": "view-in-github",
        "colab_type": "text"
      },
      "source": [
        "<a href=\"https://colab.research.google.com/github/karrthikmohank/PythonPrograms/blob/main/ListAssignmentSolutions.ipynb\" target=\"_parent\"><img src=\"https://colab.research.google.com/assets/colab-badge.svg\" alt=\"Open In Colab\"/></a>"
      ]
    },
    {
      "cell_type": "markdown",
      "source": [
        "#Write a Python program to find the sum of all elements in a list using loop.\n",
        "#Input:- [10,20,30,40]\n",
        "#Output:- 100\n"
      ],
      "metadata": {
        "id": "WcvGg0_0q7aI"
      }
    },
    {
      "cell_type": "code",
      "execution_count": 20,
      "metadata": {
        "colab": {
          "base_uri": "https://localhost:8080/"
        },
        "id": "kALsTvjpqBr4",
        "outputId": "fe27ce4b-bf9f-45f0-e32a-eb3b95b07cfe"
      },
      "outputs": [
        {
          "output_type": "stream",
          "name": "stdout",
          "text": [
            "Python program to find the sum of all elements in a list using loop.\n",
            "Input:- [10, 20, 30, 40]\n",
            "Output:- 100\n"
          ]
        }
      ],
      "source": [
        "print(\"Python program to find the sum of all elements in a list using loop.\")\n",
        "input1 = [10,20,30,40]\n",
        "total = 0\n",
        "for elements in input1:\n",
        "  total += elements\n",
        "print(f\"Input:- {input1}\")\n",
        "print(f\"Output:- {total}\")"
      ]
    },
    {
      "cell_type": "markdown",
      "source": [
        "#Write a Python program to find the multiplication of all elements in a list using loop.\n",
        "#Input:- [10,20,30,40]\n",
        "#Output:- 240000"
      ],
      "metadata": {
        "id": "JPzxJu1Uvc75"
      }
    },
    {
      "cell_type": "code",
      "source": [
        "print(\"Python program to find the multiplication of all elements in a list using loop.\")\n",
        "input1 = [10,20,30,40]\n",
        "prod = 1\n",
        "for elements in input1:\n",
        "  prod *= elements\n",
        "print(f\"Input:- {input1}\")\n",
        "print(f\"Output:- {prod}\")"
      ],
      "metadata": {
        "colab": {
          "base_uri": "https://localhost:8080/"
        },
        "id": "dEwItxhGvAqT",
        "outputId": "efc51279-22f3-4c47-ea31-8d24997ec61d"
      },
      "execution_count": 21,
      "outputs": [
        {
          "output_type": "stream",
          "name": "stdout",
          "text": [
            "Python program to find the multiplication of all elements in a list using loop.\n",
            "Input:- [10, 20, 30, 40]\n",
            "Output:- 240000\n"
          ]
        }
      ]
    },
    {
      "cell_type": "markdown",
      "source": [
        "#Write a Python program to find the largest number from a list using loop.\n",
        "#Input:- [10,100,2321, 1,200,2]\n",
        "#Output:- 2321"
      ],
      "metadata": {
        "id": "zRPn9Wj5vvf2"
      }
    },
    {
      "cell_type": "code",
      "source": [
        "print(\"Python program to find the largest number from a list using loop.\")\n",
        "input1 = [10,100,2321, 1,200,2]\n",
        "maximum = input1[0]\n",
        "\n",
        "for elements in input1:\n",
        "  if elements > maximum:\n",
        "    maximum = elements\n",
        "\n",
        "print(f\"Input:- {input1}\")\n",
        "print(f\"Output:- {maximum}\")"
      ],
      "metadata": {
        "colab": {
          "base_uri": "https://localhost:8080/"
        },
        "id": "2cL5rTykvpKq",
        "outputId": "b9920a78-6ab9-4310-e026-5ceca2e06e11"
      },
      "execution_count": 23,
      "outputs": [
        {
          "output_type": "stream",
          "name": "stdout",
          "text": [
            "Python program to find the largest number from a list using loop.\n",
            "Input:- [10, 100, 2321, 1, 200, 2]\n",
            "Output:- 2321\n"
          ]
        }
      ]
    },
    {
      "cell_type": "markdown",
      "source": [
        "#Write a Python program to find the smallest number from a list using loop.\n",
        "#Input:- [10,100,2321, 1,200,2]\n",
        "#Output:- 1"
      ],
      "metadata": {
        "id": "cAd7iF1nwPSi"
      }
    },
    {
      "cell_type": "code",
      "source": [
        "print(\"Python program to find the smallest number from a list using loop.\")\n",
        "input1 = [10,100,2321, 1,200,2]\n",
        "minimum = input1[0]\n",
        "for elements in input1:\n",
        "  if elements < minimum:\n",
        "    minimum = elements\n",
        "    \n",
        "print(f\"Input:- {input1}\")\n",
        "print(f\"Output:- {minimum}\")"
      ],
      "metadata": {
        "colab": {
          "base_uri": "https://localhost:8080/"
        },
        "id": "J_9XAVsFwNGm",
        "outputId": "73b8a893-59a0-431b-8411-15f04cb3f78a"
      },
      "execution_count": 24,
      "outputs": [
        {
          "output_type": "stream",
          "name": "stdout",
          "text": [
            "Python program to find the smallest number from a list using loop.\n",
            "Input:- [10, 100, 2321, 1, 200, 2]\n",
            "Output:- 1\n"
          ]
        }
      ]
    },
    {
      "cell_type": "markdown",
      "source": [
        "#Write a Python program to count the number of strings having length more than 2 and are palindrome in a list using loop.\n",
        "#Input:- ['ab', 'abc', 'aba', 'xyz', '1991']\n",
        "#Output:- 2"
      ],
      "metadata": {
        "id": "4MndEehHwj9q"
      }
    },
    {
      "cell_type": "code",
      "source": [
        "print(\"Python program to count the number of strings having length more than 2 and are palindrome in a list using loop.\")\n",
        "input1 = ['ab', 'abc', 'aba', 'xyz', '1991']\n",
        "count = 0\n",
        "for elements in input1:\n",
        "  if len(elements) > 2:\n",
        "    if elements[::1] == elements[::-1]:\n",
        "      count += 1\n",
        "print(f\"Input:- {input1}\")\n",
        "print(f\"Output:- {count}\")"
      ],
      "metadata": {
        "colab": {
          "base_uri": "https://localhost:8080/"
        },
        "id": "MjcFG10bwalI",
        "outputId": "d759bd05-e470-4a61-ec9a-e6f6b510b8c8"
      },
      "execution_count": 25,
      "outputs": [
        {
          "output_type": "stream",
          "name": "stdout",
          "text": [
            "Python program to count the number of strings having length more than 2 and are palindrome in a list using loop.\n",
            "Input:- ['ab', 'abc', 'aba', 'xyz', '1991']\n",
            "Output:- 2\n"
          ]
        }
      ]
    },
    {
      "cell_type": "markdown",
      "source": [
        "#Write a Python program to sort a list in ascending order using loop.\n",
        "#Input:- [100,10,1,298,65,483,49876,2,80,9,9213]\n",
        "#Output:- [1,2,9,10,65,80,100,298,483,9213,49876]"
      ],
      "metadata": {
        "id": "65F7VAxUzaqm"
      }
    },
    {
      "cell_type": "code",
      "source": [
        "print(\"Python program to sort a list in ascending order using loop.\")\n",
        "\n",
        "input1 = [100,10,1,298,65,483,49876,2,80,9,9213]\n",
        "print(f\"Input:- {input1}\") \n",
        "length = len(input1)\n",
        "for i in range(length):\n",
        "  for j in range(i+1,length):    \n",
        "    if input1[i] > input1[j]:\n",
        "      temp = input1[i]\n",
        "\n",
        "      input1[i] = input1[j]\n",
        "      input1[j] = temp\n",
        "\n",
        "print(f\"Output:- {input1}\")\n"
      ],
      "metadata": {
        "colab": {
          "base_uri": "https://localhost:8080/"
        },
        "id": "11vSBVUDxHYY",
        "outputId": "d9f38f4c-4447-4ab6-ec11-97ec2e448f5b"
      },
      "execution_count": 27,
      "outputs": [
        {
          "output_type": "stream",
          "name": "stdout",
          "text": [
            "Python program to sort a list in ascending order using loop.\n",
            "Input:- [100, 10, 1, 298, 65, 483, 49876, 2, 80, 9, 9213]\n",
            "Output:- [1, 2, 9, 10, 65, 80, 100, 298, 483, 9213, 49876]\n"
          ]
        }
      ]
    },
    {
      "cell_type": "markdown",
      "source": [
        "#Write a Python program to get a sorted list in increasing order of last element in each tuple in a given list using loop.\n",
        "#Input:- [(5,4),(9,1),(2,3),(5,9),(7,6),(5,5)]\n",
        "#output:- [(9,1),(2,3),(5,4),(5,5),(7,6),(5,9)]"
      ],
      "metadata": {
        "id": "AhkYbZVJCzYg"
      }
    },
    {
      "cell_type": "code",
      "source": [
        "print(\"Python program to get a sorted list in increasing order of last element in each tuple in a given list using loop.\")\n",
        "\n",
        "input1 =  [(5,4),(9,1),(2,3),(5,9),(7,6),(5,5)]\n",
        "print(f\"Input:- {input1}\") \n",
        "length = len(input1)\n",
        "for i in range(length):\n",
        "  for j in range(i+1,length):      \n",
        "    if input1[i][1] > input1[j][1]:\n",
        "      temp = input1[i]\n",
        "      input1[i] = input1[j]\n",
        "      input1[j] = temp\n",
        "  \n",
        "print(f\"Output:- {input1}\")"
      ],
      "metadata": {
        "colab": {
          "base_uri": "https://localhost:8080/"
        },
        "id": "dQ4CMi-8zfM1",
        "outputId": "4930384d-e38e-4fc1-eee8-954d944b5cba"
      },
      "execution_count": 28,
      "outputs": [
        {
          "output_type": "stream",
          "name": "stdout",
          "text": [
            "Python program to get a sorted list in increasing order of last element in each tuple in a given list using loop.\n",
            "Input:- [(5, 4), (9, 1), (2, 3), (5, 9), (7, 6), (5, 5)]\n",
            "Output:- [(9, 1), (2, 3), (5, 4), (5, 5), (7, 6), (5, 9)]\n"
          ]
        }
      ]
    },
    {
      "cell_type": "markdown",
      "source": [
        "#Write a Python program to remove duplicate element from a list using loop.\n",
        "#Input:- [10,1,11,1,29,876,768,10,11,1,92,29,876]\n",
        "#Output:- [10,1,11,29,876,768,92]"
      ],
      "metadata": {
        "id": "NuRkN3-3I5X9"
      }
    },
    {
      "cell_type": "code",
      "source": [
        "print(\"Python program to remove duplicate element from a list using loop.\")\n",
        "input1 =  [10,1,11,1,29,876,768,10,11,1,92,29,876]\n",
        "print(f\"Input:- {input1}\") \n",
        "output1 = []\n",
        "for elements in input1:\n",
        "  if elements not in output1:\n",
        "    output1.append(elements)\n",
        "print(f\"Output:- {output1}\")"
      ],
      "metadata": {
        "colab": {
          "base_uri": "https://localhost:8080/"
        },
        "id": "f3NdXcaKFt_F",
        "outputId": "cac01561-ec5a-40b2-89fc-dd8e060c0764"
      },
      "execution_count": 29,
      "outputs": [
        {
          "output_type": "stream",
          "name": "stdout",
          "text": [
            "Python program to remove duplicate element from a list using loop.\n",
            "Input:- [10, 1, 11, 1, 29, 876, 768, 10, 11, 1, 92, 29, 876]\n",
            "Output:- [10, 1, 11, 29, 876, 768, 92]\n"
          ]
        }
      ]
    },
    {
      "cell_type": "markdown",
      "source": [
        "#Write a Python program to check a list is empty or not?\n",
        "#Input:- []\n",
        "#Output:- List is empty\n",
        "#Input:- [10,20,30]\n",
        "#Output:- List is not empty"
      ],
      "metadata": {
        "id": "ZB9LGrDSKEO9"
      }
    },
    {
      "cell_type": "code",
      "source": [
        "print(\"Python program to check a list is empty or not?\")\n",
        "input1 = [10,20,30]\n",
        "print(f\"Input:- {input1}\") \n",
        "if input1 == []:\n",
        "  print(\"List is empty!!\")\n",
        "else:\n",
        "  print(\"List is not empty!!\")\n"
      ],
      "metadata": {
        "colab": {
          "base_uri": "https://localhost:8080/"
        },
        "id": "HtVYKXArHX97",
        "outputId": "c6b85716-adab-44c5-d50a-24111ee3563b"
      },
      "execution_count": 30,
      "outputs": [
        {
          "output_type": "stream",
          "name": "stdout",
          "text": [
            "Python program to check a list is empty or not?\n",
            "Input:- [10, 20, 30]\n",
            "List is not empty!!\n"
          ]
        }
      ]
    },
    {
      "cell_type": "markdown",
      "source": [
        "# Using input from the user"
      ],
      "metadata": {
        "id": "m38o2gQQR78u"
      }
    },
    {
      "cell_type": "code",
      "source": [
        "print(\"Python program to check a list is empty or not?-using input from user\")\n",
        "while(True):\n",
        "  try:\n",
        "    input1 = []  \n",
        "    input1 = [int(item) for item in input(\"Enter the list items (space separated): \").split()]\n",
        "    print(f\"Input:- {input1}\") \n",
        "    if input1 == []:      \n",
        "      print(\"List is empty!!\")\n",
        "    else:\n",
        "      print(\"List is not empty!!\")\n",
        "\n",
        "    toContinue = input(\"Do you want to continue (Y/N)?? \")\n",
        "    toContinue = toContinue.upper()\n",
        "    if (toContinue == \"Y\"):\n",
        "      continue\n",
        "    else:\n",
        "      print(\"Exiting Program - Thank you !!\")\n",
        "      break\n",
        "  except:\n",
        "    print(\"Exception occurred!!!\")\n",
        "    toContinue = input(\"Do you want to continue (Y/N)?? \")\n",
        "    toContinue = toContinue.upper()\n",
        "    if (toContinue == \"Y\"):\n",
        "      continue\n",
        "    else:\n",
        "      print(\"Exiting Program - Thank you !!\")\n",
        "      break"
      ],
      "metadata": {
        "colab": {
          "base_uri": "https://localhost:8080/"
        },
        "id": "b8tzXNAWMmv_",
        "outputId": "ea1d5987-3015-4a88-9b82-59fcfa2b822f"
      },
      "execution_count": 33,
      "outputs": [
        {
          "output_type": "stream",
          "name": "stdout",
          "text": [
            "Python program to check a list is empty or not?-using input from user\n",
            "Enter the list items (space separated): \n",
            "Input:- []\n",
            "List is empty!!\n",
            "Do you want to continue (Y/N)?? y\n",
            "Enter the list items (space separated): 10 20 30\n",
            "Input:- [10, 20, 30]\n",
            "List is not empty!!\n",
            "Do you want to continue (Y/N)?? n\n",
            "Exiting Program - Thank you !!\n"
          ]
        }
      ]
    },
    {
      "cell_type": "markdown",
      "source": [
        "#Write a Python program to copy a list using loop.\n",
        "#inp_lst = [10,10.20,10+20j, 'Python', [10,20], (10,20)]\n",
        "#out_lst = [10,10.20,10+20j, 'Python', [10,20], (10,20)]"
      ],
      "metadata": {
        "id": "T_qjRoCcSKxG"
      }
    },
    {
      "cell_type": "code",
      "source": [
        "print(\"Python program to copy a list using loop\")\n",
        "inp_lst = [10,10.20,10+20j, 'Python', [10,20], (10,20)]\n",
        "print(f\"Input:- {inp_lst}\") \n",
        "out_lst = []\n",
        "\n",
        "for elements in inp_lst:\n",
        "  out_lst = out_lst + [elements]\n",
        "print(f\"Output:- {out_lst}\") "
      ],
      "metadata": {
        "colab": {
          "base_uri": "https://localhost:8080/"
        },
        "id": "NLLsBx99OhJ3",
        "outputId": "d0046995-99dd-4e57-b180-7714edc62d6a"
      },
      "execution_count": 34,
      "outputs": [
        {
          "output_type": "stream",
          "name": "stdout",
          "text": [
            "Python program to copy a list using loop\n",
            "Input:- [10, 10.2, (10+20j), 'Python', [10, 20], (10, 20)]\n",
            "Output:- [10, 10.2, (10+20j), 'Python', [10, 20], (10, 20)]\n"
          ]
        }
      ]
    },
    {
      "cell_type": "markdown",
      "source": [
        "#Write a Python program to find the list of words that are longer than or equal to 4 from a given string.\n",
        "#Input:- 'How much wood would a woodchuck chuck if a woodchuck could chuck wood'\n",
        "#Output:- ['much', 'wood', 'would', 'woodchuck', 'chuck', 'could']\n",
        "#Note:- Duplicate should be avoided.\n"
      ],
      "metadata": {
        "id": "bBvKLDU3T8Vm"
      }
    },
    {
      "cell_type": "code",
      "source": [
        "print(\"Python program to find the list of words that are longer than or equal to 4 from a given string.\")\n",
        "while(True):\n",
        "  try:\n",
        "    ####################################################################\n",
        "    my_str = input(\"Enter a string: \")\n",
        "    output = []\n",
        "    first_index = 0\n",
        "    last_index = 0\n",
        "    for char in my_str:\n",
        "      last_index += 1\n",
        "      if char == ' ' :\n",
        "        if (len(my_str[first_index:last_index-1]) >= 4) and (my_str[first_index:last_index-1] not in output):\n",
        "          output = output + [my_str[first_index:last_index-1]] \n",
        "        first_index = last_index      \n",
        "    if (len(my_str[first_index:last_index]) > 4) and (my_str[first_index:last_index-1] not in output):\n",
        "      output = output + [my_str[first_index:last_index]]  \n",
        "    print(output)\n",
        "    ####################################################################\n",
        "    toContinue = input(\"Do you want to continue (Y/N)?? \")\n",
        "    toContinue = toContinue.upper()\n",
        "    if (toContinue == \"Y\"):\n",
        "      continue\n",
        "    else:\n",
        "      print(\"Exiting Program - Thank you !!\")\n",
        "      break\n",
        "    ####################################################################\n",
        "  except:\n",
        "    print(\"Enter a valid string!!!\")\n",
        "    toContinue = input(\"Do you want to continue (Y/N)?? \")\n",
        "    toContinue = toContinue.upper()\n",
        "    if (toContinue == \"Y\"):\n",
        "      continue\n",
        "    else:\n",
        "      print(\"Exiting Program - Thank you !!\")\n",
        "      break"
      ],
      "metadata": {
        "colab": {
          "base_uri": "https://localhost:8080/"
        },
        "id": "pLdw--9fTB9_",
        "outputId": "33a92302-b49c-441c-bfe6-71305633b665"
      },
      "execution_count": null,
      "outputs": [
        {
          "output_type": "stream",
          "name": "stdout",
          "text": [
            "Python program to find the list of words that are longer than or equal to 4 from a given string.\n",
            "Enter a string: How much wood would a woodchuck chuck if a woodchuck could chuck wood\n",
            "['much', 'wood', 'would', 'woodchuck', 'chuck', 'could']\n",
            "Do you want to continue (Y/N)?? n\n",
            "Exiting Program - Thank you !!\n"
          ]
        }
      ]
    },
    {
      "cell_type": "markdown",
      "source": [
        "#Write a Python program which takes two list as input and returns True if they have at least 3 common elements.\n",
        "#inp_lst1 = [10,20,'Python', 10.20, 10+20j, [10,20,30], (10,20,30)]\n",
        "#inp_lst2 = [(10,20,30),1,20+3j,100.2, 10+20j, [10,20,30],'Python']\n",
        "#Output:- True"
      ],
      "metadata": {
        "id": "aRBQynVBVvRO"
      }
    },
    {
      "cell_type": "code",
      "source": [
        "print(\"Python program which takes two list as input and returns True if they have at least 3 common elements.\")\n",
        "inp_lst1 = [10,20,'Python', 10.20, 10+20j, [10,20,30], (10,20,30)]\n",
        "print(f\"inp_lst1:- {inp_lst1}\") \n",
        "inp_lst2 = [(10,20,30),1,20+3j,100.2, 10+20j, [10,20,30],'Python']\n",
        "print(f\"inp_lst2:- {inp_lst2}\") \n",
        "commonTerms = 0\n",
        "\n",
        "for i in inp_lst1:\n",
        "  if i in inp_lst2:\n",
        "    commonTerms += 1\n",
        "\n",
        "if commonTerms >= 3:\n",
        "  print(f\"Output:- {True}\")\n",
        "#Output:- True"
      ],
      "metadata": {
        "colab": {
          "base_uri": "https://localhost:8080/"
        },
        "id": "L-I-KpEfUyNc",
        "outputId": "478ed8da-9ddc-4211-96d9-b037af59d2e9"
      },
      "execution_count": 36,
      "outputs": [
        {
          "output_type": "stream",
          "name": "stdout",
          "text": [
            "Python program which takes two list as input and returns True if they have at least 3 common elements.\n",
            "inp_lst1:- [10, 20, 'Python', 10.2, (10+20j), [10, 20, 30], (10, 20, 30)]\n",
            "inp_lst2:- [(10, 20, 30), 1, (20+3j), 100.2, (10+20j), [10, 20, 30], 'Python']\n",
            "Output:- True\n"
          ]
        }
      ]
    },
    {
      "cell_type": "markdown",
      "source": [
        "#Write a Python program to create a 4X4 2D matrix with below elements using loop and list comprehension both.\n",
        "#Output:- [[0,0,0,0],[0,1,2,3],[0,2,4,6],[0,3,6,9]]"
      ],
      "metadata": {
        "id": "3MBJRzQHlq7u"
      }
    },
    {
      "cell_type": "markdown",
      "source": [
        "# Using loop"
      ],
      "metadata": {
        "id": "euwWeUPIlwGr"
      }
    },
    {
      "cell_type": "code",
      "source": [
        "print(\"Create a 4X4 2D matrix using loop\")\n",
        "while(True):\n",
        "  try:\n",
        "    output = []  \n",
        "    rows = int(input(\"Enter number of rows:-\"))\n",
        "    cols = int(input(\"Enter number of columns:-\"))\n",
        "\n",
        "    for row_cnt in range(rows):\n",
        "      rowElements = []\n",
        "      for cols_cnt in range(cols):\n",
        "        rowElements.append(int(input(f\"Enter row-element-{row_cnt+1} column-element-{cols_cnt+1} \")))\n",
        "      output.append(rowElements)\n",
        "\n",
        "    print(f\"Output:- {output}\")\n",
        "    \n",
        "    toContinue = input(\"Do you want to continue (Y/N)?? \")\n",
        "    toContinue = toContinue.upper()\n",
        "    if (toContinue == \"Y\"):\n",
        "      continue\n",
        "    else:\n",
        "      print(\"Exiting Program - Thank you !!\")\n",
        "      break\n",
        "  except:\n",
        "    print(\"Exception occurred!!!\")\n",
        "    toContinue = input(\"Do you want to continue (Y/N)?? \")\n",
        "    toContinue = toContinue.upper()\n",
        "    if (toContinue == \"Y\"):\n",
        "      continue\n",
        "    else:\n",
        "      print(\"Exiting Program - Thank you !!\")\n",
        "      break"
      ],
      "metadata": {
        "colab": {
          "base_uri": "https://localhost:8080/"
        },
        "id": "CHCldk92lRnA",
        "outputId": "c23d091a-316e-4951-ba72-4431437c5e47"
      },
      "execution_count": 37,
      "outputs": [
        {
          "output_type": "stream",
          "name": "stdout",
          "text": [
            "Create a 4X4 2D matrix using loop\n",
            "Enter number of rows:-4\n",
            "Enter number of columns:-4\n",
            "Enter row-element-1 column-element-1 0\n",
            "Enter row-element-1 column-element-2 0\n",
            "Enter row-element-1 column-element-3 0\n",
            "Enter row-element-1 column-element-4 0\n",
            "Enter row-element-2 column-element-1 0\n",
            "Enter row-element-2 column-element-2 1\n",
            "Enter row-element-2 column-element-3 2\n",
            "Enter row-element-2 column-element-4 3\n",
            "Enter row-element-3 column-element-1 0\n",
            "Enter row-element-3 column-element-2 2\n",
            "Enter row-element-3 column-element-3 4\n",
            "Enter row-element-3 column-element-4 6\n",
            "Enter row-element-4 column-element-1 0\n",
            "Enter row-element-4 column-element-2 3\n",
            "Enter row-element-4 column-element-3 6\n",
            "Enter row-element-4 column-element-4 9\n",
            "Output:- [[0, 0, 0, 0], [0, 1, 2, 3], [0, 2, 4, 6], [0, 3, 6, 9]]\n",
            "Do you want to continue (Y/N)?? n\n",
            "Exiting Program - Thank you !!\n"
          ]
        }
      ]
    },
    {
      "cell_type": "markdown",
      "source": [
        "# Using list comprehension"
      ],
      "metadata": {
        "id": "LjvZYcUTiLbR"
      }
    },
    {
      "cell_type": "code",
      "source": [
        "print(\"Create a 4X4 2D matrix using lsit comprehension\")\n",
        "while(True):\n",
        "  try:\n",
        "    rows = int(input(\"Enter number of rows:- \"))\n",
        "    cols = int(input(\"Enter number of columns:- \"))\n",
        "    arr = [[int(input(f\"Enter row-element-{j+1} col-element-{i+1}:- \")) for i in range(cols)] for j in range(rows)]\n",
        "    print(arr)\n",
        "    toContinue = input(\"Do you want to continue (Y/N)?? \")\n",
        "    toContinue = toContinue.upper()\n",
        "    if (toContinue == \"Y\"):\n",
        "      continue\n",
        "    else:\n",
        "      print(\"Exiting Program - Thank you !!\")\n",
        "      break\n",
        "  except:\n",
        "    print(\"Exception occurred!!!\")\n",
        "    toContinue = input(\"Do you want to continue (Y/N)?? \")\n",
        "    toContinue = toContinue.upper()\n",
        "    if (toContinue == \"Y\"):\n",
        "      continue\n",
        "    else:\n",
        "      print(\"Exiting Program - Thank you !!\")\n",
        "      break"
      ],
      "metadata": {
        "id": "H40Wyl29pUoq",
        "colab": {
          "base_uri": "https://localhost:8080/"
        },
        "outputId": "7c2fe171-211c-4b74-9fb3-7809ee2e6d89"
      },
      "execution_count": 38,
      "outputs": [
        {
          "output_type": "stream",
          "name": "stdout",
          "text": [
            "Create a 4X4 2D matrix using lsit comprehension\n",
            "Enter number of rows:- 4\n",
            "Enter number of columns:- 4\n",
            "Enter row-element-1 col-element-1:- 0\n",
            "Enter row-element-1 col-element-2:- 0\n",
            "Enter row-element-1 col-element-3:- 0\n",
            "Enter row-element-1 col-element-4:- 0\n",
            "Enter row-element-2 col-element-1:- 0\n",
            "Enter row-element-2 col-element-2:- 1\n",
            "Enter row-element-2 col-element-3:- 2\n",
            "Enter row-element-2 col-element-4:- 3\n",
            "Enter row-element-3 col-element-1:- 0\n",
            "Enter row-element-3 col-element-2:- 2\n",
            "Enter row-element-3 col-element-3:- 4\n",
            "Enter row-element-3 col-element-4:- 6\n",
            "Enter row-element-4 col-element-1:- 0\n",
            "Enter row-element-4 col-element-2:- 3\n",
            "Enter row-element-4 col-element-3:- 6\n",
            "Enter row-element-4 col-element-4:- 9\n",
            "[[0, 0, 0, 0], [0, 1, 2, 3], [0, 2, 4, 6], [0, 3, 6, 9]]\n",
            "Do you want to continue (Y/N)?? n\n",
            "Exiting Program - Thank you !!\n"
          ]
        }
      ]
    },
    {
      "cell_type": "markdown",
      "source": [
        "#Write a Python program to create a 3X4X6 3D matrix wiith below elements using loop\n",
        "#Output:- \n",
        "# [\n",
        "#     [[0,0,0,0,0,0],[0,0,0,0,0,0],[0,0,0,0,0,0],[0,0,0,0,0,0]],\n",
        "#     [[0,0,0,0,0,0],[1,1,1,1,1,1],[2,2,2,2,2,2],[3,3,3,3,3,3]],\n",
        "#     [[0,0,0,0,0,0],[2,2,2,2,2,2],[4,4,4,4,4,4],[6,6,6,6,6,6]]\n",
        "# ]"
      ],
      "metadata": {
        "id": "AKrstOdbm8sr"
      }
    },
    {
      "cell_type": "markdown",
      "source": [
        "# Using loop"
      ],
      "metadata": {
        "id": "PYNxVNDDwVwK"
      }
    },
    {
      "cell_type": "code",
      "source": [
        "print(\"Python program to create a 3X4X6 3D matrix using loop\")\n",
        "while(True):\n",
        "  try:\n",
        "    output = []\n",
        "     \n",
        "    rows = int(input(\"Enter number of rows:-\"))\n",
        "    cols = int(input(\"Enter number of columns:-\"))\n",
        "    dim = int(input(\"Enter number of dimensions:-\"))\n",
        "\n",
        "    for dim_cnt in range(dim):\n",
        "      twoDMatrix = []\n",
        "      for row_cnt in range(rows):\n",
        "        rowElements = []\n",
        "        for cols_cnt in range(cols):\n",
        "          rowElements.append(int(input(f\"Enter dim-{dim_cnt+1} row-element-{row_cnt+1} column-element-{cols_cnt+1} \")))\n",
        "        twoDMatrix.append(rowElements)\n",
        "      output.append(twoDMatrix)\n",
        "\n",
        "    print(f\"Output:- {output}\")\n",
        "    \n",
        "    toContinue = input(\"Do you want to continue (Y/N)?? \")\n",
        "    toContinue = toContinue.upper()\n",
        "    if (toContinue == \"Y\"):\n",
        "      continue\n",
        "    else:\n",
        "      print(\"Exiting Program - Thank you !!\")\n",
        "      break\n",
        "  except:\n",
        "    print(\"Exception occurred!!!\")\n",
        "    toContinue = input(\"Do you want to continue (Y/N)?? \")\n",
        "    toContinue = toContinue.upper()\n",
        "    if (toContinue == \"Y\"):\n",
        "      continue\n",
        "    else:\n",
        "      print(\"Exiting Program - Thank you !!\")\n",
        "      break"
      ],
      "metadata": {
        "colab": {
          "base_uri": "https://localhost:8080/"
        },
        "id": "IZJajqXbj2Fs",
        "outputId": "8f9c710d-f43b-4082-f8db-0435c88b08c2"
      },
      "execution_count": 40,
      "outputs": [
        {
          "output_type": "stream",
          "name": "stdout",
          "text": [
            "Python program to create a 3X4X6 3D matrix using loop\n",
            "Enter number of rows:-4\n",
            "Enter number of columns:-6\n",
            "Enter number of dimensions:-3\n",
            "Enter dim-1 row-element-1 column-element-1 0\n",
            "Enter dim-1 row-element-1 column-element-2 0\n",
            "Enter dim-1 row-element-1 column-element-3 0\n",
            "Enter dim-1 row-element-1 column-element-4 0\n",
            "Enter dim-1 row-element-1 column-element-5 0\n",
            "Enter dim-1 row-element-1 column-element-6 0\n",
            "Enter dim-1 row-element-2 column-element-1 0\n",
            "Enter dim-1 row-element-2 column-element-2 0\n",
            "Enter dim-1 row-element-2 column-element-3 0\n",
            "Enter dim-1 row-element-2 column-element-4 0\n",
            "Enter dim-1 row-element-2 column-element-5 0\n",
            "Enter dim-1 row-element-2 column-element-6 0\n",
            "Enter dim-1 row-element-3 column-element-1 0\n",
            "Enter dim-1 row-element-3 column-element-2 0\n",
            "Enter dim-1 row-element-3 column-element-3 0\n",
            "Enter dim-1 row-element-3 column-element-4 0\n",
            "Enter dim-1 row-element-3 column-element-5 0\n",
            "Enter dim-1 row-element-3 column-element-6 0\n",
            "Enter dim-1 row-element-4 column-element-1 0\n",
            "Enter dim-1 row-element-4 column-element-2 0\n",
            "Enter dim-1 row-element-4 column-element-3 0\n",
            "Enter dim-1 row-element-4 column-element-4 0\n",
            "Enter dim-1 row-element-4 column-element-5 0\n",
            "Enter dim-1 row-element-4 column-element-6 0\n",
            "Enter dim-2 row-element-1 column-element-1 0\n",
            "Enter dim-2 row-element-1 column-element-2 0\n",
            "Enter dim-2 row-element-1 column-element-3 0\n",
            "Enter dim-2 row-element-1 column-element-4 0\n",
            "Enter dim-2 row-element-1 column-element-5 0\n",
            "Enter dim-2 row-element-1 column-element-6 0\n",
            "Enter dim-2 row-element-2 column-element-1 1\n",
            "Enter dim-2 row-element-2 column-element-2 1\n",
            "Enter dim-2 row-element-2 column-element-3 1\n",
            "Enter dim-2 row-element-2 column-element-4 1\n",
            "Enter dim-2 row-element-2 column-element-5 1\n",
            "Enter dim-2 row-element-2 column-element-6 1\n",
            "Enter dim-2 row-element-3 column-element-1 2\n",
            "Enter dim-2 row-element-3 column-element-2 2\n",
            "Enter dim-2 row-element-3 column-element-3 2\n",
            "Enter dim-2 row-element-3 column-element-4 2\n",
            "Enter dim-2 row-element-3 column-element-5 2\n",
            "Enter dim-2 row-element-3 column-element-6 2\n",
            "Enter dim-2 row-element-4 column-element-1 3\n",
            "Enter dim-2 row-element-4 column-element-2 3\n",
            "Enter dim-2 row-element-4 column-element-3 3\n",
            "Enter dim-2 row-element-4 column-element-4 3\n",
            "Enter dim-2 row-element-4 column-element-5 3\n",
            "Enter dim-2 row-element-4 column-element-6 3\n",
            "Enter dim-3 row-element-1 column-element-1 0\n",
            "Enter dim-3 row-element-1 column-element-2 0\n",
            "Enter dim-3 row-element-1 column-element-3 0\n",
            "Enter dim-3 row-element-1 column-element-4 0\n",
            "Enter dim-3 row-element-1 column-element-5 0\n",
            "Enter dim-3 row-element-1 column-element-6 0\n",
            "Enter dim-3 row-element-2 column-element-1 2\n",
            "Enter dim-3 row-element-2 column-element-2 2\n",
            "Enter dim-3 row-element-2 column-element-3 2\n",
            "Enter dim-3 row-element-2 column-element-4 2\n",
            "Enter dim-3 row-element-2 column-element-5 2\n",
            "Enter dim-3 row-element-2 column-element-6 2\n",
            "Enter dim-3 row-element-3 column-element-1 4\n",
            "Enter dim-3 row-element-3 column-element-2 4\n",
            "Enter dim-3 row-element-3 column-element-3 4\n",
            "Enter dim-3 row-element-3 column-element-4 4\n",
            "Enter dim-3 row-element-3 column-element-5 4\n",
            "Enter dim-3 row-element-3 column-element-6 4\n",
            "Enter dim-3 row-element-4 column-element-1 6\n",
            "Enter dim-3 row-element-4 column-element-2 6\n",
            "Enter dim-3 row-element-4 column-element-3 6\n",
            "Enter dim-3 row-element-4 column-element-4 6\n",
            "Enter dim-3 row-element-4 column-element-5 6\n",
            "Enter dim-3 row-element-4 column-element-6 6\n",
            "Output:- [[[0, 0, 0, 0, 0, 0], [0, 0, 0, 0, 0, 0], [0, 0, 0, 0, 0, 0], [0, 0, 0, 0, 0, 0]], [[0, 0, 0, 0, 0, 0], [1, 1, 1, 1, 1, 1], [2, 2, 2, 2, 2, 2], [3, 3, 3, 3, 3, 3]], [[0, 0, 0, 0, 0, 0], [2, 2, 2, 2, 2, 2], [4, 4, 4, 4, 4, 4], [6, 6, 6, 6, 6, 6]]]\n",
            "Do you want to continue (Y/N)?? n\n",
            "Exiting Program - Thank you !!\n"
          ]
        }
      ]
    },
    {
      "cell_type": "markdown",
      "source": [
        "# Using list comprehension"
      ],
      "metadata": {
        "id": "OpOG-vjkrdAe"
      }
    },
    {
      "cell_type": "code",
      "source": [
        "print(\"Python program to create a 3X4X6 3D matrix using list comprehension\")\n",
        "while(True):\n",
        "  try:    \n",
        "     \n",
        "    rows = int(input(\"Enter number of rows:-\"))\n",
        "    cols = int(input(\"Enter number of columns:-\"))\n",
        "    dim = int(input(\"Enter number of dimensions:-\"))\n",
        "\n",
        "    output = [[ [int(input(f\"Enter dim-{dim_elements+1} row-element-{row_elements+1} column-element-{col_elements+1} \")) for col_elements in range(cols)] for row_elements in range(rows)] for dim_elements in range(dim)]\n",
        "\n",
        "    print(f\"Output:- {output}\")\n",
        "    \n",
        "    toContinue = input(\"Do you want to continue (Y/N)?? \")\n",
        "    toContinue = toContinue.upper()\n",
        "    if (toContinue == \"Y\"):\n",
        "      continue\n",
        "    else:\n",
        "      print(\"Exiting Program - Thank you !!\")\n",
        "      break\n",
        "  except:\n",
        "    print(\"Exception occurred!!!\")\n",
        "    toContinue = input(\"Do you want to continue (Y/N)?? \")\n",
        "    toContinue = toContinue.upper()\n",
        "    if (toContinue == \"Y\"):\n",
        "      continue\n",
        "    else:\n",
        "      print(\"Exiting Program - Thank you !!\")\n",
        "      break"
      ],
      "metadata": {
        "colab": {
          "base_uri": "https://localhost:8080/"
        },
        "id": "2lr6-GhOoKX0",
        "outputId": "11defd51-830c-4787-c1d9-311df67f57e9"
      },
      "execution_count": 41,
      "outputs": [
        {
          "output_type": "stream",
          "name": "stdout",
          "text": [
            "Python program to create a 3X4X6 3D matrix using list comprehension\n",
            "Enter number of rows:-4\n",
            "Enter number of columns:-6\n",
            "Enter number of dimensions:-3\n",
            "Enter dim-1 row-element-1 column-element-1 0\n",
            "Enter dim-1 row-element-1 column-element-2 0\n",
            "Enter dim-1 row-element-1 column-element-3 0\n",
            "Enter dim-1 row-element-1 column-element-4 0\n",
            "Enter dim-1 row-element-1 column-element-5 0\n",
            "Enter dim-1 row-element-1 column-element-6 0\n",
            "Enter dim-1 row-element-2 column-element-1 0\n",
            "Enter dim-1 row-element-2 column-element-2 0\n",
            "Enter dim-1 row-element-2 column-element-3 0\n",
            "Enter dim-1 row-element-2 column-element-4 0\n",
            "Enter dim-1 row-element-2 column-element-5 0\n",
            "Enter dim-1 row-element-2 column-element-6 0\n",
            "Enter dim-1 row-element-3 column-element-1 0\n",
            "Enter dim-1 row-element-3 column-element-2 0\n",
            "Enter dim-1 row-element-3 column-element-3 0\n",
            "Enter dim-1 row-element-3 column-element-4 0\n",
            "Enter dim-1 row-element-3 column-element-5 0\n",
            "Enter dim-1 row-element-3 column-element-6 0\n",
            "Enter dim-1 row-element-4 column-element-1 0\n",
            "Enter dim-1 row-element-4 column-element-2 0\n",
            "Enter dim-1 row-element-4 column-element-3 0\n",
            "Enter dim-1 row-element-4 column-element-4 0\n",
            "Enter dim-1 row-element-4 column-element-5 0\n",
            "Enter dim-1 row-element-4 column-element-6 0\n",
            "Enter dim-2 row-element-1 column-element-1 0\n",
            "Enter dim-2 row-element-1 column-element-2 0\n",
            "Enter dim-2 row-element-1 column-element-3 0\n",
            "Enter dim-2 row-element-1 column-element-4 0\n",
            "Enter dim-2 row-element-1 column-element-5 0\n",
            "Enter dim-2 row-element-1 column-element-6 0\n",
            "Enter dim-2 row-element-2 column-element-1 1\n",
            "Enter dim-2 row-element-2 column-element-2 1\n",
            "Enter dim-2 row-element-2 column-element-3 1\n",
            "Enter dim-2 row-element-2 column-element-4 1\n",
            "Enter dim-2 row-element-2 column-element-5 1\n",
            "Enter dim-2 row-element-2 column-element-6 1\n",
            "Enter dim-2 row-element-3 column-element-1 2\n",
            "Enter dim-2 row-element-3 column-element-2 2\n",
            "Enter dim-2 row-element-3 column-element-3 2\n",
            "Enter dim-2 row-element-3 column-element-4 2\n",
            "Enter dim-2 row-element-3 column-element-5 2\n",
            "Enter dim-2 row-element-3 column-element-6 2\n",
            "Enter dim-2 row-element-4 column-element-1 3\n",
            "Enter dim-2 row-element-4 column-element-2 3\n",
            "Enter dim-2 row-element-4 column-element-3 3\n",
            "Enter dim-2 row-element-4 column-element-4 3\n",
            "Enter dim-2 row-element-4 column-element-5 3\n",
            "Enter dim-2 row-element-4 column-element-6 3\n",
            "Enter dim-3 row-element-1 column-element-1 0\n",
            "Enter dim-3 row-element-1 column-element-2 0\n",
            "Enter dim-3 row-element-1 column-element-3 0\n",
            "Enter dim-3 row-element-1 column-element-4 0\n",
            "Enter dim-3 row-element-1 column-element-5 0\n",
            "Enter dim-3 row-element-1 column-element-6 0\n",
            "Enter dim-3 row-element-2 column-element-1 2\n",
            "Enter dim-3 row-element-2 column-element-2 2\n",
            "Enter dim-3 row-element-2 column-element-3 2\n",
            "Enter dim-3 row-element-2 column-element-4 2\n",
            "Enter dim-3 row-element-2 column-element-5 2\n",
            "Enter dim-3 row-element-2 column-element-6 2\n",
            "Enter dim-3 row-element-3 column-element-1 4\n",
            "Enter dim-3 row-element-3 column-element-2 4\n",
            "Enter dim-3 row-element-3 column-element-3 4\n",
            "Enter dim-3 row-element-3 column-element-4 4\n",
            "Enter dim-3 row-element-3 column-element-5 4\n",
            "Enter dim-3 row-element-3 column-element-6 4\n",
            "Enter dim-3 row-element-4 column-element-1 6\n",
            "Enter dim-3 row-element-4 column-element-2 6\n",
            "Enter dim-3 row-element-4 column-element-3 6\n",
            "Enter dim-3 row-element-4 column-element-4 6\n",
            "Enter dim-3 row-element-4 column-element-5 6\n",
            "Enter dim-3 row-element-4 column-element-6 6\n",
            "Output:- [[[0, 0, 0, 0, 0, 0], [0, 0, 0, 0, 0, 0], [0, 0, 0, 0, 0, 0], [0, 0, 0, 0, 0, 0]], [[0, 0, 0, 0, 0, 0], [1, 1, 1, 1, 1, 1], [2, 2, 2, 2, 2, 2], [3, 3, 3, 3, 3, 3]], [[0, 0, 0, 0, 0, 0], [2, 2, 2, 2, 2, 2], [4, 4, 4, 4, 4, 4], [6, 6, 6, 6, 6, 6]]]\n",
            "Do you want to continue (Y/N)?? n\n",
            "Exiting Program - Thank you !!\n"
          ]
        }
      ]
    },
    {
      "cell_type": "markdown",
      "source": [
        "#Write a Python program which takes a list of numbers as input and prints a new list after removing even numbers from it.\n",
        "#Input:- [10,21,22,98,87,45,33,1,2,100]\n",
        "#Output:- [21,87,45,33,1]"
      ],
      "metadata": {
        "id": "cuIP2Osg1cpo"
      }
    },
    {
      "cell_type": "code",
      "source": [
        "print(\"Program which takes a list of numbers as input and prints a new list after removing even numbers from it.\")\n",
        "while(True):\n",
        "  try:\n",
        "    \n",
        "    outputList = [] \n",
        "    numElements = int(input(\"Enter number of elements:-\"))\n",
        "    \n",
        "    #inputList = [int(input(f\"Enter element-{num+1}:- \")) for num in range(numElements)] \n",
        "    inputList = [int(elements) for elements in input(f\"Enter {numElements} numbers (space-separated):- \").split()] \n",
        "    print(f\"Input:- {inputList}\")\n",
        "    \n",
        "    for elements in inputList:\n",
        "      if elements %2 != 0:\n",
        "        outputList.append(elements)\n",
        "    \n",
        "    print(f\"Output:- {outputList}\")\n",
        "    \n",
        "    toContinue = input(\"Do you want to continue (Y/N)?? \")\n",
        "    toContinue = toContinue.upper()\n",
        "    if (toContinue == \"Y\"):\n",
        "      continue\n",
        "    else:\n",
        "      print(\"Exiting Program - Thank you !!\")\n",
        "      break\n",
        "  except:\n",
        "    print(\"Exception occurred!!!\")\n",
        "    toContinue = input(\"Do you want to continue (Y/N)?? \")\n",
        "    toContinue = toContinue.upper()\n",
        "    if (toContinue == \"Y\"):\n",
        "      continue\n",
        "    else:\n",
        "      print(\"Exiting Program - Thank you !!\")\n",
        "      break"
      ],
      "metadata": {
        "colab": {
          "base_uri": "https://localhost:8080/"
        },
        "id": "aRunFWrAuOee",
        "outputId": "fc49a88c-6f3d-4f0f-eb69-b84a27f1661c"
      },
      "execution_count": 44,
      "outputs": [
        {
          "output_type": "stream",
          "name": "stdout",
          "text": [
            "Program which takes a list of numbers as input and prints a new list after removing even numbers from it.\n",
            "Enter number of elements:-10\n",
            "Enter 10 numbers (space-separated):- 10 21 22 98 87 45 33 1 2 100\n",
            "Input:- [10, 21, 22, 98, 87, 45, 33, 1, 2, 100]\n",
            "Output:- [21, 87, 45, 33, 1]\n",
            "Do you want to continue (Y/N)?? n\n",
            "Exiting Program - Thank you !!\n"
          ]
        }
      ]
    },
    {
      "cell_type": "markdown",
      "source": [
        "#Write a Python program which takes a list from the user and prints it after reshuffling the elements of the list.\n",
        "#Input:- [10,21,22,98,87,45,33,1,2,100]\n",
        "#Output:- [1,87,21,10,33,2,100,45,98,22] (It may be any randon list but with same elements)"
      ],
      "metadata": {
        "id": "fW1O0nnAAf9g"
      }
    },
    {
      "cell_type": "code",
      "source": [
        "print(\"Python program which takes a list from the user and prints it after reshuffling the elements of the list.\")\n",
        "while(True):\n",
        "  try:\n",
        "    \n",
        "    outputList = [] \n",
        "    numElements = int(input(\"Enter number of elements:-\"))\n",
        "    \n",
        "    #inputList = [int(input(f\"Enter element-{num+1}:- \")) for num in range(numElements)] \n",
        "    inputList = [int(elements) for elements in input(f\"Enter {numElements} numbers (space-separated):- \").split()] \n",
        "    print(f\"Input:- {inputList}\")\n",
        "    \n",
        "    for elements in inputList[::-1]:\n",
        "      outputList.append(elements)\n",
        "    \n",
        "    print(f\"Output:- {outputList}\")\n",
        "    \n",
        "    toContinue = input(\"Do you want to continue (Y/N)?? \")\n",
        "    toContinue = toContinue.upper()\n",
        "    if (toContinue == \"Y\"):\n",
        "      continue\n",
        "    else:\n",
        "      print(\"Exiting Program - Thank you !!\")\n",
        "      break\n",
        "  except:\n",
        "    print(\"Exception occurred!!!\")\n",
        "    toContinue = input(\"Do you want to continue (Y/N)?? \")\n",
        "    toContinue = toContinue.upper()\n",
        "    if (toContinue == \"Y\"):\n",
        "      continue\n",
        "    else:\n",
        "      print(\"Exiting Program - Thank you !!\")\n",
        "      break"
      ],
      "metadata": {
        "colab": {
          "base_uri": "https://localhost:8080/"
        },
        "id": "BK8qlxuW-08c",
        "outputId": "dfa18a18-1f25-4610-8baa-e78605b0168c"
      },
      "execution_count": 45,
      "outputs": [
        {
          "output_type": "stream",
          "name": "stdout",
          "text": [
            "Python program which takes a list from the user and prints it after reshuffling the elements of the list.\n",
            "Enter number of elements:-10\n",
            "Enter 10 numbers (space-separated):- 10 21 22 98 87 45 33 1 2 100\n",
            "Input:- [10, 21, 22, 98, 87, 45, 33, 1, 2, 100]\n",
            "Output:- [100, 2, 1, 33, 45, 87, 98, 22, 21, 10]\n",
            "Do you want to continue (Y/N)?? n\n",
            "Exiting Program - Thank you !!\n"
          ]
        }
      ]
    },
    {
      "cell_type": "markdown",
      "source": [
        "# Using random package"
      ],
      "metadata": {
        "id": "K7hcbyO1CZc5"
      }
    },
    {
      "cell_type": "code",
      "source": [
        "import random\n",
        "print(\"Python program which takes a list from the user and prints it after reshuffling the elements of the list.-using random package\")\n",
        "while(True):\n",
        "  try:\n",
        "    \n",
        "    outputList = [] \n",
        "    numElements = int(input(\"Enter number of elements:-\"))\n",
        "    indexList = random.sample(range(0, numElements), numElements)\n",
        "    #inputList = [int(input(f\"Enter element-{num+1}:- \")) for num in range(numElements)] \n",
        "    inputList = [int(elements) for elements in input(f\"Enter {numElements} numbers (space-separated):- \").split()] \n",
        "    print(f\"Input:- {inputList}\")\n",
        "    \n",
        "    for elements in indexList:\n",
        "      outputList.append(inputList[elements])\n",
        "    \n",
        "    print(f\"Output:- {outputList}\")\n",
        "    \n",
        "    toContinue = input(\"Do you want to continue (Y/N)?? \")\n",
        "    toContinue = toContinue.upper()\n",
        "    if (toContinue == \"Y\"):\n",
        "      continue\n",
        "    else:\n",
        "      print(\"Exiting Program - Thank you !!\")\n",
        "      break\n",
        "  except:\n",
        "    print(\"Exception occurred!!!\")\n",
        "    toContinue = input(\"Do you want to continue (Y/N)?? \")\n",
        "    toContinue = toContinue.upper()\n",
        "    if (toContinue == \"Y\"):\n",
        "      continue\n",
        "    else:\n",
        "      print(\"Exiting Program - Thank you !!\")\n",
        "      break"
      ],
      "metadata": {
        "colab": {
          "base_uri": "https://localhost:8080/"
        },
        "id": "_Zxd_OBeCTgj",
        "outputId": "ca696c0c-1d1d-47ff-89e0-e82a5598894a"
      },
      "execution_count": 49,
      "outputs": [
        {
          "output_type": "stream",
          "name": "stdout",
          "text": [
            "Python program which takes a list from the user and prints it after reshuffling the elements of the list.-using random package\n",
            "Enter number of elements:-10\n",
            "Enter 10 numbers (space-separated):- 10 21 22 98 87 45 33 1 2 100\n",
            "Input:- [10, 21, 22, 98, 87, 45, 33, 1, 2, 100]\n",
            "Output:- [98, 45, 2, 22, 10, 33, 1, 100, 21, 87]\n",
            "Do you want to continue (Y/N)?? n\n",
            "Exiting Program - Thank you !!\n"
          ]
        }
      ]
    },
    {
      "cell_type": "code",
      "source": [],
      "metadata": {
        "id": "dMm1vVCCDLRi"
      },
      "execution_count": null,
      "outputs": []
    }
  ]
}