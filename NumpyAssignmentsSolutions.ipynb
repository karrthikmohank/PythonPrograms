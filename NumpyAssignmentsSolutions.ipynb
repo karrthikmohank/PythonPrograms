{
  "nbformat": 4,
  "nbformat_minor": 0,
  "metadata": {
    "colab": {
      "provenance": [],
      "collapsed_sections": [],
      "authorship_tag": "ABX9TyM/tvybuUSffvU/Qq9fVogI",
      "include_colab_link": true
    },
    "kernelspec": {
      "name": "python3",
      "display_name": "Python 3"
    },
    "language_info": {
      "name": "python"
    }
  },
  "cells": [
    {
      "cell_type": "markdown",
      "metadata": {
        "id": "view-in-github",
        "colab_type": "text"
      },
      "source": [
        "<a href=\"https://colab.research.google.com/github/karrthikmohank/PythonPrograms/blob/main/NumpyAssignmentsSolutions.ipynb\" target=\"_parent\"><img src=\"https://colab.research.google.com/assets/colab-badge.svg\" alt=\"Open In Colab\"/></a>"
      ]
    },
    {
      "cell_type": "markdown",
      "source": [
        "# Write a Python program to print the NumPy version in your system."
      ],
      "metadata": {
        "id": "_wNyJUNL-nym"
      }
    },
    {
      "cell_type": "code",
      "execution_count": null,
      "metadata": {
        "colab": {
          "base_uri": "https://localhost:8080/"
        },
        "id": "hnXuqD_099wl",
        "outputId": "ca93914b-c51d-46d1-d59d-421d124bb260"
      },
      "outputs": [
        {
          "output_type": "stream",
          "name": "stdout",
          "text": [
            "1.21.6\n",
            "1.21.6\n"
          ]
        }
      ],
      "source": [
        "import numpy as np\n",
        "print(np.version.version)\n",
        "print(np.__version__)"
      ]
    },
    {
      "cell_type": "markdown",
      "source": [
        "# Write a Python program to reverse an array (first element becomes last)."
      ],
      "metadata": {
        "id": "kYQIVfK_EuDd"
      }
    },
    {
      "cell_type": "code",
      "source": [
        "import numpy as np\n",
        "while(True):\n",
        "  lst1 = eval(input(\"Enter a list: \"))\n",
        "  numArray = np.array(lst1)\n",
        "  numArray = numArray[::-1]  \n",
        "  print(f\"The reversed array: {numArray}\")\n",
        "  toContinue = input(\"Do you want to continue (Y/N)?? \")\n",
        "  toContinue = toContinue.upper()\n",
        "  if (toContinue == \"Y\"):\n",
        "    continue\n",
        "  else:\n",
        "    print(\"Exiting Program - Thank you !!\")\n",
        "    break"
      ],
      "metadata": {
        "colab": {
          "base_uri": "https://localhost:8080/"
        },
        "id": "6sAwh3TCB7tg",
        "outputId": "9860f17d-974a-4660-ffca-a1b6daf0e9e7"
      },
      "execution_count": null,
      "outputs": [
        {
          "output_type": "stream",
          "name": "stdout",
          "text": [
            "Enter a list: [1,2,3,4,5]\n",
            "The reversed array: [5 4 3 2 1]\n",
            "Do you want to continue (Y/N)?? y\n",
            "Enter a list: [1,2,3,4,5,6]\n",
            "The reversed array: [6 5 4 3 2 1]\n",
            "Do you want to continue (Y/N)?? n\n",
            "Exiting Program - Thank you !!\n"
          ]
        }
      ]
    },
    {
      "cell_type": "markdown",
      "source": [
        "# Write a Python program to convert a list and tuple into arrays."
      ],
      "metadata": {
        "id": "VXpCaesqOvSk"
      }
    },
    {
      "cell_type": "code",
      "source": [
        "import numpy as np\n",
        "lst1 = [1,2,3,4,5,6]\n",
        "print(\"Lists: \")\n",
        "print(\"Input: \",end = \"\")\n",
        "print(lst1)\n",
        "print(\"Converting list to array: \")\n",
        "print(\"Output: \",end = \"\")\n",
        "print(np.asarray(lst1))\n",
        "print(type(np.asarray(lst1)))\n",
        "\n",
        "lst2 = [[1,2,3],[4,5,6]]\n",
        "print(\"\\nInput: \",end = \"\")\n",
        "print(lst2)\n",
        "print(\"Converting list to array: \")\n",
        "print(\"Output: \",end = \"\")\n",
        "print(np.asarray(lst2))\n",
        "print(type(np.asarray(lst2)))\n",
        "\n",
        "print(\"\\nTuples: \")\n",
        "tuple1 = (1,2,3,4,5,6)\n",
        "print(\"Input: \",end = \"\")\n",
        "print(tuple1)\n",
        "print(\"Converting tuple to array: \")\n",
        "print(np.asarray(tuple1))\n",
        "print(type(np.asarray(tuple1)))\n",
        "\n",
        "tuple2 = ((1,2,3),(4,5,6))\n",
        "print(\"\\nInput: \",end = \"\")\n",
        "print(tuple2)\n",
        "print(\"Converting tuple to array: \")\n",
        "print(np.asarray(tuple2))\n",
        "print(type(np.asarray(tuple2)))"
      ],
      "metadata": {
        "id": "OOOKgD3xHEWS",
        "colab": {
          "base_uri": "https://localhost:8080/"
        },
        "outputId": "e23f72b6-6999-45e6-f960-3e42c56a6170"
      },
      "execution_count": null,
      "outputs": [
        {
          "output_type": "stream",
          "name": "stdout",
          "text": [
            "Lists: \n",
            "Input: [1, 2, 3, 4, 5, 6]\n",
            "Converting list to array: \n",
            "Output: [1 2 3 4 5 6]\n",
            "<class 'numpy.ndarray'>\n",
            "\n",
            "Input: [[1, 2, 3], [4, 5, 6]]\n",
            "Converting list to array: \n",
            "Output: [[1 2 3]\n",
            " [4 5 6]]\n",
            "<class 'numpy.ndarray'>\n",
            "\n",
            "Tuples: \n",
            "Input: (1, 2, 3, 4, 5, 6)\n",
            "Converting tuple to array: \n",
            "[1 2 3 4 5 6]\n",
            "<class 'numpy.ndarray'>\n",
            "\n",
            "Input: ((1, 2, 3), (4, 5, 6))\n",
            "Converting tuple to array: \n",
            "[[1 2 3]\n",
            " [4 5 6]]\n",
            "<class 'numpy.ndarray'>\n"
          ]
        }
      ]
    },
    {
      "cell_type": "markdown",
      "source": [
        "# Write a Python program to find common values between two arrays."
      ],
      "metadata": {
        "id": "uGudJE2pvPLx"
      }
    },
    {
      "cell_type": "code",
      "source": [
        "import numpy as np\n",
        "arr1 = np.array([1,2,3,4,5,6])\n",
        "arr2 = np.array([4,5,6,8,9,10])\n",
        "print(\"Input arrays: \")\n",
        "print(\"Array 1: \")\n",
        "print(arr1)\n",
        "print(\"Array 2: \")\n",
        "print(arr2)\n",
        "arr3 = np.intersect1d(arr1,arr2)\n",
        "print(\"Common values:\")\n",
        "print(arr3)"
      ],
      "metadata": {
        "id": "xEO5-ZNlsa8r",
        "colab": {
          "base_uri": "https://localhost:8080/"
        },
        "outputId": "31110b40-b60d-4905-c026-78e127c389b7"
      },
      "execution_count": null,
      "outputs": [
        {
          "output_type": "stream",
          "name": "stdout",
          "text": [
            "Input arrays: \n",
            "Array 1: \n",
            "[1 2 3 4 5 6]\n",
            "Array 2: \n",
            "[ 4  5  6  8  9 10]\n",
            "Common values:\n",
            "[4 5 6]\n"
          ]
        }
      ]
    },
    {
      "cell_type": "markdown",
      "source": [
        "# Write a Python program compare two arrays using numpy."
      ],
      "metadata": {
        "id": "F6z2ckKDINIy"
      }
    },
    {
      "cell_type": "markdown",
      "source": [
        "# Using ndarray.all() method"
      ],
      "metadata": {
        "id": "HJTvlYNXM8En"
      }
    },
    {
      "cell_type": "code",
      "source": [
        "import numpy as np\n",
        "arr1 = np.array([[1,2,3],[4,5,6]])\n",
        "arr2 = np.array([[1,2,3],[4,5,6]])\n",
        "print(\"Array 1: \\n\",arr1)\n",
        "print(\"Array 2: \\n\",arr2)\n",
        "compare = arr1 == arr2\n",
        "isEqual_1_2 = compare.all()\n",
        "print(\"Is the arrays equal? \",isEqual_1_2)\n",
        "arr3 = np.array([[1,2,3],[4,5,6]])\n",
        "arr4 = np.array([[4,5,6],[1,2,3]])\n",
        "print(\"Array 3: \\n\",arr3)\n",
        "print(\"Array 4: \\n\",arr4)\n",
        "compare = arr3 == arr4\n",
        "# print(compare)\n",
        "isEqual_3_4 = compare.all()\n",
        "print(\"Is the arrays equal? \",isEqual_3_4)\n"
      ],
      "metadata": {
        "colab": {
          "base_uri": "https://localhost:8080/"
        },
        "id": "Yk9-wfjcEOJ2",
        "outputId": "08742dfd-c5f3-4d8f-ee20-eeb5283e8716"
      },
      "execution_count": null,
      "outputs": [
        {
          "output_type": "stream",
          "name": "stdout",
          "text": [
            "Array 1: \n",
            " [[1 2 3]\n",
            " [4 5 6]]\n",
            "Array 2: \n",
            " [[1 2 3]\n",
            " [4 5 6]]\n",
            "Is the arrays equal?  True\n",
            "Array 3: \n",
            " [[1 2 3]\n",
            " [4 5 6]]\n",
            "Array 4: \n",
            " [[4 5 6]\n",
            " [1 2 3]]\n",
            "Is the arrays equal?  False\n"
          ]
        }
      ]
    },
    {
      "cell_type": "markdown",
      "source": [
        "# Using np.greater, np.greater_equal, np.less and np.less_equal methods"
      ],
      "metadata": {
        "id": "VHQk5BFNPOVH"
      }
    },
    {
      "cell_type": "code",
      "source": [
        "import numpy as np\n",
        "print(\"************ 1-D arrays *****************\")\n",
        "arr1 = np.array([1,2,3,4,5,6])\n",
        "arr2 = np.array([1,2,3,4,5,6])\n",
        "print(\"Array 1: \\n\",arr1)\n",
        "print(\"Array 2: \\n\",arr2)\n",
        "print(\"Array 1 > Array 2\\n\",np.greater(arr1,arr2))\n",
        "print(\"Array 1 >= Array 2\\n\",np.greater_equal(arr1,arr2))\n",
        "print(\"Array 1 < Array 2\\n\",np.less(arr1,arr2))\n",
        "print(\"Array 1 <= Array 2\\n\",np.less_equal(arr1,arr2))\n",
        "print(\"******************************************\")\n",
        "arr3 = np.array([1,2,3,4,5,6])\n",
        "arr4 = np.array([4,5,6,1,2,3])\n",
        "print(\"Array 3: \\n\",arr3)\n",
        "print(\"Array 4: \\n\",arr4)\n",
        "print(\"Array 3 > Array 4\\n\",np.greater(arr3,arr4))\n",
        "print(\"Array 3 >= Array 4\\n\",np.greater_equal(arr3,arr4))\n",
        "print(\"Array 3 < Array 4\\n\",np.less(arr3,arr4))\n",
        "print(\"Array 3 <= Array 4\\n\",np.less_equal(arr1,arr4))\n",
        "\n",
        "print(\"************ 2-D arrays *****************\")\n",
        "arr5 = np.array([[1,2,3],[4,5,6]])\n",
        "arr6 = np.array([[1,2,3],[4,5,6]])\n",
        "print(\"Array 5: \\n\",arr5)\n",
        "print(\"Array 6: \\n\",arr6)\n",
        "print(\"Array 5 > Array 6\\n\",np.greater(arr5,arr6))\n",
        "print(\"Array 5 >= Array 6\\n\",np.greater_equal(arr5,arr6))\n",
        "print(\"Array 5 < Array 6\\n\",np.less(arr5,arr6))\n",
        "print(\"Array 5 <= Array 6\\n\",np.less_equal(arr5,arr6))\n",
        "print(\"******************************************\")\n",
        "arr7 = np.array([[1,2,3],[4,5,6]])\n",
        "arr8 = np.array([[4,5,6],[1,2,3]])\n",
        "print(\"Array 7: \\n\",arr7)\n",
        "print(\"Array 8: \\n\",arr8)\n",
        "print(\"Array 7 > Array 8\\n\",np.greater(arr7,arr8))\n",
        "print(\"Array 7 >= Array 8\\n\",np.greater_equal(arr7,arr8))\n",
        "print(\"Array 7 < Array 8\\n\",np.less(arr7,arr8))\n",
        "print(\"Array 7 <= Array 8\\n\",np.less_equal(arr7,arr8))"
      ],
      "metadata": {
        "colab": {
          "base_uri": "https://localhost:8080/"
        },
        "id": "U9LNjn3pOHlN",
        "outputId": "9115301f-ae44-4af9-dc79-2bccefe5a065"
      },
      "execution_count": null,
      "outputs": [
        {
          "output_type": "stream",
          "name": "stdout",
          "text": [
            "************ 1-D arrays *****************\n",
            "Array 1: \n",
            " [1 2 3 4 5 6]\n",
            "Array 2: \n",
            " [1 2 3 4 5 6]\n",
            "Array 1 > Array 2\n",
            " [False False False False False False]\n",
            "Array 1 >= Array 2\n",
            " [ True  True  True  True  True  True]\n",
            "Array 1 < Array 2\n",
            " [False False False False False False]\n",
            "Array 1 <= Array 2\n",
            " [ True  True  True  True  True  True]\n",
            "******************************************\n",
            "Array 3: \n",
            " [1 2 3 4 5 6]\n",
            "Array 4: \n",
            " [4 5 6 1 2 3]\n",
            "Array 3 > Array 4\n",
            " [False False False  True  True  True]\n",
            "Array 3 >= Array 4\n",
            " [False False False  True  True  True]\n",
            "Array 3 < Array 4\n",
            " [ True  True  True False False False]\n",
            "Array 3 <= Array 4\n",
            " [ True  True  True False False False]\n",
            "************ 2-D arrays *****************\n",
            "Array 5: \n",
            " [[1 2 3]\n",
            " [4 5 6]]\n",
            "Array 6: \n",
            " [[1 2 3]\n",
            " [4 5 6]]\n",
            "Array 5 > Array 6\n",
            " [[False False False]\n",
            " [False False False]]\n",
            "Array 5 >= Array 6\n",
            " [[ True  True  True]\n",
            " [ True  True  True]]\n",
            "Array 5 < Array 6\n",
            " [[False False False]\n",
            " [False False False]]\n",
            "Array 5 <= Array 6\n",
            " [[ True  True  True]\n",
            " [ True  True  True]]\n",
            "******************************************\n",
            "Array 7: \n",
            " [[1 2 3]\n",
            " [4 5 6]]\n",
            "Array 8: \n",
            " [[4 5 6]\n",
            " [1 2 3]]\n",
            "Array 7 > Array 8\n",
            " [[False False False]\n",
            " [ True  True  True]]\n",
            "Array 7 >= Array 8\n",
            " [[False False False]\n",
            " [ True  True  True]]\n",
            "Array 7 < Array 8\n",
            " [[ True  True  True]\n",
            " [False False False]]\n",
            "Array 7 <= Array 8\n",
            " [[ True  True  True]\n",
            " [False False False]]\n"
          ]
        }
      ]
    },
    {
      "cell_type": "markdown",
      "source": [
        "# Using array_equal() method"
      ],
      "metadata": {
        "id": "wEqZXeIiYxrD"
      }
    },
    {
      "cell_type": "code",
      "source": [
        "import numpy as np\n",
        "print(\"************ 1-D arrays *****************\")\n",
        "arr1 = np.array([1,2,3,4,5,6])\n",
        "arr2 = np.array([1,2,3,4,5,6])\n",
        "print(\"Array 1: \\n\",arr1)\n",
        "print(\"Array 2: \\n\",arr2)\n",
        "print(\"Array 1 > Array 2\\n\",np.array_equal(arr1,arr2))\n",
        "print(\"******************************************\")\n",
        "arr3 = np.array([1,2,3,4,5,6])\n",
        "arr4 = np.array([4,5,6,1,2,3])\n",
        "print(\"Array 3: \\n\",arr3)\n",
        "print(\"Array 4: \\n\",arr4)\n",
        "print(\"Array 3 > Array 4\\n\",np.array_equal(arr3,arr4))\n",
        "\n",
        "print(\"************ 2-D arrays *****************\")\n",
        "arr5 = np.array([[1,2,3],[4,5,6]])\n",
        "arr6 = np.array([[1,2,3],[4,5,6]])\n",
        "print(\"Array 5: \\n\",arr5)\n",
        "print(\"Array 6: \\n\",arr6)\n",
        "print(\"Array 5 > Array 6\\n\",np.array_equal(arr5,arr6))\n",
        "print(\"******************************************\")\n",
        "arr7 = np.array([[1,2,3],[4,5,6]])\n",
        "arr8 = np.array([[4,5,6],[1,2,3]])\n",
        "print(\"Array 7: \\n\",arr7)\n",
        "print(\"Array 8: \\n\",arr8)\n",
        "print(\"Array 7 > Array 8\\n\",np.array_equal(arr7,arr8))\n"
      ],
      "metadata": {
        "colab": {
          "base_uri": "https://localhost:8080/"
        },
        "id": "AUEsGj-BXnSn",
        "outputId": "bf083780-cb02-4aee-daaa-8d0788407770"
      },
      "execution_count": null,
      "outputs": [
        {
          "output_type": "stream",
          "name": "stdout",
          "text": [
            "************ 1-D arrays *****************\n",
            "Array 1: \n",
            " [1 2 3 4 5 6]\n",
            "Array 2: \n",
            " [1 2 3 4 5 6]\n",
            "Array 1 > Array 2\n",
            " True\n",
            "******************************************\n",
            "Array 3: \n",
            " [1 2 3 4 5 6]\n",
            "Array 4: \n",
            " [4 5 6 1 2 3]\n",
            "Array 3 > Array 4\n",
            " False\n",
            "************ 2-D arrays *****************\n",
            "Array 5: \n",
            " [[1 2 3]\n",
            " [4 5 6]]\n",
            "Array 6: \n",
            " [[1 2 3]\n",
            " [4 5 6]]\n",
            "Array 5 > Array 6\n",
            " True\n",
            "******************************************\n",
            "Array 7: \n",
            " [[1 2 3]\n",
            " [4 5 6]]\n",
            "Array 8: \n",
            " [[4 5 6]\n",
            " [1 2 3]]\n",
            "Array 7 > Array 8\n",
            " False\n"
          ]
        }
      ]
    },
    {
      "cell_type": "markdown",
      "source": [
        "# Write a Python program to change the dimension of an array."
      ],
      "metadata": {
        "id": "_3JVm73Tdv-H"
      }
    },
    {
      "cell_type": "markdown",
      "source": [
        "# Using array_name.shape() method"
      ],
      "metadata": {
        "id": "sCpds0okdysF"
      }
    },
    {
      "cell_type": "code",
      "source": [
        "import numpy as np\n",
        "print(\"************ 1-D arrays *****************\")\n",
        "arr1 = np.array([1,2,3,4,5,6])\n",
        "print(\"Array 1: \\n\",arr1)\n",
        "# checking current shape\n",
        "print('Current shape of the array')\n",
        "print(arr1.shape)\n",
        "arr1.shape = (3,2)\n",
        "print('Changing shape to 3,2')\n",
        "print(arr1)\n",
        "\n",
        "print(\"************ 2-D arrays *****************\")\n",
        "arr2 = np.array([[1,2,3],[4,5,6]])\n",
        "print(\"Array 2: \\n\",arr2)\n",
        "# checking current shape\n",
        "print('Current shape of the array')\n",
        "print(arr2.shape)\n",
        "arr2.shape = (6,)\n",
        "print('Changing shape to 1D array with six elements')\n",
        "print(arr2)"
      ],
      "metadata": {
        "id": "VaASqMKdZbgq",
        "colab": {
          "base_uri": "https://localhost:8080/"
        },
        "outputId": "89b06288-4ca2-4e5d-fbf6-fbdaeb451ec2"
      },
      "execution_count": null,
      "outputs": [
        {
          "output_type": "stream",
          "name": "stdout",
          "text": [
            "************ 1-D arrays *****************\n",
            "Array 1: \n",
            " [1 2 3 4 5 6]\n",
            "Current shape of the array\n",
            "(6,)\n",
            "Changing shape to 3,2\n",
            "[[1 2]\n",
            " [3 4]\n",
            " [5 6]]\n",
            "************ 2-D arrays *****************\n",
            "Array 2: \n",
            " [[1 2 3]\n",
            " [4 5 6]]\n",
            "Current shape of the array\n",
            "(2, 3)\n",
            "Changing shape to 1D array with six elements\n",
            "[1 2 3 4 5 6]\n"
          ]
        }
      ]
    },
    {
      "cell_type": "markdown",
      "source": [
        "# Using reshape method"
      ],
      "metadata": {
        "id": "ShuPK0dWXRVv"
      }
    },
    {
      "cell_type": "code",
      "source": [
        "import numpy as np\n",
        "print(\"************ 1-D arrays *****************\")\n",
        "arr1 = np.array([1,2,3,4,5,6])\n",
        "print(\"Array 1: \\n\",arr1)\n",
        "# checking current shape\n",
        "print('Current shape of the array')\n",
        "print(arr1.shape)\n",
        "arr1 = arr1.reshape((3,2))\n",
        "print('Changing shape to 3,2')\n",
        "print(arr1)\n",
        "print('Current shape of the array')\n",
        "print(arr1.shape)\n",
        "\n",
        "print(\"************ 2-D arrays *****************\")\n",
        "arr2 = np.array([[1,2,3],[4,5,6]])\n",
        "print(\"Array 2: \\n\",arr2)\n",
        "# checking current shape\n",
        "print('Current shape of the array')\n",
        "print(arr2.shape)\n",
        "arr2 = arr2.reshape((6,))\n",
        "print('Changing shape to 1D array with six elements')\n",
        "print(arr2)\n",
        "print('Current shape of the array')\n",
        "print(arr2.shape)"
      ],
      "metadata": {
        "colab": {
          "base_uri": "https://localhost:8080/"
        },
        "id": "PsiTnaOlZkj_",
        "outputId": "9505ae5e-77bf-4099-9a30-553fb4c2078b"
      },
      "execution_count": null,
      "outputs": [
        {
          "output_type": "stream",
          "name": "stdout",
          "text": [
            "************ 1-D arrays *****************\n",
            "Array 1: \n",
            " [1 2 3 4 5 6]\n",
            "Current shape of the array\n",
            "(6,)\n",
            "Changing shape to 3,2\n",
            "[[1 2]\n",
            " [3 4]\n",
            " [5 6]]\n",
            "Current shape of the array\n",
            "(3, 2)\n",
            "************ 2-D arrays *****************\n",
            "Array 2: \n",
            " [[1 2 3]\n",
            " [4 5 6]]\n",
            "Current shape of the array\n",
            "(2, 3)\n",
            "Changing shape to 1D array with six elements\n",
            "[1 2 3 4 5 6]\n",
            "Current shape of the array\n",
            "(6,)\n"
          ]
        }
      ]
    },
    {
      "cell_type": "markdown",
      "source": [
        "# Using resize method"
      ],
      "metadata": {
        "id": "t84KZKlha9YA"
      }
    },
    {
      "cell_type": "code",
      "source": [
        "import numpy as np\n",
        "print(\"************ 1-D arrays *****************\")\n",
        "arr1 = np.array([1,2,3,4,5,6])\n",
        "print(\"Array 1: \\n\",arr1)\n",
        "# checking current shape\n",
        "print('Current shape of the array')\n",
        "print(arr1.shape)\n",
        "arr1 = np.resize(arr1,(3,2))\n",
        "print('Changing shape to 3,2')\n",
        "print(arr1)\n",
        "print('Current shape of the array')\n",
        "print(arr1.shape)\n",
        "\n",
        "print(\"************ 2-D arrays *****************\")\n",
        "arr2 = np.array([[1,2,3],[4,5,6]])\n",
        "print(\"Array 2: \\n\",arr2)\n",
        "# checking current shape\n",
        "print('Current shape of the array')\n",
        "print(arr2.shape)\n",
        "arr2 = np.resize(arr2,(6,))\n",
        "print('Changing shape to 1D array with six elements')\n",
        "print(arr2)"
      ],
      "metadata": {
        "colab": {
          "base_uri": "https://localhost:8080/"
        },
        "id": "R7TfWurPFFKX",
        "outputId": "37303a1d-62ef-4b48-fdf1-1798c3f7eaf0"
      },
      "execution_count": null,
      "outputs": [
        {
          "output_type": "stream",
          "name": "stdout",
          "text": [
            "************ 1-D arrays *****************\n",
            "Array 1: \n",
            " [1 2 3 4 5 6]\n",
            "Current shape of the array\n",
            "(6,)\n",
            "Changing shape to 3,2\n",
            "[[1 2]\n",
            " [3 4]\n",
            " [5 6]]\n",
            "Current shape of the array\n",
            "(3, 2)\n",
            "************ 2-D arrays *****************\n",
            "Array 2: \n",
            " [[1 2 3]\n",
            " [4 5 6]]\n",
            "Current shape of the array\n",
            "(2, 3)\n",
            "Changing shape to 1D array with six elements\n",
            "[1 2 3 4 5 6]\n"
          ]
        }
      ]
    },
    {
      "cell_type": "markdown",
      "source": [
        "# Write a Python program (using numpy) to sum of all the multiples of 3 or 5 below 100."
      ],
      "metadata": {
        "id": "7hFtzxH2eTR2"
      }
    },
    {
      "cell_type": "code",
      "source": [
        "import numpy as np\n",
        "number = 1\n",
        "arr1 = np.array([])\n",
        "while number <= 100:\n",
        "  if ( (number % 3) == 0 ) or ( (number % 5) == 0 ):\n",
        "    arr1 = np.append(arr1,[number])    \n",
        "  number += 1\n",
        "print(\"Sum of multiples of 3 or 5 below 100 is \",np.sum(arr1))"
      ],
      "metadata": {
        "colab": {
          "base_uri": "https://localhost:8080/"
        },
        "id": "67Hbudz2V9xR",
        "outputId": "7f2ceae8-bf67-4921-cd22-4a3efc179782"
      },
      "execution_count": null,
      "outputs": [
        {
          "output_type": "stream",
          "name": "stdout",
          "text": [
            "Sum of multiples of 3 or 5 below 100 is  2418.0\n"
          ]
        }
      ]
    },
    {
      "cell_type": "markdown",
      "source": [
        "# # Write a Python program to convert a NumPy array into Python list structure. "
      ],
      "metadata": {
        "id": "ICl-59JZjcF1"
      }
    },
    {
      "cell_type": "code",
      "source": [
        "import numpy as np\n",
        "arr1 = np.array([1,2,3,4,5,6])\n",
        "lst1 = arr1.tolist()\n",
        "print(lst1,type(lst1))\n",
        "arr2 = np.array([[1,2,3],[4,5,6]])\n",
        "lst2 = arr2.tolist()\n",
        "print(lst2,type(lst2))"
      ],
      "metadata": {
        "colab": {
          "base_uri": "https://localhost:8080/"
        },
        "id": "HJiv6_hldD8u",
        "outputId": "3c2c7a03-95ff-4678-b97d-9e7c8fb0c33f"
      },
      "execution_count": null,
      "outputs": [
        {
          "output_type": "stream",
          "name": "stdout",
          "text": [
            "[1, 2, 3, 4, 5, 6] <class 'list'>\n",
            "[[1, 2, 3], [4, 5, 6]] <class 'list'>\n"
          ]
        }
      ]
    },
    {
      "cell_type": "markdown",
      "source": [
        "# Write a Python program to how to add an extra column to a numpy array."
      ],
      "metadata": {
        "id": "sWj9w_jXo3yj"
      }
    },
    {
      "cell_type": "code",
      "source": [
        "import numpy as np\n",
        "arr1 = np.array([[1,2,3],[4,5,6]])\n",
        "print(\"Array 1: \\n\",arr1)\n",
        "z1 = np.zeros((2,1),dtype=int)\n",
        "arr1 = np.append(arr1,z1,axis=1)\n",
        "print(\"Output Array: \\n\",arr1)"
      ],
      "metadata": {
        "colab": {
          "base_uri": "https://localhost:8080/"
        },
        "id": "CX6U_FPlgLaf",
        "outputId": "ab883bfc-434d-429c-a05b-829ece48444b"
      },
      "execution_count": null,
      "outputs": [
        {
          "output_type": "stream",
          "name": "stdout",
          "text": [
            "Array 1: \n",
            " [[1 2 3]\n",
            " [4 5 6]]\n",
            "Output Array: \n",
            " [[1 2 3 0]\n",
            " [4 5 6 0]]\n"
          ]
        }
      ]
    },
    {
      "cell_type": "markdown",
      "source": [
        "# Using hstack method"
      ],
      "metadata": {
        "id": "79NLHbNotIXL"
      }
    },
    {
      "cell_type": "code",
      "source": [
        "import numpy as np\n",
        "arr1 = np.array([[1,2,3],[4,5,6]])\n",
        "print(\"Array 1: \\n\",arr1)\n",
        "arr1 = np.hstack((arr1, np.zeros((arr1.shape[0], 1), dtype=arr1.dtype)))\n",
        "print(\"Output Array: \\n\",arr1)"
      ],
      "metadata": {
        "colab": {
          "base_uri": "https://localhost:8080/"
        },
        "id": "VsCIf6ajrj6x",
        "outputId": "2227b03d-aa85-49a2-9129-b37ba567c7f8"
      },
      "execution_count": null,
      "outputs": [
        {
          "output_type": "stream",
          "name": "stdout",
          "text": [
            "Array 1: \n",
            " [[1 2 3]\n",
            " [4 5 6]]\n",
            "Output Array: \n",
            " [[1 2 3 0]\n",
            " [4 5 6 0]]\n"
          ]
        }
      ]
    },
    {
      "cell_type": "markdown",
      "source": [
        "# # Write a Python program to check whether the numpy array is empty or not."
      ],
      "metadata": {
        "id": "a8G5Eoniww1Q"
      }
    },
    {
      "cell_type": "markdown",
      "source": [
        "#Using size method"
      ],
      "metadata": {
        "id": "TwURYTaqtY6l"
      }
    },
    {
      "cell_type": "code",
      "source": [
        "import numpy as np\n",
        "print(\"************ 1-D arrays *****************\")\n",
        "arr1 = np.array([1,2,3,4,5,6])\n",
        "print(\"Array 1: \\n\",arr1)\n",
        "# checking size of the array\n",
        "if arr1.size == 0:\n",
        "  print(\"Array is empty!!!\")\n",
        "else:\n",
        "  print(\"Array is not empty!!!\")\n",
        "  print('Size of the array',arr1.size)\n",
        "\n",
        "arr2 = np.array([])\n",
        "print(\"Array 2: \\n\",arr2)\n",
        "# checking size of the array\n",
        "if arr2.size == 0:\n",
        "  print(\"Array is empty!!!\")\n",
        "else:\n",
        "  print(\"Array is not empty!!!\")\n",
        "  print('Size of the array',arr2.size)\n",
        "\n",
        "print(\"************ 2-D arrays *****************\")\n",
        "arr3 = np.array([[1,2,3],[4,5,6]])\n",
        "print(\"Array 3: \\n\",arr3)\n",
        "# checking current size of the array\n",
        "if arr3.size == 0:\n",
        "  print(\"Array is empty!!!\")\n",
        "else:\n",
        "  print(\"Array is not empty!!!\")\n",
        "  print('Size of the array',arr3.size)\n"
      ],
      "metadata": {
        "colab": {
          "base_uri": "https://localhost:8080/"
        },
        "id": "GC2yJacUtln1",
        "outputId": "ec8e547c-3a6c-466e-b027-75a89b908114"
      },
      "execution_count": null,
      "outputs": [
        {
          "output_type": "stream",
          "name": "stdout",
          "text": [
            "************ 1-D arrays *****************\n",
            "Array 1: \n",
            " [1 2 3 4 5 6]\n",
            "Array is not empty!!!\n",
            "Size of the array 6\n",
            "Array 2: \n",
            " []\n",
            "Array is empty!!!\n",
            "************ 2-D arrays *****************\n",
            "Array 3: \n",
            " [[1 2 3]\n",
            " [4 5 6]]\n",
            "Array is not empty!!!\n",
            "Size of the array 6\n"
          ]
        }
      ]
    },
    {
      "cell_type": "markdown",
      "source": [
        "# Use any method"
      ],
      "metadata": {
        "id": "oM5Loonsuobf"
      }
    },
    {
      "cell_type": "code",
      "source": [
        "import numpy as np\n",
        "arr = np.array([1,3])\n",
        "flag = not np.any(arr)\n",
        "print(flag)\n",
        "if flag:\n",
        "    print('Array is empty')\n",
        "else:\n",
        "    print('Array is not empty')"
      ],
      "metadata": {
        "colab": {
          "base_uri": "https://localhost:8080/"
        },
        "id": "OrXnSsz-ueec",
        "outputId": "bf595edb-f9f6-4fc0-d0b9-c5ae8875822c"
      },
      "execution_count": null,
      "outputs": [
        {
          "output_type": "stream",
          "name": "stdout",
          "text": [
            "False\n",
            "Array is not empty\n"
          ]
        }
      ]
    },
    {
      "cell_type": "markdown",
      "source": [
        "# Write a Python program to normalize a 3x3 random matrix."
      ],
      "metadata": {
        "id": "5b_bGgFV6Udr"
      }
    },
    {
      "cell_type": "code",
      "source": [
        "import numpy as np\n",
        "normArr = np.zeros((3,3))\n",
        "arr1 = np.random.random((3,3))\n",
        "print(\"Original array: \")\n",
        "print(arr1)\n",
        "rangeToNormalize = (0,1)\n",
        "rangeDiff = rangeToNormalize[1] - rangeToNormalize[0]\n",
        "minValue, maxValue = arr1.min(),arr1.max()\n",
        "diffMaxMin = maxValue - minValue\n",
        "for rows in range(3):\n",
        "  for cols in range(3):\n",
        "    temp = ( ((arr1[rows][cols] - minValue)*rangeDiff)/(maxValue - minValue) ) + rangeToNormalize[0]\n",
        "    normArr[rows][cols] = temp\n",
        "print(\"After normalization: \")\n",
        "print(normArr)"
      ],
      "metadata": {
        "colab": {
          "base_uri": "https://localhost:8080/"
        },
        "id": "gpFQVvByzbgn",
        "outputId": "ff17a547-8c20-4c4e-aeeb-90196677c707"
      },
      "execution_count": 6,
      "outputs": [
        {
          "output_type": "stream",
          "name": "stdout",
          "text": [
            "Original array: \n",
            "[[0.10231139 0.15264396 0.54948961]\n",
            " [0.57257538 0.96222774 0.7056882 ]\n",
            " [0.18298468 0.36236186 0.8198153 ]]\n",
            "After normalization: \n",
            "[[0.         0.05853194 0.52002525]\n",
            " [0.54687179 1.         0.70166919]\n",
            " [0.09381528 0.30241369 0.83438803]]\n"
          ]
        }
      ]
    },
    {
      "cell_type": "markdown",
      "source": [
        "# How to ignore all numpy warnings (not recommended)?"
      ],
      "metadata": {
        "id": "mP8MJUZoW7ea"
      }
    },
    {
      "cell_type": "code",
      "source": [
        "import warnings\n",
        "warnings.filterwarnings('ignore')\n",
        "\n"
      ],
      "metadata": {
        "id": "SZXhnHUJGso_"
      },
      "execution_count": 5,
      "outputs": []
    },
    {
      "cell_type": "markdown",
      "source": [
        "# How to swap two rows of an array?"
      ],
      "metadata": {
        "id": "0MIWqnsOHiOS"
      }
    },
    {
      "cell_type": "code",
      "source": [
        "import numpy as np\n",
        "arr1 = np.array([[1,2,3],[4,5,6],[7,8,9],[10,11,12]])\n",
        "print(\"Original array: \")\n",
        "print(arr1)\n",
        "arr1[[0,2],:] = arr1[[2,0],:]\n",
        "print(\"Output array: \")\n",
        "print(arr1)"
      ],
      "metadata": {
        "id": "CaiBEq7YW7Bw",
        "colab": {
          "base_uri": "https://localhost:8080/"
        },
        "outputId": "a780384d-59d5-4e3e-d481-f14fe290667f"
      },
      "execution_count": 7,
      "outputs": [
        {
          "output_type": "stream",
          "name": "stdout",
          "text": [
            "Original array: \n",
            "[[ 1  2  3]\n",
            " [ 4  5  6]\n",
            " [ 7  8  9]\n",
            " [10 11 12]]\n",
            "Output array: \n",
            "[[ 7  8  9]\n",
            " [ 4  5  6]\n",
            " [ 1  2  3]\n",
            " [10 11 12]]\n"
          ]
        }
      ]
    },
    {
      "cell_type": "markdown",
      "source": [
        "# Python program to create a random vector of size 10 and sort it."
      ],
      "metadata": {
        "id": "TL7T-pSYJaJP"
      }
    },
    {
      "cell_type": "code",
      "source": [
        "import numpy as np\n",
        "arr1 = np.random.random(10)\n",
        "print(\"Original array: \")\n",
        "print(arr1)\n",
        "print(\"Sorted array: \")\n",
        "arr1.sort()\n",
        "print(arr1)"
      ],
      "metadata": {
        "id": "6yAT5YCizlWS",
        "colab": {
          "base_uri": "https://localhost:8080/"
        },
        "outputId": "3ae5a942-a82d-49ed-e016-a31fa27014aa"
      },
      "execution_count": 9,
      "outputs": [
        {
          "output_type": "stream",
          "name": "stdout",
          "text": [
            "Original array: \n",
            "[0.84444721 0.48398903 0.78084259 0.92746288 0.60888768 0.70616572\n",
            " 0.18859749 0.69736733 0.52810243 0.78490621]\n",
            "Sorted array: \n",
            "[0.18859749 0.48398903 0.52810243 0.60888768 0.69736733 0.70616572\n",
            " 0.78084259 0.78490621 0.84444721 0.92746288]\n"
          ]
        }
      ]
    },
    {
      "cell_type": "markdown",
      "source": [
        "# Write a Python program to check two random arrays are equal or not."
      ],
      "metadata": {
        "id": "1WRdyFm_KmfA"
      }
    },
    {
      "cell_type": "code",
      "source": [
        "import numpy as np\n",
        "arr1 = np.random.random(10)\n",
        "print(\"Array 1: \")\n",
        "print(arr1)\n",
        "arr2 = np.random.random(10)\n",
        "print(\"Array 2: \")\n",
        "print(arr2)\n",
        "isEqual12 = np.allclose(arr1,arr2)\n",
        "print(\"Is array 1 and array 2 are equal or not?\",isEqual12)\n",
        "arr3 = arr1\n",
        "print(\"Array 3: \")\n",
        "print(arr3)\n",
        "isEqual13 = np.allclose(arr1,arr3)\n",
        "print(\"Is array 1 and array 3 are equal or not?\",isEqual13)"
      ],
      "metadata": {
        "colab": {
          "base_uri": "https://localhost:8080/"
        },
        "id": "9NEN6-fFKNkv",
        "outputId": "67094205-a551-4379-b0fe-600407e44257"
      },
      "execution_count": 12,
      "outputs": [
        {
          "output_type": "stream",
          "name": "stdout",
          "text": [
            "Array 1: \n",
            "[0.64574143 0.0477903  0.38523772 0.07437624 0.49794699 0.39490577\n",
            " 0.2649388  0.04123563 0.66259083 0.30210094]\n",
            "Array 2: \n",
            "[0.53567102 0.44979034 0.6576236  0.85277206 0.87186667 0.15497273\n",
            " 0.98416698 0.53533007 0.61526703 0.6853189 ]\n",
            "Is array 1 and array 2 are equal or not? False\n",
            "Array 3: \n",
            "[0.64574143 0.0477903  0.38523772 0.07437624 0.49794699 0.39490577\n",
            " 0.2649388  0.04123563 0.66259083 0.30210094]\n",
            "Is array 1 and array 3 are equal or not? True\n"
          ]
        }
      ]
    },
    {
      "cell_type": "markdown",
      "source": [
        "# Write a Python program to add, subtract, multiply, divide arguments element-wise."
      ],
      "metadata": {
        "id": "JxQgTi_KNsoY"
      }
    },
    {
      "cell_type": "code",
      "source": [
        "import numpy as np\n",
        "arr1 = np.array([[1,2,3],[4,5,6]])\n",
        "arr2 = np.array([[7,8,9],[10,11,12]])\n",
        "print(\"Addition of arrays: \")\n",
        "print(np.add(arr1,arr2))\n",
        "print(\"Subtraction of arrays: \")\n",
        "print(np.subtract(arr1,arr2))\n",
        "print(\"Multiplication of arrays: \")\n",
        "print(np.multiply(arr1,arr2))\n",
        "print(\"Division of arrays: \")\n",
        "print(np.divide(arr1,arr2))\n"
      ],
      "metadata": {
        "colab": {
          "base_uri": "https://localhost:8080/"
        },
        "id": "zSZqrO9xMy3a",
        "outputId": "6fd39114-a9d2-4a1a-81a6-f1f45f96c542"
      },
      "execution_count": 17,
      "outputs": [
        {
          "output_type": "stream",
          "name": "stdout",
          "text": [
            "Addition of arrays: \n",
            "[[ 8 10 12]\n",
            " [14 16 18]]\n",
            "Subtraction of arrays: \n",
            "[[-6 -6 -6]\n",
            " [-6 -6 -6]]\n",
            "Multiplication of arrays: \n",
            "[[ 7 16 27]\n",
            " [40 55 72]]\n",
            "Division of arrays: \n",
            "[[0.14285714 0.25       0.33333333]\n",
            " [0.4        0.45454545 0.5       ]]\n"
          ]
        }
      ]
    },
    {
      "cell_type": "markdown",
      "source": [
        "# Write a Python program to get the dates of yesterday, today and tomorrow."
      ],
      "metadata": {
        "id": "TL_-6jn6QVKZ"
      }
    },
    {
      "cell_type": "code",
      "source": [
        "import numpy as np\n",
        "today = np.datetime64(\"today\",\"D\")\n",
        "print(\"Today's date: \",today)\n",
        "\n",
        "tomorrow = np.datetime64(\"today\",\"D\") + np.timedelta64(1,\"D\")\n",
        "print(\"Tomorrow's date: \",tomorrow)\n",
        "\n",
        "yesterday = np.datetime64(\"today\",\"D\") - np.timedelta64(1,\"D\")\n",
        "print(\"Yesterday's date: \",yesterday)"
      ],
      "metadata": {
        "colab": {
          "base_uri": "https://localhost:8080/"
        },
        "id": "3v2GgfaFPuHI",
        "outputId": "d57a086b-970a-41c9-d7ba-c2ed58509b97"
      },
      "execution_count": 21,
      "outputs": [
        {
          "output_type": "stream",
          "name": "stdout",
          "text": [
            "Today's date:  2022-10-05\n",
            "Tomorrow's date:  2022-10-06\n",
            "Yesterday's date:  2022-10-04\n"
          ]
        }
      ]
    },
    {
      "cell_type": "code",
      "source": [],
      "metadata": {
        "id": "6Y63bdzigIbA"
      },
      "execution_count": null,
      "outputs": []
    }
  ]
}