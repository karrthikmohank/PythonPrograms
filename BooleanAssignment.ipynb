{
  "nbformat": 4,
  "nbformat_minor": 0,
  "metadata": {
    "colab": {
      "provenance": [],
      "collapsed_sections": [],
      "authorship_tag": "ABX9TyPhAcZgg2Me4QLtwqvjqIfW",
      "include_colab_link": true
    },
    "kernelspec": {
      "name": "python3",
      "display_name": "Python 3"
    },
    "language_info": {
      "name": "python"
    }
  },
  "cells": [
    {
      "cell_type": "markdown",
      "metadata": {
        "id": "view-in-github",
        "colab_type": "text"
      },
      "source": [
        "<a href=\"https://colab.research.google.com/github/karrthikmohank/PythonPrograms/blob/main/BooleanAssignment.ipynb\" target=\"_parent\"><img src=\"https://colab.research.google.com/assets/colab-badge.svg\" alt=\"Open In Colab\"/></a>"
      ]
    },
    {
      "cell_type": "markdown",
      "source": [
        "# Q. Declare a boolean value and store it in a variable.\n",
        "# Check the type and print the id of the same."
      ],
      "metadata": {
        "id": "lesjkdFLop5X"
      }
    },
    {
      "cell_type": "code",
      "source": [
        "a = True"
      ],
      "metadata": {
        "id": "-1WY2q0Fp_-p"
      },
      "execution_count": null,
      "outputs": []
    },
    {
      "cell_type": "code",
      "source": [
        "print(type(a))"
      ],
      "metadata": {
        "colab": {
          "base_uri": "https://localhost:8080/"
        },
        "id": "qaK3fZmAqPYm",
        "outputId": "2d7d9a43-503d-4827-d20f-a903c9ea7772"
      },
      "execution_count": null,
      "outputs": [
        {
          "output_type": "stream",
          "name": "stdout",
          "text": [
            "<class 'bool'>\n"
          ]
        }
      ]
    },
    {
      "cell_type": "code",
      "source": [
        "print(id(a))"
      ],
      "metadata": {
        "colab": {
          "base_uri": "https://localhost:8080/"
        },
        "id": "tdgkF0wZqNXG",
        "outputId": "eedaf54d-d31f-469d-e6c6-cdda7508a56b"
      },
      "execution_count": null,
      "outputs": [
        {
          "output_type": "stream",
          "name": "stdout",
          "text": [
            "11120928\n"
          ]
        }
      ]
    },
    {
      "cell_type": "code",
      "source": [],
      "metadata": {
        "id": "-34iVwBMrzjJ"
      },
      "execution_count": null,
      "outputs": []
    },
    {
      "cell_type": "markdown",
      "source": [
        "# Q. Take one boolean value between 0 - 256.\n",
        "# Assign it to two different variables.\n",
        "# Check the id of both the variables. It should come the same. Check why?\n"
      ],
      "metadata": {
        "id": "z_uYvR5-s5ZW"
      }
    },
    {
      "cell_type": "code",
      "source": [
        "b = True"
      ],
      "metadata": {
        "id": "5iMQA-vItZJM"
      },
      "execution_count": null,
      "outputs": []
    },
    {
      "cell_type": "code",
      "source": [
        "c = True"
      ],
      "metadata": {
        "id": "34y1xu_vtgMK"
      },
      "execution_count": null,
      "outputs": []
    },
    {
      "cell_type": "code",
      "source": [
        "print(id(b))"
      ],
      "metadata": {
        "colab": {
          "base_uri": "https://localhost:8080/"
        },
        "id": "8TaJAtXDthgV",
        "outputId": "cd8d3795-74fd-4ba8-8bb5-71588c7056fb"
      },
      "execution_count": null,
      "outputs": [
        {
          "output_type": "stream",
          "name": "stdout",
          "text": [
            "11120928\n"
          ]
        }
      ]
    },
    {
      "cell_type": "code",
      "source": [
        "print(id(c))"
      ],
      "metadata": {
        "colab": {
          "base_uri": "https://localhost:8080/"
        },
        "id": "c4xlPdxGtlVT",
        "outputId": "d00e080b-89d8-4959-db69-01544100f755"
      },
      "execution_count": null,
      "outputs": [
        {
          "output_type": "stream",
          "name": "stdout",
          "text": [
            "11120928\n"
          ]
        }
      ]
    },
    {
      "cell_type": "markdown",
      "source": [
        "## Python preloads bollean values. Anytime one create an boolean object which is in this range, Python uses the pre-loaded/cached version of that boolean instead of creating a new object."
      ],
      "metadata": {
        "id": "pSOqfHitur2f"
      }
    },
    {
      "cell_type": "markdown",
      "source": [
        "# Q. Arithmetic Operations on boolean data\n",
        "# Take two different boolean values.\n",
        "# Store them in two different variables.\n",
        "# Do below operations on them:-\n",
        " ## Find sum of both values\n",
        " ## Find difference between them\n",
        " ## Find the product of both.\n",
        " ## Find value after dividing first value with second value\n",
        " ## Find the remainder after dividing first value with second value\n",
        " ## Find the quotient after dividing first value with second value\n",
        " ## Find the result of first value to the power of second value."
      ],
      "metadata": {
        "id": "v1omED6M2hPd"
      }
    },
    {
      "cell_type": "code",
      "source": [
        "d = False"
      ],
      "metadata": {
        "id": "OishM9Ap3rAe"
      },
      "execution_count": null,
      "outputs": []
    },
    {
      "cell_type": "code",
      "source": [
        "e = True"
      ],
      "metadata": {
        "id": "gOrJ-7Rn30tg"
      },
      "execution_count": null,
      "outputs": []
    },
    {
      "cell_type": "code",
      "source": [
        "total = d + e"
      ],
      "metadata": {
        "id": "zBo6XDQx32b8"
      },
      "execution_count": null,
      "outputs": []
    },
    {
      "cell_type": "code",
      "source": [
        "print(total)"
      ],
      "metadata": {
        "colab": {
          "base_uri": "https://localhost:8080/"
        },
        "id": "DES8rkfY5AZ-",
        "outputId": "d586215f-1431-4de7-8dbd-4893deb1d36f"
      },
      "execution_count": null,
      "outputs": [
        {
          "output_type": "stream",
          "name": "stdout",
          "text": [
            "1\n"
          ]
        }
      ]
    },
    {
      "cell_type": "code",
      "source": [
        "diff = d - e"
      ],
      "metadata": {
        "id": "68iTMMUK5DSv"
      },
      "execution_count": null,
      "outputs": []
    },
    {
      "cell_type": "code",
      "source": [
        "print(diff)"
      ],
      "metadata": {
        "colab": {
          "base_uri": "https://localhost:8080/"
        },
        "id": "_ERQhwHM7xDl",
        "outputId": "70c21ca0-9bb1-4e8e-c764-cf277f881229"
      },
      "execution_count": null,
      "outputs": [
        {
          "output_type": "stream",
          "name": "stdout",
          "text": [
            "-1\n"
          ]
        }
      ]
    },
    {
      "cell_type": "code",
      "source": [
        "prod = d * e"
      ],
      "metadata": {
        "id": "-C5blNTh7ye-"
      },
      "execution_count": null,
      "outputs": []
    },
    {
      "cell_type": "code",
      "source": [
        "print(prod)"
      ],
      "metadata": {
        "colab": {
          "base_uri": "https://localhost:8080/"
        },
        "id": "X92jQKGf72e1",
        "outputId": "9e9bd7a2-bdf6-4b58-b0a7-0881e733fd9e"
      },
      "execution_count": null,
      "outputs": [
        {
          "output_type": "stream",
          "name": "stdout",
          "text": [
            "0\n"
          ]
        }
      ]
    },
    {
      "cell_type": "code",
      "source": [
        "div = d / e"
      ],
      "metadata": {
        "id": "l1oIfzCD74lO"
      },
      "execution_count": null,
      "outputs": []
    },
    {
      "cell_type": "code",
      "source": [
        "print(div)"
      ],
      "metadata": {
        "colab": {
          "base_uri": "https://localhost:8080/"
        },
        "id": "uer_ZrfV8uzJ",
        "outputId": "31b36619-f82c-49f4-a2a2-5ea05988bfd9"
      },
      "execution_count": null,
      "outputs": [
        {
          "output_type": "stream",
          "name": "stdout",
          "text": [
            "0.0\n"
          ]
        }
      ]
    },
    {
      "cell_type": "code",
      "source": [
        "rem = d % e"
      ],
      "metadata": {
        "id": "TIu3FVO89qN7"
      },
      "execution_count": null,
      "outputs": []
    },
    {
      "cell_type": "code",
      "source": [
        "print(rem)"
      ],
      "metadata": {
        "colab": {
          "base_uri": "https://localhost:8080/"
        },
        "id": "XOMWrA7L9waz",
        "outputId": "ca2abe01-77b1-4a9f-b96c-2f77bb66f0c6"
      },
      "execution_count": null,
      "outputs": [
        {
          "output_type": "stream",
          "name": "stdout",
          "text": [
            "0\n"
          ]
        }
      ]
    },
    {
      "cell_type": "code",
      "source": [
        "quot = d // e"
      ],
      "metadata": {
        "id": "KbhiEIsR9x5s"
      },
      "execution_count": null,
      "outputs": []
    },
    {
      "cell_type": "code",
      "source": [
        "print(quot)"
      ],
      "metadata": {
        "colab": {
          "base_uri": "https://localhost:8080/"
        },
        "id": "SzATInrJBt2g",
        "outputId": "486a1420-1df6-42fb-8f8e-a6e4dca48ab0"
      },
      "execution_count": null,
      "outputs": [
        {
          "output_type": "stream",
          "name": "stdout",
          "text": [
            "0\n"
          ]
        }
      ]
    },
    {
      "cell_type": "code",
      "source": [
        "power1 = d ** e"
      ],
      "metadata": {
        "id": "F2Yl_SChBwo_"
      },
      "execution_count": null,
      "outputs": []
    },
    {
      "cell_type": "code",
      "source": [
        "print(power1)"
      ],
      "metadata": {
        "colab": {
          "base_uri": "https://localhost:8080/"
        },
        "id": "fcGaEE8NDSIh",
        "outputId": "38a3e25d-d803-460c-b4ee-42f42da9fe61"
      },
      "execution_count": null,
      "outputs": [
        {
          "output_type": "stream",
          "name": "stdout",
          "text": [
            "0\n"
          ]
        }
      ]
    },
    {
      "cell_type": "markdown",
      "source": [
        "# Q. Comparison Operators on boolean values\n",
        "# Take two different boolean values.\n",
        "# Store them in two different variables.\n",
        "# Do below operations on them:-\n",
        " # Compare these two values with below operator:-\n",
        " # Greater than, '>'\n",
        " # less than, '<'\n",
        " # Greater than or equal to, '>='\n",
        " # Less than or equal to, '<='\n",
        "# Observe their output(return type should be boolean)"
      ],
      "metadata": {
        "id": "F63ibZ_oDwUz"
      }
    },
    {
      "cell_type": "code",
      "source": [
        "f = True"
      ],
      "metadata": {
        "id": "isLgHQ97TYtE"
      },
      "execution_count": null,
      "outputs": []
    },
    {
      "cell_type": "code",
      "source": [
        "g = False"
      ],
      "metadata": {
        "id": "Ag0oBJQURNhD"
      },
      "execution_count": null,
      "outputs": []
    },
    {
      "cell_type": "code",
      "source": [
        "greater = f > g"
      ],
      "metadata": {
        "id": "wVQ5n2IrRO_j"
      },
      "execution_count": null,
      "outputs": []
    },
    {
      "cell_type": "code",
      "source": [
        "print(greater)"
      ],
      "metadata": {
        "colab": {
          "base_uri": "https://localhost:8080/"
        },
        "id": "XomEIwvARZ2F",
        "outputId": "d0f31a62-e429-4d2e-cbe6-005afffb9958"
      },
      "execution_count": null,
      "outputs": [
        {
          "output_type": "stream",
          "name": "stdout",
          "text": [
            "True\n"
          ]
        }
      ]
    },
    {
      "cell_type": "code",
      "source": [
        "lesser = f < g"
      ],
      "metadata": {
        "id": "AMhICUU4Rb9P"
      },
      "execution_count": null,
      "outputs": []
    },
    {
      "cell_type": "code",
      "source": [
        "print(lesser)"
      ],
      "metadata": {
        "colab": {
          "base_uri": "https://localhost:8080/"
        },
        "id": "L9fynB4ZRgvQ",
        "outputId": "9e6632fa-f86d-4b08-bf22-f5081b061f02"
      },
      "execution_count": null,
      "outputs": [
        {
          "output_type": "stream",
          "name": "stdout",
          "text": [
            "False\n"
          ]
        }
      ]
    },
    {
      "cell_type": "code",
      "source": [
        "greaterEqual = f >= g"
      ],
      "metadata": {
        "id": "Q4qX-VnHRiUr"
      },
      "execution_count": null,
      "outputs": []
    },
    {
      "cell_type": "code",
      "source": [
        "print(greaterEqual)"
      ],
      "metadata": {
        "colab": {
          "base_uri": "https://localhost:8080/"
        },
        "id": "aCM4xEgkR9Ny",
        "outputId": "7120239d-fbba-45bc-92ad-34280a517bcb"
      },
      "execution_count": null,
      "outputs": [
        {
          "output_type": "stream",
          "name": "stdout",
          "text": [
            "True\n"
          ]
        }
      ]
    },
    {
      "cell_type": "code",
      "source": [
        "lesserEqual = f <= g"
      ],
      "metadata": {
        "id": "81WX__tYSCzM"
      },
      "execution_count": null,
      "outputs": []
    },
    {
      "cell_type": "code",
      "source": [
        "print(lesserEqual)"
      ],
      "metadata": {
        "id": "kowh1bUESJbC",
        "outputId": "aa0a1338-fc9a-4d93-8ff9-84f27889c270",
        "colab": {
          "base_uri": "https://localhost:8080/"
        }
      },
      "execution_count": null,
      "outputs": [
        {
          "output_type": "stream",
          "name": "stdout",
          "text": [
            "False\n"
          ]
        }
      ]
    },
    {
      "cell_type": "markdown",
      "source": [
        "# Q. Equality Operator\n",
        "# Take two different boolean values.\n",
        "# Store them in two different variables.\n",
        "# Equate them using equality operators (==, !=)\n",
        "# Observe the output(return type should be boolean)"
      ],
      "metadata": {
        "id": "CBh3U_4V2ICu"
      }
    },
    {
      "cell_type": "code",
      "source": [
        "h = True"
      ],
      "metadata": {
        "id": "LdCL2dlO2PV3"
      },
      "execution_count": null,
      "outputs": []
    },
    {
      "cell_type": "code",
      "source": [
        "i = False"
      ],
      "metadata": {
        "id": "tHwBGHzg3rTs"
      },
      "execution_count": null,
      "outputs": []
    },
    {
      "cell_type": "code",
      "source": [
        "equality = h == i"
      ],
      "metadata": {
        "id": "yKfwJVkb3tMa"
      },
      "execution_count": null,
      "outputs": []
    },
    {
      "cell_type": "code",
      "source": [
        "print(equality)"
      ],
      "metadata": {
        "colab": {
          "base_uri": "https://localhost:8080/"
        },
        "id": "cRloec2J3yQm",
        "outputId": "efe7de39-bf29-4106-de1f-5971afbb5cf9"
      },
      "execution_count": null,
      "outputs": [
        {
          "output_type": "stream",
          "name": "stdout",
          "text": [
            "False\n"
          ]
        }
      ]
    },
    {
      "cell_type": "code",
      "source": [
        "inequality = h != i"
      ],
      "metadata": {
        "id": "qM8okNgt31VF"
      },
      "execution_count": null,
      "outputs": []
    },
    {
      "cell_type": "code",
      "source": [
        "print(inequality)"
      ],
      "metadata": {
        "colab": {
          "base_uri": "https://localhost:8080/"
        },
        "id": "3f5Ipmkf36mm",
        "outputId": "16b1115e-a9d0-4154-d880-c05348d3c437"
      },
      "execution_count": null,
      "outputs": [
        {
          "output_type": "stream",
          "name": "stdout",
          "text": [
            "True\n"
          ]
        }
      ]
    },
    {
      "cell_type": "markdown",
      "source": [
        "# Q. Logical operators\n",
        "# Observe the output of below code\n",
        "# Cross check the output manually"
      ],
      "metadata": {
        "id": "Ww7AlIXm4DAG"
      }
    },
    {
      "cell_type": "code",
      "source": [
        "print(True and True)"
      ],
      "metadata": {
        "colab": {
          "base_uri": "https://localhost:8080/"
        },
        "id": "6KnZ4AFv389X",
        "outputId": "6809f462-4cdf-4228-82b4-f9f1f55d0268"
      },
      "execution_count": null,
      "outputs": [
        {
          "output_type": "stream",
          "name": "stdout",
          "text": [
            "True\n"
          ]
        }
      ]
    },
    {
      "cell_type": "code",
      "source": [
        "print(False and True)"
      ],
      "metadata": {
        "colab": {
          "base_uri": "https://localhost:8080/"
        },
        "id": "dTiV9UrL4Noj",
        "outputId": "4d9cf8c2-7718-44bc-e720-a9e227c43a35"
      },
      "execution_count": null,
      "outputs": [
        {
          "output_type": "stream",
          "name": "stdout",
          "text": [
            "False\n"
          ]
        }
      ]
    },
    {
      "cell_type": "code",
      "source": [
        "print(True and False)"
      ],
      "metadata": {
        "colab": {
          "base_uri": "https://localhost:8080/"
        },
        "id": "PN2-dJZ-4XzW",
        "outputId": "4792aa22-076f-49ca-de80-bc006058b3fc"
      },
      "execution_count": null,
      "outputs": [
        {
          "output_type": "stream",
          "name": "stdout",
          "text": [
            "False\n"
          ]
        }
      ]
    },
    {
      "cell_type": "code",
      "source": [
        "print(False and False)"
      ],
      "metadata": {
        "colab": {
          "base_uri": "https://localhost:8080/"
        },
        "id": "Ighamw1u4cdx",
        "outputId": "4f32dc82-f758-4958-d4ea-3d16e6733090"
      },
      "execution_count": null,
      "outputs": [
        {
          "output_type": "stream",
          "name": "stdout",
          "text": [
            "False\n"
          ]
        }
      ]
    },
    {
      "cell_type": "code",
      "source": [
        "print(True or True)"
      ],
      "metadata": {
        "colab": {
          "base_uri": "https://localhost:8080/"
        },
        "id": "Af_-lhJs4gTG",
        "outputId": "47c70e03-bdd5-418b-c3d9-4b3c50f83cf3"
      },
      "execution_count": null,
      "outputs": [
        {
          "output_type": "stream",
          "name": "stdout",
          "text": [
            "True\n"
          ]
        }
      ]
    },
    {
      "cell_type": "code",
      "source": [
        "print(False or True)"
      ],
      "metadata": {
        "colab": {
          "base_uri": "https://localhost:8080/"
        },
        "id": "5uHU813D4n16",
        "outputId": "9deed8db-753d-4567-d23f-7adbce4235f7"
      },
      "execution_count": null,
      "outputs": [
        {
          "output_type": "stream",
          "name": "stdout",
          "text": [
            "True\n"
          ]
        }
      ]
    },
    {
      "cell_type": "code",
      "source": [
        "print(False or False)"
      ],
      "metadata": {
        "colab": {
          "base_uri": "https://localhost:8080/"
        },
        "id": "utJvJqzp4wA9",
        "outputId": "8af64331-f6c9-4cbb-dd53-5f5fab796590"
      },
      "execution_count": null,
      "outputs": [
        {
          "output_type": "stream",
          "name": "stdout",
          "text": [
            "False\n"
          ]
        }
      ]
    },
    {
      "cell_type": "code",
      "source": [
        "print(True or False)"
      ],
      "metadata": {
        "colab": {
          "base_uri": "https://localhost:8080/"
        },
        "id": "WiFRVDJJ5A5b",
        "outputId": "1ee137d6-06e7-4b5f-a241-876c6a08b2da"
      },
      "execution_count": null,
      "outputs": [
        {
          "output_type": "stream",
          "name": "stdout",
          "text": [
            "True\n"
          ]
        }
      ]
    },
    {
      "cell_type": "code",
      "source": [
        "print(not True)"
      ],
      "metadata": {
        "colab": {
          "base_uri": "https://localhost:8080/"
        },
        "id": "Uy67rGXz5FFA",
        "outputId": "40bacd6e-1c78-4673-dd10-320a3f42c244"
      },
      "execution_count": null,
      "outputs": [
        {
          "output_type": "stream",
          "name": "stdout",
          "text": [
            "False\n"
          ]
        }
      ]
    },
    {
      "cell_type": "code",
      "source": [
        "print(not False)"
      ],
      "metadata": {
        "colab": {
          "base_uri": "https://localhost:8080/"
        },
        "id": "GlqMYJoe5X7q",
        "outputId": "f8988015-4622-435d-d0e9-243c1092f274"
      },
      "execution_count": null,
      "outputs": [
        {
          "output_type": "stream",
          "name": "stdout",
          "text": [
            "True\n"
          ]
        }
      ]
    },
    {
      "cell_type": "markdown",
      "source": [
        "# Q. Bitwise Operators\n",
        "# Do below operations on the values provided below:-\n",
        "# Bitwise and(&) --------------> True, True -------> Output is True\n",
        "# Bitwise or(|) --------------> True, False -------> Output is True\n",
        "# Bitwise(^) --------------> True, False -------> Output is True\n",
        "# Bitwise negation(~) ---------> True -------> Output is -2\n",
        "# Bitwise left shift ---------> True,2 -------> Output is 4\n",
        "# Bitwise right shift ---------> True,2 -------> Output is 0\n",
        "# Cross check the output manually"
      ],
      "metadata": {
        "id": "wrJAwN7Y5hk-"
      }
    },
    {
      "cell_type": "code",
      "source": [
        "print(True & True)"
      ],
      "metadata": {
        "colab": {
          "base_uri": "https://localhost:8080/"
        },
        "id": "PFJjUFsd5bYX",
        "outputId": "e391bc9f-7ae4-4179-f422-0c9a70361e67"
      },
      "execution_count": null,
      "outputs": [
        {
          "output_type": "stream",
          "name": "stdout",
          "text": [
            "True\n"
          ]
        }
      ]
    },
    {
      "cell_type": "code",
      "source": [
        "print(True | False)"
      ],
      "metadata": {
        "colab": {
          "base_uri": "https://localhost:8080/"
        },
        "id": "R0lBMw-a5xmP",
        "outputId": "48e88a9a-12d3-4d04-bdbe-b99260f8cd6b"
      },
      "execution_count": null,
      "outputs": [
        {
          "output_type": "stream",
          "name": "stdout",
          "text": [
            "True\n"
          ]
        }
      ]
    },
    {
      "cell_type": "code",
      "source": [
        "print(True^False)"
      ],
      "metadata": {
        "colab": {
          "base_uri": "https://localhost:8080/"
        },
        "id": "K0VchmxP526e",
        "outputId": "38bf0ffb-0c54-40ae-aed5-58243faf5544"
      },
      "execution_count": null,
      "outputs": [
        {
          "output_type": "stream",
          "name": "stdout",
          "text": [
            "True\n"
          ]
        }
      ]
    },
    {
      "cell_type": "code",
      "source": [
        "print(~True)"
      ],
      "metadata": {
        "colab": {
          "base_uri": "https://localhost:8080/"
        },
        "id": "2COLrxsa7ENC",
        "outputId": "8466ed9f-a79c-4762-d294-4e537bff352a"
      },
      "execution_count": null,
      "outputs": [
        {
          "output_type": "stream",
          "name": "stdout",
          "text": [
            "-2\n"
          ]
        }
      ]
    },
    {
      "cell_type": "code",
      "source": [
        "print(True << 2)"
      ],
      "metadata": {
        "colab": {
          "base_uri": "https://localhost:8080/"
        },
        "id": "bOC-uJAQ7Hmn",
        "outputId": "f0eb4349-61c4-4266-95d5-a63555e09675"
      },
      "execution_count": null,
      "outputs": [
        {
          "output_type": "stream",
          "name": "stdout",
          "text": [
            "4\n"
          ]
        }
      ]
    },
    {
      "cell_type": "code",
      "source": [
        "print(True >> 2)"
      ],
      "metadata": {
        "colab": {
          "base_uri": "https://localhost:8080/"
        },
        "id": "aiRlBA777SY2",
        "outputId": "8f0d6e45-d7a3-4c49-8fed-6ef9fb739cd5"
      },
      "execution_count": null,
      "outputs": [
        {
          "output_type": "stream",
          "name": "stdout",
          "text": [
            "0\n"
          ]
        }
      ]
    },
    {
      "cell_type": "markdown",
      "source": [
        "# Q. What is the output of expression inside the print statement. Cross\n",
        "# check before running the program."
      ],
      "metadata": {
        "id": "RC_BIliz7l-m"
      }
    },
    {
      "cell_type": "code",
      "source": [
        "a = True"
      ],
      "metadata": {
        "id": "0MpYa16i7ZMa"
      },
      "execution_count": null,
      "outputs": []
    },
    {
      "cell_type": "code",
      "source": [
        "b = True"
      ],
      "metadata": {
        "id": "B08Qt8G_7xC-"
      },
      "execution_count": null,
      "outputs": []
    },
    {
      "cell_type": "code",
      "source": [
        "print(a is b)"
      ],
      "metadata": {
        "colab": {
          "base_uri": "https://localhost:8080/"
        },
        "id": "xLEKlZYk7ymM",
        "outputId": "e8751eac-7b10-428c-ab73-ae6c894bf7da"
      },
      "execution_count": null,
      "outputs": [
        {
          "output_type": "stream",
          "name": "stdout",
          "text": [
            "True\n"
          ]
        }
      ]
    },
    {
      "cell_type": "code",
      "source": [
        "print(a is not b)"
      ],
      "metadata": {
        "colab": {
          "base_uri": "https://localhost:8080/"
        },
        "id": "JlGGe5pE8GMH",
        "outputId": "c52c9475-a3ab-497f-8c77-50d3b09d4647"
      },
      "execution_count": null,
      "outputs": [
        {
          "output_type": "stream",
          "name": "stdout",
          "text": [
            "False\n"
          ]
        }
      ]
    },
    {
      "cell_type": "code",
      "source": [
        "a = False"
      ],
      "metadata": {
        "id": "KGO6guBs8PNE"
      },
      "execution_count": null,
      "outputs": []
    },
    {
      "cell_type": "code",
      "source": [
        "b = False"
      ],
      "metadata": {
        "id": "BkEMdXS18SxM"
      },
      "execution_count": null,
      "outputs": []
    },
    {
      "cell_type": "code",
      "source": [
        "print(a is b)"
      ],
      "metadata": {
        "colab": {
          "base_uri": "https://localhost:8080/"
        },
        "id": "vEWHNvNe8VN1",
        "outputId": "b0e8c16f-e4f4-47ab-85a8-535d42449537"
      },
      "execution_count": null,
      "outputs": [
        {
          "output_type": "stream",
          "name": "stdout",
          "text": [
            "True\n"
          ]
        }
      ]
    },
    {
      "cell_type": "code",
      "source": [
        "print(a is not b)"
      ],
      "metadata": {
        "colab": {
          "base_uri": "https://localhost:8080/"
        },
        "id": "IxyN2HvX8YwA",
        "outputId": "340f5781-b746-4983-f550-9de9dfbcc2be"
      },
      "execution_count": null,
      "outputs": [
        {
          "output_type": "stream",
          "name": "stdout",
          "text": [
            "False\n"
          ]
        }
      ]
    },
    {
      "cell_type": "markdown",
      "source": [
        "# Q. Membership operation\n",
        "# in, not in are two membership operators and it returns boolean value"
      ],
      "metadata": {
        "id": "BVROCLhB8ql0"
      }
    },
    {
      "cell_type": "code",
      "source": [
        "print(True in [10, 10.20, 10+20j, 'Python', True])"
      ],
      "metadata": {
        "id": "uKhtIV218bzV",
        "colab": {
          "base_uri": "https://localhost:8080/"
        },
        "outputId": "a625ee9e-6f42-49d8-8547-4e409a012664"
      },
      "execution_count": null,
      "outputs": [
        {
          "output_type": "stream",
          "name": "stdout",
          "text": [
            "True\n"
          ]
        }
      ]
    },
    {
      "cell_type": "code",
      "source": [
        "print(False in [10, 10.20, 10+20j, 'Python', False])"
      ],
      "metadata": {
        "id": "stJVcUQB9a7_",
        "colab": {
          "base_uri": "https://localhost:8080/"
        },
        "outputId": "859dca79-9684-4e2c-cb77-f3288b673c91"
      },
      "execution_count": null,
      "outputs": [
        {
          "output_type": "stream",
          "name": "stdout",
          "text": [
            "True\n"
          ]
        }
      ]
    },
    {
      "cell_type": "code",
      "source": [
        "print(True in {1,2,3,True})"
      ],
      "metadata": {
        "colab": {
          "base_uri": "https://localhost:8080/"
        },
        "id": "dFJ86Tbx-dIi",
        "outputId": "c586000b-3ece-4bb5-c28a-2b7f9c40282c"
      },
      "execution_count": null,
      "outputs": [
        {
          "output_type": "stream",
          "name": "stdout",
          "text": [
            "True\n"
          ]
        }
      ]
    },
    {
      "cell_type": "code",
      "source": [
        "print(True in {True:100,False:200,True:300})"
      ],
      "metadata": {
        "colab": {
          "base_uri": "https://localhost:8080/"
        },
        "id": "4Yis_EsL-lff",
        "outputId": "651cd0d6-54ea-4347-919c-4d85bda79c25"
      },
      "execution_count": null,
      "outputs": [
        {
          "output_type": "stream",
          "name": "stdout",
          "text": [
            "True\n"
          ]
        }
      ]
    },
    {
      "cell_type": "code",
      "source": [
        "print ( False in { True : 100 , False : 200 , True : 300 })"
      ],
      "metadata": {
        "colab": {
          "base_uri": "https://localhost:8080/"
        },
        "id": "H4OsJjklB8Po",
        "outputId": "a0418aff-82cb-4950-c589-be6aa38a36f4"
      },
      "execution_count": null,
      "outputs": [
        {
          "output_type": "stream",
          "name": "stdout",
          "text": [
            "True\n"
          ]
        }
      ]
    },
    {
      "cell_type": "code",
      "source": [],
      "metadata": {
        "id": "fEkNqGUfCHgi"
      },
      "execution_count": null,
      "outputs": []
    }
  ]
}