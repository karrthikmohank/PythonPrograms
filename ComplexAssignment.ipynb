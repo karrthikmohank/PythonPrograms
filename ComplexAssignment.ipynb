{
  "nbformat": 4,
  "nbformat_minor": 0,
  "metadata": {
    "colab": {
      "provenance": [],
      "collapsed_sections": [],
      "authorship_tag": "ABX9TyN/Ck9bubl5AfWIX0tCRqm+",
      "include_colab_link": true
    },
    "kernelspec": {
      "name": "python3",
      "display_name": "Python 3"
    },
    "language_info": {
      "name": "python"
    }
  },
  "cells": [
    {
      "cell_type": "markdown",
      "metadata": {
        "id": "view-in-github",
        "colab_type": "text"
      },
      "source": [
        "<a href=\"https://colab.research.google.com/github/karrthikmohank/PythonPrograms/blob/main/ComplexAssignment.ipynb\" target=\"_parent\"><img src=\"https://colab.research.google.com/assets/colab-badge.svg\" alt=\"Open In Colab\"/></a>"
      ]
    },
    {
      "cell_type": "markdown",
      "source": [
        "# Q. Declare a complex number and store it in a variable.\n",
        "# Check the type and print the id of the same."
      ],
      "metadata": {
        "id": "QQM4oZQIhXjs"
      }
    },
    {
      "cell_type": "code",
      "execution_count": null,
      "metadata": {
        "id": "_pcY1zi4hEUP"
      },
      "outputs": [],
      "source": [
        "a = 1 + 1j"
      ]
    },
    {
      "cell_type": "code",
      "source": [
        "print(type(a))"
      ],
      "metadata": {
        "colab": {
          "base_uri": "https://localhost:8080/"
        },
        "id": "HbFlsxO1jQhP",
        "outputId": "6d4bc0fe-59e9-4376-bbbc-8ee8fe15ae5c"
      },
      "execution_count": null,
      "outputs": [
        {
          "output_type": "stream",
          "name": "stdout",
          "text": [
            "<class 'complex'>\n"
          ]
        }
      ]
    },
    {
      "cell_type": "code",
      "source": [
        "print(id(a))"
      ],
      "metadata": {
        "colab": {
          "base_uri": "https://localhost:8080/"
        },
        "id": "KwsOfkpSjUwU",
        "outputId": "b095a330-1b07-423b-f530-ff6699333230"
      },
      "execution_count": null,
      "outputs": [
        {
          "output_type": "stream",
          "name": "stdout",
          "text": [
            "140628026881040\n"
          ]
        }
      ]
    },
    {
      "cell_type": "markdown",
      "source": [
        "# Q. Arithmetic Operations on complex number\n",
        "# Take two different complex numbers.\n",
        "# Store them in two different variables.\n",
        "# Do below operations on them:-\n",
        "# Find sum of both numbers\n",
        "# Find difference between them\n",
        "# Find the product of both numbers.\n",
        "# Find value after dividing first num with second number\n",
        "# Find the result of the first num to the power of the second number."
      ],
      "metadata": {
        "id": "1OiNWiV0lvaQ"
      }
    },
    {
      "cell_type": "code",
      "source": [
        "b = 2 + 2j"
      ],
      "metadata": {
        "id": "e2X_oYA3jkV9"
      },
      "execution_count": null,
      "outputs": []
    },
    {
      "cell_type": "code",
      "source": [
        "c = 4 + 3j"
      ],
      "metadata": {
        "id": "0tFizgrnzQbZ"
      },
      "execution_count": null,
      "outputs": []
    },
    {
      "cell_type": "code",
      "source": [
        "total = b + c"
      ],
      "metadata": {
        "id": "xaQTIrebzTi8"
      },
      "execution_count": null,
      "outputs": []
    },
    {
      "cell_type": "code",
      "source": [
        "print(total)"
      ],
      "metadata": {
        "colab": {
          "base_uri": "https://localhost:8080/"
        },
        "id": "eQfVfQ2szXzm",
        "outputId": "ddcee431-ea20-411a-ff50-86dbdb169423"
      },
      "execution_count": null,
      "outputs": [
        {
          "output_type": "stream",
          "name": "stdout",
          "text": [
            "(6+5j)\n"
          ]
        }
      ]
    },
    {
      "cell_type": "code",
      "source": [
        "diff = b - c"
      ],
      "metadata": {
        "id": "vz_J5YI9zZii"
      },
      "execution_count": null,
      "outputs": []
    },
    {
      "cell_type": "code",
      "source": [
        "print(diff)"
      ],
      "metadata": {
        "colab": {
          "base_uri": "https://localhost:8080/"
        },
        "id": "c1etPi1Kzje3",
        "outputId": "6354607e-be11-4a50-d32d-37c3ba13b413"
      },
      "execution_count": null,
      "outputs": [
        {
          "output_type": "stream",
          "name": "stdout",
          "text": [
            "(-2-1j)\n"
          ]
        }
      ]
    },
    {
      "cell_type": "code",
      "source": [
        "prod = b * c"
      ],
      "metadata": {
        "id": "mu9FvxDYzlJ5"
      },
      "execution_count": null,
      "outputs": []
    },
    {
      "cell_type": "code",
      "source": [
        "print(prod)"
      ],
      "metadata": {
        "colab": {
          "base_uri": "https://localhost:8080/"
        },
        "id": "0kBiLjzAzos3",
        "outputId": "f096d924-7491-4fac-da98-5b05811a82bd"
      },
      "execution_count": null,
      "outputs": [
        {
          "output_type": "stream",
          "name": "stdout",
          "text": [
            "(2+14j)\n"
          ]
        }
      ]
    },
    {
      "cell_type": "code",
      "source": [
        "div1 = b / c"
      ],
      "metadata": {
        "id": "2EkziVuqzqV7"
      },
      "execution_count": null,
      "outputs": []
    },
    {
      "cell_type": "code",
      "source": [
        "print(div1)"
      ],
      "metadata": {
        "colab": {
          "base_uri": "https://localhost:8080/"
        },
        "id": "WZDNc9Dcz3u_",
        "outputId": "44d6f83b-15a6-4ef1-87ac-9439e95e1473"
      },
      "execution_count": null,
      "outputs": [
        {
          "output_type": "stream",
          "name": "stdout",
          "text": [
            "(0.56+0.08j)\n"
          ]
        }
      ]
    },
    {
      "cell_type": "code",
      "source": [
        "power = b ** c"
      ],
      "metadata": {
        "id": "45ttbKTUz6GK"
      },
      "execution_count": null,
      "outputs": []
    },
    {
      "cell_type": "code",
      "source": [
        "print(power)"
      ],
      "metadata": {
        "colab": {
          "base_uri": "https://localhost:8080/"
        },
        "id": "3_9RLVhgz9mx",
        "outputId": "b5ca0e4d-a932-498a-aa7f-0c6c8c3b5e0e"
      },
      "execution_count": null,
      "outputs": [
        {
          "output_type": "stream",
          "name": "stdout",
          "text": [
            "(6.064408506811451-0.1360495683898672j)\n"
          ]
        }
      ]
    },
    {
      "cell_type": "markdown",
      "source": [
        "# Comparison Operation not applicable between instance of complex values.\n",
        "# Object reusability concept is not applicable on complex number"
      ],
      "metadata": {
        "id": "D1wATq_j0C1P"
      }
    },
    {
      "cell_type": "markdown",
      "source": [
        "# Q. Equality Operator\n",
        "# Take two different complex numbers.\n",
        "# Store them in two different variables.\n",
        "# Equate them using equality operators (==, !=)\n",
        "# Observe the output(return type should be boolean)"
      ],
      "metadata": {
        "id": "JyxZca4i0Vo1"
      }
    },
    {
      "cell_type": "code",
      "source": [
        "d = 7 + 7j"
      ],
      "metadata": {
        "id": "jZMtENprz_Jm"
      },
      "execution_count": null,
      "outputs": []
    },
    {
      "cell_type": "code",
      "source": [
        "e = 10 + 12j"
      ],
      "metadata": {
        "id": "erjkQbno0h-7"
      },
      "execution_count": null,
      "outputs": []
    },
    {
      "cell_type": "code",
      "source": [
        "equality = d == e"
      ],
      "metadata": {
        "id": "BsoNhOBF0kLJ"
      },
      "execution_count": null,
      "outputs": []
    },
    {
      "cell_type": "code",
      "source": [
        "print(equality)"
      ],
      "metadata": {
        "colab": {
          "base_uri": "https://localhost:8080/"
        },
        "id": "o9edsXFI0p7H",
        "outputId": "5f5b9a9a-684c-492f-d9d7-0b40299afaf8"
      },
      "execution_count": null,
      "outputs": [
        {
          "output_type": "stream",
          "name": "stdout",
          "text": [
            "False\n"
          ]
        }
      ]
    },
    {
      "cell_type": "code",
      "source": [
        "inEquality = d != e"
      ],
      "metadata": {
        "id": "etp1K2WI0rnU"
      },
      "execution_count": null,
      "outputs": []
    },
    {
      "cell_type": "code",
      "source": [
        "print(inEquality)"
      ],
      "metadata": {
        "colab": {
          "base_uri": "https://localhost:8080/"
        },
        "id": "6jn0Mgvh0yJr",
        "outputId": "125a0ada-e844-4373-c919-9de0147da792"
      },
      "execution_count": null,
      "outputs": [
        {
          "output_type": "stream",
          "name": "stdout",
          "text": [
            "True\n"
          ]
        }
      ]
    },
    {
      "cell_type": "markdown",
      "source": [
        "# Q. Logical operators\n",
        "# Observe the output of below code\n",
        "# Cross check the output manually"
      ],
      "metadata": {
        "id": "TISwBR6u01hc"
      }
    },
    {
      "cell_type": "code",
      "source": [
        "print ( 10 + 20j and 20 + 30j )"
      ],
      "metadata": {
        "colab": {
          "base_uri": "https://localhost:8080/"
        },
        "id": "82_Khkyv0z_P",
        "outputId": "85dc6223-f4ca-48a8-c286-fabb50be8cea"
      },
      "execution_count": null,
      "outputs": [
        {
          "output_type": "stream",
          "name": "stdout",
          "text": [
            "(20+30j)\n"
          ]
        }
      ]
    },
    {
      "cell_type": "code",
      "source": [
        "print ( 0 + 0j and 20 + 30j )"
      ],
      "metadata": {
        "colab": {
          "base_uri": "https://localhost:8080/"
        },
        "id": "EEsuzOzD1JXP",
        "outputId": "89ade804-282f-4cbc-e5fb-52fea2884d29"
      },
      "execution_count": null,
      "outputs": [
        {
          "output_type": "stream",
          "name": "stdout",
          "text": [
            "0j\n"
          ]
        }
      ]
    },
    {
      "cell_type": "code",
      "source": [
        "print ( 20 + 30j and 0 + 0j )"
      ],
      "metadata": {
        "colab": {
          "base_uri": "https://localhost:8080/"
        },
        "id": "1CiYOUYU1Mw0",
        "outputId": "726ae4df-7d91-4a8d-9b55-a86c333f106e"
      },
      "execution_count": null,
      "outputs": [
        {
          "output_type": "stream",
          "name": "stdout",
          "text": [
            "0j\n"
          ]
        }
      ]
    },
    {
      "cell_type": "code",
      "source": [
        "print ( 0 + 0j and 0 + 0j )"
      ],
      "metadata": {
        "colab": {
          "base_uri": "https://localhost:8080/"
        },
        "id": "wFzz-E-A1ZDi",
        "outputId": "5548b63f-5b0b-4a6e-e5ed-3390d530e5fb"
      },
      "execution_count": null,
      "outputs": [
        {
          "output_type": "stream",
          "name": "stdout",
          "text": [
            "0j\n"
          ]
        }
      ]
    },
    {
      "cell_type": "code",
      "source": [
        "print ( 10 + 20j or 20 + 30j )"
      ],
      "metadata": {
        "colab": {
          "base_uri": "https://localhost:8080/"
        },
        "id": "j5yOvPEX1baU",
        "outputId": "6ae1dd21-465a-4e9d-b8a8-e84e59af90cb"
      },
      "execution_count": null,
      "outputs": [
        {
          "output_type": "stream",
          "name": "stdout",
          "text": [
            "(10+20j)\n"
          ]
        }
      ]
    },
    {
      "cell_type": "code",
      "source": [
        "print ( 0 + 0j or 20 + 30j )"
      ],
      "metadata": {
        "colab": {
          "base_uri": "https://localhost:8080/"
        },
        "id": "nsAR8RbC1fWR",
        "outputId": "df2d8a83-66ee-4c72-926f-d5a2c79abd5c"
      },
      "execution_count": null,
      "outputs": [
        {
          "output_type": "stream",
          "name": "stdout",
          "text": [
            "(20+30j)\n"
          ]
        }
      ]
    },
    {
      "cell_type": "code",
      "source": [
        "print ( 20 + 30j or 0 + 0j )"
      ],
      "metadata": {
        "colab": {
          "base_uri": "https://localhost:8080/"
        },
        "id": "Q3zpqH2P1rgC",
        "outputId": "b426809f-023b-4f93-bfba-7cb8dec6b029"
      },
      "execution_count": null,
      "outputs": [
        {
          "output_type": "stream",
          "name": "stdout",
          "text": [
            "(20+30j)\n"
          ]
        }
      ]
    },
    {
      "cell_type": "code",
      "source": [
        "print ( 0 + 0j or 0 + 0j )"
      ],
      "metadata": {
        "colab": {
          "base_uri": "https://localhost:8080/"
        },
        "id": "NlZ_wjiq1vSN",
        "outputId": "d02de89b-b9f1-451d-b73a-19ae1afccf7b"
      },
      "execution_count": null,
      "outputs": [
        {
          "output_type": "stream",
          "name": "stdout",
          "text": [
            "0j\n"
          ]
        }
      ]
    },
    {
      "cell_type": "code",
      "source": [
        "print ( not 10 + 20j )"
      ],
      "metadata": {
        "colab": {
          "base_uri": "https://localhost:8080/"
        },
        "id": "uR1md29C1zVm",
        "outputId": "9372187e-df63-4f90-8d91-13a8edebe372"
      },
      "execution_count": null,
      "outputs": [
        {
          "output_type": "stream",
          "name": "stdout",
          "text": [
            "False\n"
          ]
        }
      ]
    },
    {
      "cell_type": "code",
      "source": [
        "print ( not 0 + 0j )"
      ],
      "metadata": {
        "colab": {
          "base_uri": "https://localhost:8080/"
        },
        "id": "fup_u0Br15ie",
        "outputId": "36744bb7-0ff6-47c3-fe5c-ccd4eae29b9f"
      },
      "execution_count": null,
      "outputs": [
        {
          "output_type": "stream",
          "name": "stdout",
          "text": [
            "True\n"
          ]
        }
      ]
    },
    {
      "cell_type": "markdown",
      "source": [
        "# Q. What is the output of the expression inside the print statement.\n",
        "# Cross check before running the program."
      ],
      "metadata": {
        "id": "QvEysqec2Ltl"
      }
    },
    {
      "cell_type": "code",
      "source": [
        "a1 = 10 + 20j"
      ],
      "metadata": {
        "id": "erFaY1K318wu"
      },
      "execution_count": null,
      "outputs": []
    },
    {
      "cell_type": "code",
      "source": [
        "b1 = 10 + 20j"
      ],
      "metadata": {
        "id": "YCb3izbv2TrK"
      },
      "execution_count": null,
      "outputs": []
    },
    {
      "cell_type": "code",
      "source": [
        "print (a1 is b1)"
      ],
      "metadata": {
        "colab": {
          "base_uri": "https://localhost:8080/"
        },
        "id": "n-DZtoOL2WTI",
        "outputId": "17c2fc89-f344-49b2-e89b-43e8e4799a28"
      },
      "execution_count": null,
      "outputs": [
        {
          "output_type": "stream",
          "name": "stdout",
          "text": [
            "False\n"
          ]
        }
      ]
    },
    {
      "cell_type": "code",
      "source": [
        "print (a1 is not b1)"
      ],
      "metadata": {
        "colab": {
          "base_uri": "https://localhost:8080/"
        },
        "id": "ZG-LJA1L2Y9D",
        "outputId": "6e84af44-884f-4fde-b380-11101f513095"
      },
      "execution_count": null,
      "outputs": [
        {
          "output_type": "stream",
          "name": "stdout",
          "text": [
            "True\n"
          ]
        }
      ]
    },
    {
      "cell_type": "markdown",
      "source": [
        "# Q. Membership operation\n",
        "# in, not in are two membership operators and it returns boolean value"
      ],
      "metadata": {
        "id": "Uv_yFNIQ2tHu"
      }
    },
    {
      "cell_type": "code",
      "source": [
        "print ( '2.7' in 'Python2.7.8' )"
      ],
      "metadata": {
        "colab": {
          "base_uri": "https://localhost:8080/"
        },
        "id": "wGpZ7lFu2ouD",
        "outputId": "6df32711-dcc7-402e-f5db-9d933c409928"
      },
      "execution_count": null,
      "outputs": [
        {
          "output_type": "stream",
          "name": "stdout",
          "text": [
            "True\n"
          ]
        }
      ]
    },
    {
      "cell_type": "code",
      "source": [
        "print ( 10 + 20j in [ 10 , 10.20 , 10 + 20j , 'Python' ])"
      ],
      "metadata": {
        "colab": {
          "base_uri": "https://localhost:8080/"
        },
        "id": "xUS2Of1H20vM",
        "outputId": "f82bdf3d-d5c6-4947-e432-8d1b2854cc3d"
      },
      "execution_count": null,
      "outputs": [
        {
          "output_type": "stream",
          "name": "stdout",
          "text": [
            "True\n"
          ]
        }
      ]
    },
    {
      "cell_type": "code",
      "source": [
        "print ( 10 + 20j in ( 10 , 10.20 , 10 + 20j , 'Python' ))"
      ],
      "metadata": {
        "colab": {
          "base_uri": "https://localhost:8080/"
        },
        "id": "sKTjkD6N25dJ",
        "outputId": "a86a6e8b-804a-4b55-f43e-13d26922cccc"
      },
      "execution_count": null,
      "outputs": [
        {
          "output_type": "stream",
          "name": "stdout",
          "text": [
            "True\n"
          ]
        }
      ]
    },
    {
      "cell_type": "code",
      "source": [
        "print ( 30 + 40j in { 1 , 20.30 , 30 + 40j })"
      ],
      "metadata": {
        "colab": {
          "base_uri": "https://localhost:8080/"
        },
        "id": "GFl1jEYf28MK",
        "outputId": "f19efcbd-6dc2-4c57-a6af-eb7f001363b0"
      },
      "execution_count": null,
      "outputs": [
        {
          "output_type": "stream",
          "name": "stdout",
          "text": [
            "True\n"
          ]
        }
      ]
    },
    {
      "cell_type": "code",
      "source": [
        "print ( 30 + 40j in { 1 : 100 , 2.3 : 200 , 30 + 40j : 300 })"
      ],
      "metadata": {
        "colab": {
          "base_uri": "https://localhost:8080/"
        },
        "id": "Q8yrIIZ92_Zo",
        "outputId": "7820a2f8-d330-4caf-bbdf-c63f0c3c0e29"
      },
      "execution_count": null,
      "outputs": [
        {
          "output_type": "stream",
          "name": "stdout",
          "text": [
            "True\n"
          ]
        }
      ]
    },
    {
      "cell_type": "code",
      "source": [
        "print ( 10 in range ( 20 ))"
      ],
      "metadata": {
        "colab": {
          "base_uri": "https://localhost:8080/"
        },
        "id": "CsJpSolS3CB9",
        "outputId": "5ce3a72f-d999-4115-cd9e-bcfe092b7ecb"
      },
      "execution_count": null,
      "outputs": [
        {
          "output_type": "stream",
          "name": "stdout",
          "text": [
            "True\n"
          ]
        }
      ]
    },
    {
      "cell_type": "code",
      "source": [],
      "metadata": {
        "id": "Jx7KFJex3EUG"
      },
      "execution_count": null,
      "outputs": []
    }
  ]
}