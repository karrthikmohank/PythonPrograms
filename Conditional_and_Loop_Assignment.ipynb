{
  "nbformat": 4,
  "nbformat_minor": 0,
  "metadata": {
    "colab": {
      "provenance": [],
      "collapsed_sections": [],
      "authorship_tag": "ABX9TyPDvmbHcKaosIhi3U5bqzvK",
      "include_colab_link": true
    },
    "kernelspec": {
      "name": "python3",
      "display_name": "Python 3"
    },
    "language_info": {
      "name": "python"
    }
  },
  "cells": [
    {
      "cell_type": "markdown",
      "metadata": {
        "id": "view-in-github",
        "colab_type": "text"
      },
      "source": [
        "<a href=\"https://colab.research.google.com/github/karrthikmohank/PythonPrograms/blob/main/Conditional_and_Loop_Assignment.ipynb\" target=\"_parent\"><img src=\"https://colab.research.google.com/assets/colab-badge.svg\" alt=\"Open In Colab\"/></a>"
      ]
    },
    {
      "cell_type": "markdown",
      "source": [
        "# Q. W. A P. which takes one number from 0 to 9 from the user and prints it in the word. And if the word is not from 0 to 9 then it should print that number is outside of the range and program should exit.\n",
        "# For example:-\n",
        "# input = 1\n",
        "# output = one"
      ],
      "metadata": {
        "id": "hqxE-qJR3qxP"
      }
    },
    {
      "cell_type": "code",
      "execution_count": null,
      "metadata": {
        "colab": {
          "base_uri": "https://localhost:8080/"
        },
        "id": "4s7DJoKr3n4u",
        "outputId": "81e35490-d891-4ae6-9a8c-14f2414bbe38"
      },
      "outputs": [
        {
          "name": "stdout",
          "output_type": "stream",
          "text": [
            "### Enter a number from 0 to 9 ####\n",
            "Input = 8\n"
          ]
        }
      ],
      "source": [
        "print(\"### Enter a number from 0 to 9 ####\")\n",
        "number = int(input(\"Input = \"))"
      ]
    },
    {
      "cell_type": "code",
      "source": [
        "if (number == 0):\n",
        "  print(\"Output = zero\")\n",
        "elif (number == 1):\n",
        "  print(\"Output = one\")\n",
        "elif (number == 2):\n",
        "  print(\"Output = two\")\n",
        "elif (number == 3):\n",
        "  print(\"Output = three\")\n",
        "elif (number == 4):\n",
        "  print(\"Output = four\")\n",
        "elif (number == 5):\n",
        "  print(\"Output = five\")\n",
        "elif (number == 6):\n",
        "  print(\"Output = six\")\n",
        "elif (number == 7):\n",
        "  print(\"Output = seven\")\n",
        "elif (number == 8):\n",
        "  print(\"Output = eight\")\n",
        "elif (number == 9):\n",
        "  print(\"Output = nine\")\n",
        "else:\n",
        "  print(\"number is outside of the range\")"
      ],
      "metadata": {
        "colab": {
          "base_uri": "https://localhost:8080/"
        },
        "id": "bEzVweF05NnK",
        "outputId": "d5f19be3-f3d3-4238-a708-e80bc55af64a"
      },
      "execution_count": null,
      "outputs": [
        {
          "output_type": "stream",
          "name": "stdout",
          "text": [
            "Output = eight\n"
          ]
        }
      ]
    },
    {
      "cell_type": "markdown",
      "source": [
        "# Q. W. A P. to implement calculator but the operation to be done and two numbers will be taken as input from user:-\n",
        "## Operation console should show below:-\n",
        "## Please select any one operation from below:-\n",
        "## * To add enter 1\n",
        "## * to subtract enter 2\n",
        "## * To multiply enter 3\n",
        "## * To divide enter 4\n",
        "## * To divide and find quotient enter 5\n",
        "## * To divide and find remainder enter 6\n",
        "## * To divide and find num1 to the power of num2 enter 7\n",
        "## * To Come out of the program enter 8"
      ],
      "metadata": {
        "id": "Dx0BqGJC7TWE"
      }
    },
    {
      "cell_type": "code",
      "source": [
        "print(\"############################################################\")\n",
        "print(\"################# Calculator Menu ##########################\")\n",
        "print(\"Addition - Enter 1\")\n",
        "print(\"Subtraction - Enter 2\")\n",
        "print(\"Multiplication - Enter 3\")\n",
        "print(\"Division - Enter 4\")\n",
        "print(\"Division and find quotient - Enter 5\")\n",
        "print(\"Division and find remainder - Enter 6\")\n",
        "print(\"Exponentiation and find num1 to the power of num2 - Enter 7\")\n",
        "print(\"To Come out of the program - Enter 8\")\n",
        "print(\"############################################################\")\n",
        "while(True):\n",
        "  try:\n",
        "    option = int(input(\"Enter Operation = \"))\n",
        "    if (option == 1):\n",
        "      print(\"Addition operation selected !!!\")\n",
        "      ##################################################\n",
        "      operand1 = input(\"Enter the first number: \")\n",
        "      if operand1.isnumeric():\n",
        "        operand1 = int(operand1)\n",
        "      else: \n",
        "        try:       \n",
        "            operand1 = float(operand1)          \n",
        "        except:\n",
        "            print(\"enter a valid number !!!\")\n",
        "            toContinue = input(\"Do you want to continue (Y/N)?? \")\n",
        "            toContinue = toContinue.upper()\n",
        "            if (toContinue == \"Y\"):\n",
        "              continue\n",
        "            else:\n",
        "              print(\"Exiting Program - Thank you !!\")\n",
        "              break\n",
        "      ######################################################     \n",
        "      operand2 = input(\"Enter the second number: \")\n",
        "      if operand2.isnumeric():\n",
        "        operand2 = int(operand2)\n",
        "      else: \n",
        "        try:       \n",
        "            operand2 = float(operand2)          \n",
        "        except:\n",
        "            print(\"enter a valid number !!!\")\n",
        "            toContinue = input(\"Do you want to continue (Y/N)?? \")\n",
        "            toContinue = toContinue.upper()\n",
        "            if (toContinue == \"Y\"):\n",
        "              continue\n",
        "            else:\n",
        "              print(\"Exiting Program - Thank you !!\")\n",
        "              break\n",
        "      ######################################################\n",
        "      total = operand1 + operand2\n",
        "      print(f\"Result of addition operation: {total}\")\n",
        "      ######################################################\n",
        "    elif (option == 2):\n",
        "      print(\"Subtraction operation selected !!!\")\n",
        "      ######################################################\n",
        "      operand1 = input(\"Enter the first number: \")\n",
        "      if operand1.isnumeric():\n",
        "        operand1 = int(operand1)\n",
        "      else: \n",
        "        try:       \n",
        "            operand1 = float(operand1)          \n",
        "        except:\n",
        "            print(\"enter a valid number !!!\")\n",
        "            toContinue = input(\"Do you want to continue (Y/N)?? \")\n",
        "            toContinue = toContinue.upper()\n",
        "            if (toContinue == \"Y\"):\n",
        "              continue\n",
        "            else:\n",
        "              print(\"Exiting Program - Thank you !!\")\n",
        "              break\n",
        "      ######################################################\n",
        "      operand2 = input(\"Enter the second number: \")\n",
        "      if operand2.isnumeric():\n",
        "        operand2 = int(operand2)\n",
        "      else: \n",
        "        try:       \n",
        "            operand2 = float(operand2)          \n",
        "        except:\n",
        "            print(\"enter a valid number !!!\")\n",
        "            toContinue = input(\"Do you want to continue (Y/N)?? \")\n",
        "            toContinue = toContinue.upper()\n",
        "            if (toContinue == \"Y\"):\n",
        "              continue\n",
        "            else:\n",
        "              print(\"Exiting Program - Thank you !!\")\n",
        "              break\n",
        "      ######################################################\n",
        "      diff = operand1 - operand2\n",
        "      print(f\"Result of subtraction operation: {diff}\")\n",
        "      ######################################################\n",
        "    elif (option == 3):\n",
        "      print(\"Multiplication operation selected !!!\")\n",
        "      ######################################################\n",
        "      operand1 = input(\"Enter the first number: \")\n",
        "      if operand1.isnumeric():\n",
        "        operand1 = int(operand1)\n",
        "      else: \n",
        "        try:       \n",
        "            operand1 = float(operand1)          \n",
        "        except:\n",
        "            print(\"enter a valid number !!!\")\n",
        "            toContinue = input(\"Do you want to continue (Y/N)?? \")\n",
        "            toContinue = toContinue.upper()\n",
        "            if (toContinue == \"Y\"):\n",
        "              continue\n",
        "            else:\n",
        "              print(\"Exiting Program - Thank you !!\")\n",
        "              break\n",
        "      ######################################################\n",
        "      operand2 = input(\"Enter the second number: \")\n",
        "      if operand2.isnumeric():\n",
        "        operand2 = int(operand2)\n",
        "      else: \n",
        "        try:       \n",
        "            operand2 = float(operand2)          \n",
        "        except:\n",
        "            print(\"enter a valid number !!!\")\n",
        "            toContinue = input(\"Do you want to continue (Y/N)?? \")\n",
        "            toContinue = toContinue.upper()\n",
        "            if (toContinue == \"Y\"):\n",
        "              continue\n",
        "            else:\n",
        "              print(\"Exiting Program - Thank you !!\")\n",
        "              break\n",
        "      ######################################################\n",
        "      prod = operand1 * operand2\n",
        "      print(f\"Result of multiplication operation: {prod}\")\n",
        "      ######################################################\n",
        "    elif (option == 4):\n",
        "      print(\"Division operation selected !!!\")\n",
        "      ######################################################\n",
        "      operand1 = input(\"Enter the first number: \")\n",
        "      if operand1.isnumeric():\n",
        "        operand1 = int(operand1)\n",
        "      else: \n",
        "        try:       \n",
        "            operand1 = float(operand1)          \n",
        "        except:\n",
        "            print(\"enter a valid number !!!\")\n",
        "            toContinue = input(\"Do you want to continue (Y/N)?? \")\n",
        "            toContinue = toContinue.upper()\n",
        "            if (toContinue == \"Y\"):\n",
        "              continue\n",
        "            else:\n",
        "              print(\"Exiting Program - Thank you !!\")\n",
        "              break\n",
        "      ######################################################\n",
        "      operand2 = input(\"Enter the second number: \")\n",
        "      if operand2.isnumeric():\n",
        "        operand2 = int(operand2)\n",
        "      else: \n",
        "        try:       \n",
        "            operand2 = float(operand2)          \n",
        "        except:\n",
        "            print(\"enter a valid number !!!\")\n",
        "            toContinue = input(\"Do you want to continue (Y/N)?? \")\n",
        "            toContinue = toContinue.upper()\n",
        "            if (toContinue == \"Y\"):\n",
        "              continue\n",
        "            else:\n",
        "              print(\"Exiting Program - Thank you !!\")\n",
        "              break\n",
        "      ######################################################\n",
        "      try:\n",
        "        div = operand1 / operand2\n",
        "      except:\n",
        "        print(\"Division by zero!!!\")\n",
        "        toContinue = input(\"Do you want to continue (Y/N)?? \")\n",
        "        toContinue = toContinue.upper()\n",
        "        if (toContinue == \"Y\"):\n",
        "          continue\n",
        "        else:\n",
        "          print(\"Exiting Program - Thank you !!\")\n",
        "          break\n",
        "      ######################################################\n",
        "      print(f\"Result of division operation: {div}\")\n",
        "      ######################################################\n",
        "    elif (option == 5):\n",
        "      print(\"Division and find quotient operation selected !!!\")\n",
        "      ######################################################\n",
        "      operand1 = input(\"Enter the first number: \")\n",
        "      if operand1.isnumeric():\n",
        "        operand1 = int(operand1)\n",
        "      else: \n",
        "        try:       \n",
        "            operand1 = float(operand1)          \n",
        "        except:\n",
        "            print(\"enter a valid number !!!\")\n",
        "            toContinue = input(\"Do you want to continue (Y/N)?? \")\n",
        "            toContinue = toContinue.upper()\n",
        "            if (toContinue == \"Y\"):\n",
        "              continue\n",
        "            else:\n",
        "              print(\"Exiting Program - Thank you !!\")\n",
        "              break\n",
        "      ######################################################\n",
        "      operand2 = input(\"Enter the second number: \")\n",
        "      if operand2.isnumeric():\n",
        "        operand2 = int(operand2)\n",
        "      else: \n",
        "        try:       \n",
        "            operand2 = float(operand2)          \n",
        "        except:\n",
        "            print(\"enter a valid number !!!\")\n",
        "            toContinue = input(\"Do you want to continue (Y/N)?? \")\n",
        "            toContinue = toContinue.upper()\n",
        "            if (toContinue == \"Y\"):\n",
        "              continue\n",
        "            else:\n",
        "              print(\"Exiting Program - Thank you !!\")\n",
        "              break\n",
        "      ######################################################\n",
        "      try:\n",
        "        quot = operand1 // operand2\n",
        "      except:\n",
        "        print(\"Integer Division by zero!!!\")\n",
        "        toContinue = input(\"Do you want to continue (Y/N)?? \")\n",
        "        toContinue = toContinue.upper()\n",
        "        if (toContinue == \"Y\"):\n",
        "          continue\n",
        "        else:\n",
        "          print(\"Exiting Program - Thank you !!\")\n",
        "          break\n",
        "      print(f\"Quotient of division operation: {quot}\")\n",
        "      ######################################################\n",
        "    elif (option == 6):\n",
        "      print(\"Division and find remainder operation selected !!!\")\n",
        "      ######################################################\n",
        "      operand1 = input(\"Enter the first number: \")\n",
        "      if operand1.isnumeric():\n",
        "        operand1 = int(operand1)\n",
        "      else: \n",
        "        try:       \n",
        "            operand1 = float(operand1)          \n",
        "        except:\n",
        "            print(\"enter a valid number !!!\")\n",
        "            toContinue = input(\"Do you want to continue (Y/N)?? \")\n",
        "            toContinue = toContinue.upper()\n",
        "            if (toContinue == \"Y\"):\n",
        "              continue\n",
        "            else:\n",
        "              print(\"Exiting Program - Thank you !!\")\n",
        "              break\n",
        "      ######################################################\n",
        "      operand2 = input(\"Enter the second number: \")\n",
        "      if operand2.isnumeric():\n",
        "        operand2 = int(operand2)\n",
        "      else: \n",
        "        try:       \n",
        "            operand2 = float(operand2)          \n",
        "        except:\n",
        "            print(\"enter a valid number !!!\")\n",
        "            toContinue = input(\"Do you want to continue (Y/N)?? \")\n",
        "            toContinue = toContinue.upper()\n",
        "            if (toContinue == \"Y\"):\n",
        "              continue\n",
        "            else:\n",
        "              print(\"Exiting Program - Thank you !!\")\n",
        "              break\n",
        "      ######################################################\n",
        "      try:\n",
        "        rem = operand1 % operand2\n",
        "      except:\n",
        "        print(\"Division by zero!!!\")\n",
        "        toContinue = input(\"Do you want to continue (Y/N)?? \")\n",
        "        toContinue = toContinue.upper()\n",
        "        if (toContinue == \"Y\"):\n",
        "          continue\n",
        "        else:\n",
        "          print(\"Exiting Program - Thank you !!\")\n",
        "          break\n",
        "      print(f\"Reminder of division operation: {rem}\")\n",
        "      ######################################################\n",
        "    elif (option == 7):\n",
        "      print(\"Exponentiation and find num1 to the power of num2 operation selected !!!\")\n",
        "      ######################################################\n",
        "      operand1 = input(\"Enter the first number: \")\n",
        "      if operand1.isnumeric():\n",
        "        operand1 = int(operand1)\n",
        "      else: \n",
        "        try:       \n",
        "            operand1 = float(operand1)          \n",
        "        except:\n",
        "            print(\"enter a valid number !!!\")\n",
        "            toContinue = input(\"Do you want to continue (Y/N)?? \")\n",
        "            toContinue = toContinue.upper()\n",
        "            if (toContinue == \"Y\"):\n",
        "              continue\n",
        "            else:\n",
        "              print(\"Exiting Program - Thank you !!\")\n",
        "              break\n",
        "      ######################################################\n",
        "      operand2 = input(\"Enter the second number: \")\n",
        "      if operand2.isnumeric():\n",
        "        operand2 = int(operand2)\n",
        "      else: \n",
        "        try:       \n",
        "            operand2 = float(operand2)          \n",
        "        except:\n",
        "            print(\"enter a valid number !!!\")\n",
        "            toContinue = input(\"Do you want to continue (Y/N)?? \")\n",
        "            toContinue = toContinue.upper()\n",
        "            if (toContinue == \"Y\"):\n",
        "              continue\n",
        "            else:\n",
        "              print(\"Exiting Program - Thank you !!\")\n",
        "              break\n",
        "      ######################################################\n",
        "      try:\n",
        "        power = operand1 ** operand2\n",
        "      except:\n",
        "        print(\"Exponentiation - Check operands!!!\")\n",
        "        toContinue = input(\"Do you want to continue (Y/N)?? \")\n",
        "        toContinue = toContinue.upper()\n",
        "        if (toContinue == \"Y\"):\n",
        "          continue\n",
        "        else:\n",
        "          print(\"Exiting Program - Thank you !!\")\n",
        "          break        \n",
        "      print(f\"Result of exponentiation operation: {power}\")\n",
        "      ######################################################\n",
        "    elif (option == 8):\n",
        "      ######################################################\n",
        "      print(\"Exiting Program - Thank you !!\")\n",
        "      break\n",
        "    else:\n",
        "      ######################################################\n",
        "      print(\"Invalid option !!! - Please enter a valid option\")\n",
        "      toContinue = input(\"Do you want to continue (Y/N)?? \")\n",
        "      toContinue = toContinue.upper()\n",
        "      if (toContinue == \"Y\"):\n",
        "        continue\n",
        "      else:\n",
        "        print(\"Exiting Program - Thank you !!\")\n",
        "        break     \n",
        "    ######################################################\n",
        "    toContinue = input(\"Do you want to continue (Y/N)?? \")\n",
        "    toContinue = toContinue.upper()\n",
        "    if (toContinue == \"Y\"):\n",
        "      continue\n",
        "    else:\n",
        "      print(\"Exiting Program - Thank you !!\")\n",
        "      break\n",
        "  except:\n",
        "    print(\"Invalid option !!! - Please enter a valid option\")\n",
        "    toContinue = input(\"Do you want to continue (Y/N)?? \")\n",
        "    toContinue = toContinue.upper()\n",
        "    if (toContinue == \"Y\"):\n",
        "      continue\n",
        "    else:\n",
        "      print(\"Exiting Program - Thank you !!\")\n",
        "      break\n",
        "   ###################################################### "
      ],
      "metadata": {
        "id": "QmdYa5dO9z0a",
        "colab": {
          "base_uri": "https://localhost:8080/"
        },
        "outputId": "bde2a956-4b85-4c9b-8b9e-2990b811f74e"
      },
      "execution_count": null,
      "outputs": [
        {
          "output_type": "stream",
          "name": "stdout",
          "text": [
            "############################################################\n",
            "################# Calculator Menu ##########################\n",
            "Addition - Enter 1\n",
            "Subtraction - Enter 2\n",
            "Multiplication - Enter 3\n",
            "Division - Enter 4\n",
            "Division and find quotient - Enter 5\n",
            "Division and find remainder - Enter 6\n",
            "Exponentiation and find num1 to the power of num2 - Enter 7\n",
            "To Come out of the program - Enter 8\n",
            "############################################################\n",
            "Enter Operation = 7\n",
            "Exponentiation and find num1 to the power of num2 operation selected !!!\n",
            "Enter the first number: 2\n",
            "Enter the second number: 4\n",
            "Result of exponentiation operation: 16\n",
            "Do you want to continue (Y/N)?? y\n",
            "Enter Operation = 7\n",
            "Exponentiation and find num1 to the power of num2 operation selected !!!\n",
            "Enter the first number: 0\n",
            "Enter the second number: 34\n",
            "Result of exponentiation operation: 0\n",
            "Do you want to continue (Y/N)?? y\n",
            "Enter Operation = 7\n",
            "Exponentiation and find num1 to the power of num2 operation selected !!!\n",
            "Enter the first number: 45.5\n",
            "Enter the second number: 2\n",
            "Result of exponentiation operation: 2070.25\n",
            "Do you want to continue (Y/N)?? n\n",
            "Exiting Program - Thank you !!\n"
          ]
        }
      ]
    },
    {
      "cell_type": "markdown",
      "source": [
        "# Q. W A P to check whether a year entered by user is an leap year or not ?\n",
        "# Check with below input:-\n",
        "# leap year:- 2012 , 1968 , 2004 , 1200 , 1600 , 2400\n",
        "# Non-lear year:- 1971 , 2006 , 1700 , 1800 , 1900"
      ],
      "metadata": {
        "id": "K4GtGn6tc5GX"
      }
    },
    {
      "cell_type": "code",
      "source": [
        "print(\"### Program to check whether a year entered by user is leap year or not ###\")\n",
        "while (True):\n",
        "  try:\n",
        "    year = int(input(\"Enter Year = \"))\n",
        "    if ( (year % 400 == 0) and (year % 100 == 0) ):\n",
        "      print(f\"{year} is a leap year!!\")\n",
        "    elif ( (year % 4 == 0) and (year % 100 != 0) ):\n",
        "      print(f\"{year} is a leap year!!\")\n",
        "    else:\n",
        "      print(f\"{year} is not a leap year!!\")\n",
        "    toContinue = input(\"Do you want to continue (Y/N)?? \")\n",
        "    toContinue = toContinue.upper()\n",
        "    if (toContinue == \"Y\"):\n",
        "      continue\n",
        "    else:\n",
        "      print(\"Exiting Program - Thank you !!\")\n",
        "      break\n",
        "  except:\n",
        "    print(\"Invalid year !!! - Please enter a valid year\")\n",
        "    toContinue = input(\"Do you want to continue (Y/N)?? \")\n",
        "    toContinue = toContinue.upper()\n",
        "    if (toContinue == \"Y\"):\n",
        "      continue\n",
        "    else:\n",
        "      print(\"Exiting Program - Thank you !!\")\n",
        "      break"
      ],
      "metadata": {
        "id": "N2SM4DjBORof",
        "colab": {
          "base_uri": "https://localhost:8080/"
        },
        "outputId": "45589631-5382-4fec-f574-8cb3f9175961"
      },
      "execution_count": null,
      "outputs": [
        {
          "output_type": "stream",
          "name": "stdout",
          "text": [
            "Enter Year = 2012\n",
            "2012 is a leap year!!\n",
            "Do you want to continue (Y/N)?? y\n",
            "Enter Year = 1968\n",
            "1968 is a leap year!!\n",
            "Do you want to continue (Y/N)?? y\n",
            "Enter Year = 2004\n",
            "2004 is a leap year!!\n",
            "Do you want to continue (Y/N)?? y\n",
            "Enter Year = 1200\n",
            "1200 is a leap year!!\n",
            "Do you want to continue (Y/N)?? y\n",
            "Enter Year = 1600\n",
            "1600 is a leap year!!\n",
            "Do you want to continue (Y/N)?? y\n",
            "Enter Year = 2400\n",
            "2400 is a leap year!!\n",
            "Do you want to continue (Y/N)?? y\n",
            "Enter Year = 1971\n",
            "1971 is not a leap year!!\n",
            "Do you want to continue (Y/N)?? y\n",
            "Enter Year = 2006\n",
            "2006 is not a leap year!!\n",
            "Do you want to continue (Y/N)?? y\n",
            "Enter Year = 1700\n",
            "1700 is not a leap year!!\n",
            "Do you want to continue (Y/N)?? y\n",
            "Enter Year = 1800\n",
            "1800 is not a leap year!!\n",
            "Do you want to continue (Y/N)?? y\n",
            "Enter Year = 1900\n",
            "1900 is not a leap year!!\n",
            "Do you want to continue (Y/N)?? y\n",
            "Enter Year = sdsd\n",
            "Invalid year !!! - Please enter a valid year\n",
            "Do you want to continue (Y/N)?? y\n",
            "Enter Year = 234.233\n",
            "Invalid year !!! - Please enter a valid year\n",
            "Do you want to continue (Y/N)?? y\n",
            "Enter Year = ';''\n",
            "Invalid year !!! - Please enter a valid year\n",
            "Do you want to continue (Y/N)?? y\n",
            "Enter Year = 4000\n",
            "4000 is a leap year!!\n",
            "Do you want to continue (Y/N)?? n\n",
            "Exiting Program - Thank you !!\n"
          ]
        }
      ]
    },
    {
      "cell_type": "markdown",
      "source": [
        "# Q. W A P which takes one number from the user and checks whether it is an even or odd number?, If it even then prints number is even number else prints that number is odd number."
      ],
      "metadata": {
        "id": "3LYUU0XYgEol"
      }
    },
    {
      "cell_type": "code",
      "source": [
        "print(\"### Program to check whether a number is even or odd ###\")\n",
        "while (True):\n",
        "  try:\n",
        "    number = (input(\"Enter Number = \"))\n",
        "    if number.isnumeric():\n",
        "        number = int(number)\n",
        "    else: \n",
        "        try:       \n",
        "            number = float(number)          \n",
        "        except:\n",
        "            print(\"enter a valid number !!!\")\n",
        "            toContinue = input(\"Do you want to continue (Y/N)?? \")\n",
        "            toContinue = toContinue.upper()\n",
        "            if (toContinue == \"Y\"):\n",
        "              continue\n",
        "            else:\n",
        "              print(\"Exiting Program - Thank you !!\")\n",
        "              break\n",
        "    if (number % 2 == 0):\n",
        "      print(f\"{number} is an even number!!\")    \n",
        "    else:\n",
        "      print(f\"{number} is an odd number !!\")\n",
        "    toContinue = input(\"Do you want to continue (Y/N)?? \")\n",
        "    toContinue = toContinue.upper()\n",
        "    if (toContinue == \"Y\"):\n",
        "      continue\n",
        "    else:\n",
        "      print(\"Exiting Program - Thank you !!\")\n",
        "      break\n",
        "  except:\n",
        "    print(\"Invalid number !!! - Please enter a valid number\")\n",
        "    toContinue = input(\"Do you want to continue (Y/N)?? \")\n",
        "    toContinue = toContinue.upper()\n",
        "    if (toContinue == \"Y\"):\n",
        "      continue\n",
        "    else:\n",
        "      print(\"Exiting Program - Thank you !!\")\n",
        "      break"
      ],
      "metadata": {
        "colab": {
          "base_uri": "https://localhost:8080/"
        },
        "id": "KPKTLh29eciZ",
        "outputId": "4a9357b8-773c-41ee-91d4-d3fb8025bbba"
      },
      "execution_count": null,
      "outputs": [
        {
          "output_type": "stream",
          "name": "stdout",
          "text": [
            "### Program to check whether a number is even or odd ###\n",
            "Enter Number = 22\n",
            "22 is an even number!!\n",
            "Do you want to continue (Y/N)?? y\n",
            "Enter Number = 55.55\n",
            "55.55 is an odd number !!\n",
            "Do you want to continue (Y/N)?? y\n",
            "Enter Number = 22.36\n",
            "22.36 is an odd number !!\n",
            "Do you want to continue (Y/N)?? n\n",
            "Exiting Program - Thank you !!\n"
          ]
        }
      ]
    },
    {
      "cell_type": "markdown",
      "source": [
        "# Q. W A P which takes two numbers from the user and prints below output:-\n",
        "# 1 . num1 is greater than num2 if num1 is greater than num2\n",
        "# 2 . num1 is smaller than num2 if num1 is smaller than num2\n",
        "# 3 . num1 is equal to num2 if num1 and num2 are equal\n",
        "# Note:- 1 . Do this problem using if - else\n",
        "# 2 . Do this using ternary operator"
      ],
      "metadata": {
        "id": "7EbZd118kDV5"
      }
    },
    {
      "cell_type": "markdown",
      "source": [
        "# 1. Using if ... else ..."
      ],
      "metadata": {
        "id": "PjnQl9rOk2a7"
      }
    },
    {
      "cell_type": "code",
      "source": [
        "print(\"Program to compare two numbers, num1 and num2 and print whether num1 and num2 are greater than, less than or equal to each other -- Using if...else condition\")\n",
        "while (True):\n",
        "  try:\n",
        "    ####################################################################\n",
        "    number1 = (input(\"Enter First Number = \"))\n",
        "    if number1.isnumeric():\n",
        "        number1 = int(number1)\n",
        "    else: \n",
        "        try:       \n",
        "            number1 = float(number1)          \n",
        "        except:\n",
        "            print(\"enter a valid number !!!\")\n",
        "            toContinue = input(\"Do you want to continue (Y/N)?? \")\n",
        "            toContinue = toContinue.upper()\n",
        "            if (toContinue == \"Y\"):\n",
        "              continue\n",
        "            else:\n",
        "              print(\"Exiting Program - Thank you !!\")\n",
        "              break\n",
        "    ####################################################################\n",
        "    number2 = (input(\"Enter Second Number = \"))\n",
        "    if number2.isnumeric():\n",
        "        number2 = int(number2)\n",
        "    else: \n",
        "        try:       \n",
        "            number2 = float(number2)          \n",
        "        except:\n",
        "            print(\"enter a valid number !!!\")\n",
        "            toContinue = input(\"Do you want to continue (Y/N)?? \")\n",
        "            toContinue = toContinue.upper()\n",
        "            if (toContinue == \"Y\"):\n",
        "              continue\n",
        "            else:\n",
        "              print(\"Exiting Program - Thank you !!\")\n",
        "              break\n",
        "    ####################################################################\n",
        "    if (number1 == number2):\n",
        "      print(\"Numbers are equal !!!\")    \n",
        "    elif (number1 > number2):\n",
        "      print(f\"{number1} is greater !!\")\n",
        "    else:\n",
        "      print(f\"{number2} is greater !!\")\n",
        "    toContinue = input(\"Do you want to continue (Y/N)?? \")\n",
        "    toContinue = toContinue.upper()\n",
        "    if (toContinue == \"Y\"):\n",
        "      continue\n",
        "    else:\n",
        "      print(\"Exiting Program - Thank you !!\")\n",
        "      break\n",
        "  except:\n",
        "    print(\"Invalid number !!! - Please enter a valid number\")\n",
        "    toContinue = input(\"Do you want to continue (Y/N)?? \")\n",
        "    toContinue = toContinue.upper()\n",
        "    if (toContinue == \"Y\"):\n",
        "      continue\n",
        "    else:\n",
        "      print(\"Exiting Program - Thank you !!\")\n",
        "      break"
      ],
      "metadata": {
        "colab": {
          "base_uri": "https://localhost:8080/"
        },
        "id": "MiPLMWS-jjPn",
        "outputId": "c8e39db8-bf8f-4d59-d36c-9979c473f4de"
      },
      "execution_count": null,
      "outputs": [
        {
          "output_type": "stream",
          "name": "stdout",
          "text": [
            "Program to compare two numbers, num1 and num2 and print whether num1 and num2 are greater than, less than or equal to each other\n",
            "Enter First Number = 56\n",
            "Enter Second Number = 56\n",
            "NUmbers are equal !!!\n",
            "Do you want to continue (Y/N)?? n\n",
            "Exiting Program - Thank you !!\n"
          ]
        }
      ]
    },
    {
      "cell_type": "markdown",
      "source": [
        "# 2 - Using ternary operator"
      ],
      "metadata": {
        "id": "MZ7VfJWMqDWk"
      }
    },
    {
      "cell_type": "code",
      "source": [
        "print(\"Program to compare two numbers, num1 and num2 and print whether num1 and num2 are greater than, less than or equal to each other -- Using ternary operator\")\n",
        "while (True):\n",
        "  try:\n",
        "    ####################################################################\n",
        "    number1 = (input(\"Enter First Number = \"))\n",
        "    if number1.isnumeric():\n",
        "        number1 = int(number1)\n",
        "    else: \n",
        "        try:       \n",
        "            number1 = float(number1)          \n",
        "        except:\n",
        "            print(\"enter a valid number !!!\")\n",
        "            toContinue = input(\"Do you want to continue (Y/N)?? \")\n",
        "            toContinue = toContinue.upper()\n",
        "            if (toContinue == \"Y\"):\n",
        "              continue\n",
        "            else:\n",
        "              print(\"Exiting Program - Thank you !!\")\n",
        "              break\n",
        "    ####################################################################\n",
        "    number2 = (input(\"Enter Second Number = \"))\n",
        "    if number2.isnumeric():\n",
        "        number2 = int(number2)\n",
        "    else: \n",
        "        try:       \n",
        "            number2 = float(number2)          \n",
        "        except:\n",
        "            print(\"enter a valid number !!!\")\n",
        "            toContinue = input(\"Do you want to continue (Y/N)?? \")\n",
        "            toContinue = toContinue.upper()\n",
        "            if (toContinue == \"Y\"):\n",
        "              continue\n",
        "            else:\n",
        "              print(\"Exiting Program - Thank you !!\")\n",
        "              break\n",
        "    ####################################################################\n",
        "    print(\"Numbers are equal !!!\" if (number1 == number2) else f\"{number1} is greater !!\" if (number1 > number2) else f\"{number2} is greater !!\")\n",
        "    \n",
        "    toContinue = input(\"Do you want to continue (Y/N)?? \")\n",
        "    toContinue = toContinue.upper()\n",
        "    if (toContinue == \"Y\"):\n",
        "      continue\n",
        "    else:\n",
        "      print(\"Exiting Program - Thank you !!\")\n",
        "      break\n",
        "  except:\n",
        "    print(\"Invalid number !!! - Please enter a valid number\")\n",
        "    toContinue = input(\"Do you want to continue (Y/N)?? \")\n",
        "    toContinue = toContinue.upper()\n",
        "    if (toContinue == \"Y\"):\n",
        "      continue\n",
        "    else:\n",
        "      print(\"Exiting Program - Thank you !!\")\n",
        "      break"
      ],
      "metadata": {
        "colab": {
          "base_uri": "https://localhost:8080/"
        },
        "id": "iwbmI0Ofm4U2",
        "outputId": "d3a78683-ff9d-4bd5-b969-41bea5f0a884"
      },
      "execution_count": null,
      "outputs": [
        {
          "output_type": "stream",
          "name": "stdout",
          "text": [
            "Program to compare two numbers, num1 and num2 and print whether num1 and num2 are greater than, less than or equal to each other -- Using ternary operator\n",
            "Enter First Number = 23\n",
            "Enter Second Number = 23\n",
            "Numbers are equal !!!\n",
            "Do you want to continue (Y/N)?? y\n",
            "Enter First Number = 34\n",
            "Enter Second Number = 22\n",
            "34 is greater !!\n",
            "Do you want to continue (Y/N)?? y\n",
            "Enter First Number = 55\n",
            "Enter Second Number = 66\n",
            "66 is greater !!\n",
            "Do you want to continue (Y/N)?? n\n",
            "Exiting Program - Thank you !!\n"
          ]
        }
      ]
    },
    {
      "cell_type": "markdown",
      "source": [
        "# Q. W A P which takes three numbers from the user and prints below output:-\n",
        "# 1 . num1 is greater than num2 and num3 if num1 is greater than num2 and num3\n",
        "# 2 . num2 is greater than num1 and num3 if num2 is greater than num1 and num3\n",
        "# 3 . num3 is greater than num1 and num2 if num3 is greater than num1 and num2\n",
        "# Note:- 1 . Do this problem using if - elif - else\n",
        "# 2 . Do this using ternary operator\n",
        "# a = a if a>b else b"
      ],
      "metadata": {
        "id": "bo-xRnmfG3NR"
      }
    },
    {
      "cell_type": "markdown",
      "source": [
        "# 1 - Using if - elif - else"
      ],
      "metadata": {
        "id": "FX2VlvXVICpY"
      }
    },
    {
      "cell_type": "code",
      "source": [
        "print(\"Program to compare three numbers, num1, num2 and num3\")\n",
        "print(\"Print whether num1 is greater than num2 and num3; num2 is greater than num1 and num3; num3 is greater than num1 and num2  -- Using if - elif -else\")\n",
        "while (True):\n",
        "  try:\n",
        "    ####################################################################\n",
        "    number1 = (input(\"Enter First Number  (Number-1) = \"))\n",
        "    if number1.isnumeric():\n",
        "        number1 = int(number1)\n",
        "    else: \n",
        "        try:       \n",
        "            number1 = float(number1)          \n",
        "        except:\n",
        "            print(\"enter a valid number !!!\")\n",
        "            toContinue = input(\"Do you want to continue (Y/N)?? \")\n",
        "            toContinue = toContinue.upper()\n",
        "            if (toContinue == \"Y\"):\n",
        "              continue\n",
        "            else:\n",
        "              print(\"Exiting Program - Thank you !!\")\n",
        "              break\n",
        "    ####################################################################\n",
        "    number2 = (input(\"Enter Second Number (Number-2) = \"))\n",
        "    if number2.isnumeric():\n",
        "        number2 = int(number2)\n",
        "    else: \n",
        "        try:       \n",
        "            number2 = float(number2)          \n",
        "        except:\n",
        "            print(\"enter a valid number !!!\")\n",
        "            toContinue = input(\"Do you want to continue (Y/N)?? \")\n",
        "            toContinue = toContinue.upper()\n",
        "            if (toContinue == \"Y\"):\n",
        "              continue\n",
        "            else:\n",
        "              print(\"Exiting Program - Thank you !!\")\n",
        "              break\n",
        "    ####################################################################\n",
        "    number3 = (input(\"Enter Third Number (Number-3) = \"))\n",
        "    if number3.isnumeric():\n",
        "        number3 = int(number3)\n",
        "    else: \n",
        "        try:       \n",
        "            number3 = float(number3)          \n",
        "        except:\n",
        "            print(\"enter a valid number !!!\")\n",
        "            toContinue = input(\"Do you want to continue (Y/N)?? \")\n",
        "            toContinue = toContinue.upper()\n",
        "            if (toContinue == \"Y\"):\n",
        "              continue\n",
        "            else:\n",
        "              print(\"Exiting Program - Thank you !!\")\n",
        "              break\n",
        "    ####################################################################\n",
        "    if ( (number1 > number2) and (number1 > number3) ):      \n",
        "        print(\"Number-1 is greater than Number-2 and Number-3\")\n",
        "    elif ( (number2 > number1) and (number2 > number3) ):      \n",
        "        print(\"Number-2 is greater than Number-1 and Number-3\")\n",
        "    elif ( (number3 > number1) and (number3 > number2) ):\n",
        "        print(\"Number-3 is greater than Number-1 and Number-2\")\n",
        "    ####################################################################\n",
        "    toContinue = input(\"Do you want to continue (Y/N)?? \")\n",
        "    toContinue = toContinue.upper()\n",
        "    if (toContinue == \"Y\"):\n",
        "      continue\n",
        "    else:\n",
        "      print(\"Exiting Program - Thank you !!\")\n",
        "      break\n",
        "  except:\n",
        "    print(\"Invalid number !!! - Please enter a valid number\")\n",
        "    toContinue = input(\"Do you want to continue (Y/N)?? \")\n",
        "    toContinue = toContinue.upper()\n",
        "    if (toContinue == \"Y\"):\n",
        "      continue\n",
        "    else:\n",
        "      print(\"Exiting Program - Thank you !!\")\n",
        "      break"
      ],
      "metadata": {
        "colab": {
          "base_uri": "https://localhost:8080/"
        },
        "id": "USG0GlYlFcUV",
        "outputId": "08bee535-8b34-4cd7-c1c5-8ce207f05232"
      },
      "execution_count": null,
      "outputs": [
        {
          "output_type": "stream",
          "name": "stdout",
          "text": [
            "Program to compare three numbers, num1, num2 and num3\n",
            "Print whether num1 is greater than num2 and num3; num2 is greater than num1 and num3; num3 is greater than num1 and num2  -- Using if - elif -else\n",
            "Enter First Number  (Number-1) = 11\n",
            "Enter Second Number (Number-2) = 22\n",
            "Enter Third Number (Number-3) = 33\n",
            "Number-3 is greater than Number-1 and Number-2\n",
            "Do you want to continue (Y/N)?? y\n",
            "Enter First Number  (Number-1) = 22\n",
            "Enter Second Number (Number-2) = 33\n",
            "Enter Third Number (Number-3) = 11\n",
            "Number-2 is greater than Number-1 and Number-3\n",
            "Do you want to continue (Y/N)?? y\n",
            "Enter First Number  (Number-1) = 33\n",
            "Enter Second Number (Number-2) = 22\n",
            "Enter Third Number (Number-3) = 11\n",
            "Number-1 is greater than Number-2 and Number-3\n",
            "Do you want to continue (Y/N)?? n\n",
            "Exiting Program - Thank you !!\n"
          ]
        }
      ]
    },
    {
      "cell_type": "markdown",
      "source": [
        "# Using ternary operator"
      ],
      "metadata": {
        "id": "1PrNebqTPAsI"
      }
    },
    {
      "cell_type": "code",
      "source": [
        "print(\"Program to compare three numbers, num1, num2 and num3\")\n",
        "print(\"Print whether num1 is greater than num2 and num3; num2 is greater than num1 and num3; num3 is greater than num1 and num2  -- Using ternary operator\")\n",
        "while (True):\n",
        "  try:\n",
        "    ####################################################################\n",
        "    number1 = (input(\"Enter First Number  (Number-1) = \"))\n",
        "    if number1.isnumeric():\n",
        "        number1 = int(number1)\n",
        "    else: \n",
        "        try:       \n",
        "            number1 = float(number1)          \n",
        "        except:\n",
        "            print(\"enter a valid number !!!\")\n",
        "            toContinue = input(\"Do you want to continue (Y/N)?? \")\n",
        "            toContinue = toContinue.upper()\n",
        "            if (toContinue == \"Y\"):\n",
        "              continue\n",
        "            else:\n",
        "              print(\"Exiting Program - Thank you !!\")\n",
        "              break\n",
        "    ####################################################################\n",
        "    number2 = (input(\"Enter Second Number (Number-2) = \"))\n",
        "    if number2.isnumeric():\n",
        "        number2 = int(number2)\n",
        "    else: \n",
        "        try:       \n",
        "            number2 = float(number2)          \n",
        "        except:\n",
        "            print(\"enter a valid number !!!\")\n",
        "            toContinue = input(\"Do you want to continue (Y/N)?? \")\n",
        "            toContinue = toContinue.upper()\n",
        "            if (toContinue == \"Y\"):\n",
        "              continue\n",
        "            else:\n",
        "              print(\"Exiting Program - Thank you !!\")\n",
        "              break\n",
        "    ####################################################################\n",
        "    number3 = (input(\"Enter Third Number (Number-3) = \"))\n",
        "    if number3.isnumeric():\n",
        "        number3 = int(number3)\n",
        "    else: \n",
        "        try:       \n",
        "            number3 = float(number3)          \n",
        "        except:\n",
        "            print(\"enter a valid number !!!\")\n",
        "            toContinue = input(\"Do you want to continue (Y/N)?? \")\n",
        "            toContinue = toContinue.upper()\n",
        "            if (toContinue == \"Y\"):\n",
        "              continue\n",
        "            else:\n",
        "              print(\"Exiting Program - Thank you !!\")\n",
        "              break\n",
        "    ####################################################################\n",
        "    print(\"Number-1 is greater than Number-2 and Number-3\") if ( (number1 > number2) and (number1 > number3) ) else \\\n",
        "    print(\"Number-2 is greater than Number-1 and Number-3\") if ( (number2 > number1) and (number2 > number3) ) else \\\n",
        "    print(\"Number-3 is greater than Number-1 and Number-2\") if ( (number3 > number1) and (number3 > number2) ) else print(\"do nothing\")    \n",
        "    ####################################################################\n",
        "    toContinue = input(\"Do you want to continue (Y/N)?? \")\n",
        "    toContinue = toContinue.upper()\n",
        "    if (toContinue == \"Y\"):\n",
        "      continue\n",
        "    else:\n",
        "      print(\"Exiting Program - Thank you !!\")\n",
        "      break\n",
        "  except:\n",
        "    print(\"Invalid number !!! - Please enter a valid number\")\n",
        "    toContinue = input(\"Do you want to continue (Y/N)?? \")\n",
        "    toContinue = toContinue.upper()\n",
        "    if (toContinue == \"Y\"):\n",
        "      continue\n",
        "    else:\n",
        "      print(\"Exiting Program - Thank you !!\")\n",
        "      break"
      ],
      "metadata": {
        "colab": {
          "base_uri": "https://localhost:8080/"
        },
        "id": "JxkX0kGhFeOJ",
        "outputId": "753cedf5-770a-40e4-95fc-3da567c30d02"
      },
      "execution_count": null,
      "outputs": [
        {
          "output_type": "stream",
          "name": "stdout",
          "text": [
            "Program to compare three numbers, num1, num2 and num3\n",
            "Print whether num1 is greater than num2 and num3; num2 is greater than num1 and num3; num3 is greater than num1 and num2  -- Using ternary operator\n",
            "Enter First Number  (Number-1) = 33\n",
            "Enter Second Number (Number-2) = 22\n",
            "Enter Third Number (Number-3) = 11\n",
            "Number-1 is greater than Number-2 and Number-3\n",
            "Do you want to continue (Y/N)?? y\n",
            "Enter First Number  (Number-1) = 22\n",
            "Enter Second Number (Number-2) = 33\n",
            "Enter Third Number (Number-3) = 11\n",
            "Number-2 is greater than Number-1 and Number-3\n",
            "Do you want to continue (Y/N)?? y\n",
            "Enter First Number  (Number-1) = 11\n",
            "Enter Second Number (Number-2) = 22\n",
            "Enter Third Number (Number-3) = 33\n",
            "Number-3 is greater than Number-1 and Number-2\n",
            "Do you want to continue (Y/N)?? n\n",
            "Exiting Program - Thank you !!\n"
          ]
        }
      ]
    },
    {
      "cell_type": "markdown",
      "source": [
        "# Loops - for loop, while loop"
      ],
      "metadata": {
        "id": "QDweSyoWRRhO"
      }
    },
    {
      "cell_type": "markdown",
      "source": [
        "# Q. Write a Python program to find the length of the my_str using loop:-\n",
        "# Input:- 'Write a Python program to find the length of the my_str'\n",
        "# Output:- 55"
      ],
      "metadata": {
        "id": "JQmuKz51Rfqm"
      }
    },
    {
      "cell_type": "code",
      "source": [
        "print(\"Program to find the length of the string using loops\")\n",
        "while(True):\n",
        "  try:\n",
        "    ####################################################################\n",
        "    my_str = input(\"Enter a string: \")\n",
        "    length = 0\n",
        "    for char in my_str:\n",
        "      length += 1\n",
        "    print(f\"Length of string: {length}\")\n",
        "    ####################################################################\n",
        "    toContinue = input(\"Do you want to continue (Y/N)?? \")\n",
        "    toContinue = toContinue.upper()\n",
        "    if (toContinue == \"Y\"):\n",
        "      continue\n",
        "    else:\n",
        "      print(\"Exiting Program - Thank you !!\")\n",
        "      break\n",
        "    ####################################################################\n",
        "  except:\n",
        "    print(\"Enter a valid string!!!\")\n",
        "    toContinue = input(\"Do you want to continue (Y/N)?? \")\n",
        "    toContinue = toContinue.upper()\n",
        "    if (toContinue == \"Y\"):\n",
        "      continue\n",
        "    else:\n",
        "      print(\"Exiting Program - Thank you !!\")\n",
        "      break"
      ],
      "metadata": {
        "colab": {
          "base_uri": "https://localhost:8080/"
        },
        "id": "j_KiaWenRfFG",
        "outputId": "54574d7e-990f-48ec-894f-a3377d97e32a"
      },
      "execution_count": null,
      "outputs": [
        {
          "output_type": "stream",
          "name": "stdout",
          "text": [
            "Program to find the length of the string using loops\n",
            "Enter a string: Write a Python program to find the length of the my_str\n",
            "Length of string: 55\n",
            "Do you want to continue (Y/N)?? y\n",
            "Enter a string: abcdefghijklmnopqrstuvwxyz\n",
            "Length of string: 26\n",
            "Do you want to continue (Y/N)?? n\n",
            "Exiting Program - Thank you !!\n"
          ]
        }
      ]
    },
    {
      "cell_type": "markdown",
      "source": [
        "# Q. Write a Python program to find the total number of times letter 'p' is appeared in the below string using loop:-\n",
        "# Input:- 'peter piper picked a peck of pickled peppers.\\n'\n",
        "# Output:- 9"
      ],
      "metadata": {
        "id": "pAcoDioYTj4n"
      }
    },
    {
      "cell_type": "code",
      "source": [
        "print(\"Find the total number of times letter 'p' is appeared in the below string using loop\")\n",
        "while(True):\n",
        "  try:\n",
        "    ####################################################################\n",
        "    my_str = input(\"Enter a string: \")\n",
        "    p_count = 0\n",
        "    for char in my_str:\n",
        "      if char == 'p':\n",
        "        p_count += 1\n",
        "    print(f\"No of times letter 'p' appeared in the string: {p_count}\")\n",
        "    ####################################################################\n",
        "    toContinue = input(\"Do you want to continue (Y/N)?? \")\n",
        "    toContinue = toContinue.upper()\n",
        "    if (toContinue == \"Y\"):\n",
        "      continue\n",
        "    else:\n",
        "      print(\"Exiting Program - Thank you !!\")\n",
        "      break\n",
        "    ####################################################################\n",
        "  except:\n",
        "    print(\"Enter a valid string!!!\")\n",
        "    toContinue = input(\"Do you want to continue (Y/N)?? \")\n",
        "    toContinue = toContinue.upper()\n",
        "    if (toContinue == \"Y\"):\n",
        "      continue\n",
        "    else:\n",
        "      print(\"Exiting Program - Thank you !!\")\n",
        "      break"
      ],
      "metadata": {
        "colab": {
          "base_uri": "https://localhost:8080/"
        },
        "id": "4ia9wAKDRXNB",
        "outputId": "1d2006e6-14b9-4761-cc48-7ccb94b84a90"
      },
      "execution_count": null,
      "outputs": [
        {
          "output_type": "stream",
          "name": "stdout",
          "text": [
            "Find the total number of times letter 'p' is appeared in the below string using loop\n",
            "Enter a string: peter piper picked a peck of pickled peppers.\\n\n",
            "No of times letter 'p' appeared in the string: 9\n",
            "Do you want to continue (Y/N)?? y\n",
            "Enter a string: pppskwnknfdsppppaskjdnjkasndkjanuiwehknsfdlkdnfppppppakjdnkajsndkajsnd\n",
            "No of times letter 'p' appeared in the string: 13\n",
            "Do you want to continue (Y/N)?? n\n",
            "Exiting Program - Thank you !!\n"
          ]
        }
      ]
    },
    {
      "cell_type": "markdown",
      "source": [
        "# Q. Write a Python Program, to print all the indexes of all occurences of letter 'p' appeared in the string using loop:-\n",
        "# Input:- 'peter piper picked a peck of pickled peppers.'\n",
        "# Output:-\n",
        "# 0\n",
        "# 6\n",
        "# 8\n",
        "# 12\n",
        "# 21\n",
        "# 29\n",
        "# 37\n",
        "# 39\n",
        "# 40"
      ],
      "metadata": {
        "id": "W8Bs7Z3RUtYE"
      }
    },
    {
      "cell_type": "code",
      "source": [
        "print(\"Print all the indexes of all occurences of letter 'p' appeared in the string using loop\")\n",
        "while(True):\n",
        "  try:\n",
        "    ####################################################################\n",
        "    my_str = input(\"Enter a string: \")\n",
        "    print(\"Indexes of all occurences of letter 'p' appeared in the string using loop\")\n",
        "    index = 0\n",
        "    for char in my_str:      \n",
        "      if char == 'p':        \n",
        "        print(index)\n",
        "      index += 1\n",
        "    ####################################################################\n",
        "    toContinue = input(\"Do you want to continue (Y/N)?? \")\n",
        "    toContinue = toContinue.upper()\n",
        "    if (toContinue == \"Y\"):\n",
        "      continue\n",
        "    else:\n",
        "      print(\"Exiting Program - Thank you !!\")\n",
        "      break\n",
        "    ####################################################################\n",
        "  except:\n",
        "    print(\"Enter a valid string!!!\")\n",
        "    toContinue = input(\"Do you want to continue (Y/N)?? \")\n",
        "    toContinue = toContinue.upper()\n",
        "    if (toContinue == \"Y\"):\n",
        "      continue\n",
        "    else:\n",
        "      print(\"Exiting Program - Thank you !!\")\n",
        "      break"
      ],
      "metadata": {
        "colab": {
          "base_uri": "https://localhost:8080/"
        },
        "id": "CsJHcwtwQhXv",
        "outputId": "61a2c8c9-9152-4f2f-bd0c-ac3a9a6cbd4f"
      },
      "execution_count": null,
      "outputs": [
        {
          "output_type": "stream",
          "name": "stdout",
          "text": [
            "Print all the indexes of all occurences of letter 'p' appeared in the string using loop\n",
            "Enter a string: peter piper picked a peck of pickled peppers.\n",
            "Indexes of all occurences of letter 'p' appeared in the string using loop\n",
            "0\n",
            "6\n",
            "8\n",
            "12\n",
            "21\n",
            "29\n",
            "37\n",
            "39\n",
            "40\n",
            "Do you want to continue (Y/N)?? y\n",
            "Enter a string: ppsdfnslkdnflksdmf;lsdppppsdfnskjdnfkjsdnfiuhedfkjppppsdchewjbfkjbfwekjefppppp\n",
            "Indexes of all occurences of letter 'p' appeared in the string using loop\n",
            "0\n",
            "1\n",
            "22\n",
            "23\n",
            "24\n",
            "25\n",
            "50\n",
            "51\n",
            "52\n",
            "53\n",
            "73\n",
            "74\n",
            "75\n",
            "76\n",
            "77\n",
            "Do you want to continue (Y/N)?? n\n",
            "Exiting Program - Thank you !!\n"
          ]
        }
      ]
    },
    {
      "cell_type": "markdown",
      "source": [
        "# Q. Write a python program to find below output using loop:-\n",
        "# Input:- 'peter piper picked a peck of pickled peppers.'\n",
        "# Output:- [ 'peter' , 'piper' , 'picked' , 'a' , 'peck' , 'of' , 'pickled' , 'peppers' ]"
      ],
      "metadata": {
        "id": "kUv_O-eNWzzM"
      }
    },
    {
      "cell_type": "markdown",
      "source": [
        "# 1 - Using append method "
      ],
      "metadata": {
        "id": "7jOL3OY2cJaC"
      }
    },
    {
      "cell_type": "code",
      "source": [
        "print(\"Program to output a sentence as list of words in that string using loop-Using append method\")\n",
        "while(True):\n",
        "  try:\n",
        "    ####################################################################\n",
        "    my_str = input(\"Enter a string: \")\n",
        "    output = []\n",
        "    first_index = 0\n",
        "    last_index = 0\n",
        "    for char in my_str:\n",
        "      last_index += 1\n",
        "      if char == ' ' or char == '.':\n",
        "        output.append(my_str[first_index:last_index-1]) \n",
        "        first_index = last_index \n",
        "    #output.append(my_str[first_index:last_index-1]) \n",
        "    print(output)\n",
        "    ####################################################################\n",
        "    toContinue = input(\"Do you want to continue (Y/N)?? \")\n",
        "    toContinue = toContinue.upper()\n",
        "    if (toContinue == \"Y\"):\n",
        "      continue\n",
        "    else:\n",
        "      print(\"Exiting Program - Thank you !!\")\n",
        "      break\n",
        "    ####################################################################\n",
        "  except:\n",
        "    print(\"Enter a valid string!!!\")\n",
        "    toContinue = input(\"Do you want to continue (Y/N)?? \")\n",
        "    toContinue = toContinue.upper()\n",
        "    if (toContinue == \"Y\"):\n",
        "      continue\n",
        "    else:\n",
        "      print(\"Exiting Program - Thank you !!\")\n",
        "      break"
      ],
      "metadata": {
        "colab": {
          "base_uri": "https://localhost:8080/"
        },
        "id": "hHmFVkDoV2sL",
        "outputId": "39ad27db-7e6c-43bd-8d5c-abc6e7875e2e"
      },
      "execution_count": null,
      "outputs": [
        {
          "output_type": "stream",
          "name": "stdout",
          "text": [
            "Program to output a sentence as list of words in that string using loop-Using append method\n",
            "Enter a string: Write a Python program to find the length of the my_str.\n",
            "['Write', 'a', 'Python', 'program', 'to', 'find', 'the', 'length', 'of', 'the', 'my_str']\n",
            "Do you want to continue (Y/N)?? y\n",
            "Enter a string: Write a Python program to find the length of the my_str \n",
            "['Write', 'a', 'Python', 'program', 'to', 'find', 'the', 'length', 'of', 'the', 'my_str']\n",
            "Do you want to continue (Y/N)?? n\n",
            "Exiting Program - Thank you !!\n"
          ]
        }
      ]
    },
    {
      "cell_type": "markdown",
      "source": [
        "# 2 - Without using append method"
      ],
      "metadata": {
        "id": "jt33iV52cs-h"
      }
    },
    {
      "cell_type": "code",
      "source": [
        "print(\"Program to output a sentence as list of words in that string using loop-Without using append method\")\n",
        "while(True):\n",
        "  try:\n",
        "    ####################################################################\n",
        "    my_str = input(\"Enter a string: \")\n",
        "    output = []\n",
        "    first_index = 0\n",
        "    last_index = 0\n",
        "    for char in my_str:\n",
        "      last_index += 1\n",
        "      if char == ' ' or char == '.':\n",
        "        output = output + [my_str[first_index:last_index-1]] \n",
        "        first_index = last_index      \n",
        "    #output = output + [my_str[first_index:last_index]]  \n",
        "    print(output)\n",
        "    ####################################################################\n",
        "    toContinue = input(\"Do you want to continue (Y/N)?? \")\n",
        "    toContinue = toContinue.upper()\n",
        "    if (toContinue == \"Y\"):\n",
        "      continue\n",
        "    else:\n",
        "      print(\"Exiting Program - Thank you !!\")\n",
        "      break\n",
        "    ####################################################################\n",
        "  except:\n",
        "    print(\"Enter a valid string!!!\")\n",
        "    toContinue = input(\"Do you want to continue (Y/N)?? \")\n",
        "    toContinue = toContinue.upper()\n",
        "    if (toContinue == \"Y\"):\n",
        "      continue\n",
        "    else:\n",
        "      print(\"Exiting Program - Thank you !!\")\n",
        "      break"
      ],
      "metadata": {
        "colab": {
          "base_uri": "https://localhost:8080/"
        },
        "id": "V5KX3zPHX548",
        "outputId": "d025279a-b9b1-4859-8978-a8299249ccbc"
      },
      "execution_count": null,
      "outputs": [
        {
          "output_type": "stream",
          "name": "stdout",
          "text": [
            "Program to output a sentence as list of words in that string using loop-Without using append method\n",
            "Enter a string: Write a Python program to find the length of the my_str\n",
            "['Write', 'a', 'Python', 'program', 'to', 'find', 'the', 'length', 'of', 'the']\n",
            "Do you want to continue (Y/N)?? y\n",
            "Enter a string: Write a Python program to find the length of the my_str.\n",
            "['Write', 'a', 'Python', 'program', 'to', 'find', 'the', 'length', 'of', 'the', 'my_str']\n",
            "Do you want to continue (Y/N)?? y\n",
            "Enter a string: Write a Python program to find the length of the my_str \n",
            "['Write', 'a', 'Python', 'program', 'to', 'find', 'the', 'length', 'of', 'the', 'my_str']\n",
            "Do you want to continue (Y/N)?? n\n",
            "Exiting Program - Thank you !!\n"
          ]
        }
      ]
    },
    {
      "cell_type": "markdown",
      "source": [
        "# Q. Write a python program to find below output using loop:-\n",
        "# Input:- 'peter piper picked a peck of pickled peppers.'\n",
        "# Output:- 'peppers pickled of peck a picked piper peter'"
      ],
      "metadata": {
        "id": "yVH4wx9d8-5U"
      }
    },
    {
      "cell_type": "markdown",
      "source": [
        "# 1 - Append method"
      ],
      "metadata": {
        "id": "maZ-Fxde9JY0"
      }
    },
    {
      "cell_type": "code",
      "source": [
        "print(\"Program to output a sentence in reverse order using loop-Using append method\")\n",
        "while(True):\n",
        "  try:\n",
        "    ####################################################################\n",
        "    my_str = input(\"Enter a string: \")\n",
        "    output = []\n",
        "    first_index = 0\n",
        "    last_index = 0\n",
        "    for char in my_str:\n",
        "      last_index += 1\n",
        "      if char == ' ' or char == '.':\n",
        "        output.append(my_str[first_index:last_index-1]) \n",
        "        first_index = last_index     \n",
        "    reverse_output = output[::-1]\n",
        "    reverse_string = \"\"\n",
        "    for words in reverse_output:\n",
        "      reverse_string += words  \n",
        "      reverse_string += \" \"  \n",
        "    print(reverse_string)\n",
        "    ####################################################################\n",
        "    toContinue = input(\"Do you want to continue (Y/N)?? \")\n",
        "    toContinue = toContinue.upper()\n",
        "    if (toContinue == \"Y\"):\n",
        "      continue\n",
        "    else:\n",
        "      print(\"Exiting Program - Thank you !!\")\n",
        "      break\n",
        "    ####################################################################\n",
        "  except:\n",
        "    print(\"Enter a valid string!!!\")\n",
        "    toContinue = input(\"Do you want to continue (Y/N)?? \")\n",
        "    toContinue = toContinue.upper()\n",
        "    if (toContinue == \"Y\"):\n",
        "      continue\n",
        "    else:\n",
        "      print(\"Exiting Program - Thank you !!\")\n",
        "      break"
      ],
      "metadata": {
        "colab": {
          "base_uri": "https://localhost:8080/"
        },
        "id": "0OO-Xsxz-TJF",
        "outputId": "737aaf4f-e083-47fd-963f-f006ce2e956d"
      },
      "execution_count": null,
      "outputs": [
        {
          "output_type": "stream",
          "name": "stdout",
          "text": [
            "Program to output a sentence as list of words in that string in reverse order using loop-Using append method\n",
            "Enter a string: Program to output a sentence as list of words in that string in reverse order.\n",
            "order reverse in string that in words of list as sentence a output to Program \n",
            "Do you want to continue (Y/N)?? n\n",
            "Exiting Program - Thank you !!\n"
          ]
        }
      ]
    },
    {
      "cell_type": "markdown",
      "source": [
        "# 2 - Without using append method "
      ],
      "metadata": {
        "id": "iIxEHNf0FEDx"
      }
    },
    {
      "cell_type": "code",
      "source": [
        "print(\"Program to output a sentence in reverse order using loop-Without using append method\")\n",
        "while(True):\n",
        "  try:\n",
        "    ####################################################################\n",
        "    my_str = input(\"Enter a string: \")\n",
        "    output = []\n",
        "    first_index = 0\n",
        "    last_index = 0\n",
        "    for char in my_str:\n",
        "      last_index += 1\n",
        "      if char == ' ' or char == '.':\n",
        "        output = output + [my_str[first_index:last_index-1]] \n",
        "        first_index = last_index      \n",
        "    \n",
        "    reverse_output = output[::-1]\n",
        "    reverse_string = \"\"\n",
        "    for words in reverse_output:\n",
        "      reverse_string += words  \n",
        "      reverse_string += \" \"  \n",
        "    print(reverse_string)\n",
        "    ####################################################################\n",
        "    toContinue = input(\"Do you want to continue (Y/N)?? \")\n",
        "    toContinue = toContinue.upper()\n",
        "    if (toContinue == \"Y\"):\n",
        "      continue\n",
        "    else:\n",
        "      print(\"Exiting Program - Thank you !!\")\n",
        "      break\n",
        "    ####################################################################\n",
        "  except:\n",
        "    print(\"Enter a valid string!!!\")\n",
        "    toContinue = input(\"Do you want to continue (Y/N)?? \")\n",
        "    toContinue = toContinue.upper()\n",
        "    if (toContinue == \"Y\"):\n",
        "      continue\n",
        "    else:\n",
        "      print(\"Exiting Program - Thank you !!\")\n",
        "      break"
      ],
      "metadata": {
        "id": "3ZHjmCk4dGq8",
        "colab": {
          "base_uri": "https://localhost:8080/"
        },
        "outputId": "872c1f32-2ce1-4162-b959-a29aff932865"
      },
      "execution_count": null,
      "outputs": [
        {
          "output_type": "stream",
          "name": "stdout",
          "text": [
            "Program to output a sentence as list of words in that string in reverse order using loop-Without using append method\n",
            "Enter a string: peter piper picked a peck of pickled peppers.\n",
            "peppers pickled of peck a picked piper peter \n",
            "Do you want to continue (Y/N)?? n\n",
            "Exiting Program - Thank you !!\n"
          ]
        }
      ]
    },
    {
      "cell_type": "markdown",
      "source": [
        "# Q. Write a python program to find below output using loop:-\n",
        "# Input:- 'peter piper picked a peck of pickled peppers.'\n",
        "# Output:- '.sreppep delkcip fo kcep a dekcip repip retep'"
      ],
      "metadata": {
        "id": "-ys-oVAgIK6o"
      }
    },
    {
      "cell_type": "code",
      "source": [
        "print(\"Program to output a sentence in reverse order also with words reversed including full-stop using loop-Without using append method\")\n",
        "while(True):\n",
        "  try:\n",
        "    ####################################################################\n",
        "    my_str = input(\"Enter a string: \")\n",
        "    output = []\n",
        "    first_index = 0\n",
        "    last_index = 0\n",
        "    for char in my_str:\n",
        "      last_index += 1\n",
        "      if char == ' ' :\n",
        "        output = output + [my_str[first_index:last_index-1]] \n",
        "        first_index = last_index      \n",
        "    output = output + [my_str[first_index:last_index]] \n",
        "    reverse_output = output[::-1]\n",
        "    reverse_string = \"\"\n",
        "    for words in reverse_output:\n",
        "      reverse_string += words[::-1]  \n",
        "      reverse_string += \" \"  \n",
        "    print(reverse_string)\n",
        "    ####################################################################\n",
        "    toContinue = input(\"Do you want to continue (Y/N)?? \")\n",
        "    toContinue = toContinue.upper()\n",
        "    if (toContinue == \"Y\"):\n",
        "      continue\n",
        "    else:\n",
        "      print(\"Exiting Program - Thank you !!\")\n",
        "      break\n",
        "    ####################################################################\n",
        "  except:\n",
        "    print(\"Enter a valid string!!!\")\n",
        "    toContinue = input(\"Do you want to continue (Y/N)?? \")\n",
        "    toContinue = toContinue.upper()\n",
        "    if (toContinue == \"Y\"):\n",
        "      continue\n",
        "    else:\n",
        "      print(\"Exiting Program - Thank you !!\")\n",
        "      break"
      ],
      "metadata": {
        "id": "hLCHek_de9wE",
        "colab": {
          "base_uri": "https://localhost:8080/"
        },
        "outputId": "d8e026fc-e7c5-47c3-bab4-cee765e489bd"
      },
      "execution_count": null,
      "outputs": [
        {
          "output_type": "stream",
          "name": "stdout",
          "text": [
            "Program to output a sentence in reverse order also with words revered including full-stop using loop-Without using append method\n",
            "Enter a string: peter piper picked a peck of pickled peppers.\n",
            ".sreppep delkcip fo kcep a dekcip repip retep \n",
            "Do you want to continue (Y/N)?? n\n",
            "Exiting Program - Thank you !!\n"
          ]
        }
      ]
    },
    {
      "cell_type": "markdown",
      "source": [
        "# Q. Write a python program to find below output using loop:-\n",
        "# Input:- 'peter piper picked a peck of pickled peppers.'\n",
        "# Output:- 'retep repip dekcip a kcep fo delkcip sreppep'"
      ],
      "metadata": {
        "id": "eTJ7MVviKpZQ"
      }
    },
    {
      "cell_type": "code",
      "source": [
        "print(\"Program to output a sentence with words in reverse order excluding full-stop using loop-Without using append method\")\n",
        "while(True):\n",
        "  try:\n",
        "    ####################################################################\n",
        "    my_str = input(\"Enter a string: \")\n",
        "    output = []\n",
        "    first_index = 0\n",
        "    last_index = 0\n",
        "    for char in my_str:\n",
        "      last_index += 1\n",
        "      if char == ' ' or char == '.' :\n",
        "        output = output + [my_str[first_index:last_index-1]] \n",
        "        first_index = last_index      \n",
        "    \n",
        "    reverse_string = \"\"\n",
        "    for words in output:\n",
        "      reverse_string += words[::-1]  \n",
        "      reverse_string += \" \"  \n",
        "    print(reverse_string)\n",
        "    ####################################################################\n",
        "    toContinue = input(\"Do you want to continue (Y/N)?? \")\n",
        "    toContinue = toContinue.upper()\n",
        "    if (toContinue == \"Y\"):\n",
        "      continue\n",
        "    else:\n",
        "      print(\"Exiting Program - Thank you !!\")\n",
        "      break\n",
        "    ####################################################################\n",
        "  except:\n",
        "    print(\"Enter a valid string!!!\")\n",
        "    toContinue = input(\"Do you want to continue (Y/N)?? \")\n",
        "    toContinue = toContinue.upper()\n",
        "    if (toContinue == \"Y\"):\n",
        "      continue\n",
        "    else:\n",
        "      print(\"Exiting Program - Thank you !!\")\n",
        "      break"
      ],
      "metadata": {
        "colab": {
          "base_uri": "https://localhost:8080/"
        },
        "id": "Hh_bxnKuJy6Q",
        "outputId": "121e8bf2-7731-4ebb-fc98-31576021f3ea"
      },
      "execution_count": null,
      "outputs": [
        {
          "output_type": "stream",
          "name": "stdout",
          "text": [
            "Program to output a sentence with words in reverse order excluding full-stop using loop-Without using append method\n",
            "Enter a string: peter piper picked a peck of pickled peppers.\n",
            "retep repip dekcip a kcep fo delkcip sreppep \n",
            "Do you want to continue (Y/N)?? n\n",
            "Exiting Program - Thank you !!\n"
          ]
        }
      ]
    },
    {
      "cell_type": "markdown",
      "source": [
        "# Q. Write a python program to find below output using loop:-\n",
        "# Input:- 'peter piper picked a peck of pickled peppers.'\n",
        "# Output:- 'Peter Piper Picked A Peck Of Pickled Peppers'"
      ],
      "metadata": {
        "id": "4AkDTcKWL155"
      }
    },
    {
      "cell_type": "markdown",
      "source": [
        "# 1 - Using Capitalize method"
      ],
      "metadata": {
        "id": "W8Ob1PnEPGdz"
      }
    },
    {
      "cell_type": "code",
      "source": [
        "print(\"Program to output a sentence with first leter of each word 'captialized' using loop-Using captialize method\")\n",
        "while(True):\n",
        "  try:\n",
        "    ####################################################################\n",
        "    my_str = input(\"Enter a string: \")\n",
        "    output = []\n",
        "    first_index = 0\n",
        "    last_index = 0\n",
        "    for char in my_str:\n",
        "      last_index += 1\n",
        "      if char == ' ' or char == '.' :\n",
        "        output = output + [my_str[first_index:last_index-1]] \n",
        "        first_index = last_index      \n",
        "    \n",
        "    output_string = \"\"\n",
        "    for words in output:\n",
        "      output_string += words.capitalize() \n",
        "      output_string += \" \"  \n",
        "    print(output_string)\n",
        "    ####################################################################\n",
        "    toContinue = input(\"Do you want to continue (Y/N)?? \")\n",
        "    toContinue = toContinue.upper()\n",
        "    if (toContinue == \"Y\"):\n",
        "      continue\n",
        "    else:\n",
        "      print(\"Exiting Program - Thank you !!\")\n",
        "      break\n",
        "    ####################################################################\n",
        "  except:\n",
        "    print(\"Enter a valid string!!!\")\n",
        "    toContinue = input(\"Do you want to continue (Y/N)?? \")\n",
        "    toContinue = toContinue.upper()\n",
        "    if (toContinue == \"Y\"):\n",
        "      continue\n",
        "    else:\n",
        "      print(\"Exiting Program - Thank you !!\")\n",
        "      break"
      ],
      "metadata": {
        "colab": {
          "base_uri": "https://localhost:8080/"
        },
        "id": "ZmFZJE6BLrk8",
        "outputId": "f8b8211f-0019-4442-e43e-fb3b51da126b"
      },
      "execution_count": null,
      "outputs": [
        {
          "output_type": "stream",
          "name": "stdout",
          "text": [
            "Program to output a sentence with first leter of each word 'captialized' using loop-Using captialize method\n",
            "Enter a string: peter piper picked a peck of pickled peppers.\n",
            "Peter Piper Picked A Peck Of Pickled Peppers \n",
            "Do you want to continue (Y/N)?? n\n",
            "Exiting Program - Thank you !!\n"
          ]
        }
      ]
    },
    {
      "cell_type": "markdown",
      "source": [
        "# 2 - Without using capitalize method"
      ],
      "metadata": {
        "id": "kLl1JBUuPRn3"
      }
    },
    {
      "cell_type": "code",
      "source": [
        "print(\"Program to output a sentence with first letter of each word 'captialized' using loop-Without Using captialize method\")\n",
        "while(True):\n",
        "  try:\n",
        "    ####################################################################\n",
        "    my_str = input(\"Enter a string: \")\n",
        "    output = []\n",
        "    first_index = 0\n",
        "    last_index = 0\n",
        "    for char in my_str:\n",
        "      last_index += 1\n",
        "      if char == ' ' or char == '.' :\n",
        "        output = output + [my_str[first_index:last_index-1]] \n",
        "        first_index = last_index      \n",
        "    \n",
        "    outputString = \"\"\n",
        "    for words in output:\n",
        "      if ord(words[0]) >= 97:\n",
        "        capitalLetter = chr(ord(words[0]) - 32)\n",
        "        outputString += capitalLetter\n",
        "        outputString += words[1::]\n",
        "        outputString += \" \"  \n",
        "    print(outputString)\n",
        "    ####################################################################\n",
        "    toContinue = input(\"Do you want to continue (Y/N)?? \")\n",
        "    toContinue = toContinue.upper()\n",
        "    if (toContinue == \"Y\"):\n",
        "      continue\n",
        "    else:\n",
        "      print(\"Exiting Program - Thank you !!\")\n",
        "      break\n",
        "    ####################################################################\n",
        "  except:\n",
        "    print(\"Enter a valid string!!!\")\n",
        "    toContinue = input(\"Do you want to continue (Y/N)?? \")\n",
        "    toContinue = toContinue.upper()\n",
        "    if (toContinue == \"Y\"):\n",
        "      continue\n",
        "    else:\n",
        "      print(\"Exiting Program - Thank you !!\")\n",
        "      break"
      ],
      "metadata": {
        "colab": {
          "base_uri": "https://localhost:8080/"
        },
        "id": "duOcAojsOBsE",
        "outputId": "925f805d-2647-4f92-a309-ba4b0ca25527"
      },
      "execution_count": null,
      "outputs": [
        {
          "output_type": "stream",
          "name": "stdout",
          "text": [
            "Program to output a sentence with first leter of each word 'captialized' using loop-Without Using captialize method\n",
            "Enter a string: peter piper picked a peck of pickled peppers.\n",
            "Peter Piper Picked A Peck Of Pickled Peppers \n",
            "Do you want to continue (Y/N)?? n\n",
            "Exiting Program - Thank you !!\n"
          ]
        }
      ]
    },
    {
      "cell_type": "markdown",
      "source": [
        "# Q. Write a python program to find below output using loop:-\n",
        "# Input:- 'Peter Piper Picked A Peck Of Pickled Peppers.'\n",
        "# Output:- 'Peter piper picked a peck of pickled peppers'"
      ],
      "metadata": {
        "id": "vgkRPeUrUJcd"
      }
    },
    {
      "cell_type": "code",
      "source": [
        "print(\"Program to output a sentence with first letter of first word 'captialized' using loop\")\n",
        "while(True):\n",
        "  try:\n",
        "    ####################################################################\n",
        "    my_str = input(\"Enter a string: \")\n",
        "    output = []\n",
        "    first_index = 0\n",
        "    last_index = 0\n",
        "    for char in my_str:\n",
        "      last_index += 1\n",
        "      if char == ' ' or char == '.' :\n",
        "        output = output + [my_str[first_index:last_index-1]] \n",
        "        first_index = last_index      \n",
        "    \n",
        "    outputString = \"\"\n",
        "    totalWords = 0\n",
        "    for words in output:\n",
        "      totalWords += 1      \n",
        "      if ( (ord(words[0]) >= 97) and (totalWords == 1) ):        \n",
        "        capitalLetter = chr(ord(words[0]) - 32)\n",
        "        outputString += capitalLetter\n",
        "        outputString += words[1::]\n",
        "        outputString += \" \"  \n",
        "      elif ( (ord(words[0]) < 97) and (totalWords != 1) ):\n",
        "        capitalLetter = chr(ord(words[0]) + 32)\n",
        "        outputString += capitalLetter\n",
        "        outputString += words[1::]\n",
        "        outputString += \" \" \n",
        "      else:\n",
        "        outputString += words\n",
        "        outputString += \" \"\n",
        "\n",
        "    print(outputString)\n",
        "    ####################################################################\n",
        "    toContinue = input(\"Do you want to continue (Y/N)?? \")\n",
        "    toContinue = toContinue.upper()\n",
        "    if (toContinue == \"Y\"):\n",
        "      continue\n",
        "    else:\n",
        "      print(\"Exiting Program - Thank you !!\")\n",
        "      break\n",
        "    ####################################################################\n",
        "  except:\n",
        "    print(\"Enter a valid string!!!\")\n",
        "    toContinue = input(\"Do you want to continue (Y/N)?? \")\n",
        "    toContinue = toContinue.upper()\n",
        "    if (toContinue == \"Y\"):\n",
        "      continue\n",
        "    else:\n",
        "      print(\"Exiting Program - Thank you !!\")\n",
        "      break"
      ],
      "metadata": {
        "colab": {
          "base_uri": "https://localhost:8080/"
        },
        "id": "XahcJc7fR2BS",
        "outputId": "16ebb0d7-242c-4a6d-d3e3-e5cc59ae4462"
      },
      "execution_count": null,
      "outputs": [
        {
          "output_type": "stream",
          "name": "stdout",
          "text": [
            "Program to output a sentence with first letter of first word 'captialized' using loop\n",
            "Enter a string: Peter Piper Picked A Peck Of Pickled Peppers.\n",
            "Peter piper picked a peck of pickled peppers \n",
            "Do you want to continue (Y/N)?? n\n",
            "Exiting Program - Thank you !!\n"
          ]
        }
      ]
    },
    {
      "cell_type": "markdown",
      "source": [
        "# Q. Write a python program to implement index method using loop. If sub_str is found in my_str then it will print the index of first occurrence of first character of matching string in my_str:-\n",
        "# Input:- my_str = 'Peter Piper Picked A Peck Of Pickled Peppers.' ,\n",
        "# sub_str = 'Pickl'\n",
        "# Output:- 29"
      ],
      "metadata": {
        "id": "nBmAy47kdrCC"
      }
    },
    {
      "cell_type": "code",
      "source": [
        "print(\"Program to implement index method using loop\")\n",
        "while(True):\n",
        "  try:\n",
        "    ####################################################################\n",
        "    my_str = input(\"Enter a string: \")\n",
        "    sub_str = input(\"Enter a substring: \")\n",
        "    lenOfSubStr = len(sub_str)\n",
        "    \n",
        "    for index in range(len(my_str)):\n",
        "      # print(my_str[index:index+lenOfSubStr])\n",
        "      if my_str[index:index+lenOfSubStr] == sub_str:\n",
        "        print(f\"Index of the first occurrence of sub-string is {index}\")\n",
        "        break\n",
        "    ####################################################################\n",
        "    toContinue = input(\"Do you want to continue (Y/N)?? \")\n",
        "    toContinue = toContinue.upper()\n",
        "    if (toContinue == \"Y\"):\n",
        "      continue\n",
        "    else:\n",
        "      print(\"Exiting Program - Thank you !!\")\n",
        "      break\n",
        "    ####################################################################\n",
        "  except:\n",
        "    print(\"Enter a valid string!!!\")\n",
        "    toContinue = input(\"Do you want to continue (Y/N)?? \")\n",
        "    toContinue = toContinue.upper()\n",
        "    if (toContinue == \"Y\"):\n",
        "      continue\n",
        "    else:\n",
        "      print(\"Exiting Program - Thank you !!\")\n",
        "      break"
      ],
      "metadata": {
        "colab": {
          "base_uri": "https://localhost:8080/"
        },
        "id": "OZMgG23VSGIh",
        "outputId": "055d122a-3f31-41c3-f73f-89a18ce46ee7"
      },
      "execution_count": null,
      "outputs": [
        {
          "output_type": "stream",
          "name": "stdout",
          "text": [
            "Program to implement index method using loop\n",
            "Enter a string: Peter Piper Picked A Peck Of Pickled Peppers.\n",
            "Enter a substring: Pickl\n",
            "Peter\n",
            "eter \n",
            "ter P\n",
            "er Pi\n",
            "r Pip\n",
            " Pipe\n",
            "Piper\n",
            "iper \n",
            "per P\n",
            "er Pi\n",
            "r Pic\n",
            " Pick\n",
            "Picke\n",
            "icked\n",
            "cked \n",
            "ked A\n",
            "ed A \n",
            "d A P\n",
            " A Pe\n",
            "A Pec\n",
            " Peck\n",
            "Peck \n",
            "eck O\n",
            "ck Of\n",
            "k Of \n",
            " Of P\n",
            "Of Pi\n",
            "f Pic\n",
            " Pick\n",
            "Pickl\n",
            "Index of the first occurrence of sub-string is 29\n",
            "Do you want to continue (Y/N)?? y\n",
            "Enter a string: Program to implement index method using loop\n",
            "Enter a substring: lem\n",
            "Pro\n",
            "rog\n",
            "ogr\n",
            "gra\n",
            "ram\n",
            "am \n",
            "m t\n",
            " to\n",
            "to \n",
            "o i\n",
            " im\n",
            "imp\n",
            "mpl\n",
            "ple\n",
            "lem\n",
            "Index of the first occurrence of sub-string is 14\n",
            "Do you want to continue (Y/N)?? n\n",
            "Exiting Program - Thank you !!\n"
          ]
        }
      ]
    },
    {
      "cell_type": "markdown",
      "source": [
        "# Q. Write a python program to implement replace method using loop. If sub_str is found in my_str then it will replace the first occurrence of sub_str with new_str else it will will print sub_str not found:-\n",
        "# Input:- my_str = 'Peter Piper Picked A Peck Of Pickled Peppers.' ,\n",
        "# sub_str = 'Peck' , new_str = 'Pack'\n",
        "# Output:- 'Peter Piper Picked A Pack Of Pickled Peppers.'"
      ],
      "metadata": {
        "id": "3laTipViiZcJ"
      }
    },
    {
      "cell_type": "code",
      "source": [
        "print(\"Program to implement replace method using loop\")\n",
        "while(True):\n",
        "  try:\n",
        "    ####################################################################\n",
        "    my_str = input(\"Enter a string: \")\n",
        "    sub_str = input(\"Enter a substring: \")\n",
        "    new_str = input(\"Enter a new substring: \")\n",
        "    outputString = \"\"\n",
        "    lenOfSubStr = len(sub_str)\n",
        "    subStrFound = False\n",
        "    for index in range(len(my_str)):\n",
        "      # print(my_str[index:index+lenOfSubStr])\n",
        "      if my_str[index:index+lenOfSubStr] == sub_str:        \n",
        "        subStrFound = True\n",
        "        outputString = my_str[0:index]        \n",
        "        outputString += new_str        \n",
        "        outputString += my_str[index+len(new_str):]        \n",
        "        break\n",
        "    if subStrFound == False:\n",
        "      print(\"Substring not found !!!\")\n",
        "    else:\n",
        "      print(\"Output:- \"+outputString)\n",
        "    ####################################################################\n",
        "    toContinue = input(\"Do you want to continue (Y/N)?? \")\n",
        "    toContinue = toContinue.upper()\n",
        "    if (toContinue == \"Y\"):\n",
        "      continue\n",
        "    else:\n",
        "      print(\"Exiting Program - Thank you !!\")\n",
        "      break\n",
        "    ####################################################################\n",
        "  except:\n",
        "    print(\"Enter a valid string!!!\")\n",
        "    toContinue = input(\"Do you want to continue (Y/N)?? \")\n",
        "    toContinue = toContinue.upper()\n",
        "    if (toContinue == \"Y\"):\n",
        "      continue\n",
        "    else:\n",
        "      print(\"Exiting Program - Thank you !!\")\n",
        "      break"
      ],
      "metadata": {
        "colab": {
          "base_uri": "https://localhost:8080/"
        },
        "id": "AEU-mXxXar20",
        "outputId": "31d4fa4e-d067-41d4-8620-c06a0fe2a658"
      },
      "execution_count": null,
      "outputs": [
        {
          "output_type": "stream",
          "name": "stdout",
          "text": [
            "Program to implement replace method using loop\n",
            "Enter a string: Peter Piper Picked A Peck Of Pickled Peppers\n",
            "Enter a substring: Peck\n",
            "Enter a new substring: Pack\n",
            "Peter Piper Picked A \n",
            "Peter Piper Picked A Pack\n",
            "Output:- Peter Piper Picked A Pack Of Pickled Peppers\n",
            "Do you want to continue (Y/N)?? Y\n",
            "Enter a string: Peter Piper Picked A Peck Of Pickled Peppers.\n",
            "Enter a substring: Pick\n",
            "Enter a new substring: show\n",
            "Peter Piper \n",
            "Peter Piper show\n",
            "Output:- Peter Piper showed A Peck Of Pickled Peppers.\n",
            "Do you want to continue (Y/N)?? n\n",
            "Exiting Program - Thank you !!\n"
          ]
        }
      ]
    },
    {
      "cell_type": "markdown",
      "source": [
        "# Q. Write a python program to find below output (implements rjust and ljust) using loop:-\n",
        "# Input:- 'Peter Piper Picked A Peck Of Pickled Peppers.', \n",
        "# sub_str = 'Peck' ,\n",
        "# Output:- '*********************Peck********************'"
      ],
      "metadata": {
        "id": "m1JNkq3Nnugt"
      }
    },
    {
      "cell_type": "code",
      "source": [
        "print(\"Program to implement rjust and ljust methods using loop\")\n",
        "while(True):\n",
        "  try:\n",
        "    ####################################################################\n",
        "    my_str = input(\"Enter a string: \")\n",
        "    sub_str = input(\"Enter a substring: \")    \n",
        "    outputStr = \"\"\n",
        "    lenOfStr = len(my_str)\n",
        "    lenOfSubStr = len(sub_str)\n",
        "    subStrFound = False\n",
        "    for index in range(len(my_str)):\n",
        "      # print(my_str[index:index+lenOfSubStr])\n",
        "      if my_str[index:index+lenOfSubStr] == sub_str:        \n",
        "        subStrFound = True      \n",
        "        for cnt in range(index):          \n",
        "          outputStr += \"*\"                         \n",
        "        outputStr += sub_str\n",
        "        afterIndex = index + lenOfSubStr        \n",
        "        break\n",
        "    for cnt in range(afterIndex,lenOfStr,1):\n",
        "      outputStr += \"*\"      \n",
        "    if subStrFound == False:\n",
        "      print(\"Substring not found !!!\")\n",
        "    else:\n",
        "      print(\"I/P:- \"+my_str)\n",
        "      print(\"O/P:- \"+outputStr)\n",
        "    ####################################################################\n",
        "    toContinue = input(\"Do you want to continue (Y/N)?? \")\n",
        "    toContinue = toContinue.upper()\n",
        "    if (toContinue == \"Y\"):\n",
        "      continue\n",
        "    else:\n",
        "      print(\"Exiting Program - Thank you !!\")\n",
        "      break\n",
        "    ####################################################################\n",
        "  except:\n",
        "    print(\"Enter a valid string!!!\")\n",
        "    toContinue = input(\"Do you want to continue (Y/N)?? \")\n",
        "    toContinue = toContinue.upper()\n",
        "    if (toContinue == \"Y\"):\n",
        "      continue\n",
        "    else:\n",
        "      print(\"Exiting Program - Thank you !!\")\n",
        "      break"
      ],
      "metadata": {
        "colab": {
          "base_uri": "https://localhost:8080/"
        },
        "id": "cQL7rvv6mBvQ",
        "outputId": "4c9a4cbe-0af4-4325-9880-0b92e2d14ce9"
      },
      "execution_count": null,
      "outputs": [
        {
          "output_type": "stream",
          "name": "stdout",
          "text": [
            "Program to implement rjust and ljust methods using loop\n",
            "Enter a string: Peter Piper Picked A Peck Of Pickled Peppers.\n",
            "Enter a substring: Peck\n",
            "25\n",
            "I/P:- Peter Piper Picked A Peck Of Pickled Peppers.\n",
            "O/P:- *********************Peck********************\n",
            "Do you want to continue (Y/N)?? y\n",
            "Enter a string: Peter Piper Picked A Peck Of Pickled Peppers.\n",
            "Enter a substring: Piper\n",
            "11\n",
            "I/P:- Peter Piper Picked A Peck Of Pickled Peppers.\n",
            "O/P:- ******Piper**********************************\n",
            "Do you want to continue (Y/N)?? n\n",
            "Exiting Program - Thank you !!\n"
          ]
        }
      ]
    },
    {
      "cell_type": "markdown",
      "source": [
        "# Q. Write a python program to find below output using loop:-\n",
        "# Input:- 'This is Python class' , sep = ' is' ,\n",
        "# Output:- [ 'This' , 'is' , 'Python class' ]"
      ],
      "metadata": {
        "id": "5JbCXMYR78Ag"
      }
    },
    {
      "cell_type": "code",
      "source": [
        "print(\"Program to find below output using loop\")\n",
        "print(\"Input:- 'This is Python class' , sep = ' is'\")\n",
        "print(\"Output:- [ 'This' , 'is' , 'Python class' ]\")\n",
        "while(True):\n",
        "  try:\n",
        "    ####################################################################\n",
        "    my_str = input(\"Enter a string: \")\n",
        "    sepStr = input(\"Enter a separation string: \")\n",
        "    outputList = []\n",
        "    lenOfSubStr = len(sepStr)\n",
        "    outputString = \"\"\n",
        "\n",
        "    for index in range(len(my_str)):      \n",
        "      if my_str[index:index+lenOfSubStr] == sepStr:\n",
        "        outputString = my_str[0:index+lenOfSubStr]        \n",
        "        first_index = 0\n",
        "        last_index = 0        \n",
        "        for char in outputString:\n",
        "          last_index += 1          \n",
        "          if char == ' ':                      \n",
        "            outputList = outputList + [outputString[first_index:last_index-1]] \n",
        "            first_index = last_index            \n",
        "            \n",
        "        outputList = outputList + [outputString[first_index:last_index]]\n",
        "        print(outputString,outputList) \n",
        "        outputList = outputList + [my_str[last_index+1:]]\n",
        "        print(outputString,outputList)     \n",
        "        break\n",
        "    #print(outputList)\n",
        "    ####################################################################\n",
        "    toContinue = input(\"Do you want to continue (Y/N)?? \")\n",
        "    toContinue = toContinue.upper()\n",
        "    if (toContinue == \"Y\"):\n",
        "      continue\n",
        "    else:\n",
        "      print(\"Exiting Program - Thank you !!\")\n",
        "      break\n",
        "    ####################################################################\n",
        "  except:\n",
        "    print(\"Enter a valid string!!!\")\n",
        "    toContinue = input(\"Do you want to continue (Y/N)?? \")\n",
        "    toContinue = toContinue.upper()\n",
        "    if (toContinue == \"Y\"):\n",
        "      continue\n",
        "    else:\n",
        "      print(\"Exiting Program - Thank you !!\")\n",
        "      break"
      ],
      "metadata": {
        "colab": {
          "base_uri": "https://localhost:8080/"
        },
        "id": "brEWGBTjxyYf",
        "outputId": "6986cd9a-b9fb-424e-a9ae-b70bd1023032"
      },
      "execution_count": null,
      "outputs": [
        {
          "output_type": "stream",
          "name": "stdout",
          "text": [
            "Program to find below output using loop\n",
            "Input:- 'This is Python class' , sep = ' is'\n",
            "Output:- [ 'This' , 'is' , 'Python class' ]\n",
            "Enter a string: This is Python class\n",
            "Enter a separation string:  is\n",
            "This is ['This', 'is']\n",
            "This is ['This', 'is', 'Python class']\n",
            "Do you want to continue (Y/N)?? y\n",
            "Enter a string: Program to find below output using loop\n",
            "Enter a separation string: fi\n",
            "Program to fi ['Program', 'to', 'fi']\n",
            "Program to fi ['Program', 'to', 'fi', 'd below output using loop']\n",
            "Do you want to continue (Y/N)?? y\n",
            "Enter a string: Program to find below output using loop\n",
            "Enter a separation string: to\n",
            "Program to ['Program', 'to']\n",
            "Program to ['Program', 'to', 'find below output using loop']\n",
            "Do you want to continue (Y/N)?? n\n",
            "Exiting Program - Than k you !!\n"
          ]
        }
      ]
    },
    {
      "cell_type": "code",
      "source": [],
      "metadata": {
        "id": "3_1oFO0cpK1z"
      },
      "execution_count": null,
      "outputs": []
    }
  ]
}