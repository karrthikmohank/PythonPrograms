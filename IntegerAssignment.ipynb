{
  "nbformat": 4,
  "nbformat_minor": 0,
  "metadata": {
    "colab": {
      "provenance": [],
      "collapsed_sections": [],
      "authorship_tag": "ABX9TyNassVvKShbQ7ijLaCcLOEK",
      "include_colab_link": true
    },
    "kernelspec": {
      "name": "python3",
      "display_name": "Python 3"
    },
    "language_info": {
      "name": "python"
    }
  },
  "cells": [
    {
      "cell_type": "markdown",
      "metadata": {
        "id": "view-in-github",
        "colab_type": "text"
      },
      "source": [
        "<a href=\"https://colab.research.google.com/github/karrthikmohank/PythonPrograms/blob/main/IntegerAssignment.ipynb\" target=\"_parent\"><img src=\"https://colab.research.google.com/assets/colab-badge.svg\" alt=\"Open In Colab\"/></a>"
      ]
    },
    {
      "cell_type": "markdown",
      "source": [
        "# Q. Declare an int value and store it in a variable.\n",
        "# Check the type and print the id of the same."
      ],
      "metadata": {
        "id": "cxboUodgD0ET"
      }
    },
    {
      "cell_type": "code",
      "execution_count": null,
      "metadata": {
        "id": "m7AEhN_lCuNK"
      },
      "outputs": [],
      "source": [
        "a = 7"
      ]
    },
    {
      "cell_type": "code",
      "source": [
        "print(type(a))"
      ],
      "metadata": {
        "colab": {
          "base_uri": "https://localhost:8080/"
        },
        "id": "FGq0sk7OD5Wu",
        "outputId": "4c8f1c46-68d8-46a8-e906-0ac22a1d7f85"
      },
      "execution_count": null,
      "outputs": [
        {
          "output_type": "stream",
          "name": "stdout",
          "text": [
            "<class 'int'>\n"
          ]
        }
      ]
    },
    {
      "cell_type": "code",
      "source": [
        "print(id(a))"
      ],
      "metadata": {
        "colab": {
          "base_uri": "https://localhost:8080/"
        },
        "id": "X9xM2WfJES6h",
        "outputId": "058c197a-956e-45e3-e72b-ca8f3f8a13ff"
      },
      "execution_count": null,
      "outputs": [
        {
          "output_type": "stream",
          "name": "stdout",
          "text": [
            "11256256\n"
          ]
        }
      ]
    },
    {
      "cell_type": "markdown",
      "source": [
        "# Q. Take one int value between 0 - 256.\n",
        "# Assign it to two different variables.\n",
        "# Check the id of both the variables. It should come the same. Check why?"
      ],
      "metadata": {
        "id": "3GRdYJIBEk6B"
      }
    },
    {
      "cell_type": "code",
      "source": [
        "b = 10"
      ],
      "metadata": {
        "id": "MG6EfYIlEWVR"
      },
      "execution_count": null,
      "outputs": []
    },
    {
      "cell_type": "code",
      "source": [
        "c = 10"
      ],
      "metadata": {
        "id": "7LCEAnmqEyJX"
      },
      "execution_count": null,
      "outputs": []
    },
    {
      "cell_type": "code",
      "source": [
        "print(id(b))"
      ],
      "metadata": {
        "colab": {
          "base_uri": "https://localhost:8080/"
        },
        "id": "ROuKQHXbEy_o",
        "outputId": "d3116ea7-999f-4ed2-8e0d-c045fce15266"
      },
      "execution_count": null,
      "outputs": [
        {
          "output_type": "stream",
          "name": "stdout",
          "text": [
            "11256352\n"
          ]
        }
      ]
    },
    {
      "cell_type": "code",
      "source": [
        "print(id(c))"
      ],
      "metadata": {
        "colab": {
          "base_uri": "https://localhost:8080/"
        },
        "id": "DH_LNt8kE1ss",
        "outputId": "d48b1515-55c9-4755-83f9-751616989f77"
      },
      "execution_count": null,
      "outputs": [
        {
          "output_type": "stream",
          "name": "stdout",
          "text": [
            "11256352\n"
          ]
        }
      ]
    },
    {
      "cell_type": "markdown",
      "source": [
        "## Python preloads a list of integers [-5 to 256] into the memory. Anytime we create an integer objects which is in this range, Python uses the pre-loaded/cached version of that integer instead of creating a new object. "
      ],
      "metadata": {
        "id": "YvBjZCMKKB5O"
      }
    },
    {
      "cell_type": "markdown",
      "source": [
        "# Q. Take one int value either less than -5 or greater than 256.\n",
        "# Assign it to two different variables.\n",
        "# Check the id of both the variables. It should come different.Check why?"
      ],
      "metadata": {
        "id": "KirooSbJJCLV"
      }
    },
    {
      "cell_type": "code",
      "source": [
        "d = 500"
      ],
      "metadata": {
        "id": "96O2L0q9E52T"
      },
      "execution_count": null,
      "outputs": []
    },
    {
      "cell_type": "code",
      "source": [
        "e = 500"
      ],
      "metadata": {
        "id": "9Xxzvuo0JOC5"
      },
      "execution_count": null,
      "outputs": []
    },
    {
      "cell_type": "code",
      "source": [
        "print(id(d))"
      ],
      "metadata": {
        "colab": {
          "base_uri": "https://localhost:8080/"
        },
        "id": "PxEKlc6bJQCC",
        "outputId": "af3da6ba-96a9-4a03-f26d-66b6fa067c56"
      },
      "execution_count": null,
      "outputs": [
        {
          "output_type": "stream",
          "name": "stdout",
          "text": [
            "139840742902096\n"
          ]
        }
      ]
    },
    {
      "cell_type": "code",
      "source": [
        "print(id(e))"
      ],
      "metadata": {
        "colab": {
          "base_uri": "https://localhost:8080/"
        },
        "id": "O4jiwnRYJ-RD",
        "outputId": "5a7e27e1-5b3e-46ef-f3ef-849b390a3a78"
      },
      "execution_count": null,
      "outputs": [
        {
          "output_type": "stream",
          "name": "stdout",
          "text": [
            "139840742902576\n"
          ]
        }
      ]
    },
    {
      "cell_type": "markdown",
      "source": [
        "## Python preloads a list of integers [-5 to 256] into the memory. Anytime we create an integer objects which is in this range, Python uses the pre-loaded/cached version of that integer instead of creating a new object. If the integer variable value is less than -5 or greater than 256, then different memory location is allocated for the integer values "
      ],
      "metadata": {
        "id": "7P6I8CDBM3i-"
      }
    },
    {
      "cell_type": "markdown",
      "source": [
        "# Q. Arithmetic Operations on integers\n",
        "# Take two different integer values.\n",
        "# Store them in two different variables.\n",
        "# Do below operations on them:-\n",
        "# Find sum of both numbers\n",
        "# Find difference between them\n",
        "# Find the product of both numbers.\n",
        "# Find value after dividing first num with second number\n",
        "# Find the remainder after dividing first number with second number\n",
        "# Find the quotient after dividing first number with second number\n",
        "# Find the result of the first num to the power of the second number."
      ],
      "metadata": {
        "id": "K0iKcQfISNjt"
      }
    },
    {
      "cell_type": "code",
      "source": [
        "f = 100"
      ],
      "metadata": {
        "id": "3LqNPRw6KI3L"
      },
      "execution_count": null,
      "outputs": []
    },
    {
      "cell_type": "code",
      "source": [
        "g = 200"
      ],
      "metadata": {
        "id": "yJzCAlXvStpS"
      },
      "execution_count": null,
      "outputs": []
    },
    {
      "cell_type": "code",
      "source": [
        "total = f + g"
      ],
      "metadata": {
        "id": "irqEwGHqSvMS"
      },
      "execution_count": null,
      "outputs": []
    },
    {
      "cell_type": "code",
      "source": [
        "print(total)"
      ],
      "metadata": {
        "colab": {
          "base_uri": "https://localhost:8080/"
        },
        "id": "Sr72Po9oSzkX",
        "outputId": "825fed9f-8672-489b-a38a-540e3a56287f"
      },
      "execution_count": null,
      "outputs": [
        {
          "output_type": "stream",
          "name": "stdout",
          "text": [
            "300\n"
          ]
        }
      ]
    },
    {
      "cell_type": "code",
      "source": [
        "diff = g - f"
      ],
      "metadata": {
        "id": "jfiXA7S6S9YI"
      },
      "execution_count": null,
      "outputs": []
    },
    {
      "cell_type": "code",
      "source": [
        "print(diff)"
      ],
      "metadata": {
        "colab": {
          "base_uri": "https://localhost:8080/"
        },
        "id": "ZIteNb4yTFw4",
        "outputId": "bb97f863-16b2-41af-cf34-007ec8a56f53"
      },
      "execution_count": null,
      "outputs": [
        {
          "output_type": "stream",
          "name": "stdout",
          "text": [
            "100\n"
          ]
        }
      ]
    },
    {
      "cell_type": "code",
      "source": [
        "prod = f * g"
      ],
      "metadata": {
        "id": "3SZ1xjxVTG-L"
      },
      "execution_count": null,
      "outputs": []
    },
    {
      "cell_type": "code",
      "source": [
        "print(prod)"
      ],
      "metadata": {
        "colab": {
          "base_uri": "https://localhost:8080/"
        },
        "id": "sqaaiRQ1TKyU",
        "outputId": "a3e91a1f-d12b-484d-dd31-f6a488dde208"
      },
      "execution_count": null,
      "outputs": [
        {
          "output_type": "stream",
          "name": "stdout",
          "text": [
            "20000\n"
          ]
        }
      ]
    },
    {
      "cell_type": "code",
      "source": [
        "div = f / g"
      ],
      "metadata": {
        "id": "VcHf6qiiTNYv"
      },
      "execution_count": null,
      "outputs": []
    },
    {
      "cell_type": "code",
      "source": [
        "print(div)"
      ],
      "metadata": {
        "colab": {
          "base_uri": "https://localhost:8080/"
        },
        "id": "nQQOGbdzTUKu",
        "outputId": "ddd1cea7-a9f8-4a1e-d3da-8262c9ddfc89"
      },
      "execution_count": null,
      "outputs": [
        {
          "output_type": "stream",
          "name": "stdout",
          "text": [
            "0.5\n"
          ]
        }
      ]
    },
    {
      "cell_type": "code",
      "source": [
        "rem = f % g"
      ],
      "metadata": {
        "id": "XSOEyfuATV44"
      },
      "execution_count": null,
      "outputs": []
    },
    {
      "cell_type": "code",
      "source": [
        "print(rem)"
      ],
      "metadata": {
        "colab": {
          "base_uri": "https://localhost:8080/"
        },
        "id": "sU_aQWuKTaas",
        "outputId": "c6a0800b-5a0a-4cd0-c87b-b8e1635f95db"
      },
      "execution_count": null,
      "outputs": [
        {
          "output_type": "stream",
          "name": "stdout",
          "text": [
            "100\n"
          ]
        }
      ]
    },
    {
      "cell_type": "code",
      "source": [
        "quot = f // g"
      ],
      "metadata": {
        "id": "GNE7X2lSTbyl"
      },
      "execution_count": null,
      "outputs": []
    },
    {
      "cell_type": "code",
      "source": [
        "print(quot)"
      ],
      "metadata": {
        "colab": {
          "base_uri": "https://localhost:8080/"
        },
        "id": "8tCdMfevTevq",
        "outputId": "dca6ccfc-ec67-4986-fd7f-e11a8e4cf7b4"
      },
      "execution_count": null,
      "outputs": [
        {
          "output_type": "stream",
          "name": "stdout",
          "text": [
            "2\n"
          ]
        }
      ]
    },
    {
      "cell_type": "code",
      "source": [
        "pow = f ** g"
      ],
      "metadata": {
        "id": "RJxXHkjVTgQJ"
      },
      "execution_count": null,
      "outputs": []
    },
    {
      "cell_type": "code",
      "source": [
        "print(pow)"
      ],
      "metadata": {
        "colab": {
          "base_uri": "https://localhost:8080/"
        },
        "id": "nh9P7fjnTmaq",
        "outputId": "579bc0e9-d49d-433e-cd60-618bdd3c975f"
      },
      "execution_count": null,
      "outputs": [
        {
          "output_type": "stream",
          "name": "stdout",
          "text": [
            "10000000000000000000000000000000000000000000000000000000000000000000000000000000000000000000000000000000000000000000000000000000000000000000000000000000000000000000000000000000000000000000000000000000000000000000000000000000000000000000000000000000000000000000000000000000000000000000000000000000000000000000000000000000000000000000000000000000000000000000000000000000000000000000000000000000000000000\n"
          ]
        }
      ]
    },
    {
      "cell_type": "markdown",
      "source": [
        "# Q. Comparison Operators on integers\n",
        "# Take two different integer values.\n",
        "# Store them in two different variables.\n",
        "# Do below operations on them:-\n",
        "# Compare se two numbers with below operator:-\n",
        "# Greater than, '>'\n",
        "# Smaller than, '<'\n",
        "# Greater than or equal to, '>='\n",
        "# Less than or equal to, '<='\n",
        "# Observe their output(return type should be boolean)"
      ],
      "metadata": {
        "id": "Kuy71L7Cf6O3"
      }
    },
    {
      "cell_type": "code",
      "source": [
        "h = 10"
      ],
      "metadata": {
        "id": "KUIhLPW6Tn1T"
      },
      "execution_count": null,
      "outputs": []
    },
    {
      "cell_type": "code",
      "source": [
        "i = 20"
      ],
      "metadata": {
        "id": "NTofHguHjM1h"
      },
      "execution_count": null,
      "outputs": []
    },
    {
      "cell_type": "code",
      "source": [
        "greaterThan = h > i"
      ],
      "metadata": {
        "id": "FcmFQgKFjO-_"
      },
      "execution_count": null,
      "outputs": []
    },
    {
      "cell_type": "code",
      "source": [
        "lessThan = h < i"
      ],
      "metadata": {
        "id": "E-mT6mKfkbj1"
      },
      "execution_count": null,
      "outputs": []
    },
    {
      "cell_type": "code",
      "source": [
        "greaterEqualTo = h >= i"
      ],
      "metadata": {
        "id": "u7UqMMjAkfi6"
      },
      "execution_count": null,
      "outputs": []
    },
    {
      "cell_type": "code",
      "source": [
        "lessEqualTo = h <= i"
      ],
      "metadata": {
        "id": "fkuBt7MAkuAs"
      },
      "execution_count": null,
      "outputs": []
    },
    {
      "cell_type": "code",
      "source": [
        "print(greaterThan)"
      ],
      "metadata": {
        "colab": {
          "base_uri": "https://localhost:8080/"
        },
        "id": "iMFjr4B4kw1k",
        "outputId": "d6d012ea-12b6-4d3d-be8c-aa7d68ae83fa"
      },
      "execution_count": null,
      "outputs": [
        {
          "output_type": "stream",
          "name": "stdout",
          "text": [
            "False\n"
          ]
        }
      ]
    },
    {
      "cell_type": "code",
      "source": [
        "print(lessThan)"
      ],
      "metadata": {
        "colab": {
          "base_uri": "https://localhost:8080/"
        },
        "id": "0GL1wNFFk8PQ",
        "outputId": "12a8355b-22a9-43d6-b38f-2fe29a231cf8"
      },
      "execution_count": null,
      "outputs": [
        {
          "output_type": "stream",
          "name": "stdout",
          "text": [
            "True\n"
          ]
        }
      ]
    },
    {
      "cell_type": "code",
      "source": [
        "print(greaterEqualTo)"
      ],
      "metadata": {
        "colab": {
          "base_uri": "https://localhost:8080/"
        },
        "id": "4qSNTFAZk_nS",
        "outputId": "6a7e96a0-822a-4944-d8c4-60afe78a726d"
      },
      "execution_count": null,
      "outputs": [
        {
          "output_type": "stream",
          "name": "stdout",
          "text": [
            "False\n"
          ]
        }
      ]
    },
    {
      "cell_type": "code",
      "source": [
        "print(lessEqualTo)"
      ],
      "metadata": {
        "colab": {
          "base_uri": "https://localhost:8080/"
        },
        "id": "yPmBFDBOlIJX",
        "outputId": "f8732b26-e0de-4e4e-bb85-c0468c873afe"
      },
      "execution_count": null,
      "outputs": [
        {
          "output_type": "stream",
          "name": "stdout",
          "text": [
            "True\n"
          ]
        }
      ]
    },
    {
      "cell_type": "markdown",
      "source": [
        "# Q. Equality Operator\n",
        "# Take two different integer values.\n",
        "# Store them in two different variables.\n",
        "# Equate them using equality operators (==, !=)\n",
        "# Observe the output(return type should be boolean)"
      ],
      "metadata": {
        "id": "Hdfv0zd2lPjX"
      }
    },
    {
      "cell_type": "code",
      "source": [
        "j = 25"
      ],
      "metadata": {
        "id": "ovy0CEIKlKnL"
      },
      "execution_count": null,
      "outputs": []
    },
    {
      "cell_type": "code",
      "source": [
        "k = 10"
      ],
      "metadata": {
        "id": "aaq7Efillgy4"
      },
      "execution_count": null,
      "outputs": []
    },
    {
      "cell_type": "code",
      "source": [
        "equalTo = j == k"
      ],
      "metadata": {
        "id": "Vaq3bQYSli7N"
      },
      "execution_count": null,
      "outputs": []
    },
    {
      "cell_type": "code",
      "source": [
        "notEqualTo = j != k"
      ],
      "metadata": {
        "id": "_ffGnFcnloA1"
      },
      "execution_count": null,
      "outputs": []
    },
    {
      "cell_type": "code",
      "source": [
        "print(equalTo)"
      ],
      "metadata": {
        "colab": {
          "base_uri": "https://localhost:8080/"
        },
        "id": "-1l83Daylruu",
        "outputId": "0dc7ff1e-8eb9-4ede-dd3b-853220994217"
      },
      "execution_count": null,
      "outputs": [
        {
          "output_type": "stream",
          "name": "stdout",
          "text": [
            "False\n"
          ]
        }
      ]
    },
    {
      "cell_type": "code",
      "source": [
        "print(notEqualTo)"
      ],
      "metadata": {
        "colab": {
          "base_uri": "https://localhost:8080/"
        },
        "id": "oF2K68GylubY",
        "outputId": "47d31712-d757-43c5-a041-743be7df3a97"
      },
      "execution_count": null,
      "outputs": [
        {
          "output_type": "stream",
          "name": "stdout",
          "text": [
            "True\n"
          ]
        }
      ]
    },
    {
      "cell_type": "markdown",
      "source": [
        "# Q. Logical operators\n",
        "# Observe the output of below code\n",
        "# Cross check the output manually"
      ],
      "metadata": {
        "id": "jRhFCFphl5nY"
      }
    },
    {
      "cell_type": "code",
      "source": [
        "print ( 10 and 20 )"
      ],
      "metadata": {
        "colab": {
          "base_uri": "https://localhost:8080/"
        },
        "id": "D-rGu471lxVs",
        "outputId": "519a831d-3ed6-41b4-e81a-0f499403835e"
      },
      "execution_count": null,
      "outputs": [
        {
          "output_type": "stream",
          "name": "stdout",
          "text": [
            "20\n"
          ]
        }
      ]
    },
    {
      "cell_type": "code",
      "source": [
        "print ( 0 and 20 )"
      ],
      "metadata": {
        "colab": {
          "base_uri": "https://localhost:8080/"
        },
        "id": "z8PuaDSYmbke",
        "outputId": "0701e5de-e4d6-4d47-eaf4-5de8ac7d04c9"
      },
      "execution_count": null,
      "outputs": [
        {
          "output_type": "stream",
          "name": "stdout",
          "text": [
            "0\n"
          ]
        }
      ]
    },
    {
      "cell_type": "code",
      "source": [
        "print ( 20 and 0 )"
      ],
      "metadata": {
        "colab": {
          "base_uri": "https://localhost:8080/"
        },
        "id": "dK9woROAmgMj",
        "outputId": "44875ac1-6c2d-4707-b435-e38a9367175f"
      },
      "execution_count": null,
      "outputs": [
        {
          "output_type": "stream",
          "name": "stdout",
          "text": [
            "0\n"
          ]
        }
      ]
    },
    {
      "cell_type": "code",
      "source": [
        "print ( 0 and 0 )"
      ],
      "metadata": {
        "colab": {
          "base_uri": "https://localhost:8080/"
        },
        "id": "KxVb7VNHnL-K",
        "outputId": "b8e1b7c3-0967-4cf8-e821-c9ecc0ad4ed8"
      },
      "execution_count": null,
      "outputs": [
        {
          "output_type": "stream",
          "name": "stdout",
          "text": [
            "0\n"
          ]
        }
      ]
    },
    {
      "cell_type": "code",
      "source": [
        "print ( 10 or 20 )"
      ],
      "metadata": {
        "colab": {
          "base_uri": "https://localhost:8080/"
        },
        "id": "1xcOohKWnO_h",
        "outputId": "56236acc-7f39-43ef-88db-3a59ccffdd3e"
      },
      "execution_count": null,
      "outputs": [
        {
          "output_type": "stream",
          "name": "stdout",
          "text": [
            "10\n"
          ]
        }
      ]
    },
    {
      "cell_type": "code",
      "source": [
        "print ( 0 or 20 )"
      ],
      "metadata": {
        "colab": {
          "base_uri": "https://localhost:8080/"
        },
        "id": "1KpbNUZGnUY2",
        "outputId": "0108f9ed-636e-4d03-9157-174735a93195"
      },
      "execution_count": null,
      "outputs": [
        {
          "output_type": "stream",
          "name": "stdout",
          "text": [
            "20\n"
          ]
        }
      ]
    },
    {
      "cell_type": "code",
      "source": [
        "print ( 20 or 0 )"
      ],
      "metadata": {
        "colab": {
          "base_uri": "https://localhost:8080/"
        },
        "id": "o2CllQWznXCw",
        "outputId": "f7afc52a-7dc3-47c1-bc83-1eb7e36843d0"
      },
      "execution_count": null,
      "outputs": [
        {
          "output_type": "stream",
          "name": "stdout",
          "text": [
            "20\n"
          ]
        }
      ]
    },
    {
      "cell_type": "code",
      "source": [
        "print ( 0 or 0 )"
      ],
      "metadata": {
        "colab": {
          "base_uri": "https://localhost:8080/"
        },
        "id": "tZ6RA8eFnZjs",
        "outputId": "ab99f969-2413-48d7-c865-356704637dcb"
      },
      "execution_count": null,
      "outputs": [
        {
          "output_type": "stream",
          "name": "stdout",
          "text": [
            "0\n"
          ]
        }
      ]
    },
    {
      "cell_type": "code",
      "source": [
        "print ( not 10 )"
      ],
      "metadata": {
        "colab": {
          "base_uri": "https://localhost:8080/"
        },
        "id": "vkE2RQ19nnyQ",
        "outputId": "f10b2edf-ee8c-4257-e21b-dd8cf651d717"
      },
      "execution_count": null,
      "outputs": [
        {
          "output_type": "stream",
          "name": "stdout",
          "text": [
            "False\n"
          ]
        }
      ]
    },
    {
      "cell_type": "code",
      "source": [
        "print ( not 0 )"
      ],
      "metadata": {
        "colab": {
          "base_uri": "https://localhost:8080/"
        },
        "id": "VbL1HKlIns7K",
        "outputId": "6501ceec-7421-44be-80cf-0f016d125438"
      },
      "execution_count": null,
      "outputs": [
        {
          "output_type": "stream",
          "name": "stdout",
          "text": [
            "True\n"
          ]
        }
      ]
    },
    {
      "cell_type": "markdown",
      "source": [
        "# Q. Bitwise Operators\n",
        "# Do below operations on the values provided below:-"
      ],
      "metadata": {
        "id": "4-2_Yv2An6rH"
      }
    },
    {
      "cell_type": "code",
      "source": [
        "print(10 & 20)"
      ],
      "metadata": {
        "colab": {
          "base_uri": "https://localhost:8080/"
        },
        "id": "bVhiIY95nvmp",
        "outputId": "4a033df0-142c-46d2-c5c0-cffa61fc3738"
      },
      "execution_count": null,
      "outputs": [
        {
          "output_type": "stream",
          "name": "stdout",
          "text": [
            "0\n"
          ]
        }
      ]
    },
    {
      "cell_type": "code",
      "source": [
        "print(10 | 20)"
      ],
      "metadata": {
        "colab": {
          "base_uri": "https://localhost:8080/"
        },
        "id": "buCHqQAP4Q8_",
        "outputId": "f4095d8a-545c-4594-dd55-06f4362f4540"
      },
      "execution_count": null,
      "outputs": [
        {
          "output_type": "stream",
          "name": "stdout",
          "text": [
            "30\n"
          ]
        }
      ]
    },
    {
      "cell_type": "code",
      "source": [
        "print(10^20)"
      ],
      "metadata": {
        "colab": {
          "base_uri": "https://localhost:8080/"
        },
        "id": "7Gr1mxy9LUnv",
        "outputId": "a61b958f-b6a9-4f6d-857d-e8180d376d20"
      },
      "execution_count": null,
      "outputs": [
        {
          "output_type": "stream",
          "name": "stdout",
          "text": [
            "30\n"
          ]
        }
      ]
    },
    {
      "cell_type": "code",
      "source": [
        "print(~10)"
      ],
      "metadata": {
        "colab": {
          "base_uri": "https://localhost:8080/"
        },
        "id": "cj6YFDeoLx2E",
        "outputId": "60d46304-63fd-4a37-d6ba-cfb1252a6d03"
      },
      "execution_count": null,
      "outputs": [
        {
          "output_type": "stream",
          "name": "stdout",
          "text": [
            "-11\n"
          ]
        }
      ]
    },
    {
      "cell_type": "code",
      "source": [
        "print(10<<2)"
      ],
      "metadata": {
        "colab": {
          "base_uri": "https://localhost:8080/"
        },
        "id": "T6KR8klFMMqf",
        "outputId": "b9f0fb90-3312-4056-9c79-a7a0aaf155ed"
      },
      "execution_count": null,
      "outputs": [
        {
          "output_type": "stream",
          "name": "stdout",
          "text": [
            "40\n"
          ]
        }
      ]
    },
    {
      "cell_type": "code",
      "source": [
        "print(10>>2)"
      ],
      "metadata": {
        "colab": {
          "base_uri": "https://localhost:8080/"
        },
        "id": "ARVygxghMV7E",
        "outputId": "c05a00f6-bab4-4550-bdd1-343383218e14"
      },
      "execution_count": null,
      "outputs": [
        {
          "output_type": "stream",
          "name": "stdout",
          "text": [
            "2\n"
          ]
        }
      ]
    },
    {
      "cell_type": "markdown",
      "source": [
        "# Q. What is the output of expression inside print statement. Cross check before running the program."
      ],
      "metadata": {
        "id": "vSMbQGseMcbE"
      }
    },
    {
      "cell_type": "code",
      "source": [
        "a = 10"
      ],
      "metadata": {
        "id": "ACfR0Q6VMY63"
      },
      "execution_count": null,
      "outputs": []
    },
    {
      "cell_type": "code",
      "source": [
        "b = 10"
      ],
      "metadata": {
        "id": "e-t9DW77MvVR"
      },
      "execution_count": null,
      "outputs": []
    },
    {
      "cell_type": "code",
      "source": [
        "print(a is b)"
      ],
      "metadata": {
        "colab": {
          "base_uri": "https://localhost:8080/"
        },
        "id": "fnTxvpU9Mzfq",
        "outputId": "a2767d88-6e0c-4f2d-c84f-2360c328a0d1"
      },
      "execution_count": null,
      "outputs": [
        {
          "output_type": "stream",
          "name": "stdout",
          "text": [
            "True\n"
          ]
        }
      ]
    },
    {
      "cell_type": "code",
      "source": [
        "print(a is not b)"
      ],
      "metadata": {
        "colab": {
          "base_uri": "https://localhost:8080/"
        },
        "id": "PQUcWnNOM3BS",
        "outputId": "c38af188-0de0-43c5-88ff-c56d684d19f3"
      },
      "execution_count": null,
      "outputs": [
        {
          "output_type": "stream",
          "name": "stdout",
          "text": [
            "False\n"
          ]
        }
      ]
    },
    {
      "cell_type": "code",
      "source": [
        "a = 1000"
      ],
      "metadata": {
        "id": "c75vapVMM7tR"
      },
      "execution_count": null,
      "outputs": []
    },
    {
      "cell_type": "code",
      "source": [
        "b = 1000"
      ],
      "metadata": {
        "id": "JSt0INM8NLVd"
      },
      "execution_count": null,
      "outputs": []
    },
    {
      "cell_type": "code",
      "source": [
        "print(a is b)"
      ],
      "metadata": {
        "colab": {
          "base_uri": "https://localhost:8080/"
        },
        "id": "qBS0Sv0QNM5c",
        "outputId": "8be7e2f6-de81-44a5-9c96-1a516a157a7b"
      },
      "execution_count": null,
      "outputs": [
        {
          "output_type": "stream",
          "name": "stdout",
          "text": [
            "False\n"
          ]
        }
      ]
    },
    {
      "cell_type": "code",
      "source": [
        "print(a is not b)"
      ],
      "metadata": {
        "colab": {
          "base_uri": "https://localhost:8080/"
        },
        "id": "caq68FWkNRPl",
        "outputId": "92494c9c-0811-454f-9a30-eed16eba6a21"
      },
      "execution_count": null,
      "outputs": [
        {
          "output_type": "stream",
          "name": "stdout",
          "text": [
            "True\n"
          ]
        }
      ]
    },
    {
      "cell_type": "markdown",
      "source": [
        "#Q. What is the output of expression inside print statement. Cross check before running the program."
      ],
      "metadata": {
        "id": "We-BIJceOCYa"
      }
    },
    {
      "cell_type": "code",
      "source": [
        "print ( 10 +( 10 * 32 )// 2 ** 5 & 20 +(~( -10 ))<< 2 )"
      ],
      "metadata": {
        "colab": {
          "base_uri": "https://localhost:8080/"
        },
        "id": "yH3z7QjCNUHj",
        "outputId": "6d7752f0-6561-4496-a3b3-96286040a0c6"
      },
      "execution_count": null,
      "outputs": [
        {
          "output_type": "stream",
          "name": "stdout",
          "text": [
            "20\n"
          ]
        }
      ]
    },
    {
      "cell_type": "markdown",
      "source": [
        "#Q. Membership operation in, not in are two membership operators and it returns boolean value"
      ],
      "metadata": {
        "id": "6bA1FlSaQIxf"
      }
    },
    {
      "cell_type": "code",
      "source": [
        "print ( '2' in 'Python2.7.8' )"
      ],
      "metadata": {
        "colab": {
          "base_uri": "https://localhost:8080/"
        },
        "id": "VZ__votdOO1b",
        "outputId": "279a6985-6cd0-4943-89b8-ffb74e54e1dc"
      },
      "execution_count": null,
      "outputs": [
        {
          "output_type": "stream",
          "name": "stdout",
          "text": [
            "True\n"
          ]
        }
      ]
    },
    {
      "cell_type": "code",
      "source": [
        "print ( 10 in [ 10 , 10.20 , 10 + 20j , 'Python' ])"
      ],
      "metadata": {
        "colab": {
          "base_uri": "https://localhost:8080/"
        },
        "id": "2F7sNGfjOT8w",
        "outputId": "3c1f90f5-20ca-4f0a-f2f4-6b15d961d8eb"
      },
      "execution_count": null,
      "outputs": [
        {
          "output_type": "stream",
          "name": "stdout",
          "text": [
            "True\n"
          ]
        }
      ]
    },
    {
      "cell_type": "code",
      "source": [
        "print ( 10 in ( 10 , 10.20 , 10 + 20j , 'Python' ))"
      ],
      "metadata": {
        "colab": {
          "base_uri": "https://localhost:8080/"
        },
        "id": "POVGbh5GS2oF",
        "outputId": "76b1182b-3bd6-4aaa-9af2-5bdac222f82d"
      },
      "execution_count": null,
      "outputs": [
        {
          "output_type": "stream",
          "name": "stdout",
          "text": [
            "True\n"
          ]
        }
      ]
    },
    {
      "cell_type": "code",
      "source": [
        "print ( 2 in { 1 , 2 , 3 })"
      ],
      "metadata": {
        "colab": {
          "base_uri": "https://localhost:8080/"
        },
        "id": "hQe-_t98S9hh",
        "outputId": "95ec7c41-e989-41ef-a045-9e6fc74145b3"
      },
      "execution_count": null,
      "outputs": [
        {
          "output_type": "stream",
          "name": "stdout",
          "text": [
            "True\n"
          ]
        }
      ]
    },
    {
      "cell_type": "code",
      "source": [
        "print ( 3 in { 1 : 100 , 2 : 200 , 3 : 300 })"
      ],
      "metadata": {
        "colab": {
          "base_uri": "https://localhost:8080/"
        },
        "id": "11mIoDFLTAAg",
        "outputId": "e0e671b5-cd37-4bbf-e5d7-703be65c7563"
      },
      "execution_count": null,
      "outputs": [
        {
          "output_type": "stream",
          "name": "stdout",
          "text": [
            "True\n"
          ]
        }
      ]
    },
    {
      "cell_type": "code",
      "source": [
        "print ( 10 in range ( 20 ))"
      ],
      "metadata": {
        "colab": {
          "base_uri": "https://localhost:8080/"
        },
        "id": "oFfbK7JpTFX2",
        "outputId": "6c2ca642-5059-44ef-910f-1073ffc926d3"
      },
      "execution_count": null,
      "outputs": [
        {
          "output_type": "stream",
          "name": "stdout",
          "text": [
            "True\n"
          ]
        }
      ]
    },
    {
      "cell_type": "markdown",
      "source": [
        "# Q. An integer can be represented in binary, octal or hexadecimal form. Declare one binary, one octal and one hexadecimal value and store them in three different variables.\n",
        "# Convert 9876 to its binary, octal and hexadecimal equivalent and print their corresponding value."
      ],
      "metadata": {
        "id": "tiQmAJzyTWYX"
      }
    },
    {
      "cell_type": "code",
      "source": [
        "binary = 0b10111"
      ],
      "metadata": {
        "id": "pjY9PzpWTI8Z"
      },
      "execution_count": null,
      "outputs": []
    },
    {
      "cell_type": "code",
      "source": [
        "octal = 0o12345"
      ],
      "metadata": {
        "id": "mIOfkVgIdXuD"
      },
      "execution_count": null,
      "outputs": []
    },
    {
      "cell_type": "code",
      "source": [
        "hexa = 0x123AF"
      ],
      "metadata": {
        "id": "yI2WWkZxdcUY"
      },
      "execution_count": null,
      "outputs": []
    },
    {
      "cell_type": "code",
      "source": [
        "print(bin(9876))"
      ],
      "metadata": {
        "colab": {
          "base_uri": "https://localhost:8080/"
        },
        "id": "pDustCuJdhga",
        "outputId": "867acccc-3ebe-445a-9894-332f217c4bdd"
      },
      "execution_count": null,
      "outputs": [
        {
          "output_type": "stream",
          "name": "stdout",
          "text": [
            "0b10011010010100\n"
          ]
        }
      ]
    },
    {
      "cell_type": "code",
      "source": [
        "print(oct(9876))"
      ],
      "metadata": {
        "colab": {
          "base_uri": "https://localhost:8080/"
        },
        "id": "xFNi-pHldm_C",
        "outputId": "987857c7-1c7b-45a5-951d-fb047bfb4453"
      },
      "execution_count": null,
      "outputs": [
        {
          "output_type": "stream",
          "name": "stdout",
          "text": [
            "0o23224\n"
          ]
        }
      ]
    },
    {
      "cell_type": "code",
      "source": [
        "print(hex(9876))"
      ],
      "metadata": {
        "colab": {
          "base_uri": "https://localhost:8080/"
        },
        "id": "sBW1tAZOdsIe",
        "outputId": "224d3a08-2054-4503-8815-7cf46fb7d8c3"
      },
      "execution_count": null,
      "outputs": [
        {
          "output_type": "stream",
          "name": "stdout",
          "text": [
            "0x2694\n"
          ]
        }
      ]
    },
    {
      "cell_type": "markdown",
      "source": [
        "# Q. What will be the output of following:-"
      ],
      "metadata": {
        "id": "hOWrcaJKeDgc"
      }
    },
    {
      "cell_type": "code",
      "source": [
        "a = 0b1010000\n",
        "print (a)"
      ],
      "metadata": {
        "colab": {
          "base_uri": "https://localhost:8080/"
        },
        "id": "usXWmZunduoS",
        "outputId": "e04c11b1-4eef-477b-8f38-8ee5f0308dbf"
      },
      "execution_count": null,
      "outputs": [
        {
          "output_type": "stream",
          "name": "stdout",
          "text": [
            "80\n"
          ]
        }
      ]
    },
    {
      "cell_type": "code",
      "source": [
        "b = 0o7436\n",
        "print (b)"
      ],
      "metadata": {
        "colab": {
          "base_uri": "https://localhost:8080/"
        },
        "id": "I8p3PvkNeKCk",
        "outputId": "1d42e63b-0786-4237-ca1a-e573938aff5d"
      },
      "execution_count": null,
      "outputs": [
        {
          "output_type": "stream",
          "name": "stdout",
          "text": [
            "3870\n"
          ]
        }
      ]
    },
    {
      "cell_type": "code",
      "source": [
        "c = 0xfade\n",
        "print(c)"
      ],
      "metadata": {
        "colab": {
          "base_uri": "https://localhost:8080/"
        },
        "id": "4uq-sNjoeOLe",
        "outputId": "f4342f3c-e580-4107-8a8b-f71d3bb8e03c"
      },
      "execution_count": null,
      "outputs": [
        {
          "output_type": "stream",
          "name": "stdout",
          "text": [
            "64222\n"
          ]
        }
      ]
    },
    {
      "cell_type": "code",
      "source": [
        "print (bin( 80 ))"
      ],
      "metadata": {
        "colab": {
          "base_uri": "https://localhost:8080/"
        },
        "id": "B3232CQueTYN",
        "outputId": "0d10b61f-b230-48f5-9a56-4521519a3fc0"
      },
      "execution_count": null,
      "outputs": [
        {
          "output_type": "stream",
          "name": "stdout",
          "text": [
            "0b1010000\n"
          ]
        }
      ]
    },
    {
      "cell_type": "code",
      "source": [
        "print ( oct( 3870 ))"
      ],
      "metadata": {
        "colab": {
          "base_uri": "https://localhost:8080/"
        },
        "id": "U0HcvidLeoL4",
        "outputId": "643c0be4-0ded-4990-af26-e999f9dfc382"
      },
      "execution_count": null,
      "outputs": [
        {
          "output_type": "stream",
          "name": "stdout",
          "text": [
            "0o7436\n"
          ]
        }
      ]
    },
    {
      "cell_type": "code",
      "source": [
        "print ( hex( 64222 ))"
      ],
      "metadata": {
        "colab": {
          "base_uri": "https://localhost:8080/"
        },
        "id": "u5ajFBq3evQ_",
        "outputId": "e25b4d0d-b8c6-4b3f-b9ff-a329a6c8d4bc"
      },
      "execution_count": null,
      "outputs": [
        {
          "output_type": "stream",
          "name": "stdout",
          "text": [
            "0xfade\n"
          ]
        }
      ]
    },
    {
      "cell_type": "code",
      "source": [
        "print ( bin( 0b1010000))"
      ],
      "metadata": {
        "colab": {
          "base_uri": "https://localhost:8080/"
        },
        "id": "Lvn5e4mce6qT",
        "outputId": "dcf4d723-e53a-417a-8c6e-d0f7a591aab2"
      },
      "execution_count": null,
      "outputs": [
        {
          "output_type": "stream",
          "name": "stdout",
          "text": [
            "0b1010000\n"
          ]
        }
      ]
    },
    {
      "cell_type": "code",
      "source": [
        "print ( bin( 0xfade ))"
      ],
      "metadata": {
        "colab": {
          "base_uri": "https://localhost:8080/"
        },
        "id": "qdqZwvRIfC6D",
        "outputId": "155eae74-8b8c-4d26-b241-69842604cf8f"
      },
      "execution_count": null,
      "outputs": [
        {
          "output_type": "stream",
          "name": "stdout",
          "text": [
            "0b1111101011011110\n"
          ]
        }
      ]
    },
    {
      "cell_type": "code",
      "source": [
        "print ( oct( 0xfade ))"
      ],
      "metadata": {
        "colab": {
          "base_uri": "https://localhost:8080/"
        },
        "id": "yLWUPfOGfJYG",
        "outputId": "30707377-e3ce-4ec2-bdc3-3f66e73ced6d"
      },
      "execution_count": null,
      "outputs": [
        {
          "output_type": "stream",
          "name": "stdout",
          "text": [
            "0o175336\n"
          ]
        }
      ]
    },
    {
      "cell_type": "code",
      "source": [
        "print ( oct( 0o7436))"
      ],
      "metadata": {
        "colab": {
          "base_uri": "https://localhost:8080/"
        },
        "id": "w0vG_6krfUKW",
        "outputId": "c840777d-45dd-47aa-9583-35dc89e52ded"
      },
      "execution_count": null,
      "outputs": [
        {
          "output_type": "stream",
          "name": "stdout",
          "text": [
            "0o7436\n"
          ]
        }
      ]
    },
    {
      "cell_type": "code",
      "source": [
        "print ( hex( 0b1010000))"
      ],
      "metadata": {
        "colab": {
          "base_uri": "https://localhost:8080/"
        },
        "id": "Kayt6F1Kfgss",
        "outputId": "16607e6f-51f2-42fd-d5b0-0e2ccb5f52c0"
      },
      "execution_count": null,
      "outputs": [
        {
          "output_type": "stream",
          "name": "stdout",
          "text": [
            "0x50\n"
          ]
        }
      ]
    },
    {
      "cell_type": "code",
      "source": [
        "print ( hex( 0xfade ))"
      ],
      "metadata": {
        "colab": {
          "base_uri": "https://localhost:8080/"
        },
        "id": "NXqlu81gfnJM",
        "outputId": "0ccdc406-ef67-48b7-e5d8-054effd10c9e"
      },
      "execution_count": null,
      "outputs": [
        {
          "output_type": "stream",
          "name": "stdout",
          "text": [
            "0xfade\n"
          ]
        }
      ]
    },
    {
      "cell_type": "code",
      "source": [],
      "metadata": {
        "id": "2y-9exxDfw2R"
      },
      "execution_count": null,
      "outputs": []
    }
  ]
}