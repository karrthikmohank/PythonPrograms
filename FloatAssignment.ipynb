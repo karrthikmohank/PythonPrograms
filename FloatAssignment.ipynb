{
  "nbformat": 4,
  "nbformat_minor": 0,
  "metadata": {
    "colab": {
      "provenance": [],
      "collapsed_sections": [],
      "authorship_tag": "ABX9TyOARPSFzcKCarCSYuKK29zt",
      "include_colab_link": true
    },
    "kernelspec": {
      "name": "python3",
      "display_name": "Python 3"
    },
    "language_info": {
      "name": "python"
    }
  },
  "cells": [
    {
      "cell_type": "markdown",
      "metadata": {
        "id": "view-in-github",
        "colab_type": "text"
      },
      "source": [
        "<a href=\"https://colab.research.google.com/github/karrthikmohank/PythonPrograms/blob/main/FloatAssignment.ipynb\" target=\"_parent\"><img src=\"https://colab.research.google.com/assets/colab-badge.svg\" alt=\"Open In Colab\"/></a>"
      ]
    },
    {
      "cell_type": "markdown",
      "source": [
        "# Q. Declare a float value and store it in a variable. Check the type and print the id of the same."
      ],
      "metadata": {
        "id": "rYWzHxs9MkI0"
      }
    },
    {
      "cell_type": "code",
      "execution_count": null,
      "metadata": {
        "id": "VwMCON4LgrRB"
      },
      "outputs": [],
      "source": [
        "a = 10.7"
      ]
    },
    {
      "cell_type": "code",
      "source": [
        "print(type(a))"
      ],
      "metadata": {
        "colab": {
          "base_uri": "https://localhost:8080/"
        },
        "id": "Xczo1hL_NTD9",
        "outputId": "5b74bd96-0f6f-4a82-a0bb-6e222710cc01"
      },
      "execution_count": null,
      "outputs": [
        {
          "output_type": "stream",
          "name": "stdout",
          "text": [
            "<class 'float'>\n"
          ]
        }
      ]
    },
    {
      "cell_type": "code",
      "source": [
        "print(id(a))"
      ],
      "metadata": {
        "colab": {
          "base_uri": "https://localhost:8080/"
        },
        "id": "azJfgKtSNVd3",
        "outputId": "96aacb06-b3db-47fb-9feb-e193cc468dfa"
      },
      "execution_count": null,
      "outputs": [
        {
          "output_type": "stream",
          "name": "stdout",
          "text": [
            "139889657717168\n"
          ]
        }
      ]
    },
    {
      "cell_type": "markdown",
      "source": [
        "# Q. Arithmetic Operations on float \n",
        "# Take two different float values.\n",
        "# Store them in two different variables.\n",
        "# Do below operations on them:-\n",
        "# Find sum of both numbers\n",
        "# Find difference between them\n",
        "# Find the product of both numbers.\n",
        "# Find value after dividing first num with second number\n",
        "# Find the remainder after dividing first number with second number\n",
        "# Find the quotient after dividing first number with second number\n",
        "# Find the result of the first num to the power of the second number."
      ],
      "metadata": {
        "id": "FGCb6buwOlEa"
      }
    },
    {
      "cell_type": "code",
      "source": [
        "b = 1.5"
      ],
      "metadata": {
        "id": "LFPdw2vdNop_"
      },
      "execution_count": null,
      "outputs": []
    },
    {
      "cell_type": "code",
      "source": [
        "c = 2.5"
      ],
      "metadata": {
        "id": "j2oU0eizPaYn"
      },
      "execution_count": null,
      "outputs": []
    },
    {
      "cell_type": "code",
      "source": [
        "total = b + c"
      ],
      "metadata": {
        "id": "O-1GbYjJPbp1"
      },
      "execution_count": null,
      "outputs": []
    },
    {
      "cell_type": "code",
      "source": [
        "print(total)"
      ],
      "metadata": {
        "colab": {
          "base_uri": "https://localhost:8080/"
        },
        "id": "gq-h7HWiPedJ",
        "outputId": "a4c87bed-28a0-4c92-bf8d-8f29f8d9c1d6"
      },
      "execution_count": null,
      "outputs": [
        {
          "output_type": "stream",
          "name": "stdout",
          "text": [
            "4.0\n"
          ]
        }
      ]
    },
    {
      "cell_type": "code",
      "source": [
        "diff = c - b"
      ],
      "metadata": {
        "id": "1FiyaLJZPgJW"
      },
      "execution_count": null,
      "outputs": []
    },
    {
      "cell_type": "code",
      "source": [
        "print(diff)"
      ],
      "metadata": {
        "colab": {
          "base_uri": "https://localhost:8080/"
        },
        "id": "kcinesslP6l6",
        "outputId": "31a2c73b-a802-4558-c81f-deca810800b6"
      },
      "execution_count": null,
      "outputs": [
        {
          "output_type": "stream",
          "name": "stdout",
          "text": [
            "1.0\n"
          ]
        }
      ]
    },
    {
      "cell_type": "code",
      "source": [
        "prod = b * c"
      ],
      "metadata": {
        "id": "nR9q8GqhP8XN"
      },
      "execution_count": null,
      "outputs": []
    },
    {
      "cell_type": "code",
      "source": [
        "print(prod)"
      ],
      "metadata": {
        "colab": {
          "base_uri": "https://localhost:8080/"
        },
        "id": "IT9qsabXQTQF",
        "outputId": "da90107f-c73e-41ba-f897-c5f98369aa48"
      },
      "execution_count": null,
      "outputs": [
        {
          "output_type": "stream",
          "name": "stdout",
          "text": [
            "3.75\n"
          ]
        }
      ]
    },
    {
      "cell_type": "code",
      "source": [
        "div1 = b/c"
      ],
      "metadata": {
        "id": "35oTErhCQUk2"
      },
      "execution_count": null,
      "outputs": []
    },
    {
      "cell_type": "code",
      "source": [
        "print(div1)"
      ],
      "metadata": {
        "colab": {
          "base_uri": "https://localhost:8080/"
        },
        "id": "PeJtWUC5QaFL",
        "outputId": "c182ac08-d9b0-43e1-95c6-6742f5ab114b"
      },
      "execution_count": null,
      "outputs": [
        {
          "output_type": "stream",
          "name": "stdout",
          "text": [
            "0.6\n"
          ]
        }
      ]
    },
    {
      "cell_type": "code",
      "source": [
        "rem = b % c"
      ],
      "metadata": {
        "id": "fbjnPJb-Qblq"
      },
      "execution_count": null,
      "outputs": []
    },
    {
      "cell_type": "code",
      "source": [
        "print(rem)"
      ],
      "metadata": {
        "colab": {
          "base_uri": "https://localhost:8080/"
        },
        "id": "o9Dhf6OAQkTG",
        "outputId": "d2fbbcee-55a4-4907-bde7-c30eb7e5af2c"
      },
      "execution_count": null,
      "outputs": [
        {
          "output_type": "stream",
          "name": "stdout",
          "text": [
            "1.5\n"
          ]
        }
      ]
    },
    {
      "cell_type": "code",
      "source": [
        "quot = b // c"
      ],
      "metadata": {
        "id": "0AqSSUKwQmAe"
      },
      "execution_count": null,
      "outputs": []
    },
    {
      "cell_type": "code",
      "source": [
        "print(quot)"
      ],
      "metadata": {
        "colab": {
          "base_uri": "https://localhost:8080/"
        },
        "id": "p3aaYDIuQzBS",
        "outputId": "266998a9-73a2-4ba2-9d01-7513be716389"
      },
      "execution_count": null,
      "outputs": [
        {
          "output_type": "stream",
          "name": "stdout",
          "text": [
            "0.0\n"
          ]
        }
      ]
    },
    {
      "cell_type": "code",
      "source": [
        "power = b ** c"
      ],
      "metadata": {
        "id": "kNo58cQhQ0t3"
      },
      "execution_count": null,
      "outputs": []
    },
    {
      "cell_type": "code",
      "source": [
        "print(power)"
      ],
      "metadata": {
        "colab": {
          "base_uri": "https://localhost:8080/"
        },
        "id": "Kmf2u8HFRHjv",
        "outputId": "7ee0614c-8a3f-483a-df03-0b83093283e9"
      },
      "execution_count": null,
      "outputs": [
        {
          "output_type": "stream",
          "name": "stdout",
          "text": [
            "2.7556759606310752\n"
          ]
        }
      ]
    },
    {
      "cell_type": "markdown",
      "source": [
        "# Q. Comparison Operators on float\n",
        "# Take two different float values.\n",
        "# Store them in two different variables.\n",
        "# Do below operations on them:-\n",
        "# Compare these two numbers with below operator:-\n",
        "# Greater than, '>'\n",
        "# Smaller than, '<'\n",
        "# Greater than or equal to, '>='\n",
        "# Less than or equal to, '<='\n",
        "# Observe their output(return type should be boolean)"
      ],
      "metadata": {
        "id": "56Bv4vwORmGq"
      }
    },
    {
      "cell_type": "code",
      "source": [
        "d = 5.5"
      ],
      "metadata": {
        "id": "3KtW6U6lRJFy"
      },
      "execution_count": null,
      "outputs": []
    },
    {
      "cell_type": "code",
      "source": [
        "e = 9.5"
      ],
      "metadata": {
        "id": "tguSHPW6R826"
      },
      "execution_count": null,
      "outputs": []
    },
    {
      "cell_type": "code",
      "source": [
        "greater = d > e"
      ],
      "metadata": {
        "id": "ZmMdnHueR-Ts"
      },
      "execution_count": null,
      "outputs": []
    },
    {
      "cell_type": "code",
      "source": [
        "print(greater)"
      ],
      "metadata": {
        "colab": {
          "base_uri": "https://localhost:8080/"
        },
        "id": "BZyjqD_fSNo8",
        "outputId": "d972709e-200a-4654-b015-e2ca5115d851"
      },
      "execution_count": null,
      "outputs": [
        {
          "output_type": "stream",
          "name": "stdout",
          "text": [
            "False\n"
          ]
        }
      ]
    },
    {
      "cell_type": "code",
      "source": [
        "lesser = d < e"
      ],
      "metadata": {
        "id": "I1ejfNTLSPgE"
      },
      "execution_count": null,
      "outputs": []
    },
    {
      "cell_type": "code",
      "source": [
        "print(lesser)"
      ],
      "metadata": {
        "colab": {
          "base_uri": "https://localhost:8080/"
        },
        "id": "iFiOLqL-SSwq",
        "outputId": "b40e7c73-f1f6-4b89-f49c-65aece19fca5"
      },
      "execution_count": null,
      "outputs": [
        {
          "output_type": "stream",
          "name": "stdout",
          "text": [
            "True\n"
          ]
        }
      ]
    },
    {
      "cell_type": "code",
      "source": [
        "greaterEqual = d >= e"
      ],
      "metadata": {
        "id": "ZBuNxCu_SUWO"
      },
      "execution_count": null,
      "outputs": []
    },
    {
      "cell_type": "code",
      "source": [
        "print(greaterEqual)"
      ],
      "metadata": {
        "colab": {
          "base_uri": "https://localhost:8080/"
        },
        "id": "jTjEy9B6Suic",
        "outputId": "3105642c-a79d-4f33-b618-4b4f802bd4d2"
      },
      "execution_count": null,
      "outputs": [
        {
          "output_type": "stream",
          "name": "stdout",
          "text": [
            "False\n"
          ]
        }
      ]
    },
    {
      "cell_type": "code",
      "source": [
        "lesserEqual = d <= e"
      ],
      "metadata": {
        "id": "INnSsMSISxLM"
      },
      "execution_count": null,
      "outputs": []
    },
    {
      "cell_type": "code",
      "source": [
        "print(lesserEqual)"
      ],
      "metadata": {
        "colab": {
          "base_uri": "https://localhost:8080/"
        },
        "id": "PaJ99qowS1re",
        "outputId": "ae432f58-cdfb-4b79-c471-0836365f66e7"
      },
      "execution_count": null,
      "outputs": [
        {
          "output_type": "stream",
          "name": "stdout",
          "text": [
            "True\n"
          ]
        }
      ]
    },
    {
      "cell_type": "markdown",
      "source": [
        "# Q. Equality Operator\n",
        "# Take two different float values.\n",
        "# Store them in two different variables.\n",
        "# Equate them using equality operators (==, !=)\n",
        "# Observe the output(return type should be boolean)"
      ],
      "metadata": {
        "id": "94-FrYs0T3M6"
      }
    },
    {
      "cell_type": "code",
      "source": [
        "f = 10.5"
      ],
      "metadata": {
        "id": "ethuf_zVS5GO"
      },
      "execution_count": null,
      "outputs": []
    },
    {
      "cell_type": "code",
      "source": [
        "g = 13.5"
      ],
      "metadata": {
        "id": "uKR6MfHaUKCh"
      },
      "execution_count": null,
      "outputs": []
    },
    {
      "cell_type": "code",
      "source": [
        "equal = f == g"
      ],
      "metadata": {
        "id": "AcBCCleRULvs"
      },
      "execution_count": null,
      "outputs": []
    },
    {
      "cell_type": "code",
      "source": [
        "print(equal)"
      ],
      "metadata": {
        "colab": {
          "base_uri": "https://localhost:8080/"
        },
        "id": "VGgYG5GvUP3x",
        "outputId": "abbfea20-064b-4951-fe5a-8df25a2a2c42"
      },
      "execution_count": null,
      "outputs": [
        {
          "output_type": "stream",
          "name": "stdout",
          "text": [
            "False\n"
          ]
        }
      ]
    },
    {
      "cell_type": "code",
      "source": [
        "notEqual = f != g"
      ],
      "metadata": {
        "id": "gg92G6CfURgG"
      },
      "execution_count": null,
      "outputs": []
    },
    {
      "cell_type": "code",
      "source": [
        "print(notEqual)"
      ],
      "metadata": {
        "colab": {
          "base_uri": "https://localhost:8080/"
        },
        "id": "jW3HAg85Ud7a",
        "outputId": "b568de16-b2ac-4558-8dfa-f4e78e74eb3c"
      },
      "execution_count": null,
      "outputs": [
        {
          "output_type": "stream",
          "name": "stdout",
          "text": [
            "True\n"
          ]
        }
      ]
    },
    {
      "cell_type": "markdown",
      "source": [
        "# Q. Logical operators\n",
        "# Observe the output of below code\n",
        "# Cross check the output manually"
      ],
      "metadata": {
        "id": "wq6wqKq9UoJK"
      }
    },
    {
      "cell_type": "code",
      "source": [
        "print ( 10.20 and 20.30 )"
      ],
      "metadata": {
        "colab": {
          "base_uri": "https://localhost:8080/"
        },
        "id": "DVhcrnO9UhbO",
        "outputId": "3d822081-0e1a-421b-ca30-d46bd54a4a6e"
      },
      "execution_count": null,
      "outputs": [
        {
          "output_type": "stream",
          "name": "stdout",
          "text": [
            "20.3\n"
          ]
        }
      ]
    },
    {
      "cell_type": "code",
      "source": [
        "print ( 0.0 and 20.30 )"
      ],
      "metadata": {
        "colab": {
          "base_uri": "https://localhost:8080/"
        },
        "id": "WtJiamdoWHr0",
        "outputId": "1c29d977-74fe-4e79-f080-cb3ce6538bca"
      },
      "execution_count": null,
      "outputs": [
        {
          "output_type": "stream",
          "name": "stdout",
          "text": [
            "0.0\n"
          ]
        }
      ]
    },
    {
      "cell_type": "code",
      "source": [
        "print ( 20.30 and 0.0 )"
      ],
      "metadata": {
        "colab": {
          "base_uri": "https://localhost:8080/"
        },
        "id": "wOZQrRu3WK0_",
        "outputId": "5343bd86-9c7e-445f-e8af-7739920184dc"
      },
      "execution_count": null,
      "outputs": [
        {
          "output_type": "stream",
          "name": "stdout",
          "text": [
            "0.0\n"
          ]
        }
      ]
    },
    {
      "cell_type": "code",
      "source": [
        "print ( 0.0 and 0.0 )"
      ],
      "metadata": {
        "colab": {
          "base_uri": "https://localhost:8080/"
        },
        "id": "S1MeW3cZXY74",
        "outputId": "2a930169-6fff-4bf9-f26d-f342a725ccb7"
      },
      "execution_count": null,
      "outputs": [
        {
          "output_type": "stream",
          "name": "stdout",
          "text": [
            "0.0\n"
          ]
        }
      ]
    },
    {
      "cell_type": "code",
      "source": [
        "print ( 10.20 or 20.30 )"
      ],
      "metadata": {
        "colab": {
          "base_uri": "https://localhost:8080/"
        },
        "id": "VmH3LkLvXa_g",
        "outputId": "ab68825a-e340-4dbf-cca0-1ba844db3604"
      },
      "execution_count": null,
      "outputs": [
        {
          "output_type": "stream",
          "name": "stdout",
          "text": [
            "10.2\n"
          ]
        }
      ]
    },
    {
      "cell_type": "code",
      "source": [
        "print ( 0.0 or 20.30 )"
      ],
      "metadata": {
        "colab": {
          "base_uri": "https://localhost:8080/"
        },
        "id": "eJ3nW-fNXd7A",
        "outputId": "d7891bbc-250f-4c0d-e853-1be0b4f33346"
      },
      "execution_count": null,
      "outputs": [
        {
          "output_type": "stream",
          "name": "stdout",
          "text": [
            "20.3\n"
          ]
        }
      ]
    },
    {
      "cell_type": "code",
      "source": [
        "print ( 20.30 or 0.0 )"
      ],
      "metadata": {
        "colab": {
          "base_uri": "https://localhost:8080/"
        },
        "id": "mtS7zTqaX6UO",
        "outputId": "f1ff06a8-4f9f-4730-b659-d7ee47e86562"
      },
      "execution_count": null,
      "outputs": [
        {
          "output_type": "stream",
          "name": "stdout",
          "text": [
            "20.3\n"
          ]
        }
      ]
    },
    {
      "cell_type": "code",
      "source": [
        "print ( 0.0 or 0.0 )"
      ],
      "metadata": {
        "colab": {
          "base_uri": "https://localhost:8080/"
        },
        "id": "M5vaZ3C4X973",
        "outputId": "3910c54d-f4b4-4709-9367-5ccae8b07e8a"
      },
      "execution_count": null,
      "outputs": [
        {
          "output_type": "stream",
          "name": "stdout",
          "text": [
            "0.0\n"
          ]
        }
      ]
    },
    {
      "cell_type": "code",
      "source": [
        "print ( not 10.20 )"
      ],
      "metadata": {
        "colab": {
          "base_uri": "https://localhost:8080/"
        },
        "id": "vMLR7C8GYBOc",
        "outputId": "e0f8acd7-99f9-4a35-f6e4-dacb7b4d65c7"
      },
      "execution_count": null,
      "outputs": [
        {
          "output_type": "stream",
          "name": "stdout",
          "text": [
            "False\n"
          ]
        }
      ]
    },
    {
      "cell_type": "code",
      "source": [
        "print ( not 0.0 )"
      ],
      "metadata": {
        "colab": {
          "base_uri": "https://localhost:8080/"
        },
        "id": "np8s-zpuYEvZ",
        "outputId": "d95119b1-e22b-4851-f624-c7da2965c84e"
      },
      "execution_count": null,
      "outputs": [
        {
          "output_type": "stream",
          "name": "stdout",
          "text": [
            "True\n"
          ]
        }
      ]
    },
    {
      "cell_type": "markdown",
      "source": [
        "# Q. What is the output of expression inside print statement. Cross check\n",
        "# before running the program."
      ],
      "metadata": {
        "id": "XCXtZ9yyZb4h"
      }
    },
    {
      "cell_type": "code",
      "source": [
        "a1= 10.20"
      ],
      "metadata": {
        "id": "gLmng1iLZFuD"
      },
      "execution_count": null,
      "outputs": []
    },
    {
      "cell_type": "code",
      "source": [
        "b1 = 10.20"
      ],
      "metadata": {
        "id": "nPwoeV-aaCfi"
      },
      "execution_count": null,
      "outputs": []
    },
    {
      "cell_type": "code",
      "source": [
        "print(a1 is b1)"
      ],
      "metadata": {
        "colab": {
          "base_uri": "https://localhost:8080/"
        },
        "id": "cjgpUNogbJ73",
        "outputId": "a47bbf9b-f2ed-4696-f119-0a2169b570ca"
      },
      "execution_count": null,
      "outputs": [
        {
          "output_type": "stream",
          "name": "stdout",
          "text": [
            "False\n"
          ]
        }
      ]
    },
    {
      "cell_type": "code",
      "source": [
        "print (a1 is not b1)"
      ],
      "metadata": {
        "colab": {
          "base_uri": "https://localhost:8080/"
        },
        "id": "ok41SXZBbb8n",
        "outputId": "2dee1c3c-2d91-4f66-fffc-ed93f24f609f"
      },
      "execution_count": null,
      "outputs": [
        {
          "output_type": "stream",
          "name": "stdout",
          "text": [
            "True\n"
          ]
        }
      ]
    },
    {
      "cell_type": "markdown",
      "source": [
        "# Why the Id of float values are different when the same value is assigned to two different variables\n",
        "# ex: a = 10.5, b=10.5. but id will be same if I assign the variable\n",
        "# having float i.e. a=c then both a and c's Id are same"
      ],
      "metadata": {
        "id": "DcXqFQi0cFyk"
      }
    },
    {
      "cell_type": "code",
      "source": [
        "a2 = 10.5"
      ],
      "metadata": {
        "id": "fyQmO6BLbgAw"
      },
      "execution_count": null,
      "outputs": []
    },
    {
      "cell_type": "code",
      "source": [
        "b2 = 10.5 "
      ],
      "metadata": {
        "id": "6yPge1jAbrZY"
      },
      "execution_count": null,
      "outputs": []
    },
    {
      "cell_type": "code",
      "source": [
        "print(id(a2))"
      ],
      "metadata": {
        "colab": {
          "base_uri": "https://localhost:8080/"
        },
        "id": "zGwujFkWbskR",
        "outputId": "e8f81a01-adc4-460f-c20f-f9eb466ff8a0"
      },
      "execution_count": null,
      "outputs": [
        {
          "output_type": "stream",
          "name": "stdout",
          "text": [
            "139889522650992\n"
          ]
        }
      ]
    },
    {
      "cell_type": "code",
      "source": [
        "print(id(b2))"
      ],
      "metadata": {
        "colab": {
          "base_uri": "https://localhost:8080/"
        },
        "id": "nbXmfN3SdZDU",
        "outputId": "72adc581-c54c-450d-cc66-0e09b01e6ec4"
      },
      "execution_count": null,
      "outputs": [
        {
          "output_type": "stream",
          "name": "stdout",
          "text": [
            "139889522649008\n"
          ]
        }
      ]
    },
    {
      "cell_type": "code",
      "source": [
        "c2 = a2"
      ],
      "metadata": {
        "id": "ZB0CzKu7dbdM"
      },
      "execution_count": null,
      "outputs": []
    },
    {
      "cell_type": "code",
      "source": [
        "print(id(c2))"
      ],
      "metadata": {
        "colab": {
          "base_uri": "https://localhost:8080/"
        },
        "id": "GREChUAcdr8S",
        "outputId": "33ea6b78-2241-4d1b-d281-0ed04ec4265a"
      },
      "execution_count": null,
      "outputs": [
        {
          "output_type": "stream",
          "name": "stdout",
          "text": [
            "139889522650992\n"
          ]
        }
      ]
    },
    {
      "cell_type": "markdown",
      "source": [
        "## The id of float values are different when the same value is assigned to two different values because there is no interning for float variables (object reusability concept is not applicable for float values)\n",
        "## However, when we assign c2 = a2, as shown in the example above, the ids of a2 and c2 are the same as both will be pointing to the same memory location."
      ],
      "metadata": {
        "id": "xTFXueFOdwcw"
      }
    },
    {
      "cell_type": "markdown",
      "source": [
        "## Bitwise operation is not applicable between instances of float."
      ],
      "metadata": {
        "id": "xK471IZHgM3X"
      }
    },
    {
      "cell_type": "markdown",
      "source": [
        "# Q. Membership operation\n",
        "# in, not in are two membership operators and it returns boolean value"
      ],
      "metadata": {
        "id": "2feD-JDRgcGb"
      }
    },
    {
      "cell_type": "code",
      "source": [
        "print ( '2.7' in 'Python2.7.8' )"
      ],
      "metadata": {
        "colab": {
          "base_uri": "https://localhost:8080/"
        },
        "id": "hPQIufQQduNn",
        "outputId": "a3f416c5-5e95-4706-aa8f-2eb6046fa501"
      },
      "execution_count": null,
      "outputs": [
        {
          "output_type": "stream",
          "name": "stdout",
          "text": [
            "True\n"
          ]
        }
      ]
    },
    {
      "cell_type": "code",
      "source": [
        "print ( 10.20 in [ 10 , 10.20 , 10 + 20j , 'Python' ])"
      ],
      "metadata": {
        "colab": {
          "base_uri": "https://localhost:8080/"
        },
        "id": "-GFBFncdgih8",
        "outputId": "4786a3a0-676a-4127-c964-bdc2b546b84e"
      },
      "execution_count": null,
      "outputs": [
        {
          "output_type": "stream",
          "name": "stdout",
          "text": [
            "True\n"
          ]
        }
      ]
    },
    {
      "cell_type": "code",
      "source": [
        "print ( 10.20 in ( 10 , 10.20 , 10 + 20j , 'Python' ))"
      ],
      "metadata": {
        "colab": {
          "base_uri": "https://localhost:8080/"
        },
        "id": "8qweWqICglFN",
        "outputId": "75bed601-c79f-4d86-a368-699bc855a210"
      },
      "execution_count": null,
      "outputs": [
        {
          "output_type": "stream",
          "name": "stdout",
          "text": [
            "True\n"
          ]
        }
      ]
    },
    {
      "cell_type": "code",
      "source": [
        "print ( 20.30 in { 1 , 20.30 , 30 + 40j })"
      ],
      "metadata": {
        "colab": {
          "base_uri": "https://localhost:8080/"
        },
        "id": "7lmhLkF6gnKC",
        "outputId": "bfba90a0-014d-4c04-abcb-c712771025d6"
      },
      "execution_count": null,
      "outputs": [
        {
          "output_type": "stream",
          "name": "stdout",
          "text": [
            "True\n"
          ]
        }
      ]
    },
    {
      "cell_type": "code",
      "source": [
        "print ( 2.3 in { 1 : 100 , 2.3 : 200 , 30 + 40j : 300 })"
      ],
      "metadata": {
        "colab": {
          "base_uri": "https://localhost:8080/"
        },
        "id": "wEKzXxF-g289",
        "outputId": "b61b1598-5a33-486f-f679-59319bea6660"
      },
      "execution_count": null,
      "outputs": [
        {
          "output_type": "stream",
          "name": "stdout",
          "text": [
            "True\n"
          ]
        }
      ]
    },
    {
      "cell_type": "code",
      "source": [
        "print ( 10 in range ( 20 ))"
      ],
      "metadata": {
        "id": "GlCzA5u-g6DA",
        "outputId": "074b0384-8a11-4813-8452-ad0ba1574a91",
        "colab": {
          "base_uri": "https://localhost:8080/"
        }
      },
      "execution_count": null,
      "outputs": [
        {
          "output_type": "stream",
          "name": "stdout",
          "text": [
            "True\n"
          ]
        }
      ]
    },
    {
      "cell_type": "code",
      "source": [],
      "metadata": {
        "id": "FOpQIUW3g78f"
      },
      "execution_count": null,
      "outputs": []
    }
  ]
}